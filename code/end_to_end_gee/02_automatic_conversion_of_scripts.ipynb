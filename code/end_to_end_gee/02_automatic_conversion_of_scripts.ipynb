{
 "cells": [
  {
   "cell_type": "markdown",
   "metadata": {
    "colab_type": "text",
    "id": "WD-QeVYP2iMT"
   },
   "source": [
    "[geemap](https://github.com/giswqs/geemap) is an open-source Python package that comes with many helpful features that help you use Earth Engine effectively in Python. \n",
    "\n",
    "It comes with a function that can help you translate your javascript earth engine code to Python automatically.\n",
    "\n",
    "Google Colab doesn't come pre-installed with the package, so we install it via pip."
   ]
  },
  {
   "cell_type": "code",
   "execution_count": null,
   "metadata": {
    "colab": {
     "base_uri": "https://localhost:8080/",
     "height": 33
    },
    "colab_type": "code",
    "executionInfo": {
     "elapsed": 6357,
     "status": "ok",
     "timestamp": 1592476181964,
     "user": {
      "displayName": "Ujaval Gandhi",
      "photoUrl": "https://lh3.googleusercontent.com/a-/AOh14Gg9PpaB-xAqlYXNnG-9Q59ID8bdjGE5vf8pdAY7Qccm3leUiXzoy_ieTxV3YT1XNI2EcciYGWkz7FhQ0e0YbuHyaGe8thWf7zh6MVxzAhPu4KTlJnq6j2wtK_K8AKfXaeXsrRopECsX0xjZDH51jG3l3rnc801o8bbKHC27qRcEpwKUfcgUjsjJdRFq1Oe99YB98IeA1CnGRkytk0jUEjoRumaJ-ndrk69olfXDGtPWteUM0JkepUwgXgpjVxVp9jJz2M-rxSJG_pKw97j9DQPe77b0zGC2Rt7eYLFjX8ms8NZnJ7RxGsavS4566mrIBm7KemhRxw3Xzuc_LAj8jG0je5mEZwhBdycv2-2XNFphaCN87Ng1FLZFijTJ2GiIQ_YYuaQtCfu2m1a8f69dy_ykF4YKmM98N6Atuc7bzansAQxB_nd2C4AjGGTnC9jqIQmJm67TP92k8aoqihv6weFQHalNaJFnEwT9RUEFSWI_0-G9pnQ9BeMjJXbBeDZlCTzDbGXC45jRELENEdqldoZtliZl5zvDvctazfp3IKranp4D9y61j9AH8cHlXsAH3HzMxj924JX1-_lVZVWQBqOHAjphoLM8MIF33NS4WsqS3nmEqwxe58ujXtXnZGlEAegOiMU0UEQMIxpDx6o6oZge2hXWPYSPfqeefOvlLLbTL4Q6pY8DLnoF2_LWvJfFVH6FCNdpPH4K9hU7ZBsxvETQLyNqoaE5PO0usi6ChgMSkZwvX9b-Xb5aJjcyZxg3-ryJQA=s64",
      "userId": "08961717268892623937"
     },
     "user_tz": -330
    },
    "id": "nlQ8X57t2iMW",
    "outputId": "eef49736-5002-4d0c-d564-4490a4c5eb55"
   },
   "outputs": [],
   "source": [
    "try:\n",
    "    import geemap\n",
    "except ModuleNotFoundError:\n",
    "    if 'google.colab' in str(get_ipython()):\n",
    "        print('geemap not found, installing via pip in Google Colab...')\n",
    "        !pip install geemap --quiet\n",
    "        import geemap\n",
    "    else:\n",
    "        print('geemap not found, please install via conda in your environment')"
   ]
  },
  {
   "cell_type": "markdown",
   "metadata": {},
   "source": [
    "The automatic conversion of code is done by calling the `geemap.js_snippet_to_py()` function. We first create a string with the javascript code."
   ]
  },
  {
   "cell_type": "code",
   "execution_count": null,
   "metadata": {
    "colab": {},
    "colab_type": "code",
    "executionInfo": {
     "elapsed": 1403,
     "status": "ok",
     "timestamp": 1592476096427,
     "user": {
      "displayName": "Ujaval Gandhi",
      "photoUrl": "https://lh3.googleusercontent.com/a-/AOh14Gg9PpaB-xAqlYXNnG-9Q59ID8bdjGE5vf8pdAY7Qccm3leUiXzoy_ieTxV3YT1XNI2EcciYGWkz7FhQ0e0YbuHyaGe8thWf7zh6MVxzAhPu4KTlJnq6j2wtK_K8AKfXaeXsrRopECsX0xjZDH51jG3l3rnc801o8bbKHC27qRcEpwKUfcgUjsjJdRFq1Oe99YB98IeA1CnGRkytk0jUEjoRumaJ-ndrk69olfXDGtPWteUM0JkepUwgXgpjVxVp9jJz2M-rxSJG_pKw97j9DQPe77b0zGC2Rt7eYLFjX8ms8NZnJ7RxGsavS4566mrIBm7KemhRxw3Xzuc_LAj8jG0je5mEZwhBdycv2-2XNFphaCN87Ng1FLZFijTJ2GiIQ_YYuaQtCfu2m1a8f69dy_ykF4YKmM98N6Atuc7bzansAQxB_nd2C4AjGGTnC9jqIQmJm67TP92k8aoqihv6weFQHalNaJFnEwT9RUEFSWI_0-G9pnQ9BeMjJXbBeDZlCTzDbGXC45jRELENEdqldoZtliZl5zvDvctazfp3IKranp4D9y61j9AH8cHlXsAH3HzMxj924JX1-_lVZVWQBqOHAjphoLM8MIF33NS4WsqS3nmEqwxe58ujXtXnZGlEAegOiMU0UEQMIxpDx6o6oZge2hXWPYSPfqeefOvlLLbTL4Q6pY8DLnoF2_LWvJfFVH6FCNdpPH4K9hU7ZBsxvETQLyNqoaE5PO0usi6ChgMSkZwvX9b-Xb5aJjcyZxg3-ryJQA=s64",
      "userId": "08961717268892623937"
     },
     "user_tz": -330
    },
    "id": "nxPPLtLI2iMa"
   },
   "outputs": [],
   "source": [
    "javascript_code = \"\"\"\n",
    "var geometry = ee.Geometry.Point([107.61303468448624, 12.130969369851766]);\n",
    "Map.centerObject(geometry, 12)\n",
    "var s2 = ee.ImageCollection(\"COPERNICUS/S2\")\n",
    "var rgbVis = {\n",
    "  min: 0.0,\n",
    "  max: 3000,\n",
    "  bands: ['B4', 'B3', 'B2'],\n",
    "};\n",
    "\n",
    "// Write a function for Cloud masking\n",
    "function maskS2clouds(image) {\n",
    "  var qa = image.select('QA60')\n",
    "  var cloudBitMask = 1 << 10;\n",
    "  var cirrusBitMask = 1 << 11;\n",
    "  var mask = qa.bitwiseAnd(cloudBitMask).eq(0).and(\n",
    "             qa.bitwiseAnd(cirrusBitMask).eq(0))\n",
    "  return image.updateMask(mask)\n",
    "      .select(\"B.*\")\n",
    "      .copyProperties(image, [\"system:time_start\"])\n",
    "}\n",
    " \n",
    "var filtered = s2\n",
    "  .filter(ee.Filter.date('2019-01-01', '2019-12-31'))\n",
    "  .filter(ee.Filter.bounds(geometry))\n",
    "  .map(maskS2clouds)\n",
    "  \n",
    "\n",
    "// Write a function that computes NDVI for an image and adds it as a band\n",
    "function addNDVI(image) {\n",
    "  var ndvi = image.normalizedDifference(['B5', 'B4']).rename('ndvi');\n",
    "  return image.addBands(ndvi);\n",
    "}\n",
    "\n",
    "var withNdvi = filtered.map(addNDVI);\n",
    "\n",
    "var composite = withNdvi.median()\n",
    "palette = [\n",
    "  'FFFFFF', 'CE7E45', 'DF923D', 'F1B555', 'FCD163', '99B718',\n",
    "  '74A901', '66A000', '529400', '3E8601', '207401', '056201',\n",
    "  '004C00', '023B01', '012E01', '011D01', '011301'];\n",
    "\n",
    "ndviVis = {min:0, max:0.5, palette: palette }\n",
    "Map.addLayer(withNdvi.select('ndvi'), ndviVis, 'NDVI Composite')\n",
    "\n",
    "\"\"\""
   ]
  },
  {
   "cell_type": "code",
   "execution_count": null,
   "metadata": {
    "colab": {},
    "colab_type": "code",
    "executionInfo": {
     "elapsed": 1152,
     "status": "ok",
     "timestamp": 1592476374427,
     "user": {
      "displayName": "Ujaval Gandhi",
      "photoUrl": "https://lh3.googleusercontent.com/a-/AOh14Gg9PpaB-xAqlYXNnG-9Q59ID8bdjGE5vf8pdAY7Qccm3leUiXzoy_ieTxV3YT1XNI2EcciYGWkz7FhQ0e0YbuHyaGe8thWf7zh6MVxzAhPu4KTlJnq6j2wtK_K8AKfXaeXsrRopECsX0xjZDH51jG3l3rnc801o8bbKHC27qRcEpwKUfcgUjsjJdRFq1Oe99YB98IeA1CnGRkytk0jUEjoRumaJ-ndrk69olfXDGtPWteUM0JkepUwgXgpjVxVp9jJz2M-rxSJG_pKw97j9DQPe77b0zGC2Rt7eYLFjX8ms8NZnJ7RxGsavS4566mrIBm7KemhRxw3Xzuc_LAj8jG0je5mEZwhBdycv2-2XNFphaCN87Ng1FLZFijTJ2GiIQ_YYuaQtCfu2m1a8f69dy_ykF4YKmM98N6Atuc7bzansAQxB_nd2C4AjGGTnC9jqIQmJm67TP92k8aoqihv6weFQHalNaJFnEwT9RUEFSWI_0-G9pnQ9BeMjJXbBeDZlCTzDbGXC45jRELENEdqldoZtliZl5zvDvctazfp3IKranp4D9y61j9AH8cHlXsAH3HzMxj924JX1-_lVZVWQBqOHAjphoLM8MIF33NS4WsqS3nmEqwxe58ujXtXnZGlEAegOiMU0UEQMIxpDx6o6oZge2hXWPYSPfqeefOvlLLbTL4Q6pY8DLnoF2_LWvJfFVH6FCNdpPH4K9hU7ZBsxvETQLyNqoaE5PO0usi6ChgMSkZwvX9b-Xb5aJjcyZxg3-ryJQA=s64",
      "userId": "08961717268892623937"
     },
     "user_tz": -330
    },
    "id": "zYsztHh42iMf"
   },
   "outputs": [],
   "source": [
    "lines = geemap.js_snippet_to_py(\n",
    "    javascript_code, add_new_cell=False,\n",
    "    import_ee=True, import_geemap=True, show_map=True)\n",
    "for line in lines:\n",
    "    print(line.rstrip())"
   ]
  },
  {
   "cell_type": "markdown",
   "metadata": {},
   "source": [
    "The automatic conversion works great. Review it and paste it to the cell below."
   ]
  },
  {
   "cell_type": "code",
   "execution_count": null,
   "metadata": {},
   "outputs": [],
   "source": [
    "import ee\n",
    "import geemap\n",
    "Map = geemap.Map()\n",
    "\n",
    "geometry = ee.Geometry.Point([107.61303468448624, 12.130969369851766])\n",
    "Map.centerObject(geometry, 12)\n",
    "s2 = ee.ImageCollection(\"COPERNICUS/S2\")\n",
    "rgbVis = {\n",
    "  'min': 0.0,\n",
    "  'max': 3000,\n",
    "  'bands': ['B4', 'B3', 'B2'],\n",
    "}\n",
    "\n",
    "# Write a function for Cloud masking\n",
    "def maskS2clouds(image):\n",
    "  qa = image.select('QA60')\n",
    "  cloudBitMask = 1 << 10\n",
    "  cirrusBitMask = 1 << 11\n",
    "  mask = qa.bitwiseAnd(cloudBitMask).eq(0).And(\n",
    "             qa.bitwiseAnd(cirrusBitMask).eq(0))\n",
    "  return image.updateMask(mask) \\\n",
    "      .select(\"B.*\") \\\n",
    "      .copyProperties(image, [\"system:time_start\"])\n",
    "\n",
    "filtered = s2 \\\n",
    "  .filter(ee.Filter.date('2019-01-01', '2019-12-31')) \\\n",
    "  .filter(ee.Filter.bounds(geometry)) \\\n",
    "  .map(maskS2clouds)\n",
    "\n",
    "# Write a function that computes NDVI for an image and adds it as a band\n",
    "def addNDVI(image):\n",
    "  ndvi = image.normalizedDifference(['B5', 'B4']).rename('ndvi')\n",
    "  return image.addBands(ndvi)\n",
    "\n",
    "withNdvi = filtered.map(addNDVI)\n",
    "\n",
    "composite = withNdvi.median()\n",
    "palette = [\n",
    "  'FFFFFF', 'CE7E45', 'DF923D', 'F1B555', 'FCD163', '99B718',\n",
    "  '74A901', '66A000', '529400', '3E8601', '207401', '056201',\n",
    "  '004C00', '023B01', '012E01', '011D01', '011301']\n",
    "\n",
    "ndviVis = {'min':0, 'max':0.5, 'palette': palette }\n",
    "Map.addLayer(withNdvi.select('ndvi'), ndviVis, 'NDVI Composite')\n",
    "Map"
   ]
  },
  {
   "cell_type": "markdown",
   "metadata": {},
   "source": [
    "### Exercise\n",
    "\n",
    "Take the Javascript code snippet below and use `geemap` to automatically convert it to Python.\n",
    "\n",
    "---\n",
    "\n",
    "```\n",
    "var geometry = ee.Geometry.Point([77.60412933051538, 12.952912912328241])\n",
    "var s2 = ee.ImageCollection(\"COPERNICUS/S2\");\n",
    "\n",
    "var rgbVis = {\n",
    "  min: 0.0,\n",
    "  max: 3000,\n",
    "  bands: ['B4', 'B3', 'B2'],\n",
    "};\n",
    "var filtered = s2.filter(ee.Filter.lt('CLOUDY_PIXEL_PERCENTAGE', 30))\n",
    "  .filter(ee.Filter.date('2019-01-01', '2020-01-01'))\n",
    "  .filter(ee.Filter.bounds(geometry))\n",
    " \n",
    "var mosaic = filtered.mosaic() \n",
    " \n",
    "var medianComposite = filtered.median();\n",
    "\n",
    "Map.centerObject(geometry, 10)\n",
    "Map.addLayer(medianComposite, rgbVis, 'Median Composite')\n",
    "```\n",
    "---"
   ]
  },
  {
   "cell_type": "code",
   "execution_count": null,
   "metadata": {},
   "outputs": [],
   "source": []
  }
 ],
 "metadata": {
  "colab": {
   "name": "01_syntax.ipynb",
   "provenance": []
  },
  "kernelspec": {
   "display_name": "Python 3 (ipykernel)",
   "language": "python",
   "name": "python3"
  },
  "language_info": {
   "codemirror_mode": {
    "name": "ipython",
    "version": 3
   },
   "file_extension": ".py",
   "mimetype": "text/x-python",
   "name": "python",
   "nbconvert_exporter": "python",
   "pygments_lexer": "ipython3",
   "version": "3.10.1"
  }
 },
 "nbformat": 4,
 "nbformat_minor": 4
}
