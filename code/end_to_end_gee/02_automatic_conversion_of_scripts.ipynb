{
  "cells": [
    {
      "cell_type": "markdown",
      "metadata": {
        "id": "WD-QeVYP2iMT"
      },
      "source": [
        "[geemap](https://github.com/giswqs/geemap) is an open-source Python package that comes with many helpful features that help you use Earth Engine effectively in Python.\n",
        "\n",
        "It comes with a function that can help you translate your javascript earth engine code to Python automatically.\n",
        "\n",
        "The `geemap` package is pre-installed in Colab."
      ]
    },
    {
      "cell_type": "code",
      "execution_count": null,
      "metadata": {
        "id": "apXfk7X6Uyz2"
      },
      "outputs": [],
      "source": [
        "import geemap\n",
        "import ee"
      ]
    },
    {
      "cell_type": "markdown",
      "metadata": {
        "id": "CpVwpjkjIAJQ"
      },
      "source": [
        "#### Initialization\n",
        "\n",
        "First of all, you need to run the following cells to initialize the API and authorize your account. You must have a Google Cloud Project associated with your GEE account. Replace the `cloud_project` with your own project from [Google Cloud Console](https://console.cloud.google.com/)."
      ]
    },
    {
      "cell_type": "code",
      "execution_count": null,
      "metadata": {
        "id": "gjRJhBKF2iLf"
      },
      "outputs": [],
      "source": [
        "cloud_project = 'spatialthoughts'\n",
        "\n",
        "try:\n",
        "    ee.Initialize(project=cloud_project)\n",
        "except:\n",
        "    ee.Authenticate()\n",
        "    ee.Initialize(project=cloud_project)"
      ]
    },
    {
      "cell_type": "markdown",
      "metadata": {
        "id": "37jsLQJiZQ3A"
      },
      "source": [
        "#### Automatic Conversion using GUI"
      ]
    },
    {
      "cell_type": "markdown",
      "metadata": {
        "id": "AEr4OXZuVOp0"
      },
      "source": [
        "`geemap` comes with a user interface that can be used to interactively do code conversion. Let's try to convert the following Javascript code to Python.\n",
        "\n",
        "```\n",
        "var geometry = ee.Geometry.Point([77.60412933051538, 12.952912912328241]);\n",
        "var s2 = ee.ImageCollection('COPERNICUS/S2_HARMONIZED');\n",
        "\n",
        "var rgbVis = {min: 0.0, max: 3000, bands: ['B4', 'B3', 'B2']};\n",
        "\n",
        "var filtered = s2.filter(ee.Filter.lt('CLOUDY_PIXEL_PERCENTAGE', 30))\n",
        "  .filter(ee.Filter.date('2019-01-01', '2020-01-01'))\n",
        "  .filter(ee.Filter.bounds(geometry));\n",
        "  \n",
        "var medianComposite = filtered.median();\n",
        "\n",
        "Map.centerObject(geometry, 10);\n",
        "Map.addLayer(medianComposite, rgbVis, 'Median Composite');\n",
        "```\n",
        "\n",
        "Run the cell below to load the map widget. Once the map widget loads, click the *Toolbar* icon in the top-right corner and select the *Convert Earth Engine Javascript to Python* tool. Paste your Javascript code and click *Convert*."
      ]
    },
    {
      "cell_type": "code",
      "execution_count": null,
      "metadata": {
        "id": "tmTgTEA4VaY1"
      },
      "outputs": [],
      "source": [
        "m = geemap.Map(width=800)\n",
        "m"
      ]
    },
    {
      "cell_type": "markdown",
      "metadata": {
        "id": "AMnk0ZXUXNNL"
      },
      "source": [
        "You will see the auto-converted code displayed. Copy and paste it into a new cell and run it. Your code will be run using the GEE Python API.\n",
        "\n"
      ]
    },
    {
      "cell_type": "code",
      "execution_count": null,
      "metadata": {
        "id": "kGob1XI3aXve"
      },
      "outputs": [],
      "source": [
        "geometry = ee.Geometry.Point([77.60412933051538, 12.952912912328241])\n",
        "s2 = ee.ImageCollection('COPERNICUS/S2_HARMONIZED')\n",
        "\n",
        "rgbVis = {'min': 0.0, 'max': 3000, 'bands': ['B4', 'B3', 'B2']}\n",
        "\n",
        "filtered = s2.filter(ee.Filter.lt('CLOUDY_PIXEL_PERCENTAGE', 30)) \\\n",
        "  .filter(ee.Filter.date('2019-01-01', '2020-01-01')) \\\n",
        "  .filter(ee.Filter.bounds(geometry))\n",
        "\n",
        "medianComposite = filtered.median()\n",
        "\n",
        "m.centerObject(geometry, 10)\n",
        "m.addLayer(medianComposite, rgbVis, 'Median Composite')\n"
      ]
    },
    {
      "cell_type": "markdown",
      "source": [
        "If your code loads any layers, they will be loaded on the map widget. To display it, open a new code cell and just type `m` to display the widget."
      ],
      "metadata": {
        "id": "Y4hRA38uhLjt"
      }
    },
    {
      "cell_type": "code",
      "execution_count": null,
      "metadata": {
        "id": "OeHqXTRRYuui"
      },
      "outputs": [],
      "source": [
        "m"
      ]
    },
    {
      "cell_type": "markdown",
      "metadata": {
        "id": "Yd1eFlklYvr-"
      },
      "source": [
        "The auto-conversion is almost perfect and works flawlessly on most GEE code.\n",
        "\n",
        "One place it misses is during the conversion of function arguments specified as a dicitonary. You will need to prefix the resulting code with `**` to specify them as `**kwargs`. For example, the `geemap` converter produces code such as below.\n",
        "  ```\n",
        "  stats = image.reduceRegion({\n",
        "    'reducer': ee.Reducer.mean(),\n",
        "    'geometry': geometry,\n",
        "    'scale': 10,\n",
        "    'maxPixels': 1e10\n",
        "    })\n",
        "  ```\n",
        "To make this valid GEE Python API code - prefix the argument dictionary with `**`.\n",
        "  ```\n",
        "  stats = image.reduceRegion(**{\n",
        "    'reducer': ee.Reducer.mean(),\n",
        "    'geometry': geometry,\n",
        "    'scale': 10,\n",
        "    'maxPixels': 1e10\n",
        "    })\n",
        "  ```"
      ]
    },
    {
      "cell_type": "markdown",
      "metadata": {
        "id": "qfQyzIgpZN1v"
      },
      "source": [
        "#### Automatic Conversion using Code"
      ]
    },
    {
      "cell_type": "markdown",
      "metadata": {
        "id": "vDE9fRr3KqIK"
      },
      "source": [
        "`geemap` offers a function `js_snippet_to_py()` that can be used to perform the conversion using code. This is useful for batch conversions. To use this, we first create a string with the javascript code."
      ]
    },
    {
      "cell_type": "code",
      "execution_count": null,
      "metadata": {
        "id": "nxPPLtLI2iMa"
      },
      "outputs": [],
      "source": [
        "javascript_code = \"\"\"\n",
        "var geometry = ee.Geometry.Point([107.61303468448624, 12.130969369851766]);\n",
        "Map.centerObject(geometry, 12)\n",
        "var s2 = ee.ImageCollection('COPERNICUS/S2_HARMONIZED')\n",
        "var rgbVis = {\n",
        "  min: 0.0,\n",
        "  max: 3000,\n",
        "  bands: ['B4', 'B3', 'B2'],\n",
        "};\n",
        "\n",
        "// Write a function for Cloud masking\n",
        "function maskS2clouds(image) {\n",
        "  var qa = image.select('QA60')\n",
        "  var cloudBitMask = 1 << 10;\n",
        "  var cirrusBitMask = 1 << 11;\n",
        "  var mask = qa.bitwiseAnd(cloudBitMask).eq(0).and(\n",
        "             qa.bitwiseAnd(cirrusBitMask).eq(0))\n",
        "  return image.updateMask(mask)\n",
        "      .select(\"B.*\")\n",
        "      .copyProperties(image, [\"system:time_start\"])\n",
        "}\n",
        "\n",
        "var filtered = s2\n",
        "  .filter(ee.Filter.date('2019-01-01', '2019-12-31'))\n",
        "  .filter(ee.Filter.bounds(geometry))\n",
        "  .map(maskS2clouds)\n",
        "\n",
        "\n",
        "// Write a function that computes NDVI for an image and adds it as a band\n",
        "function addNDVI(image) {\n",
        "  var ndvi = image.normalizedDifference(['B5', 'B4']).rename('ndvi');\n",
        "  return image.addBands(ndvi);\n",
        "}\n",
        "\n",
        "var withNdvi = filtered.map(addNDVI);\n",
        "\n",
        "var composite = withNdvi.median()\n",
        "palette = [\n",
        "  'FFFFFF', 'CE7E45', 'DF923D', 'F1B555', 'FCD163', '99B718',\n",
        "  '74A901', '66A000', '529400', '3E8601', '207401', '056201',\n",
        "  '004C00', '023B01', '012E01', '011D01', '011301'];\n",
        "\n",
        "ndviVis = {min:0, max:0.5, palette: palette }\n",
        "Map.addLayer(withNdvi.select('ndvi'), ndviVis, 'NDVI Composite')\n",
        "\n",
        "\"\"\""
      ]
    },
    {
      "cell_type": "code",
      "execution_count": null,
      "metadata": {
        "id": "zYsztHh42iMf"
      },
      "outputs": [],
      "source": [
        "lines = geemap.js_snippet_to_py(\n",
        "    javascript_code, add_new_cell=False,\n",
        "    import_ee=True, import_geemap=True, show_map=True)\n",
        "for line in lines:\n",
        "    print(line.rstrip())"
      ]
    },
    {
      "cell_type": "markdown",
      "metadata": {
        "id": "DMGdvTv3KqIM"
      },
      "source": [
        "The automatic conversion works great. Review it and paste it to the cell below."
      ]
    },
    {
      "cell_type": "code",
      "execution_count": null,
      "metadata": {
        "id": "OnrJ0KZEKqIN"
      },
      "outputs": [],
      "source": [
        "import ee\n",
        "import geemap\n",
        "m = geemap.Map()\n",
        "\n",
        "geometry = ee.Geometry.Point([107.61303468448624, 12.130969369851766])\n",
        "m.centerObject(geometry, 12)\n",
        "s2 = ee.ImageCollection('COPERNICUS/S2_HARMONIZED')\n",
        "rgbVis = {\n",
        "  'min': 0.0,\n",
        "  'max': 3000,\n",
        "  'bands': ['B4', 'B3', 'B2'],\n",
        "}\n",
        "\n",
        "# Write a function for Cloud masking\n",
        "def maskS2clouds(image):\n",
        "  qa = image.select('QA60')\n",
        "  cloudBitMask = 1 << 10\n",
        "  cirrusBitMask = 1 << 11\n",
        "  mask = qa.bitwiseAnd(cloudBitMask).eq(0).And(\n",
        "             qa.bitwiseAnd(cirrusBitMask).eq(0))\n",
        "  return image.updateMask(mask) \\\n",
        "      .select(\"B.*\") \\\n",
        "      .copyProperties(image, [\"system:time_start\"])\n",
        "\n",
        "filtered = s2 \\\n",
        "  .filter(ee.Filter.date('2019-01-01', '2019-12-31')) \\\n",
        "  .filter(ee.Filter.bounds(geometry)) \\\n",
        "  .map(maskS2clouds)\n",
        "\n",
        "# Write a function that computes NDVI for an image and adds it as a band\n",
        "def addNDVI(image):\n",
        "  ndvi = image.normalizedDifference(['B5', 'B4']).rename('ndvi')\n",
        "  return image.addBands(ndvi)\n",
        "\n",
        "withNdvi = filtered.map(addNDVI)\n",
        "\n",
        "composite = withNdvi.median()\n",
        "palette = [\n",
        "  'FFFFFF', 'CE7E45', 'DF923D', 'F1B555', 'FCD163', '99B718',\n",
        "  '74A901', '66A000', '529400', '3E8601', '207401', '056201',\n",
        "  '004C00', '023B01', '012E01', '011D01', '011301']\n",
        "\n",
        "ndviVis = {'min':0, 'max':0.5, 'palette': palette }\n",
        "m.addLayer(withNdvi.select('ndvi'), ndviVis, 'NDVI Composite')\n",
        "m"
      ]
    },
    {
      "cell_type": "markdown",
      "metadata": {
        "id": "SH4cW4iZKqIN"
      },
      "source": [
        "### Exercise\n",
        "\n",
        "Take the Javascript code snippet below and use `geemap` to automatically convert it to Python.\n",
        "\n",
        "---\n",
        "\n",
        "```\n",
        "var admin2 = ee.FeatureCollection(\"FAO/GAUL_SIMPLIFIED_500m/2015/level2\");\n",
        "\n",
        "var karnataka = admin2.filter(ee.Filter.eq('ADM1_NAME', 'Karnataka'))\n",
        "\n",
        "var visParams = {color: 'red'}\n",
        "Map.centerObject(karnataka)\n",
        "Map.addLayer(karnataka, visParams, 'Karnataka Districts')\n",
        "```\n",
        "---"
      ]
    }
  ],
  "metadata": {
    "colab": {
      "name": "02_automatic_conversion_of_scripts.ipynb",
      "provenance": []
    },
    "kernelspec": {
      "display_name": "Python 3 (ipykernel)",
      "language": "python",
      "name": "python3"
    },
    "language_info": {
      "codemirror_mode": {
        "name": "ipython",
        "version": 3
      },
      "file_extension": ".py",
      "mimetype": "text/x-python",
      "name": "python",
      "nbconvert_exporter": "python",
      "pygments_lexer": "ipython3",
      "version": "3.8.13"
    }
  },
  "nbformat": 4,
  "nbformat_minor": 0
}