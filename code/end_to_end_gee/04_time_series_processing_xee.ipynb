{
  "nbformat": 4,
  "nbformat_minor": 0,
  "metadata": {
    "colab": {
      "provenance": []
    },
    "kernelspec": {
      "name": "python3",
      "display_name": "Python 3"
    },
    "language_info": {
      "name": "python"
    }
  },
  "cells": [
    {
      "cell_type": "markdown",
      "source": [
        "[XEE](https://github.com/google/Xee) is an python package for working with Google Earth Engine data with [XArray](https://docs.xarray.dev/en/stable/). XEE makes it possible to leverage the strengths of both GEE and the Python ecosystem around XArray.\n",
        "\n",
        "We will learn how to use XEE to extract and process a NDVI time-series for a farm.\n"
      ],
      "metadata": {
        "id": "VCi5DKHB7jag"
      }
    },
    {
      "cell_type": "markdown",
      "source": [
        "#### Installation\n",
        "\n",
        "Let's install the required packages in the Colab environment."
      ],
      "metadata": {
        "id": "YauILMlxtHa_"
      }
    },
    {
      "cell_type": "code",
      "source": [
        "%%capture\n",
        "if 'google.colab' in str(get_ipython()):\n",
        "    !pip install --upgrade xee\n",
        "    !pip install rioxarray\n"
      ],
      "metadata": {
        "id": "aQpTzbC0l73O"
      },
      "execution_count": 1,
      "outputs": []
    },
    {
      "cell_type": "code",
      "source": [
        "import ee\n",
        "import geemap\n",
        "import xarray\n",
        "import rioxarray as rxr\n",
        "import matplotlib.pyplot as plt\n",
        "import pandas as pd\n",
        "import os\n",
        "import datetime\n",
        "import numpy as np"
      ],
      "metadata": {
        "id": "NaQVEndwjA-K"
      },
      "execution_count": 2,
      "outputs": []
    },
    {
      "cell_type": "markdown",
      "metadata": {
        "id": "CpVwpjkjIAJQ"
      },
      "source": [
        "#### Initialization\n",
        "\n",
        "First of all, you need to run the following cells to initialize the API and authorize your account. You must have a Google Cloud Project associated with your GEE account. Replace the `cloud_project` with your own project from [Google Cloud Console](https://console.cloud.google.com/).\n",
        "\n",
        "We are using the [High-volume Endpoint](https://developers.google.com/earth-engine/cloud/highvolume) which supports large number of concurrent requests and is recommended when working with XEE."
      ]
    },
    {
      "cell_type": "code",
      "execution_count": 3,
      "metadata": {
        "id": "gjRJhBKF2iLf",
        "outputId": "e76ea7ce-5972-4538-c039-0f787c2567d5",
        "colab": {
          "base_uri": "https://localhost:8080/",
          "height": 17
        }
      },
      "outputs": [
        {
          "output_type": "display_data",
          "data": {
            "text/plain": [
              "<IPython.core.display.HTML object>"
            ],
            "text/html": [
              "\n",
              "            <style>\n",
              "                .geemap-dark {\n",
              "                    --jp-widgets-color: white;\n",
              "                    --jp-widgets-label-color: white;\n",
              "                    --jp-ui-font-color1: white;\n",
              "                    --jp-layout-color2: #454545;\n",
              "                    background-color: #383838;\n",
              "                }\n",
              "\n",
              "                .geemap-dark .jupyter-button {\n",
              "                    --jp-layout-color3: #383838;\n",
              "                }\n",
              "\n",
              "                .geemap-colab {\n",
              "                    background-color: var(--colab-primary-surface-color, white);\n",
              "                }\n",
              "\n",
              "                .geemap-colab .jupyter-button {\n",
              "                    --jp-layout-color3: var(--colab-primary-surface-color, white);\n",
              "                }\n",
              "            </style>\n",
              "            "
            ]
          },
          "metadata": {}
        }
      ],
      "source": [
        "cloud_project = 'spatialthoughts'\n",
        "\n",
        "try:\n",
        "    ee.Initialize(\n",
        "        project=cloud_project,\n",
        "        opt_url='https://earthengine-highvolume.googleapis.com'\n",
        "    )\n",
        "except:\n",
        "    ee.Authenticate()\n",
        "    ee.Initialize(\n",
        "        project=cloud_project,\n",
        "        opt_url='https://earthengine-highvolume.googleapis.com'\n",
        "    )"
      ]
    }
  ]
}