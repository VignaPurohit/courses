{
 "cells": [
  {
   "cell_type": "markdown",
   "metadata": {},
   "source": [
    "The Google Earth Engine Python API does not come with a charting module. But you can use third-party modules to create interactive charts. You may also convert the Earth Engine objects to a Pandas dataframe and plot it using Python libraries like Matplotlib\n",
    "\n",
    "This notebook shows how to use the `geemap` package to create a Time-Series Chart from a ImageCollection.\n",
    "\n",
    "References:\n",
    "\n",
    "- geemap [Chart module](https://geemap.org/chart/)\n",
    "- geemap [Example notebook](https://geemap.org/notebooks/63_charts/)\n"
   ]
  },
  {
   "cell_type": "code",
   "execution_count": null,
   "metadata": {
    "executionInfo": {
     "elapsed": 947,
     "status": "ok",
     "timestamp": 1639652592003,
     "user": {
      "displayName": "Santhosh M",
      "photoUrl": "https://lh3.googleusercontent.com/a-/AOh14GhTKzLy70QNnOesy8A8tmr3QRz5NIYbzCmw-fUOp9yctO-ZHXG5qqNRcbj9I3ljupTtsxDdaUkz6UKWXxoLBsisJJpmUVhYkcaJjrUEjwJxLTNh3Gz0PsH6ARcoPD7vlnbfbEEBuaM0Y33ydrWfnF3mFPYiAMaJIzjGlZzpGWgVOU8QLEJD9P1_LNpSyj3vpH_IbaKupTHNG5u3NZWzGGjW6nUcUI5WXOuT2-Iym8LwqHVbIJMDlQmyZEBa2Aqhpl69pf4DUcEdTShOVA0F8yfntO4CSdocsANH64Pikmn5MoYOhU5c8OOAv5HjbSawCppikKWEJiMdw0xV-7qeazGvy02QbPfWMEL5AxJ3_ZOaAblLsvtLNPOh0aNNbqQgs0soMGACHuAJl3Dhcwd4rorAP8FTsqREDu0G1J_4XEzdB6arb4WpOwaKaR9t8P-UBdoV_BJhTLWOcoKADwY6T-bSn1i32k0Hx9o8mnyjDx20hT33IkC5cqDr8vGhLLKacpVa_B2cFR1jPlB0K9Cf1ZAzUIa2d_1tgTP4uoJu2BRjTo_uv2cVXYZ9-8S-uk7ccoYhuUtP4rNsUqSNGXaILMbStWEGOb6kS_rrAuRRiLQUrd_GuUVeX3gE4onb_QMaSv01-MTQSYBpTSe03i9aGQ53e0sXuJFNT73BXjb1sJMJUrJWr9cHwOpr1ZtywgLVF66DiQix1_-8ePjHLjldUsPCo3s-Gz3Drvhtw4xL1QUKmDt-MNdr0gk-693KZNbqvlJTRw=s64",
      "userId": "09365981218418985271"
     },
     "user_tz": -330
    },
    "id": "Nth8Bjdr6PgV"
   },
   "outputs": [],
   "source": [
    "import ee"
   ]
  },
  {
   "cell_type": "code",
   "execution_count": null,
   "metadata": {},
   "outputs": [],
   "source": [
    "try:\n",
    "    import geemap\n",
    "except ModuleNotFoundError:\n",
    "    if 'google.colab' in str(get_ipython()):\n",
    "        print('geemap not found, installing via pip in Google Colab...')\n",
    "        !pip install geemap --quiet\n",
    "        import geemap\n",
    "    else:\n",
    "        print('geemap not found, please install via conda in your environment')"
   ]
  },
  {
   "cell_type": "code",
   "execution_count": null,
   "metadata": {
    "id": "pTg1Z9Ox6STq"
   },
   "outputs": [],
   "source": [
    "ee.Authenticate()"
   ]
  },
  {
   "cell_type": "code",
   "execution_count": null,
   "metadata": {
    "executionInfo": {
     "elapsed": 1000,
     "status": "ok",
     "timestamp": 1639652632800,
     "user": {
      "displayName": "Santhosh M",
      "photoUrl": "https://lh3.googleusercontent.com/a-/AOh14GhTKzLy70QNnOesy8A8tmr3QRz5NIYbzCmw-fUOp9yctO-ZHXG5qqNRcbj9I3ljupTtsxDdaUkz6UKWXxoLBsisJJpmUVhYkcaJjrUEjwJxLTNh3Gz0PsH6ARcoPD7vlnbfbEEBuaM0Y33ydrWfnF3mFPYiAMaJIzjGlZzpGWgVOU8QLEJD9P1_LNpSyj3vpH_IbaKupTHNG5u3NZWzGGjW6nUcUI5WXOuT2-Iym8LwqHVbIJMDlQmyZEBa2Aqhpl69pf4DUcEdTShOVA0F8yfntO4CSdocsANH64Pikmn5MoYOhU5c8OOAv5HjbSawCppikKWEJiMdw0xV-7qeazGvy02QbPfWMEL5AxJ3_ZOaAblLsvtLNPOh0aNNbqQgs0soMGACHuAJl3Dhcwd4rorAP8FTsqREDu0G1J_4XEzdB6arb4WpOwaKaR9t8P-UBdoV_BJhTLWOcoKADwY6T-bSn1i32k0Hx9o8mnyjDx20hT33IkC5cqDr8vGhLLKacpVa_B2cFR1jPlB0K9Cf1ZAzUIa2d_1tgTP4uoJu2BRjTo_uv2cVXYZ9-8S-uk7ccoYhuUtP4rNsUqSNGXaILMbStWEGOb6kS_rrAuRRiLQUrd_GuUVeX3gE4onb_QMaSv01-MTQSYBpTSe03i9aGQ53e0sXuJFNT73BXjb1sJMJUrJWr9cHwOpr1ZtywgLVF66DiQix1_-8ePjHLjldUsPCo3s-Gz3Drvhtw4xL1QUKmDt-MNdr0gk-693KZNbqvlJTRw=s64",
      "userId": "09365981218418985271"
     },
     "user_tz": -330
    },
    "id": "gOOrdeze6WHE"
   },
   "outputs": [],
   "source": [
    "ee.Initialize()"
   ]
  },
  {
   "cell_type": "markdown",
   "metadata": {},
   "source": [
    "Load the TerraClimate collection and select the 'tmmx' band."
   ]
  },
  {
   "cell_type": "code",
   "execution_count": null,
   "metadata": {
    "executionInfo": {
     "elapsed": 465,
     "status": "ok",
     "timestamp": 1639653036776,
     "user": {
      "displayName": "Santhosh M",
      "photoUrl": "https://lh3.googleusercontent.com/a-/AOh14GhTKzLy70QNnOesy8A8tmr3QRz5NIYbzCmw-fUOp9yctO-ZHXG5qqNRcbj9I3ljupTtsxDdaUkz6UKWXxoLBsisJJpmUVhYkcaJjrUEjwJxLTNh3Gz0PsH6ARcoPD7vlnbfbEEBuaM0Y33ydrWfnF3mFPYiAMaJIzjGlZzpGWgVOU8QLEJD9P1_LNpSyj3vpH_IbaKupTHNG5u3NZWzGGjW6nUcUI5WXOuT2-Iym8LwqHVbIJMDlQmyZEBa2Aqhpl69pf4DUcEdTShOVA0F8yfntO4CSdocsANH64Pikmn5MoYOhU5c8OOAv5HjbSawCppikKWEJiMdw0xV-7qeazGvy02QbPfWMEL5AxJ3_ZOaAblLsvtLNPOh0aNNbqQgs0soMGACHuAJl3Dhcwd4rorAP8FTsqREDu0G1J_4XEzdB6arb4WpOwaKaR9t8P-UBdoV_BJhTLWOcoKADwY6T-bSn1i32k0Hx9o8mnyjDx20hT33IkC5cqDr8vGhLLKacpVa_B2cFR1jPlB0K9Cf1ZAzUIa2d_1tgTP4uoJu2BRjTo_uv2cVXYZ9-8S-uk7ccoYhuUtP4rNsUqSNGXaILMbStWEGOb6kS_rrAuRRiLQUrd_GuUVeX3gE4onb_QMaSv01-MTQSYBpTSe03i9aGQ53e0sXuJFNT73BXjb1sJMJUrJWr9cHwOpr1ZtywgLVF66DiQix1_-8ePjHLjldUsPCo3s-Gz3Drvhtw4xL1QUKmDt-MNdr0gk-693KZNbqvlJTRw=s64",
      "userId": "09365981218418985271"
     },
     "user_tz": -330
    },
    "id": "IPn2h8uA6kPg"
   },
   "outputs": [],
   "source": [
    "terraclimate = ee.ImageCollection(\"IDAHO_EPSCOR/TERRACLIMATE\")\n",
    "tmax = terraclimate.select('tmmx')"
   ]
  },
  {
   "cell_type": "markdown",
   "metadata": {},
   "source": [
    "Define a point location for the chart."
   ]
  },
  {
   "cell_type": "code",
   "execution_count": null,
   "metadata": {},
   "outputs": [],
   "source": [
    "geometry = ee.Geometry.Point([77.57738128916243, 12.964758918835752])"
   ]
  },
  {
   "cell_type": "markdown",
   "metadata": {},
   "source": [
    "Scale the band values so they are in Degree Celcius."
   ]
  },
  {
   "cell_type": "code",
   "execution_count": null,
   "metadata": {
    "executionInfo": {
     "elapsed": 5,
     "status": "ok",
     "timestamp": 1639653037298,
     "user": {
      "displayName": "Santhosh M",
      "photoUrl": "https://lh3.googleusercontent.com/a-/AOh14GhTKzLy70QNnOesy8A8tmr3QRz5NIYbzCmw-fUOp9yctO-ZHXG5qqNRcbj9I3ljupTtsxDdaUkz6UKWXxoLBsisJJpmUVhYkcaJjrUEjwJxLTNh3Gz0PsH6ARcoPD7vlnbfbEEBuaM0Y33ydrWfnF3mFPYiAMaJIzjGlZzpGWgVOU8QLEJD9P1_LNpSyj3vpH_IbaKupTHNG5u3NZWzGGjW6nUcUI5WXOuT2-Iym8LwqHVbIJMDlQmyZEBa2Aqhpl69pf4DUcEdTShOVA0F8yfntO4CSdocsANH64Pikmn5MoYOhU5c8OOAv5HjbSawCppikKWEJiMdw0xV-7qeazGvy02QbPfWMEL5AxJ3_ZOaAblLsvtLNPOh0aNNbqQgs0soMGACHuAJl3Dhcwd4rorAP8FTsqREDu0G1J_4XEzdB6arb4WpOwaKaR9t8P-UBdoV_BJhTLWOcoKADwY6T-bSn1i32k0Hx9o8mnyjDx20hT33IkC5cqDr8vGhLLKacpVa_B2cFR1jPlB0K9Cf1ZAzUIa2d_1tgTP4uoJu2BRjTo_uv2cVXYZ9-8S-uk7ccoYhuUtP4rNsUqSNGXaILMbStWEGOb6kS_rrAuRRiLQUrd_GuUVeX3gE4onb_QMaSv01-MTQSYBpTSe03i9aGQ53e0sXuJFNT73BXjb1sJMJUrJWr9cHwOpr1ZtywgLVF66DiQix1_-8ePjHLjldUsPCo3s-Gz3Drvhtw4xL1QUKmDt-MNdr0gk-693KZNbqvlJTRw=s64",
      "userId": "09365981218418985271"
     },
     "user_tz": -330
    },
    "id": "g2iFLh6D7Jed"
   },
   "outputs": [],
   "source": [
    "def scale_image(image):\n",
    "  return ee.Image(image).multiply(0.1)\\\n",
    "    .copyProperties(image, ['system:time_start'])\n",
    "\n",
    "tmaxScaled = tmax.map(scale_image)"
   ]
  },
  {
   "cell_type": "markdown",
   "metadata": {
    "executionInfo": {
     "elapsed": 3,
     "status": "ok",
     "timestamp": 1639653037750,
     "user": {
      "displayName": "Santhosh M",
      "photoUrl": "https://lh3.googleusercontent.com/a-/AOh14GhTKzLy70QNnOesy8A8tmr3QRz5NIYbzCmw-fUOp9yctO-ZHXG5qqNRcbj9I3ljupTtsxDdaUkz6UKWXxoLBsisJJpmUVhYkcaJjrUEjwJxLTNh3Gz0PsH6ARcoPD7vlnbfbEEBuaM0Y33ydrWfnF3mFPYiAMaJIzjGlZzpGWgVOU8QLEJD9P1_LNpSyj3vpH_IbaKupTHNG5u3NZWzGGjW6nUcUI5WXOuT2-Iym8LwqHVbIJMDlQmyZEBa2Aqhpl69pf4DUcEdTShOVA0F8yfntO4CSdocsANH64Pikmn5MoYOhU5c8OOAv5HjbSawCppikKWEJiMdw0xV-7qeazGvy02QbPfWMEL5AxJ3_ZOaAblLsvtLNPOh0aNNbqQgs0soMGACHuAJl3Dhcwd4rorAP8FTsqREDu0G1J_4XEzdB6arb4WpOwaKaR9t8P-UBdoV_BJhTLWOcoKADwY6T-bSn1i32k0Hx9o8mnyjDx20hT33IkC5cqDr8vGhLLKacpVa_B2cFR1jPlB0K9Cf1ZAzUIa2d_1tgTP4uoJu2BRjTo_uv2cVXYZ9-8S-uk7ccoYhuUtP4rNsUqSNGXaILMbStWEGOb6kS_rrAuRRiLQUrd_GuUVeX3gE4onb_QMaSv01-MTQSYBpTSe03i9aGQ53e0sXuJFNT73BXjb1sJMJUrJWr9cHwOpr1ZtywgLVF66DiQix1_-8ePjHLjldUsPCo3s-Gz3Drvhtw4xL1QUKmDt-MNdr0gk-693KZNbqvlJTRw=s64",
      "userId": "09365981218418985271"
     },
     "user_tz": -330
    },
    "id": "nmSBepxy7p_N"
   },
   "source": [
    "Filter the collection."
   ]
  },
  {
   "cell_type": "code",
   "execution_count": null,
   "metadata": {
    "executionInfo": {
     "elapsed": 362,
     "status": "ok",
     "timestamp": 1639655057694,
     "user": {
      "displayName": "Santhosh M",
      "photoUrl": "https://lh3.googleusercontent.com/a-/AOh14GhTKzLy70QNnOesy8A8tmr3QRz5NIYbzCmw-fUOp9yctO-ZHXG5qqNRcbj9I3ljupTtsxDdaUkz6UKWXxoLBsisJJpmUVhYkcaJjrUEjwJxLTNh3Gz0PsH6ARcoPD7vlnbfbEEBuaM0Y33ydrWfnF3mFPYiAMaJIzjGlZzpGWgVOU8QLEJD9P1_LNpSyj3vpH_IbaKupTHNG5u3NZWzGGjW6nUcUI5WXOuT2-Iym8LwqHVbIJMDlQmyZEBa2Aqhpl69pf4DUcEdTShOVA0F8yfntO4CSdocsANH64Pikmn5MoYOhU5c8OOAv5HjbSawCppikKWEJiMdw0xV-7qeazGvy02QbPfWMEL5AxJ3_ZOaAblLsvtLNPOh0aNNbqQgs0soMGACHuAJl3Dhcwd4rorAP8FTsqREDu0G1J_4XEzdB6arb4WpOwaKaR9t8P-UBdoV_BJhTLWOcoKADwY6T-bSn1i32k0Hx9o8mnyjDx20hT33IkC5cqDr8vGhLLKacpVa_B2cFR1jPlB0K9Cf1ZAzUIa2d_1tgTP4uoJu2BRjTo_uv2cVXYZ9-8S-uk7ccoYhuUtP4rNsUqSNGXaILMbStWEGOb6kS_rrAuRRiLQUrd_GuUVeX3gE4onb_QMaSv01-MTQSYBpTSe03i9aGQ53e0sXuJFNT73BXjb1sJMJUrJWr9cHwOpr1ZtywgLVF66DiQix1_-8ePjHLjldUsPCo3s-Gz3Drvhtw4xL1QUKmDt-MNdr0gk-693KZNbqvlJTRw=s64",
      "userId": "09365981218418985271"
     },
     "user_tz": -330
    },
    "id": "1rY5FsgZ79Kd"
   },
   "outputs": [],
   "source": [
    "filtered = tmaxScaled.filter(ee.Filter.date('2019-01-01', '2020-01-01')) \\\n",
    "                     .filter(ee.Filter.bounds(geometry))"
   ]
  },
  {
   "cell_type": "markdown",
   "metadata": {},
   "source": [
    "To chart an image series in Python, we must first extract the values from each image and create a FeatureCollection."
   ]
  },
  {
   "cell_type": "code",
   "execution_count": null,
   "metadata": {
    "executionInfo": {
     "elapsed": 342,
     "status": "ok",
     "timestamp": 1639657937936,
     "user": {
      "displayName": "Santhosh M",
      "photoUrl": "https://lh3.googleusercontent.com/a-/AOh14GhTKzLy70QNnOesy8A8tmr3QRz5NIYbzCmw-fUOp9yctO-ZHXG5qqNRcbj9I3ljupTtsxDdaUkz6UKWXxoLBsisJJpmUVhYkcaJjrUEjwJxLTNh3Gz0PsH6ARcoPD7vlnbfbEEBuaM0Y33ydrWfnF3mFPYiAMaJIzjGlZzpGWgVOU8QLEJD9P1_LNpSyj3vpH_IbaKupTHNG5u3NZWzGGjW6nUcUI5WXOuT2-Iym8LwqHVbIJMDlQmyZEBa2Aqhpl69pf4DUcEdTShOVA0F8yfntO4CSdocsANH64Pikmn5MoYOhU5c8OOAv5HjbSawCppikKWEJiMdw0xV-7qeazGvy02QbPfWMEL5AxJ3_ZOaAblLsvtLNPOh0aNNbqQgs0soMGACHuAJl3Dhcwd4rorAP8FTsqREDu0G1J_4XEzdB6arb4WpOwaKaR9t8P-UBdoV_BJhTLWOcoKADwY6T-bSn1i32k0Hx9o8mnyjDx20hT33IkC5cqDr8vGhLLKacpVa_B2cFR1jPlB0K9Cf1ZAzUIa2d_1tgTP4uoJu2BRjTo_uv2cVXYZ9-8S-uk7ccoYhuUtP4rNsUqSNGXaILMbStWEGOb6kS_rrAuRRiLQUrd_GuUVeX3gE4onb_QMaSv01-MTQSYBpTSe03i9aGQ53e0sXuJFNT73BXjb1sJMJUrJWr9cHwOpr1ZtywgLVF66DiQix1_-8ePjHLjldUsPCo3s-Gz3Drvhtw4xL1QUKmDt-MNdr0gk-693KZNbqvlJTRw=s64",
      "userId": "09365981218418985271"
     },
     "user_tz": -330
    },
    "id": "m2UYiMXNDrNr"
   },
   "outputs": [],
   "source": [
    "def extract_data(image):\n",
    "    stats = image.reduceRegion(**{ \n",
    "        'reducer':ee.Reducer.mean(),\n",
    "        'geometry':geometry,\n",
    "        'scale':5000\n",
    "    })\n",
    "    properties = {\n",
    "        'month': image.get('system:index'),\n",
    "        'tmmx': stats.get('tmmx')\n",
    "    }\n",
    "    return ee.Feature(None, properties)\n",
    "\n",
    "data = ee.FeatureCollection(filtered.map(extract_data))"
   ]
  },
  {
   "cell_type": "code",
   "execution_count": null,
   "metadata": {},
   "outputs": [],
   "source": [
    "print(data.first().getInfo())"
   ]
  },
  {
   "cell_type": "markdown",
   "metadata": {},
   "source": [
    "### Create an Interactive Chart using geemap"
   ]
  },
  {
   "cell_type": "code",
   "execution_count": null,
   "metadata": {},
   "outputs": [],
   "source": [
    "from geemap import chart"
   ]
  },
  {
   "cell_type": "code",
   "execution_count": null,
   "metadata": {},
   "outputs": [],
   "source": [
    "options = {\n",
    "    'title': 'Max Monthly Temperature at Bangalore', \n",
    "    'legend_location': 'top-right',\n",
    "    'height': '500px',\n",
    "    'ylabel': 'Temperature (C)',\n",
    "    'xlabel': 'Date',\n",
    "    'colors': ['blue']\n",
    "}"
   ]
  },
  {
   "cell_type": "code",
   "execution_count": null,
   "metadata": {
    "executionInfo": {
     "elapsed": 2,
     "status": "ok",
     "timestamp": 1639657939545,
     "user": {
      "displayName": "Santhosh M",
      "photoUrl": "https://lh3.googleusercontent.com/a-/AOh14GhTKzLy70QNnOesy8A8tmr3QRz5NIYbzCmw-fUOp9yctO-ZHXG5qqNRcbj9I3ljupTtsxDdaUkz6UKWXxoLBsisJJpmUVhYkcaJjrUEjwJxLTNh3Gz0PsH6ARcoPD7vlnbfbEEBuaM0Y33ydrWfnF3mFPYiAMaJIzjGlZzpGWgVOU8QLEJD9P1_LNpSyj3vpH_IbaKupTHNG5u3NZWzGGjW6nUcUI5WXOuT2-Iym8LwqHVbIJMDlQmyZEBa2Aqhpl69pf4DUcEdTShOVA0F8yfntO4CSdocsANH64Pikmn5MoYOhU5c8OOAv5HjbSawCppikKWEJiMdw0xV-7qeazGvy02QbPfWMEL5AxJ3_ZOaAblLsvtLNPOh0aNNbqQgs0soMGACHuAJl3Dhcwd4rorAP8FTsqREDu0G1J_4XEzdB6arb4WpOwaKaR9t8P-UBdoV_BJhTLWOcoKADwY6T-bSn1i32k0Hx9o8mnyjDx20hT33IkC5cqDr8vGhLLKacpVa_B2cFR1jPlB0K9Cf1ZAzUIa2d_1tgTP4uoJu2BRjTo_uv2cVXYZ9-8S-uk7ccoYhuUtP4rNsUqSNGXaILMbStWEGOb6kS_rrAuRRiLQUrd_GuUVeX3gE4onb_QMaSv01-MTQSYBpTSe03i9aGQ53e0sXuJFNT73BXjb1sJMJUrJWr9cHwOpr1ZtywgLVF66DiQix1_-8ePjHLjldUsPCo3s-Gz3Drvhtw4xL1QUKmDt-MNdr0gk-693KZNbqvlJTRw=s64",
      "userId": "09365981218418985271"
     },
     "user_tz": -330
    },
    "id": "543g2jdBJUCs"
   },
   "outputs": [],
   "source": [
    "chart.feature_byFeature(data, 'month', ['tmmx'], **options)"
   ]
  },
  {
   "cell_type": "markdown",
   "metadata": {},
   "source": [
    "### Create a chart using Matplotlib\n",
    "\n",
    "We can convert a FeatureCollection to a DataFrame using `geemap` helper function `ee_to_pandas`."
   ]
  },
  {
   "cell_type": "code",
   "execution_count": null,
   "metadata": {},
   "outputs": [],
   "source": [
    "import geemap\n",
    "df = geemap.ee_to_pandas(data)"
   ]
  },
  {
   "cell_type": "code",
   "execution_count": null,
   "metadata": {},
   "outputs": [],
   "source": [
    "df"
   ]
  },
  {
   "cell_type": "markdown",
   "metadata": {},
   "source": [
    "Now we have a regular Pandas dataframe that can be plotted with `matplotlib`."
   ]
  },
  {
   "cell_type": "code",
   "execution_count": null,
   "metadata": {},
   "outputs": [],
   "source": [
    "%matplotlib inline\n",
    "import matplotlib.pyplot as plt"
   ]
  },
  {
   "cell_type": "code",
   "execution_count": null,
   "metadata": {},
   "outputs": [],
   "source": [
    "fig, ax = plt.subplots()\n",
    "fig.set_size_inches(20,10)\n",
    "\n",
    "\n",
    "df.plot(ax=ax,\n",
    "        title='Max Monthly Temperature at Bangalore',\n",
    "        x='month',\n",
    "        ylabel='Temperature (C)',\n",
    "        kind='line')\n",
    "plt.tight_layout()"
   ]
  },
  {
   "cell_type": "markdown",
   "metadata": {},
   "source": [
    "### Exercise\n",
    "\n",
    "Customize the above chart by plotting it as a Line Chart in red color.\n",
    "\n",
    "- **Hint1**: Use `kind='line'` along with a `color` option."
   ]
  }
 ],
 "metadata": {
  "colab": {
   "authorship_tag": "ABX9TyNSm+ReDLHTM9cHwhLK43hc",
   "name": "create_chart_gee.ipynb",
   "provenance": []
  },
  "kernelspec": {
   "display_name": "Python 3 (ipykernel)",
   "language": "python",
   "name": "python3"
  },
  "language_info": {
   "codemirror_mode": {
    "name": "ipython",
    "version": 3
   },
   "file_extension": ".py",
   "mimetype": "text/x-python",
   "name": "python",
   "nbconvert_exporter": "python",
   "pygments_lexer": "ipython3",
   "version": "3.8.13"
  }
 },
 "nbformat": 4,
 "nbformat_minor": 4
}
