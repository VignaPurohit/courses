{
  "cells": [
    {
      "cell_type": "markdown",
      "metadata": {
        "id": "N4ioBJAxPzIC"
      },
      "source": [
        "The Google Earth Engine Python API does not come with a charting module. But you can use third-party modules to create interactive charts. You may also convert the Earth Engine objects to a Pandas dataframe and plot it using Python libraries like Matplotlib\n",
        "\n",
        "This notebook shows how to use the `geemap` package to create a Time-Series Chart from a ImageCollection.\n",
        "\n",
        "References:\n",
        "\n",
        "- geemap [Chart module](https://geemap.org/chart/)\n",
        "- geemap [Example notebook](https://geemap.org/notebooks/63_charts/)\n"
      ]
    },
    {
      "cell_type": "markdown",
      "metadata": {
        "id": "CpVwpjkjIAJQ"
      },
      "source": [
        "#### Initialization\n",
        "\n",
        "First of all, you need to run the following cells to initialize the API and authorize your account. You must have a Google Cloud Project associated with your GEE account. Replace the `cloud_project` with your own project from [Google Cloud Console](https://console.cloud.google.com/)."
      ]
    },
    {
      "cell_type": "code",
      "source": [
        "import geemap\n",
        "import ee"
      ],
      "metadata": {
        "id": "apXfk7X6Uyz2"
      },
      "execution_count": null,
      "outputs": []
    },
    {
      "cell_type": "code",
      "execution_count": null,
      "metadata": {
        "id": "gjRJhBKF2iLf"
      },
      "outputs": [],
      "source": [
        "cloud_project = 'spatialthoughts'\n",
        "\n",
        "try:\n",
        "    ee.Initialize(project=cloud_project)\n",
        "except:\n",
        "    ee.Authenticate()\n",
        "    ee.Initialize(project=cloud_project)"
      ]
    },
    {
      "cell_type": "markdown",
      "source": [
        "#### Load and Process the Data"
      ],
      "metadata": {
        "id": "PnlIxXyoeKaf"
      }
    },
    {
      "cell_type": "markdown",
      "metadata": {
        "id": "XueIYfXSPzII"
      },
      "source": [
        "Load the TerraClimate collection and select the 'tmmx' band."
      ]
    },
    {
      "cell_type": "code",
      "execution_count": null,
      "metadata": {
        "id": "IPn2h8uA6kPg"
      },
      "outputs": [],
      "source": [
        "terraclimate = ee.ImageCollection('IDAHO_EPSCOR/TERRACLIMATE')\n",
        "tmax = terraclimate.select('tmmx')"
      ]
    },
    {
      "cell_type": "markdown",
      "metadata": {
        "id": "ZflvwpS4PzIJ"
      },
      "source": [
        "Define a point location for the chart."
      ]
    },
    {
      "cell_type": "code",
      "execution_count": null,
      "metadata": {
        "id": "EtfX6A2fPzIJ"
      },
      "outputs": [],
      "source": [
        "geometry = ee.Geometry.Point([77.57738128916243, 12.964758918835752])"
      ]
    },
    {
      "cell_type": "markdown",
      "metadata": {
        "id": "ZpL2feqtPzIK"
      },
      "source": [
        "Scale the band values so they are in Degree Celcius."
      ]
    },
    {
      "cell_type": "code",
      "execution_count": null,
      "metadata": {
        "id": "g2iFLh6D7Jed"
      },
      "outputs": [],
      "source": [
        "def scale_image(image):\n",
        "  return ee.Image(image).multiply(0.1)\\\n",
        "    .copyProperties(image, ['system:time_start'])\n",
        "\n",
        "tmaxScaled = tmax.map(scale_image)"
      ]
    },
    {
      "cell_type": "markdown",
      "metadata": {
        "id": "nmSBepxy7p_N"
      },
      "source": [
        "Filter the collection."
      ]
    },
    {
      "cell_type": "code",
      "execution_count": null,
      "metadata": {
        "id": "1rY5FsgZ79Kd"
      },
      "outputs": [],
      "source": [
        "filtered = tmaxScaled.filter(ee.Filter.date('2019-01-01', '2020-01-01')) \\\n",
        "                     .filter(ee.Filter.bounds(geometry))"
      ]
    },
    {
      "cell_type": "markdown",
      "metadata": {
        "id": "Q6Lip5RnPzIL"
      },
      "source": [
        "To chart an image series in Python, we must first extract the values from each image and create a FeatureCollection."
      ]
    },
    {
      "cell_type": "code",
      "execution_count": null,
      "metadata": {
        "id": "m2UYiMXNDrNr"
      },
      "outputs": [],
      "source": [
        "def extract_data(image):\n",
        "    stats = image.reduceRegion(**{\n",
        "        'reducer':ee.Reducer.mean(),\n",
        "        'geometry':geometry,\n",
        "        'scale':5000\n",
        "    })\n",
        "    properties = {\n",
        "        'month': image.get('system:index'),\n",
        "        'tmmx': stats.get('tmmx')\n",
        "    }\n",
        "    return ee.Feature(None, properties)\n",
        "\n",
        "data = ee.FeatureCollection(filtered.map(extract_data))"
      ]
    },
    {
      "cell_type": "code",
      "execution_count": null,
      "metadata": {
        "id": "JLuHymf4PzIL"
      },
      "outputs": [],
      "source": [
        "print(data.first().getInfo())"
      ]
    },
    {
      "cell_type": "markdown",
      "metadata": {
        "id": "TVfq6ObhPzIL"
      },
      "source": [
        "#### Create an Interactive Chart using geemap"
      ]
    },
    {
      "cell_type": "code",
      "execution_count": null,
      "metadata": {
        "id": "4dtk1ix1PzIM"
      },
      "outputs": [],
      "source": [
        "from geemap import chart"
      ]
    },
    {
      "cell_type": "code",
      "execution_count": null,
      "metadata": {
        "id": "C31rXB7JPzIM"
      },
      "outputs": [],
      "source": [
        "options = {\n",
        "    'title': 'Max Monthly Temperature at Bangalore',\n",
        "    'legend_location': 'top-right',\n",
        "    'height': '500px',\n",
        "    'ylabel': 'Temperature (C)',\n",
        "    'xlabel': 'Date',\n",
        "    'colors': ['blue']\n",
        "}"
      ]
    },
    {
      "cell_type": "code",
      "execution_count": null,
      "metadata": {
        "id": "543g2jdBJUCs"
      },
      "outputs": [],
      "source": [
        "chart.feature_byFeature(data, 'month', ['tmmx'], **options)"
      ]
    },
    {
      "cell_type": "markdown",
      "metadata": {
        "id": "0EbOPBTCPzIM"
      },
      "source": [
        "#### Create a chart using Matplotlib\n",
        "\n",
        "We can convert a FeatureCollection to a DataFrame using `geemap` helper function `ee_to_pandas`."
      ]
    },
    {
      "cell_type": "code",
      "execution_count": null,
      "metadata": {
        "id": "mnYFnRaSPzIM"
      },
      "outputs": [],
      "source": [
        "import geemap\n",
        "df = geemap.ee_to_pandas(data)"
      ]
    },
    {
      "cell_type": "code",
      "execution_count": null,
      "metadata": {
        "id": "htS7yEhZPzIN"
      },
      "outputs": [],
      "source": [
        "df"
      ]
    },
    {
      "cell_type": "markdown",
      "metadata": {
        "id": "dbtjbuUPPzIN"
      },
      "source": [
        "Now we have a regular Pandas dataframe that can be plotted with `matplotlib`."
      ]
    },
    {
      "cell_type": "code",
      "execution_count": null,
      "metadata": {
        "id": "TEKYYnroPzIN"
      },
      "outputs": [],
      "source": [
        "%matplotlib inline\n",
        "import matplotlib.pyplot as plt"
      ]
    },
    {
      "cell_type": "code",
      "execution_count": null,
      "metadata": {
        "id": "4nNroiqTPzIN"
      },
      "outputs": [],
      "source": [
        "fig, ax = plt.subplots()\n",
        "fig.set_size_inches(20,10)\n",
        "\n",
        "\n",
        "df.plot(ax=ax,\n",
        "        title='Max Monthly Temperature at Bangalore',\n",
        "        x='month',\n",
        "        ylabel='Temperature (C)',\n",
        "        kind='line')\n",
        "plt.tight_layout()"
      ]
    },
    {
      "cell_type": "markdown",
      "metadata": {
        "id": "cfYVUaEKPzIN"
      },
      "source": [
        "### Exercise\n",
        "\n",
        "Customize the above chart by plotting it as a Line Chart in red color.\n",
        "\n",
        "- **Hint1**: Use `kind='line'` along with a `color` option."
      ]
    }
  ],
  "metadata": {
    "colab": {
      "name": "04_creating_charts.ipynb",
      "provenance": []
    },
    "kernelspec": {
      "display_name": "Python 3 (ipykernel)",
      "language": "python",
      "name": "python3"
    },
    "language_info": {
      "codemirror_mode": {
        "name": "ipython",
        "version": 3
      },
      "file_extension": ".py",
      "mimetype": "text/x-python",
      "name": "python",
      "nbconvert_exporter": "python",
      "pygments_lexer": "ipython3",
      "version": "3.8.13"
    }
  },
  "nbformat": 4,
  "nbformat_minor": 0
}