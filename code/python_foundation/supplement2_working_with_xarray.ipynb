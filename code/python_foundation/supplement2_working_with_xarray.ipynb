{
 "cells": [
  {
   "cell_type": "markdown",
   "id": "06f25fa8-b260-41fc-b9c2-c5e43640e83b",
   "metadata": {},
   "source": [
    "# Working with Xarray\n",
    "\n",
    "[Xarray](http://xarray.pydata.org/) is an evolution of rasterio and is inspired by libraries like pandas to work with raster datasets. It also integrates tightly with [dask](https://dask.org/) that allows one to scale raster data processing using parallel computing.\n",
    "\n",
    "[rioxarray](https://corteva.github.io/rioxarray/stable/index.html) is an extension of xarray that makes it easy to work with geospatial rasters. \n",
    "\n",
    "You can install the `xarray` and `rioxarray` packages from the `conda-forge` channel to use these libraries"
   ]
  },
  {
   "cell_type": "code",
   "execution_count": 3,
   "id": "cd1f5af2-67cf-48de-aebe-675c4ef0736e",
   "metadata": {},
   "outputs": [],
   "source": [
    "import xarray as xr\n",
    "import rioxarray as rxr"
   ]
  },
  {
   "cell_type": "code",
   "execution_count": 2,
   "id": "83ac9e24-b066-4f4e-a8b4-005cb62dfcac",
   "metadata": {},
   "outputs": [],
   "source": [
    "import os\n",
    "data_pkg_path = 'data'\n",
    "srtm_dir = 'srtm'\n",
    "filename = 'N28E087.hgt'\n",
    "path = os.path.join(data_pkg_path, srtm_dir, filename)"
   ]
  },
  {
   "cell_type": "code",
   "execution_count": 69,
   "id": "d69bdde3-219e-4f72-8436-183c1d42202a",
   "metadata": {},
   "outputs": [],
   "source": [
    "rds = xr.open_rasterio(path)"
   ]
  },
  {
   "cell_type": "code",
   "execution_count": 70,
   "id": "815f9057-5cee-42dc-8136-3df5d5c8cab0",
   "metadata": {},
   "outputs": [
    {
     "data": {
      "text/plain": [
       "{'transform': (0.0002777777777777778,\n",
       "  0.0,\n",
       "  85.99986111111112,\n",
       "  0.0,\n",
       "  -0.0002777777777777778,\n",
       "  28.000138888888888),\n",
       " 'crs': '+init=epsg:4326',\n",
       " 'res': (0.0002777777777777778, 0.0002777777777777778),\n",
       " 'is_tiled': 0,\n",
       " 'nodatavals': (-32768.0,),\n",
       " 'scales': (1.0,),\n",
       " 'offsets': (0.0,),\n",
       " 'units': ('m',)}"
      ]
     },
     "execution_count": 70,
     "metadata": {},
     "output_type": "execute_result"
    }
   ],
   "source": [
    "rds.attrs"
   ]
  },
  {
   "cell_type": "code",
   "execution_count": 71,
   "id": "67bf163b-89ec-43e1-8694-e8b039c9e0f0",
   "metadata": {},
   "outputs": [
    {
     "data": {
      "text/plain": [
       "array([[[3186, 3200, 3220, ..., 5338, 5334, 5332],\n",
       "        [3171, 3178, 3200, ..., 5335, 5332, 5329],\n",
       "        [3145, 3155, 3173, ..., 5332, 5330, 5327],\n",
       "        ...,\n",
       "        [ 368,  368,  366, ..., 1885, 1889, 1891],\n",
       "        [ 364,  364,  362, ..., 1881, 1884, 1878],\n",
       "        [ 360,  359,  357, ..., 1872, 1870, 1863]]], dtype=int16)"
      ]
     },
     "execution_count": 71,
     "metadata": {},
     "output_type": "execute_result"
    }
   ],
   "source": [
    "rds.values"
   ]
  },
  {
   "cell_type": "code",
   "execution_count": 72,
   "id": "5ffabf14-9f17-423f-a0c2-6e55de41888e",
   "metadata": {},
   "outputs": [
    {
     "data": {
      "text/plain": [
       "(1, 3601, 3601)"
      ]
     },
     "execution_count": 72,
     "metadata": {},
     "output_type": "execute_result"
    }
   ],
   "source": [
    "rds.shape"
   ]
  },
  {
   "cell_type": "code",
   "execution_count": 73,
   "id": "2ad1dce1-a5de-4faf-9c6e-7ea1e16c2e77",
   "metadata": {},
   "outputs": [
    {
     "data": {
      "text/plain": [
       "(3601, 3601)"
      ]
     },
     "execution_count": 73,
     "metadata": {},
     "output_type": "execute_result"
    }
   ],
   "source": [
    "band1 = rds.squeeze()\n",
    "band1.shape"
   ]
  },
  {
   "cell_type": "code",
   "execution_count": 74,
   "id": "ea758429-46ae-443d-b406-1d58e0ffd726",
   "metadata": {},
   "outputs": [],
   "source": [
    "rds = rioxarray.open_rasterio(path, masked=True)"
   ]
  },
  {
   "cell_type": "code",
   "execution_count": 75,
   "id": "c03b9551-7cb3-4d3b-ae80-8627c82f4f12",
   "metadata": {},
   "outputs": [
    {
     "data": {
      "text/plain": [
       "CRS.from_epsg(4326)"
      ]
     },
     "execution_count": 75,
     "metadata": {},
     "output_type": "execute_result"
    }
   ],
   "source": [
    "rds.rio.crs"
   ]
  },
  {
   "cell_type": "markdown",
   "id": "ea0c46d1-d42b-4560-89d8-242ebe52ca2c",
   "metadata": {},
   "source": [
    "# Merging Rasters"
   ]
  },
  {
   "cell_type": "code",
   "execution_count": 62,
   "id": "8ab1a0be-9c2a-4ca5-8c16-27ff79ba4a6e",
   "metadata": {},
   "outputs": [],
   "source": [
    "from rioxarray.merge import merge_arrays"
   ]
  },
  {
   "cell_type": "code",
   "execution_count": 53,
   "id": "5bd89c9e-26ce-4794-aad1-9c1553fdff34",
   "metadata": {},
   "outputs": [
    {
     "name": "stdout",
     "output_type": "stream",
     "text": [
      "['N28E086.hgt', 'N28E087.hgt', 'N27E087.hgt', 'N27E086.hgt']\n"
     ]
    }
   ],
   "source": [
    "srtm_path = os.path.join(data_pkg_path, 'srtm')\n",
    "all_files = os.listdir(srtm_path)\n",
    "print(all_files)"
   ]
  },
  {
   "cell_type": "code",
   "execution_count": 58,
   "id": "2f232081-1da1-4faa-a349-11be539e2bd2",
   "metadata": {},
   "outputs": [],
   "source": [
    "dataset_list = []\n",
    "for file in all_files:\n",
    "    path = os.path.join(srtm_path, file)\n",
    "    dataset_list.append(rioxarray.open_rasterio(path, masked=True).squeeze())\n"
   ]
  },
  {
   "cell_type": "code",
   "execution_count": 63,
   "id": "f03b3c6e-8ada-4c24-847f-3720c5f5b88c",
   "metadata": {},
   "outputs": [],
   "source": [
    "merged = merge_arrays(dataset_list)"
   ]
  },
  {
   "cell_type": "code",
   "execution_count": 64,
   "id": "8f3b2551-c09a-44a3-8fe8-157bee38cb18",
   "metadata": {},
   "outputs": [],
   "source": [
    "output_filename = 'merged.tif'\n",
    "output_dir = 'output'\n",
    "output_path = os.path.join(output_dir, output_filename)"
   ]
  },
  {
   "cell_type": "code",
   "execution_count": 66,
   "id": "2e68ba7b-61c1-4ab5-a62b-643dd363e56d",
   "metadata": {},
   "outputs": [],
   "source": [
    "merged.rio.to_raster(output_path, tiled=True)"
   ]
  }
 ],
 "metadata": {
  "kernelspec": {
   "display_name": "Python 3 (ipykernel)",
   "language": "python",
   "name": "python3"
  },
  "language_info": {
   "codemirror_mode": {
    "name": "ipython",
    "version": 3
   },
   "file_extension": ".py",
   "mimetype": "text/x-python",
   "name": "python",
   "nbconvert_exporter": "python",
   "pygments_lexer": "ipython3",
   "version": "3.9.7"
  }
 },
 "nbformat": 4,
 "nbformat_minor": 5
}
