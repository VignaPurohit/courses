{
  "cells": [
    {
      "cell_type": "code",
      "execution_count": null,
      "metadata": {
        "id": "VpQxobY7eNvl"
      },
      "outputs": [],
      "source": [
        "import os\n",
        "import pandas as pd\n",
        "import geopandas as gpd\n",
        "\n",
        "data_pkg_path = 'data/geonames/'"
      ]
    },
    {
      "cell_type": "code",
      "execution_count": null,
      "metadata": {
        "id": "_Gg6n7SfeNvo"
      },
      "outputs": [],
      "source": [
        "column_names = [\n",
        "    'geonameid', 'name', 'asciiname', 'alternatenames',\n",
        "    'latitude', 'longitude', 'feature class', 'feature code',\n",
        "    'country code', 'cc2', 'admin1 code', 'admin2 code',\n",
        "    'admin3 code', 'admin4 code', 'population', 'elevation',\n",
        "    'dem', 'timezone', 'modification date'\n",
        "]\n",
        "\n",
        "dataframes = []\n",
        "\n",
        "files = os.listdir(data_pkg_path)\n",
        "\n",
        "for file in files:\n",
        "    path = os.path.join(data_pkg_path, file)\n",
        "    df = pd.read_csv(path, sep='\\t', names=column_names)\n",
        "    mountains = df[df['feature class']=='T']\n",
        "    dataframes.append(mountains)\n",
        "\n",
        "merged = pd.concat(dataframes)\n",
        "geometry = gpd.points_from_xy(merged.longitude, merged.latitude)\n",
        "gdf = gpd.GeoDataFrame(merged, crs='EPSG:4326', geometry=geometry)\n",
        "\n",
        "output_dir = 'output'\n",
        "output_filename = 'merged.gpkg'\n",
        "output_path = os.path.join(output_dir, output_filename)\n",
        "\n",
        "gdf.to_file(driver='GPKG', filename=output_path, encoding='utf-8')\n",
        "print('Successfully written output file at {}'.format(output_path))"
      ]
    }
  ],
  "metadata": {
    "kernelspec": {
      "display_name": "Python 3",
      "language": "python",
      "name": "python3"
    },
    "language_info": {
      "codemirror_mode": {
        "name": "ipython",
        "version": 3
      },
      "file_extension": ".py",
      "mimetype": "text/x-python",
      "name": "python",
      "nbconvert_exporter": "python",
      "pygments_lexer": "ipython3",
      "version": "3.7.7"
    },
    "colab": {
      "provenance": []
    }
  },
  "nbformat": 4,
  "nbformat_minor": 0
}