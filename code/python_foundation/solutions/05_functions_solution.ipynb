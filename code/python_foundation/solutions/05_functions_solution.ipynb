{
  "cells": [
    {
      "cell_type": "markdown",
      "metadata": {
        "id": "tvaRwuqp7Afb"
      },
      "source": [
        "The formula is staightforward except that we need to handle negative degrees properly"
      ]
    },
    {
      "cell_type": "code",
      "execution_count": 1,
      "metadata": {
        "id": "q2RsbP6S7Afe",
        "outputId": "1ddb5411-cd88-4424-b148-05ba73bc5f3f",
        "colab": {
          "base_uri": "https://localhost:8080/"
        }
      },
      "outputs": [
        {
          "output_type": "stream",
          "name": "stdout",
          "text": [
            "37 46 26.2992\n",
            "37.773972\n"
          ]
        }
      ],
      "source": [
        "def dms_to_decimal(degrees, minutes, seconds):\n",
        "    if degrees < 0:\n",
        "        result = degrees - minutes/60 - seconds/3600\n",
        "    else:\n",
        "        result = degrees + minutes/60 + seconds/3600\n",
        "    return result\n",
        "\n",
        "coordinate = '''37° 46' 26.2992\"'''\n",
        "\n",
        "parts = coordinate.split()\n",
        "\n",
        "degrees = int(parts[0][:-1])\n",
        "minutes = int(parts[1][:-1])\n",
        "seconds = float(parts[2][:-1])\n",
        "print(degrees, minutes, seconds)\n",
        "\n",
        "output = dms_to_decimal(degrees, minutes, seconds)\n",
        "print(output)"
      ]
    },
    {
      "cell_type": "markdown",
      "source": [
        "We can also implement a `decimal_to_dms` function. The logic of the function is as follows:\n",
        "\n",
        "Assume our input is **37.773972**\n",
        "\n",
        "* The whole number is degrees. `int(37.773972)` is **37**.\n",
        "* Calculate the remaining decimal between degrees and integer degrees. Multiply by 60.  `(37.773972 - 37)*60` is **10.16666666**.\n",
        "* The whole number is minutes. `int(10.1666666)` is **10**.\n",
        "* Calculate the remaining decimal between minutes and integer minutes. Multiply by 60. `(10.1666666 - 10)*60` is **26.2992**. You could optionally round it off if required."
      ],
      "metadata": {
        "id": "IuRLUO237s3F"
      }
    },
    {
      "cell_type": "code",
      "source": [
        "def decimal_to_dms(decimal_degrees):\n",
        "  degrees = int(decimal_degrees)\n",
        "  minutes_part = abs((decimal_degrees - degrees)*60)\n",
        "  minutes = int(minutes_part)\n",
        "  seconds_part = (minutes_part - minutes)*60\n",
        "  seconds = seconds_part\n",
        "  return degrees, minutes, seconds\n",
        "\n",
        "output = decimal_to_dms(37.773972)\n",
        "print(output)"
      ],
      "metadata": {
        "id": "LEOCe9qe7xoJ",
        "outputId": "f5ef986b-4f99-4e35-e7df-da6982111618",
        "colab": {
          "base_uri": "https://localhost:8080/"
        }
      },
      "execution_count": 11,
      "outputs": [
        {
          "output_type": "stream",
          "name": "stdout",
          "text": [
            "(37, 46, 26.299200000001974)\n"
          ]
        }
      ]
    }
  ],
  "metadata": {
    "kernelspec": {
      "display_name": "Python 3",
      "language": "python",
      "name": "python3"
    },
    "language_info": {
      "codemirror_mode": {
        "name": "ipython",
        "version": 3
      },
      "file_extension": ".py",
      "mimetype": "text/x-python",
      "name": "python",
      "nbconvert_exporter": "python",
      "pygments_lexer": "ipython3",
      "version": "3.8.6"
    },
    "colab": {
      "provenance": []
    }
  },
  "nbformat": 4,
  "nbformat_minor": 0
}