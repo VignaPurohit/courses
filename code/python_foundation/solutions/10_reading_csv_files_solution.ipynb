{
  "cells": [
    {
      "cell_type": "code",
      "execution_count": null,
      "metadata": {
        "id": "HGaAbLuEbgAU"
      },
      "outputs": [],
      "source": [
        "import csv\n",
        "import os\n",
        "from geopy import distance\n",
        "\n",
        "data_pkg_path = '../data'\n",
        "input_filename = 'worldcities.csv'\n",
        "input_path = os.path.join(data_pkg_path, input_filename)\n",
        "output_filename = 'cities_distance.csv'\n",
        "output_dir = 'output'\n",
        "output_path = os.path.join(output_dir, output_filename)\n",
        "\n",
        "home_city = 'Frankfurt'\n",
        "home_country = 'Germany'\n",
        "\n",
        "with open(input_path, 'r', encoding='utf-8') as input_file:\n",
        "    csv_reader = csv.DictReader(input_file)\n",
        "    for row in csv_reader:\n",
        "        if row['city_ascii'] == home_city:\n",
        "            home_city_coordinates = (row['lat'], row['lng'])\n",
        "            break\n",
        "\n",
        "with open(output_path, mode='w', newline='') as output_file:\n",
        "    fieldnames = ['city', 'distance_from_home']\n",
        "    csv_writer = csv.DictWriter(output_file, fieldnames=fieldnames)\n",
        "    csv_writer.writeheader()\n",
        "\n",
        "    with open(input_path, 'r', encoding='utf-8') as input_file:\n",
        "        csv_reader = csv.DictReader(input_file)\n",
        "        for row in csv_reader:\n",
        "            if (row['country'] == home_country and\n",
        "                row['city_ascii'] != home_city):\n",
        "                city_coordinates = (row['lat'], row['lng'])\n",
        "                city_distance = distance.geodesic(\n",
        "                    city_coordinates, home_city_coordinates).km\n",
        "                csv_writer.writerow(\n",
        "                    {'city': row['city_ascii'],\n",
        "                     'distance_from_home': city_distance}\n",
        "                )\n",
        "\n",
        "print('Successfully written output file at {}'.format(output_path))"
      ]
    }
  ],
  "metadata": {
    "kernelspec": {
      "display_name": "Python 3",
      "language": "python",
      "name": "python3"
    },
    "language_info": {
      "codemirror_mode": {
        "name": "ipython",
        "version": 3
      },
      "file_extension": ".py",
      "mimetype": "text/x-python",
      "name": "python",
      "nbconvert_exporter": "python",
      "pygments_lexer": "ipython3",
      "version": "3.8.5"
    },
    "colab": {
      "provenance": []
    }
  },
  "nbformat": 4,
  "nbformat_minor": 0
}