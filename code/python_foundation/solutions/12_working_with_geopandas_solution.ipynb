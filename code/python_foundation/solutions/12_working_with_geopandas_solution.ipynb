{
  "cells": [
    {
      "cell_type": "code",
      "execution_count": null,
      "metadata": {
        "id": "mi978Ob1KRsN"
      },
      "outputs": [],
      "source": [
        "import geopandas as gpd\n",
        "import os\n",
        "import fiona"
      ]
    },
    {
      "cell_type": "code",
      "source": [
        "data_pkg_path = '../data'\n",
        "filename = 'karnataka.gpkg'\n",
        "path = os.path.join(data_pkg_path, filename)"
      ],
      "metadata": {
        "id": "reyfYRcYKXbZ"
      },
      "execution_count": null,
      "outputs": []
    },
    {
      "cell_type": "code",
      "source": [
        "import fiona\n",
        "layers = fiona.listlayers(path)\n",
        "print(layers)"
      ],
      "metadata": {
        "id": "MF7ZGIhDKyWX"
      },
      "execution_count": null,
      "outputs": []
    },
    {
      "cell_type": "code",
      "source": [
        "roads_gdf = gpd.read_file(path, layer='karnataka_major_roads')\n",
        "filtered = roads_gdf[roads_gdf['ref'].str.match('^NH') == True]\n",
        "roads_reprojected = filtered.to_crs('EPSG:32643')\n",
        "roads_reprojected['length'] = roads_reprojected['geometry'].length\n",
        "total_length = roads_reprojected['length'].sum()"
      ],
      "metadata": {
        "id": "LajjYQCQKkkc"
      },
      "execution_count": null,
      "outputs": []
    },
    {
      "cell_type": "code",
      "source": [
        "districts_gdf = gpd.read_file(path, layer='karnataka_districts')\n",
        "districts_reprojected = districts_gdf.to_crs('EPSG:32643')"
      ],
      "metadata": {
        "id": "0Q4kWbVaKojS"
      },
      "execution_count": null,
      "outputs": []
    },
    {
      "cell_type": "code",
      "source": [
        "joined = gpd.sjoin(roads_reprojected, districts_reprojected, how='left', op='intersects')\n",
        "results = joined.groupby('DISTRICT')['length'].sum()/1000"
      ],
      "metadata": {
        "id": "v1b3LEX1KqSQ"
      },
      "execution_count": null,
      "outputs": []
    },
    {
      "cell_type": "markdown",
      "source": [
        "Convert the results to round number"
      ],
      "metadata": {
        "id": "RP8yk8AYKuOP"
      }
    },
    {
      "cell_type": "code",
      "source": [
        "# You could also use results.astype(int)\n",
        "results = results.round()"
      ],
      "metadata": {
        "id": "BmDB4MdGKs4P"
      },
      "execution_count": null,
      "outputs": []
    },
    {
      "cell_type": "code",
      "source": [
        "output_filename = 'national_highways_by_districts.csv'\n",
        "output_dir = '../output'\n",
        "output_path = os.path.join(output_dir, output_filename)\n",
        "results.to_csv(output_path)\n",
        "print('Successfully written output file at {}'.format(output_path))"
      ],
      "metadata": {
        "id": "gFzB0fwEKxDC"
      },
      "execution_count": null,
      "outputs": []
    }
  ],
  "metadata": {
    "kernelspec": {
      "display_name": "Python 3",
      "language": "python",
      "name": "python3"
    },
    "language_info": {
      "codemirror_mode": {
        "name": "ipython",
        "version": 3
      },
      "file_extension": ".py",
      "mimetype": "text/x-python",
      "name": "python",
      "nbconvert_exporter": "python",
      "pygments_lexer": "ipython3",
      "version": "3.7.7"
    },
    "colab": {
      "provenance": []
    }
  },
  "nbformat": 4,
  "nbformat_minor": 0
}