{
 "cells": [
  {
   "cell_type": "markdown",
   "metadata": {
    "id": "ErX4L9CVntt2"
   },
   "source": [
    "# Assignment\n",
    "\n",
    "Your assignment is to geocode the addresses given below using [GeoPy](https://geopy.readthedocs.io/en/stable/). This assignment is designed to help you practice your coding skills learnt in the course so far."
   ]
  },
  {
   "cell_type": "markdown",
   "metadata": {
    "id": "RmZLGvLaoGgL"
   },
   "source": [
    "## Part 1\n",
    "\n",
    "You have been given a list containing 5 tuples of place names along with their address. You need to use the [Nominatim](https://geopy.readthedocs.io/en/stable/#module-geopy.geocoders) geocoder and obtain the latitude and longitude of each address."
   ]
  },
  {
   "cell_type": "code",
   "execution_count": 1,
   "metadata": {
    "id": "WGNIodilnc9I"
   },
   "outputs": [],
   "source": [
    "# List of Hurricane Evacuation Centers in New York City with Addresses\n",
    "# Each item is a tuple with the name of the center and its address\n",
    "locations = [\n",
    "    ('Norman Thomas HS (ECF)', '111 E 33rd St, NYC, New York'),\n",
    "    ('Midtown East Campus', '233 E 56th St, NYC, New York'),\n",
    "    ('Louis D. Brandeis HS', '145 W 84th St, NYC, New York'),\n",
    "    ('Martin Luther King, Jr. HS', '122 Amsterdam Avenue, NYC, New York'),\n",
    "    ('P.S. 48', '4360 Broadway, NYC, New York')\n",
    "]"
   ]
  },
  {
   "cell_type": "markdown",
   "metadata": {
    "id": "WfjGrQoY_Jo4"
   },
   "source": [
    "The expected output should be as follows\n",
    "\n",
    "```\n",
    "[('Norman Thomas HS (ECF)', 40.7462177, -73.9809816),\n",
    " ('Midtown East Campus', 40.65132465, -73.92421646290632),\n",
    " ('Louis D. Brandeis HS', 40.7857432, -73.9742029),\n",
    " ('Martin Luther King, Jr. HS', 40.7747751, -73.9853689),\n",
    " ('P.S. 48', 40.8532731, -73.9338592)]\n",
    "```"
   ]
  },
  {
   "cell_type": "markdown",
   "metadata": {
    "id": "X-hM8XGgAkx5"
   },
   "source": [
    "## Part 2\n",
    "\n",
    "Get a list of 5 addresses in your city and geocode them.\n",
    "\n",
    "You can use Nominatim geocoder. Nominatim is based on OpenStreetMap and the it's geocoding quality varies from country to country. You can visit https://openstreetmap.org/ and search for your address. It uses Nominatim geocoder so you can check if your address is suitable for this service.\n",
    "\n",
    "Many countries of the world do not have structured addresses and use informal or landmark based addresses. There are usually very difficult to geocode accurately. If you are trying to geocode such addresses, your best bet is to truncate the address at the street or locality level.\n",
    "\n",
    "For example, an address like following will fail to geocode using Nominatim\n",
    "\n",
    "- `Spatial Thoughts LLP, FF 105, Aaradhya Complex, Gala Gymkhana Road, Bopal, Ahmedabad, India`\n",
    "\n",
    "Instead, you may try to geocode the following\n",
    "\n",
    "- `Gala Gymkhana Road, Bopal, Ahmedabad, India`\n"
   ]
  },
  {
   "cell_type": "markdown",
   "metadata": {
    "id": "Dw5Y3V1fC4-N"
   },
   "source": [
    "## Part 3\n",
    "\n",
    "Bonus Assignment (This part is optional)\n",
    "\n",
    "Use an alternative geocoding service such as HERE/Bing/Google or a country-specific service such as DataBC. Note that most commercial geocoding services will require signing-up for an API key and may also require setting up a billing account."
   ]
  },
  {
   "cell_type": "markdown",
   "metadata": {},
   "source": [
    "----"
   ]
  },
  {
   "cell_type": "markdown",
   "metadata": {},
   "source": [
    "# Solution"
   ]
  },
  {
   "cell_type": "markdown",
   "metadata": {},
   "source": [
    "## Part 1 Solution"
   ]
  },
  {
   "cell_type": "code",
   "execution_count": 11,
   "metadata": {},
   "outputs": [],
   "source": [
    "# List of Hurricane Evacuation Centers in New York City with Addresses\n",
    "# Each item is a tuple with the name of the center and its address\n",
    "locations = [\n",
    "    ('Norman Thomas HS (ECF)', '111 E 33rd St, NYC, New York'),\n",
    "    ('Midtown East Campus', '233 E 56th St, NYC, New York'),\n",
    "    ('Louis D. Brandeis HS', '145 W 84th St, NYC, New York'),\n",
    "    ('Martin Luther King, Jr. HS', '122 Amsterdam Avenue, NYC, New York'),\n",
    "    ('P.S. 48', '4360 Broadway, NYC, New York')\n",
    "]"
   ]
  },
  {
   "cell_type": "code",
   "execution_count": 12,
   "metadata": {
    "colab": {
     "base_uri": "https://localhost:8080/"
    },
    "id": "jHxUkfWTD1No",
    "outputId": "118a0c0d-103d-4f40-fc61-5dca6f42e363"
   },
   "outputs": [
    {
     "name": "stdout",
     "output_type": "stream",
     "text": [
      "Geocoding:  111 E 33rd St, NYC, New York\n",
      "Geocoding:  233 E 56th St, NYC, New York\n",
      "Geocoding:  145 W 84th St, NYC, New York\n",
      "Geocoding:  122 Amsterdam Avenue, NYC, New York\n",
      "Geocoding:  4360 Broadway, NYC, New York\n",
      "Results [('Norman Thomas HS (ECF)', 40.7462177, -73.9809816), ('Midtown East Campus', 40.65132465, -73.92421646290632), ('Louis D. Brandeis HS', 40.7857432, -73.9742029), ('Martin Luther King, Jr. HS', 40.7747751, -73.9853689), ('P.S. 48', 40.8532731, -73.9338592)]\n"
     ]
    }
   ],
   "source": [
    "import time\n",
    "from geopy.geocoders import Nominatim\n",
    "\n",
    "geolocator = Nominatim(user_agent='spatialthoughts', timeout=10)\n",
    "\n",
    "results = []\n",
    "\n",
    "for name, address in locations:\n",
    "  print('Geocoding: ', address)\n",
    "  location = geolocator.geocode(address)\n",
    "  if location:\n",
    "    results.append((name, location.latitude, location.longitude))\n",
    "  else:\n",
    "    print(f'Error: geocode failed on address {address}')\n",
    "  time.sleep(1)\n",
    "\n",
    "print('Results', results)"
   ]
  },
  {
   "cell_type": "markdown",
   "metadata": {},
   "source": [
    "## Part 2 & 3 Solution"
   ]
  },
  {
   "cell_type": "code",
   "execution_count": 13,
   "metadata": {},
   "outputs": [],
   "source": [
    "# Sample address of BangaloreOne Centers list for Aadhaar Enrollment\n",
    "# Data from https://www.karnatakaone.gov.in/Info/Public/UIDAI\n",
    "locations = [\n",
    "    ('AECS Layout (Kundalahalli)', 'BBMP Building Ward No.86, Opp. to State Bank of India, AECS Layout, Kundalahalli, Bangalore-560037'),\n",
    "    ('Agrahara Dasarahalli', 'BBMP Ward Office, Ward No. 105, 4th C Cross, 17th Main, Agrahara Dasarahalli, Bangalore - 560079'),\n",
    "    ('Airport Road', 'S-7 Sub Division, Bescom, Airport Road, Bangalore-560017'),\n",
    "    ('Arkere', '4th Main Road, Arkere Mico Layout, 2nd Stage (Near Bus Stand) Lakshmi Layout, Bangalore-560076'),\n",
    "    ('Azad nagar', 'Ward No.141, BBMP Building, Next to Government School, Opposite to Gopalan Mall, Mysore road, Azad Nagar, Bangalore-560026')\n",
    "]"
   ]
  },
  {
   "cell_type": "code",
   "execution_count": 15,
   "metadata": {
    "id": "PCAvs5U1D3Dd"
   },
   "outputs": [
    {
     "name": "stdout",
     "output_type": "stream",
     "text": [
      "Geocoding:  BBMP Building Ward No.86, Opp. to State Bank of India, AECS Layout, Kundalahalli, Bangalore-560037\n",
      "Geocoding:  BBMP Ward Office, Ward No. 105, 4th C Cross, 17th Main, Agrahara Dasarahalli, Bangalore - 560079\n",
      "Geocoding:  S-7 Sub Division, Bescom, Airport Road, Bangalore-560017\n",
      "Geocoding:  4th Main Road, Arkere Mico Layout, 2nd Stage (Near Bus Stand) Lakshmi Layout, Bangalore-560076\n",
      "Geocoding:  Ward No.141, BBMP Building, Next to Government School, Opposite to Gopalan Mall, Mysore road, Azad Nagar, Bangalore-560026\n",
      "Results [('AECS Layout (Kundalahalli)', 12.9671687, 77.7157905), ('Agrahara Dasarahalli', 12.9912836, 77.5526172), ('Airport Road', 12.9593789, 77.6626941), ('Arkere', 12.8881919, 77.5939286), ('Azad nagar', 12.9359899, 77.5177757)]\n"
     ]
    }
   ],
   "source": [
    "import time\n",
    "from geopy.geocoders import GoogleV3\n",
    "\n",
    "GOOGLE_MAPS_API_KEY = 'replace with your own key'\n",
    "\n",
    "geolocator = GoogleV3(api_key=GOOGLE_MAPS_API_KEY, timeout=10)\n",
    "\n",
    "results = []\n",
    "\n",
    "for name, address in locations:\n",
    "  print('Geocoding: ', address)\n",
    "  location = geolocator.geocode(address)\n",
    "  if location:\n",
    "    results.append((name, location.latitude, location.longitude))\n",
    "  else:\n",
    "    print(f'Error: geocode failed on address {address}')\n",
    "  time.sleep(1)\n",
    "\n",
    "print('Results', results)"
   ]
  }
 ],
 "metadata": {
  "colab": {
   "authorship_tag": "ABX9TyMljGTbgRyMvecaSp2i/roU",
   "provenance": []
  },
  "kernelspec": {
   "display_name": "Python 3 (ipykernel)",
   "language": "python",
   "name": "python3"
  },
  "language_info": {
   "codemirror_mode": {
    "name": "ipython",
    "version": 3
   },
   "file_extension": ".py",
   "mimetype": "text/x-python",
   "name": "python",
   "nbconvert_exporter": "python",
   "pygments_lexer": "ipython3",
   "version": "3.12.1"
  }
 },
 "nbformat": 4,
 "nbformat_minor": 4
}
