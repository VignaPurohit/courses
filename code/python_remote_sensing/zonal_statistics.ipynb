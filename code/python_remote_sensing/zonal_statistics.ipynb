{
  "cells": [
    {
      "cell_type": "markdown",
      "metadata": {
        "id": "vxduQznAp2Ax"
      },
      "source": [
        "### Overview\n",
        "\n",
        "Zonal Statistics is used to summarises the values of a raster dataset within the zones of a vector dataset. Here we select all Admin1 units of a country and calculate a sum of nighttime light pixel intensities over multiple years. This is a large computation that is enabled by cloud-hosted NightTime Lights data in the Cloud-Optimized GeoTIFF (COG) format and parallel computing on a local dask cluster.\n"
      ]
    },
    {
      "cell_type": "markdown",
      "metadata": {
        "id": "FE4NnpBGwvVm"
      },
      "source": [
        "### Setup and Data Download\n",
        "\n",
        "The following blocks of code will install the required packages and download the datasets to your Colab environment."
      ]
    },
    {
      "cell_type": "code",
      "execution_count": null,
      "metadata": {
        "id": "XXQvU68ohMWA"
      },
      "outputs": [],
      "source": [
        "%%capture\n",
        "if 'google.colab' in str(get_ipython()):\n",
        "    !apt install libspatialindex-dev\n",
        "    !pip install fiona shapely pyproj rtree\n",
        "    !pip install geopandas\n",
        "    !pip install rioxarray\n",
        "    !pip install regionmask"
      ]
    },
    {
      "cell_type": "code",
      "execution_count": null,
      "metadata": {
        "id": "I8meeR2XidDA"
      },
      "outputs": [],
      "source": [
        "import os\n",
        "import glob\n",
        "import pandas as pd\n",
        "import geopandas as gpd\n",
        "import numpy as np\n",
        "import xarray as xr\n",
        "import rioxarray as rxr\n",
        "import matplotlib.pyplot as plt\n",
        "from datetime import datetime\n",
        "import dask\n",
        "import regionmask"
      ]
    },
    {
      "cell_type": "code",
      "execution_count": null,
      "metadata": {
        "id": "3G8scYV4vb0z"
      },
      "outputs": [],
      "source": [
        "import warnings\n",
        "import rasterio\n",
        "warnings.filterwarnings(\"ignore\", category=rasterio.RasterioDeprecationWarning)"
      ]
    },
    {
      "cell_type": "code",
      "execution_count": null,
      "metadata": {
        "id": "l3a5EQJmWhtj"
      },
      "outputs": [],
      "source": [
        "from dask.distributed import Client, progress\n",
        "client = Client()  # set up local cluster on the machine\n",
        "client"
      ]
    },
    {
      "cell_type": "code",
      "execution_count": null,
      "metadata": {
        "id": "sx-tBAfE6aUU"
      },
      "outputs": [],
      "source": [
        "dask.config.set({\"array.slicing.split_large_chunks\": False})\n",
        "dask.config.set({'array.chunk-size': '32MiB'})"
      ]
    },
    {
      "cell_type": "code",
      "execution_count": null,
      "metadata": {
        "id": "gTO2zAqXidzr"
      },
      "outputs": [],
      "source": [
        "data_folder = 'data'\n",
        "output_folder = 'output'\n",
        "\n",
        "if not os.path.exists(data_folder):\n",
        "    os.mkdir(data_folder)\n",
        "if not os.path.exists(output_folder):\n",
        "    os.mkdir(output_folder)"
      ]
    },
    {
      "cell_type": "code",
      "execution_count": null,
      "metadata": {
        "id": "d-cvhSW4igBo"
      },
      "outputs": [],
      "source": [
        "def download(url):\n",
        "    filename = os.path.join(data_folder, os.path.basename(url))\n",
        "    if not os.path.exists(filename):\n",
        "        from urllib.request import urlretrieve\n",
        "        local, _ = urlretrieve(url, filename)\n",
        "        print('Downloaded ' + local)\n",
        "\n",
        "admin1_zipfile = 'ne_10m_admin_1_states_provinces.zip'\n",
        "admin1_url = 'https://naciscdn.org/naturalearth/10m/cultural/'\n",
        "\n",
        "download(admin1_url + admin1_zipfile)"
      ]
    },
    {
      "cell_type": "markdown",
      "metadata": {
        "id": "u6kEXzadw4k7"
      },
      "source": [
        "### Data Pre-Processing"
      ]
    },
    {
      "cell_type": "markdown",
      "metadata": {
        "id": "nKGBKNspw7Pp"
      },
      "source": [
        "First we will read the GDL shapefile and filter to a country.\n",
        "The 'adm1_code' column contains a unique id for all the counties present in the state, but it is of `object` type. We need to convert it to `int` type to be used in xarray.\n"
      ]
    },
    {
      "cell_type": "code",
      "execution_count": null,
      "metadata": {
        "id": "leakJcQWjrJ4"
      },
      "outputs": [],
      "source": [
        "country_code = 'LK'\n",
        "admin1_file_path = os.path.join(data_folder, admin1_zipfile)\n",
        "\n",
        "admin1_df = gpd.read_file(admin1_file_path)\n",
        "\n",
        "zones = admin1_df[admin1_df['iso_a2'] == country_code][['adm1_code', 'name', 'iso_a2', 'geometry']].copy()\n",
        "zones['id'] = zones.reset_index().index + 1\n",
        "zones"
      ]
    },
    {
      "cell_type": "code",
      "execution_count": null,
      "metadata": {
        "id": "K81OSYEovx7C"
      },
      "outputs": [],
      "source": [
        "bbox = zones.total_bounds\n",
        "bbox"
      ]
    },
    {
      "cell_type": "markdown",
      "metadata": {
        "id": "aUPCWUQByt0C"
      },
      "source": [
        "Next we read the NTL files and create an XArray object.\n",
        "\n",
        "These files were download from [Harvard Dataverse](https://dataverse.harvard.edu/dataset.xhtml?persistentId=doi:10.7910/DVN/YGIVCD) and converted to Cloud-Optimized GeoTIFFs using GDAL.\n",
        "\n",
        " Example command `gdalwarp -of COG -co COMPRESS=DEFLATE -co PREDICTOR=2 -co NUM_THREADS=ALL_CPUS 2021_HasMask/LongNTL_2021.tif 2021.tif -te -180 -90 180 90 -dstnodata 0`\n",
        "  \n",
        "The resulting files are now hosted on a Google Cloud Storage bucket."
      ]
    },
    {
      "cell_type": "code",
      "execution_count": null,
      "metadata": {
        "id": "fSsv5cCJ08yn"
      },
      "outputs": [],
      "source": [
        "start_year = 2015\n",
        "end_year = 2020"
      ]
    },
    {
      "cell_type": "code",
      "execution_count": null,
      "metadata": {
        "id": "m5xBMeBnYbwR"
      },
      "outputs": [],
      "source": [
        "\n",
        "ntl_folder = 'https://storage.googleapis.com/spatialthoughts-public-data/ntl/npp_viirs_ntl'\n",
        "\n",
        "da_list = []\n",
        "\n",
        "for year in range(start_year, end_year + 1):\n",
        "  cog_url = f'{ntl_folder}/{year}.tif'\n",
        "  da = rxr.open_rasterio(\n",
        "      cog_url,\n",
        "      chunks=True).rio.clip_box(*bbox)\n",
        "  dt = pd.to_datetime(year, format='%Y')\n",
        "  da = da.assign_coords(time = dt)\n",
        "  da = da.expand_dims(dim=\"time\")\n",
        "  da_list.append(da)"
      ]
    },
    {
      "cell_type": "code",
      "execution_count": null,
      "metadata": {
        "id": "hgzALGzsDKyn"
      },
      "outputs": [],
      "source": [
        "ntl_datacube = xr.concat(da_list, dim='time').chunk('auto')\n",
        "ntl_datacube"
      ]
    },
    {
      "cell_type": "code",
      "execution_count": null,
      "metadata": {
        "id": "8jdDErnrGZav"
      },
      "outputs": [],
      "source": [
        "ntl_datacube = ntl_datacube.sel(band=1, drop=True)"
      ]
    },
    {
      "cell_type": "markdown",
      "metadata": {
        "id": "uND6MOddOoyJ"
      },
      "source": [
        "### Zonal Stats\n",
        "\n",
        "Now we will extract the sum of the raster pixel values for every admin1 region in the selected countrey."
      ]
    },
    {
      "cell_type": "markdown",
      "metadata": {
        "id": "nL1frS4hnnY9"
      },
      "source": [
        "First, we need to convert the GeoDataFrame to a XArray Dataset. We will be using the `regionmask` module for that. It takes geodataframe, it's unique value as integer and converts the geodataframe into  a `xarray dataset` having dimension and coordinates same as of given input xarray dataset\n"
      ]
    },
    {
      "cell_type": "code",
      "execution_count": null,
      "metadata": {
        "id": "d91yeyUeNO_P"
      },
      "outputs": [],
      "source": [
        "# Create mask of multiple regions from shapefile\n",
        "mask = regionmask.mask_3D_geopandas(\n",
        "        zones,\n",
        "        ntl_datacube.x,\n",
        "        ntl_datacube.y,\n",
        "        drop=True,\n",
        "        numbers=\"id\",\n",
        "        overlap=True\n",
        "    )"
      ]
    },
    {
      "cell_type": "code",
      "execution_count": null,
      "metadata": {
        "id": "B6kJPigONnnm"
      },
      "outputs": [],
      "source": [
        "ntl_datacube = ntl_datacube.where(mask).chunk('auto')\n",
        "ntl_datacube"
      ]
    },
    {
      "cell_type": "code",
      "execution_count": null,
      "metadata": {
        "id": "BS2JTRlcNyAW"
      },
      "outputs": [],
      "source": [
        "grouped = ntl_datacube.groupby('time').sum(['x','y'])\n",
        "grouped"
      ]
    },
    {
      "cell_type": "code",
      "execution_count": null,
      "metadata": {
        "id": "4U7v2X2YPz35"
      },
      "outputs": [],
      "source": [
        "%time grouped = grouped.compute()"
      ]
    },
    {
      "cell_type": "code",
      "execution_count": null,
      "metadata": {
        "id": "-14twvJqN7ri"
      },
      "outputs": [],
      "source": [
        "stats = grouped.drop('spatial_ref').to_dataframe('sum').reset_index()\n",
        "stats"
      ]
    },
    {
      "cell_type": "code",
      "execution_count": null,
      "metadata": {
        "id": "kCobZY6zAFbM"
      },
      "outputs": [],
      "source": [
        "stats['year'] = stats.time.dt.year\n",
        "stats = stats.rename(columns={'region': 'id'})\n",
        "stats"
      ]
    },
    {
      "cell_type": "code",
      "execution_count": null,
      "metadata": {
        "id": "wy9QGTyFVb7f"
      },
      "outputs": [],
      "source": [
        "results = zones.merge(stats, on='id')\n",
        "results"
      ]
    },
    {
      "cell_type": "markdown",
      "metadata": {
        "id": "bHCddLI2Sp9o"
      },
      "source": [
        "Finally, we save the result to disk."
      ]
    },
    {
      "cell_type": "code",
      "execution_count": 30,
      "metadata": {
        "id": "xxQiAR26BJ6G",
        "colab": {
          "base_uri": "https://localhost:8080/",
          "height": 424
        },
        "outputId": "89bf8e69-8e63-45bd-9e1b-b2524aa83375"
      },
      "outputs": [
        {
          "output_type": "execute_result",
          "data": {
            "text/plain": [
              "    adm1_code           name iso_a2  year          sum\n",
              "0    LKA-2454  Trikuṇāmalaya     LK  2015   449.778381\n",
              "1    LKA-2454  Trikuṇāmalaya     LK  2016   453.339691\n",
              "2    LKA-2454  Trikuṇāmalaya     LK  2017   640.339355\n",
              "3    LKA-2454  Trikuṇāmalaya     LK  2018   656.189819\n",
              "4    LKA-2454  Trikuṇāmalaya     LK  2019   854.694824\n",
              "..        ...            ...    ...   ...          ...\n",
              "145  LKA-2448     Mahanuvara     LK  2016   856.860474\n",
              "146  LKA-2448     Mahanuvara     LK  2017  1163.604858\n",
              "147  LKA-2448     Mahanuvara     LK  2018  1226.470215\n",
              "148  LKA-2448     Mahanuvara     LK  2019  1527.224609\n",
              "149  LKA-2448     Mahanuvara     LK  2020  1539.905396\n",
              "\n",
              "[150 rows x 5 columns]"
            ],
            "text/html": [
              "\n",
              "  <div id=\"df-e481db68-39ea-4e2e-9d41-1a968a7daa25\" class=\"colab-df-container\">\n",
              "    <div>\n",
              "<style scoped>\n",
              "    .dataframe tbody tr th:only-of-type {\n",
              "        vertical-align: middle;\n",
              "    }\n",
              "\n",
              "    .dataframe tbody tr th {\n",
              "        vertical-align: top;\n",
              "    }\n",
              "\n",
              "    .dataframe thead th {\n",
              "        text-align: right;\n",
              "    }\n",
              "</style>\n",
              "<table border=\"1\" class=\"dataframe\">\n",
              "  <thead>\n",
              "    <tr style=\"text-align: right;\">\n",
              "      <th></th>\n",
              "      <th>adm1_code</th>\n",
              "      <th>name</th>\n",
              "      <th>iso_a2</th>\n",
              "      <th>year</th>\n",
              "      <th>sum</th>\n",
              "    </tr>\n",
              "  </thead>\n",
              "  <tbody>\n",
              "    <tr>\n",
              "      <th>0</th>\n",
              "      <td>LKA-2454</td>\n",
              "      <td>Trikuṇāmalaya</td>\n",
              "      <td>LK</td>\n",
              "      <td>2015</td>\n",
              "      <td>449.778381</td>\n",
              "    </tr>\n",
              "    <tr>\n",
              "      <th>1</th>\n",
              "      <td>LKA-2454</td>\n",
              "      <td>Trikuṇāmalaya</td>\n",
              "      <td>LK</td>\n",
              "      <td>2016</td>\n",
              "      <td>453.339691</td>\n",
              "    </tr>\n",
              "    <tr>\n",
              "      <th>2</th>\n",
              "      <td>LKA-2454</td>\n",
              "      <td>Trikuṇāmalaya</td>\n",
              "      <td>LK</td>\n",
              "      <td>2017</td>\n",
              "      <td>640.339355</td>\n",
              "    </tr>\n",
              "    <tr>\n",
              "      <th>3</th>\n",
              "      <td>LKA-2454</td>\n",
              "      <td>Trikuṇāmalaya</td>\n",
              "      <td>LK</td>\n",
              "      <td>2018</td>\n",
              "      <td>656.189819</td>\n",
              "    </tr>\n",
              "    <tr>\n",
              "      <th>4</th>\n",
              "      <td>LKA-2454</td>\n",
              "      <td>Trikuṇāmalaya</td>\n",
              "      <td>LK</td>\n",
              "      <td>2019</td>\n",
              "      <td>854.694824</td>\n",
              "    </tr>\n",
              "    <tr>\n",
              "      <th>...</th>\n",
              "      <td>...</td>\n",
              "      <td>...</td>\n",
              "      <td>...</td>\n",
              "      <td>...</td>\n",
              "      <td>...</td>\n",
              "    </tr>\n",
              "    <tr>\n",
              "      <th>145</th>\n",
              "      <td>LKA-2448</td>\n",
              "      <td>Mahanuvara</td>\n",
              "      <td>LK</td>\n",
              "      <td>2016</td>\n",
              "      <td>856.860474</td>\n",
              "    </tr>\n",
              "    <tr>\n",
              "      <th>146</th>\n",
              "      <td>LKA-2448</td>\n",
              "      <td>Mahanuvara</td>\n",
              "      <td>LK</td>\n",
              "      <td>2017</td>\n",
              "      <td>1163.604858</td>\n",
              "    </tr>\n",
              "    <tr>\n",
              "      <th>147</th>\n",
              "      <td>LKA-2448</td>\n",
              "      <td>Mahanuvara</td>\n",
              "      <td>LK</td>\n",
              "      <td>2018</td>\n",
              "      <td>1226.470215</td>\n",
              "    </tr>\n",
              "    <tr>\n",
              "      <th>148</th>\n",
              "      <td>LKA-2448</td>\n",
              "      <td>Mahanuvara</td>\n",
              "      <td>LK</td>\n",
              "      <td>2019</td>\n",
              "      <td>1527.224609</td>\n",
              "    </tr>\n",
              "    <tr>\n",
              "      <th>149</th>\n",
              "      <td>LKA-2448</td>\n",
              "      <td>Mahanuvara</td>\n",
              "      <td>LK</td>\n",
              "      <td>2020</td>\n",
              "      <td>1539.905396</td>\n",
              "    </tr>\n",
              "  </tbody>\n",
              "</table>\n",
              "<p>150 rows × 5 columns</p>\n",
              "</div>\n",
              "    <div class=\"colab-df-buttons\">\n",
              "\n",
              "  <div class=\"colab-df-container\">\n",
              "    <button class=\"colab-df-convert\" onclick=\"convertToInteractive('df-e481db68-39ea-4e2e-9d41-1a968a7daa25')\"\n",
              "            title=\"Convert this dataframe to an interactive table.\"\n",
              "            style=\"display:none;\">\n",
              "\n",
              "  <svg xmlns=\"http://www.w3.org/2000/svg\" height=\"24px\" viewBox=\"0 -960 960 960\">\n",
              "    <path d=\"M120-120v-720h720v720H120Zm60-500h600v-160H180v160Zm220 220h160v-160H400v160Zm0 220h160v-160H400v160ZM180-400h160v-160H180v160Zm440 0h160v-160H620v160ZM180-180h160v-160H180v160Zm440 0h160v-160H620v160Z\"/>\n",
              "  </svg>\n",
              "    </button>\n",
              "\n",
              "  <style>\n",
              "    .colab-df-container {\n",
              "      display:flex;\n",
              "      gap: 12px;\n",
              "    }\n",
              "\n",
              "    .colab-df-convert {\n",
              "      background-color: #E8F0FE;\n",
              "      border: none;\n",
              "      border-radius: 50%;\n",
              "      cursor: pointer;\n",
              "      display: none;\n",
              "      fill: #1967D2;\n",
              "      height: 32px;\n",
              "      padding: 0 0 0 0;\n",
              "      width: 32px;\n",
              "    }\n",
              "\n",
              "    .colab-df-convert:hover {\n",
              "      background-color: #E2EBFA;\n",
              "      box-shadow: 0px 1px 2px rgba(60, 64, 67, 0.3), 0px 1px 3px 1px rgba(60, 64, 67, 0.15);\n",
              "      fill: #174EA6;\n",
              "    }\n",
              "\n",
              "    .colab-df-buttons div {\n",
              "      margin-bottom: 4px;\n",
              "    }\n",
              "\n",
              "    [theme=dark] .colab-df-convert {\n",
              "      background-color: #3B4455;\n",
              "      fill: #D2E3FC;\n",
              "    }\n",
              "\n",
              "    [theme=dark] .colab-df-convert:hover {\n",
              "      background-color: #434B5C;\n",
              "      box-shadow: 0px 1px 3px 1px rgba(0, 0, 0, 0.15);\n",
              "      filter: drop-shadow(0px 1px 2px rgba(0, 0, 0, 0.3));\n",
              "      fill: #FFFFFF;\n",
              "    }\n",
              "  </style>\n",
              "\n",
              "    <script>\n",
              "      const buttonEl =\n",
              "        document.querySelector('#df-e481db68-39ea-4e2e-9d41-1a968a7daa25 button.colab-df-convert');\n",
              "      buttonEl.style.display =\n",
              "        google.colab.kernel.accessAllowed ? 'block' : 'none';\n",
              "\n",
              "      async function convertToInteractive(key) {\n",
              "        const element = document.querySelector('#df-e481db68-39ea-4e2e-9d41-1a968a7daa25');\n",
              "        const dataTable =\n",
              "          await google.colab.kernel.invokeFunction('convertToInteractive',\n",
              "                                                    [key], {});\n",
              "        if (!dataTable) return;\n",
              "\n",
              "        const docLinkHtml = 'Like what you see? Visit the ' +\n",
              "          '<a target=\"_blank\" href=https://colab.research.google.com/notebooks/data_table.ipynb>data table notebook</a>'\n",
              "          + ' to learn more about interactive tables.';\n",
              "        element.innerHTML = '';\n",
              "        dataTable['output_type'] = 'display_data';\n",
              "        await google.colab.output.renderOutput(dataTable, element);\n",
              "        const docLink = document.createElement('div');\n",
              "        docLink.innerHTML = docLinkHtml;\n",
              "        element.appendChild(docLink);\n",
              "      }\n",
              "    </script>\n",
              "  </div>\n",
              "\n",
              "\n",
              "<div id=\"df-327b065f-55a8-4359-a51d-9442a3826cb6\">\n",
              "  <button class=\"colab-df-quickchart\" onclick=\"quickchart('df-327b065f-55a8-4359-a51d-9442a3826cb6')\"\n",
              "            title=\"Suggest charts\"\n",
              "            style=\"display:none;\">\n",
              "\n",
              "<svg xmlns=\"http://www.w3.org/2000/svg\" height=\"24px\"viewBox=\"0 0 24 24\"\n",
              "     width=\"24px\">\n",
              "    <g>\n",
              "        <path d=\"M19 3H5c-1.1 0-2 .9-2 2v14c0 1.1.9 2 2 2h14c1.1 0 2-.9 2-2V5c0-1.1-.9-2-2-2zM9 17H7v-7h2v7zm4 0h-2V7h2v10zm4 0h-2v-4h2v4z\"/>\n",
              "    </g>\n",
              "</svg>\n",
              "  </button>\n",
              "\n",
              "<style>\n",
              "  .colab-df-quickchart {\n",
              "      --bg-color: #E8F0FE;\n",
              "      --fill-color: #1967D2;\n",
              "      --hover-bg-color: #E2EBFA;\n",
              "      --hover-fill-color: #174EA6;\n",
              "      --disabled-fill-color: #AAA;\n",
              "      --disabled-bg-color: #DDD;\n",
              "  }\n",
              "\n",
              "  [theme=dark] .colab-df-quickchart {\n",
              "      --bg-color: #3B4455;\n",
              "      --fill-color: #D2E3FC;\n",
              "      --hover-bg-color: #434B5C;\n",
              "      --hover-fill-color: #FFFFFF;\n",
              "      --disabled-bg-color: #3B4455;\n",
              "      --disabled-fill-color: #666;\n",
              "  }\n",
              "\n",
              "  .colab-df-quickchart {\n",
              "    background-color: var(--bg-color);\n",
              "    border: none;\n",
              "    border-radius: 50%;\n",
              "    cursor: pointer;\n",
              "    display: none;\n",
              "    fill: var(--fill-color);\n",
              "    height: 32px;\n",
              "    padding: 0;\n",
              "    width: 32px;\n",
              "  }\n",
              "\n",
              "  .colab-df-quickchart:hover {\n",
              "    background-color: var(--hover-bg-color);\n",
              "    box-shadow: 0 1px 2px rgba(60, 64, 67, 0.3), 0 1px 3px 1px rgba(60, 64, 67, 0.15);\n",
              "    fill: var(--button-hover-fill-color);\n",
              "  }\n",
              "\n",
              "  .colab-df-quickchart-complete:disabled,\n",
              "  .colab-df-quickchart-complete:disabled:hover {\n",
              "    background-color: var(--disabled-bg-color);\n",
              "    fill: var(--disabled-fill-color);\n",
              "    box-shadow: none;\n",
              "  }\n",
              "\n",
              "  .colab-df-spinner {\n",
              "    border: 2px solid var(--fill-color);\n",
              "    border-color: transparent;\n",
              "    border-bottom-color: var(--fill-color);\n",
              "    animation:\n",
              "      spin 1s steps(1) infinite;\n",
              "  }\n",
              "\n",
              "  @keyframes spin {\n",
              "    0% {\n",
              "      border-color: transparent;\n",
              "      border-bottom-color: var(--fill-color);\n",
              "      border-left-color: var(--fill-color);\n",
              "    }\n",
              "    20% {\n",
              "      border-color: transparent;\n",
              "      border-left-color: var(--fill-color);\n",
              "      border-top-color: var(--fill-color);\n",
              "    }\n",
              "    30% {\n",
              "      border-color: transparent;\n",
              "      border-left-color: var(--fill-color);\n",
              "      border-top-color: var(--fill-color);\n",
              "      border-right-color: var(--fill-color);\n",
              "    }\n",
              "    40% {\n",
              "      border-color: transparent;\n",
              "      border-right-color: var(--fill-color);\n",
              "      border-top-color: var(--fill-color);\n",
              "    }\n",
              "    60% {\n",
              "      border-color: transparent;\n",
              "      border-right-color: var(--fill-color);\n",
              "    }\n",
              "    80% {\n",
              "      border-color: transparent;\n",
              "      border-right-color: var(--fill-color);\n",
              "      border-bottom-color: var(--fill-color);\n",
              "    }\n",
              "    90% {\n",
              "      border-color: transparent;\n",
              "      border-bottom-color: var(--fill-color);\n",
              "    }\n",
              "  }\n",
              "</style>\n",
              "\n",
              "  <script>\n",
              "    async function quickchart(key) {\n",
              "      const quickchartButtonEl =\n",
              "        document.querySelector('#' + key + ' button');\n",
              "      quickchartButtonEl.disabled = true;  // To prevent multiple clicks.\n",
              "      quickchartButtonEl.classList.add('colab-df-spinner');\n",
              "      try {\n",
              "        const charts = await google.colab.kernel.invokeFunction(\n",
              "            'suggestCharts', [key], {});\n",
              "      } catch (error) {\n",
              "        console.error('Error during call to suggestCharts:', error);\n",
              "      }\n",
              "      quickchartButtonEl.classList.remove('colab-df-spinner');\n",
              "      quickchartButtonEl.classList.add('colab-df-quickchart-complete');\n",
              "    }\n",
              "    (() => {\n",
              "      let quickchartButtonEl =\n",
              "        document.querySelector('#df-327b065f-55a8-4359-a51d-9442a3826cb6 button');\n",
              "      quickchartButtonEl.style.display =\n",
              "        google.colab.kernel.accessAllowed ? 'block' : 'none';\n",
              "    })();\n",
              "  </script>\n",
              "</div>\n",
              "    </div>\n",
              "  </div>\n"
            ]
          },
          "metadata": {},
          "execution_count": 30
        }
      ],
      "source": [
        "output = results[['adm1_code', 'name', 'iso_a2', 'year', 'sum']]\n",
        "output"
      ]
    },
    {
      "cell_type": "code",
      "execution_count": null,
      "metadata": {
        "id": "VdAyegoO61Er"
      },
      "outputs": [],
      "source": [
        "output_file = 'output.csv'\n",
        "output_path = os.path.join(output_folder, output_file)\n",
        "\n",
        "output.to_csv(output_path, index=False)\n",
        "print('Successfully written output file at {}'.format(output_path))"
      ]
    },
    {
      "cell_type": "markdown",
      "source": [
        "### Exercise\n",
        "\n",
        "Change the code to calculate the Zonal Statistics for all admin1 units in your chosen country."
      ],
      "metadata": {
        "id": "sbkK6btkQjlM"
      }
    }
  ],
  "metadata": {
    "colab": {
      "provenance": []
    },
    "kernelspec": {
      "display_name": "Python 3",
      "name": "python3"
    },
    "language_info": {
      "name": "python"
    }
  },
  "nbformat": 4,
  "nbformat_minor": 0
}