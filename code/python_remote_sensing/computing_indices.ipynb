{
  "cells": [
    {
      "cell_type": "markdown",
      "id": "9a244534-c0a1-41b4-9f73-2087eb72b030",
      "metadata": {
        "id": "9a244534-c0a1-41b4-9f73-2087eb72b030"
      },
      "source": [
        "## Overview\n",
        "\n",
        "In this section, we will take a single Sentinel-2 L1C scene downloaded from the [Copernicus Browser](https://dataspace.copernicus.eu/) and learn how to read it using XArray, visualize it and compute spectral indices."
      ]
    },
    {
      "cell_type": "markdown",
      "id": "2c4204d0-acda-418f-b38a-7d5f2be15eca",
      "metadata": {
        "id": "2c4204d0-acda-418f-b38a-7d5f2be15eca"
      },
      "source": [
        "## Setup and Data Download\n",
        "\n",
        "The following blocks of code will install the required packages and download the datasets to your Colab environment."
      ]
    },
    {
      "cell_type": "code",
      "source": [
        "%%capture\n",
        "if 'google.colab' in str(get_ipython()):\n",
        "  !pip install rioxarray"
      ],
      "metadata": {
        "id": "ZUMFpnKjR5Or"
      },
      "id": "ZUMFpnKjR5Or",
      "execution_count": 1,
      "outputs": []
    },
    {
      "cell_type": "code",
      "execution_count": 5,
      "id": "fe6c71dd-37df-47af-9019-d012cc9b5e59",
      "metadata": {
        "id": "fe6c71dd-37df-47af-9019-d012cc9b5e59"
      },
      "outputs": [],
      "source": [
        "import os\n",
        "import matplotlib.pyplot as plt\n",
        "import xarray as xr\n",
        "import rioxarray as rxr\n",
        "import zipfile\n"
      ]
    },
    {
      "cell_type": "code",
      "source": [
        "data_folder = 'data'\n",
        "output_folder = 'output'\n",
        "\n",
        "if not os.path.exists(data_folder):\n",
        "    os.mkdir(data_folder)\n",
        "if not os.path.exists(output_folder):\n",
        "    os.mkdir(output_folder)"
      ],
      "metadata": {
        "id": "5zB54v7PT1kT"
      },
      "id": "5zB54v7PT1kT",
      "execution_count": 3,
      "outputs": []
    },
    {
      "cell_type": "code",
      "source": [
        "def download(url):\n",
        "    filename = os.path.join(data_folder, os.path.basename(url))\n",
        "    if not os.path.exists(filename):\n",
        "        from urllib.request import urlretrieve\n",
        "        local, _ = urlretrieve(url, filename)\n",
        "        print('Downloaded ' + local)\n",
        "\n",
        "filename = 'S2A_MSIL1C_20230212T050931_N0509_R019_T43PGQ_20230212T065641.SAFE.zip'\n",
        "data_url = 'https://storage.googleapis.com/spatialthoughts-public-data/s2/'\n",
        "\n",
        "download(data_url + filename)"
      ],
      "metadata": {
        "id": "0ckP_6VIT4Li",
        "outputId": "8ff26f96-4dae-41be-8eb1-6629e0443a6e",
        "colab": {
          "base_uri": "https://localhost:8080/"
        }
      },
      "id": "0ckP_6VIT4Li",
      "execution_count": 4,
      "outputs": [
        {
          "output_type": "stream",
          "name": "stdout",
          "text": [
            "Downloaded data/S2A_MSIL1C_20230212T050931_N0509_R019_T43PGQ_20230212T065641.SAFE.zip\n"
          ]
        }
      ]
    },
    {
      "cell_type": "markdown",
      "source": [
        "## Data Pre-Processing\n",
        "\n",
        "We first unzip the zip archive and create a XArray Dataset from the individual band images.\n",
        "\n"
      ],
      "metadata": {
        "id": "fI0aLfKGUMrA"
      },
      "id": "fI0aLfKGUMrA"
    },
    {
      "cell_type": "code",
      "execution_count": 6,
      "id": "8bb938d8-46f1-4206-ac59-badb3d6eb58c",
      "metadata": {
        "id": "8bb938d8-46f1-4206-ac59-badb3d6eb58c"
      },
      "outputs": [],
      "source": [
        "s2_filepath = os.path.join(data_folder, filename)\n",
        "\n",
        "with zipfile.ZipFile(s2_filepath) as zf:\n",
        "  zf.extractall(data_folder)"
      ]
    },
    {
      "cell_type": "markdown",
      "source": [
        "Sentinel-2 images come as individual JPEG2000 rasters for each band. The image files are located in the `GRANULE/{SCENE_ID}/IMG_DATA/` subfolder. We find the files and read them using `rioxarray`."
      ],
      "metadata": {
        "id": "JC26au1ryCRE"
      },
      "id": "JC26au1ryCRE"
    },
    {
      "cell_type": "code",
      "source": [],
      "metadata": {
        "id": "SDHk8ApFyBDO"
      },
      "id": "SDHk8ApFyBDO",
      "execution_count": null,
      "outputs": []
    }
  ],
  "metadata": {
    "kernelspec": {
      "display_name": "Python 3 (ipykernel)",
      "language": "python",
      "name": "python3"
    },
    "language_info": {
      "codemirror_mode": {
        "name": "ipython",
        "version": 3
      },
      "file_extension": ".py",
      "mimetype": "text/x-python",
      "name": "python",
      "nbconvert_exporter": "python",
      "pygments_lexer": "ipython3",
      "version": "3.10.5"
    },
    "colab": {
      "provenance": []
    }
  },
  "nbformat": 4,
  "nbformat_minor": 5
}