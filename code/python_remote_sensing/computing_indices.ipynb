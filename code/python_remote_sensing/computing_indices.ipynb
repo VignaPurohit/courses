{
  "cells": [
    {
      "cell_type": "markdown",
      "id": "9a244534-c0a1-41b4-9f73-2087eb72b030",
      "metadata": {
        "id": "9a244534-c0a1-41b4-9f73-2087eb72b030"
      },
      "source": [
        "## Overview\n",
        "\n",
        "In this section, we will take a single Sentinel-2 L1C scene downloaded from the [Copernicus Browser](https://dataspace.copernicus.eu/) and learn how to read it using XArray, visualize it and compute spectral indices."
      ]
    },
    {
      "cell_type": "markdown",
      "id": "2c4204d0-acda-418f-b38a-7d5f2be15eca",
      "metadata": {
        "id": "2c4204d0-acda-418f-b38a-7d5f2be15eca"
      },
      "source": [
        "## Setup and Data Download\n",
        "\n",
        "The following blocks of code will install the required packages and download the datasets to your Colab environment."
      ]
    },
    {
      "cell_type": "code",
      "source": [
        "%%capture\n",
        "if 'google.colab' in str(get_ipython()):\n",
        "  !pip install rioxarray\n",
        "  !pip install xarray-spatial\n"
      ],
      "metadata": {
        "id": "ZUMFpnKjR5Or"
      },
      "id": "ZUMFpnKjR5Or",
      "execution_count": null,
      "outputs": []
    },
    {
      "cell_type": "code",
      "execution_count": null,
      "id": "fe6c71dd-37df-47af-9019-d012cc9b5e59",
      "metadata": {
        "id": "fe6c71dd-37df-47af-9019-d012cc9b5e59"
      },
      "outputs": [],
      "source": [
        "import os\n",
        "import matplotlib.pyplot as plt\n",
        "import xarray as xr\n",
        "import rioxarray as rxr\n",
        "import zipfile\n",
        "import geopandas as gpd\n",
        "import xrspatial.multispectral as ms\n"
      ]
    },
    {
      "cell_type": "code",
      "source": [
        "data_folder = 'data'\n",
        "output_folder = 'output'\n",
        "\n",
        "if not os.path.exists(data_folder):\n",
        "    os.mkdir(data_folder)\n",
        "if not os.path.exists(output_folder):\n",
        "    os.mkdir(output_folder)"
      ],
      "metadata": {
        "id": "5zB54v7PT1kT"
      },
      "id": "5zB54v7PT1kT",
      "execution_count": null,
      "outputs": []
    },
    {
      "cell_type": "code",
      "source": [
        "def download(url):\n",
        "    filename = os.path.join(data_folder, os.path.basename(url))\n",
        "    if not os.path.exists(filename):\n",
        "        from urllib.request import urlretrieve\n",
        "        local, _ = urlretrieve(url, filename)\n",
        "        print('Downloaded ' + local)\n",
        "\n",
        "s2_scene = 'S2A_MSIL1C_20230212T050931_N0509_R019_T43PGQ_20230212T065641.SAFE.zip'\n",
        "data_url = 'https://storage.googleapis.com/spatialthoughts-public-data/'\n",
        "\n",
        "download(data_url + 's2/' + s2_scene)\n",
        "\n",
        "aoi = 'bangalore.geojson'\n",
        "download(data_url + aoi)\n"
      ],
      "metadata": {
        "id": "0ckP_6VIT4Li"
      },
      "id": "0ckP_6VIT4Li",
      "execution_count": null,
      "outputs": []
    },
    {
      "cell_type": "markdown",
      "source": [
        "## Data Pre-Processing\n",
        "\n",
        "We first unzip the zip archive and create a XArray Dataset from the individual band images.\n",
        "\n"
      ],
      "metadata": {
        "id": "fI0aLfKGUMrA"
      },
      "id": "fI0aLfKGUMrA"
    },
    {
      "cell_type": "code",
      "execution_count": null,
      "id": "8bb938d8-46f1-4206-ac59-badb3d6eb58c",
      "metadata": {
        "id": "8bb938d8-46f1-4206-ac59-badb3d6eb58c"
      },
      "outputs": [],
      "source": [
        "s2_filepath = os.path.join(data_folder, s2_scene)\n",
        "\n",
        "with zipfile.ZipFile(s2_filepath) as zf:\n",
        "  zf.extractall(data_folder)"
      ]
    },
    {
      "cell_type": "markdown",
      "source": [
        "Sentinel-2 images come as individual JPEG2000 rasters for each band. The image files are located in the `GRANULE/{SCENE_ID}/IMG_DATA/` subfolder. We find the files and read them using `rioxarray`."
      ],
      "metadata": {
        "id": "JC26au1ryCRE"
      },
      "id": "JC26au1ryCRE"
    },
    {
      "cell_type": "code",
      "source": [
        "import glob\n",
        "s2_folder = s2_filepath[:-4]\n",
        "\n",
        "band_files = {}\n",
        "\n",
        "for filepath in glob.glob(os.path.join(s2_folder, 'GRANULE', '*', 'IMG_DATA', '*B*.jp2')):\n",
        "  filename = os.path.basename(filepath)\n",
        "  # Extract the part of the filename containing band name such as 'B01'\n",
        "  band_name = os.path.splitext(filename)[0].split('_')[-1]\n",
        "  band_files[band_name] = filepath\n",
        "\n",
        "band_files"
      ],
      "metadata": {
        "id": "Rf0m1vXtsLQd"
      },
      "id": "Rf0m1vXtsLQd",
      "execution_count": null,
      "outputs": []
    },
    {
      "cell_type": "markdown",
      "source": [
        "Different Sentinel-2 bands have different spatial resolutions. To put them in the same array, their dimensions must match. So we combine bands of similar resolutions and resample others to match them.\n",
        "\n",
        "* B04, B03, B02 and B08 = 10m\n",
        "* B12, B11, B07, B06, B05 and B08A = 20m\n",
        "* B10, B09, B1 = 60m"
      ],
      "metadata": {
        "id": "8tyZV5JRbtdx"
      },
      "id": "8tyZV5JRbtdx"
    },
    {
      "cell_type": "code",
      "source": [
        "b4 = rxr.open_rasterio(band_files['B04'], chunks=True)\n",
        "b3 = rxr.open_rasterio(band_files['B03'], chunks=True)\n",
        "b2 = rxr.open_rasterio(band_files['B02'], chunks=True)\n",
        "b8 = rxr.open_rasterio(band_files['B08'], chunks=True)\n",
        "\n",
        "stack1 = xr.concat([b4, b3, b2, b8], dim='band').assign_coords(band=['B04', 'B03', 'B02', 'B08'])\n",
        "stack1"
      ],
      "metadata": {
        "id": "H-psQ9zNbsy6"
      },
      "id": "H-psQ9zNbsy6",
      "execution_count": null,
      "outputs": []
    },
    {
      "cell_type": "code",
      "source": [
        "b5 = rxr.open_rasterio(band_files['B05'], chunks=True)\n",
        "b6 = rxr.open_rasterio(band_files['B07'], chunks=True)\n",
        "b7= rxr.open_rasterio(band_files['B07'], chunks=True)\n",
        "b8a = rxr.open_rasterio(band_files['B8A'], chunks=True)\n",
        "b11 = rxr.open_rasterio(band_files['B11'], chunks=True)\n",
        "b12 = rxr.open_rasterio(band_files['B12'], chunks=True)\n",
        "\n",
        "stack2 = xr.concat([b5, b6, b7, b8a, b11, b12], dim='band').assign_coords(\n",
        "    band=['B05', 'B06', 'B07', 'B8A', 'B11', 'B12'])\n",
        "stack2 = stack2.rio.reproject_match(scene1)"
      ],
      "metadata": {
        "id": "etlZrrrtdbJJ"
      },
      "id": "etlZrrrtdbJJ",
      "execution_count": null,
      "outputs": []
    },
    {
      "cell_type": "code",
      "source": [
        "scene = xr.concat([stack1, stack2], dim='band')\n",
        "scene"
      ],
      "metadata": {
        "id": "xI9j6WTicyj6"
      },
      "id": "xI9j6WTicyj6",
      "execution_count": null,
      "outputs": []
    },
    {
      "cell_type": "markdown",
      "source": [
        "We will clip the scene to the geometry of the GeoJson file. We must ensure that the projection of the GeoDataFrame and the XArray DataArray match."
      ],
      "metadata": {
        "id": "VzIkmuh3f2Wg"
      },
      "id": "VzIkmuh3f2Wg"
    },
    {
      "cell_type": "code",
      "source": [
        "aoi_path = os.path.join(data_folder, aoi)\n",
        "aoi_gdf = gpd.read_file(aoi_path)\n",
        "geometry = aoi_gdf.to_crs(scene.rio.crs).geometry\n",
        "geometry"
      ],
      "metadata": {
        "id": "EcbMMaad5bkG"
      },
      "id": "EcbMMaad5bkG",
      "execution_count": null,
      "outputs": []
    },
    {
      "cell_type": "code",
      "source": [
        "clipped = scene.rio.clip(geometry)"
      ],
      "metadata": {
        "id": "p1E_69tAej-G"
      },
      "id": "p1E_69tAej-G",
      "execution_count": null,
      "outputs": []
    },
    {
      "cell_type": "markdown",
      "source": [
        "Sentinel-2 pixel values need to be converted to reflectances using the following formula:\n",
        "\n",
        "`ρ   =  (L1C_DN + RADIO_ADD_OFFSET) / QUANTIFICATION_VALUE`\n",
        "\n",
        "`QUANTIFICATION_VALUE` for all S2 scenes is **10000** and starting from January 22,2023, all new scenes have a `RADIO_ADD_OFFSET` of **-1000**\n",
        "\n"
      ],
      "metadata": {
        "id": "F8Ri3DnBgj42"
      },
      "id": "F8Ri3DnBgj42"
    },
    {
      "cell_type": "code",
      "source": [
        "scaled = (scene - 1000)/10000"
      ],
      "metadata": {
        "id": "24frr3kwgX4m"
      },
      "id": "24frr3kwgX4m",
      "execution_count": 42,
      "outputs": []
    },
    {
      "cell_type": "code",
      "source": [
        "scaled.isel(band=2).values"
      ],
      "metadata": {
        "id": "08hoAydchnZf",
        "outputId": "89c524f6-0633-4eca-af32-f4f8c8c21b0d",
        "colab": {
          "base_uri": "https://localhost:8080/"
        }
      },
      "id": "08hoAydchnZf",
      "execution_count": 43,
      "outputs": [
        {
          "output_type": "execute_result",
          "data": {
            "text/plain": [
              "array([[6.4536, 6.4536, 6.4536, ..., 0.1164, 0.1153, 0.1136],\n",
              "       [6.4536, 6.4536, 6.4536, ..., 0.1097, 0.1149, 0.1087],\n",
              "       [6.4536, 6.4536, 6.4536, ..., 0.0975, 0.1038, 0.1031],\n",
              "       ...,\n",
              "       [0.0984, 0.0974, 0.0954, ..., 0.1103, 0.1036, 0.1101],\n",
              "       [0.0981, 0.0951, 0.0976, ..., 0.1105, 0.1064, 0.1166],\n",
              "       [0.0988, 0.0953, 0.1049, ..., 0.1118, 0.1085, 0.1269]])"
            ]
          },
          "metadata": {},
          "execution_count": 43
        }
      ]
    },
    {
      "cell_type": "code",
      "source": [
        "image = ms.true_color(*scaled.sel(band=['B04', 'B03', 'B02']))\n",
        "fig, ax = plt.subplots(1, 1)\n",
        "fig.set_size_inches(8,8)\n",
        "image.plot.imshow(ax=ax)\n",
        "ax.set_axis_off()\n",
        "plt.show()"
      ],
      "metadata": {
        "colab": {
          "base_uri": "https://localhost:8080/",
          "height": 653
        },
        "id": "B_NZNYdD2iAy",
        "outputId": "fc550dde-7f6a-4cd4-f38f-0cb6d0b64b56"
      },
      "id": "B_NZNYdD2iAy",
      "execution_count": 37,
      "outputs": [
        {
          "output_type": "display_data",
          "data": {
            "text/plain": [
              "<Figure size 800x800 with 1 Axes>"
            ],
            "image/png": "[encoded data removed]"
          },
          "metadata": {}
        }
      ]
    },
    {
      "cell_type": "code",
      "source": [],
      "metadata": {
        "id": "tO41eG37eqwt"
      },
      "id": "tO41eG37eqwt",
      "execution_count": null,
      "outputs": []
    }
  ],
  "metadata": {
    "kernelspec": {
      "display_name": "Python 3 (ipykernel)",
      "language": "python",
      "name": "python3"
    },
    "language_info": {
      "codemirror_mode": {
        "name": "ipython",
        "version": 3
      },
      "file_extension": ".py",
      "mimetype": "text/x-python",
      "name": "python",
      "nbconvert_exporter": "python",
      "pygments_lexer": "ipython3",
      "version": "3.10.5"
    },
    "colab": {
      "provenance": []
    }
  },
  "nbformat": 4,
  "nbformat_minor": 5
}