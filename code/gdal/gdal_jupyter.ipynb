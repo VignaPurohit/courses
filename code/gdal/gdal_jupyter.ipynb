{
 "cells": [
  {
   "cell_type": "markdown",
   "id": "bdd369a5-0e8a-4185-b878-501dd2f48df6",
   "metadata": {},
   "source": [
    "## Running GDAL commands via Jupyter Notebook"
   ]
  },
  {
   "cell_type": "markdown",
   "id": "ef4c4ab6-3d75-4c73-bdc5-d5f7c01348d6",
   "metadata": {},
   "source": [
    "### Option 1: Using Shell Assignment\n",
    "\n",
    "Prefix the command using `!` and it will be sent to the terminal. [Shell Assignment](https://ipython.readthedocs.io/en/stable/interactive/python-ipython-diff.html#shell-assignment)"
   ]
  },
  {
   "cell_type": "code",
   "execution_count": null,
   "id": "a637cc87-82e6-4f15-b636-3a3045071e63",
   "metadata": {},
   "outputs": [],
   "source": [
    "import os"
   ]
  },
  {
   "cell_type": "code",
   "execution_count": null,
   "id": "340c5d31-8e88-4c11-81fc-3fb833f223ab",
   "metadata": {},
   "outputs": [],
   "source": [
    "tilepath = os.path.join('srtm', 'N27E086.hgt')"
   ]
  },
  {
   "cell_type": "code",
   "execution_count": null,
   "id": "07c1c3da-35c3-4daa-85e5-71842a2328e4",
   "metadata": {},
   "outputs": [],
   "source": [
    "!gdalinfo {tilepath}"
   ]
  },
  {
   "cell_type": "markdown",
   "id": "19527564-d6fb-409a-a992-3a09850de976",
   "metadata": {},
   "source": [
    "### Option 2: Using cell magic\n",
    "\n",
    "You can use cell magic `%%bash` on Mac/Linux or `%%cmd` on Windows to execute terminal commands."
   ]
  },
  {
   "cell_type": "code",
   "execution_count": null,
   "id": "890a2f92-1cd9-400d-86f7-8bd05b411cf4",
   "metadata": {},
   "outputs": [],
   "source": [
    "%%bash\n",
    "gdalinfo srtm/N27E086.hgt"
   ]
  },
  {
   "cell_type": "markdown",
   "id": "54bdb18a-c580-4777-8910-326f33b71e03",
   "metadata": {},
   "source": [
    "### Oprion 3: Using Subprocess"
   ]
  },
  {
   "cell_type": "code",
   "execution_count": null,
   "id": "7f75e8aa-6480-46a4-beb7-c18b64385eba",
   "metadata": {},
   "outputs": [],
   "source": [
    "import subprocess\n",
    "import os\n",
    "import json"
   ]
  },
  {
   "cell_type": "code",
   "execution_count": null,
   "id": "34712698-0539-44bd-8771-fa11b853c103",
   "metadata": {},
   "outputs": [],
   "source": [
    "tilepath = os.path.join('srtm', 'N27E086.hgt')\n",
    "command = f'gdalinfo -stats -json {tilepath}'"
   ]
  },
  {
   "cell_type": "code",
   "execution_count": null,
   "id": "c3cf43d3-61fd-4f32-bc17-ff24c311a2e2",
   "metadata": {},
   "outputs": [],
   "source": [
    "output = subprocess.check_output(command, shell=True)\n",
    "result = json.loads(output)\n",
    "result['bands'][0]['maximum']"
   ]
  }
 ],
 "metadata": {
  "kernelspec": {
   "display_name": "Python 3 (ipykernel)",
   "language": "python",
   "name": "python3"
  },
  "language_info": {
   "codemirror_mode": {
    "name": "ipython",
    "version": 3
   },
   "file_extension": ".py",
   "mimetype": "text/x-python",
   "name": "python",
   "nbconvert_exporter": "python",
   "pygments_lexer": "ipython3",
   "version": "3.11.2"
  }
 },
 "nbformat": 4,
 "nbformat_minor": 5
}
