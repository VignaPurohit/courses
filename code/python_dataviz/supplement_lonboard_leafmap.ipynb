{
  "cells": [
    {
      "cell_type": "markdown",
      "id": "fd708770-59b8-4fb9-acce-2b2d837d88e6",
      "metadata": {
        "id": "fd708770-59b8-4fb9-acce-2b2d837d88e6"
      },
      "source": [
        "### Visualizing Large Vector Datasets with Lonboard\n",
        "\n",
        "[Lonboard](https://github.com/developmentseed/lonboard) is a deck-gl based Python library that allows you to interactively visualize large vector datasets."
      ]
    },
    {
      "cell_type": "markdown",
      "source": [
        "#### Setup and Data Download"
      ],
      "metadata": {
        "id": "3LKOmTSadQCJ"
      },
      "id": "3LKOmTSadQCJ"
    },
    {
      "cell_type": "code",
      "source": [
        "%%capture\n",
        "if 'google.colab' in str(get_ipython()):\n",
        "  !pip install leafmap lonboard"
      ],
      "metadata": {
        "id": "J3NQFzscSaKk"
      },
      "id": "J3NQFzscSaKk",
      "execution_count": null,
      "outputs": []
    },
    {
      "cell_type": "code",
      "execution_count": null,
      "id": "df487246-fb38-451f-a76d-ffbb7ad95a0f",
      "metadata": {
        "id": "df487246-fb38-451f-a76d-ffbb7ad95a0f"
      },
      "outputs": [],
      "source": [
        "import os\n",
        "import leafmap.deckgl as leafmap\n",
        "import geopandas as gpd\n",
        "import requests"
      ]
    },
    {
      "cell_type": "code",
      "source": [
        "data_folder = 'data'\n",
        "output_folder = 'output'\n",
        "\n",
        "if not os.path.exists(data_folder):\n",
        "    os.mkdir(data_folder)\n",
        "if not os.path.exists(output_folder):\n",
        "    os.mkdir(output_folder)"
      ],
      "metadata": {
        "id": "lOLD5d1yHZIC"
      },
      "id": "lOLD5d1yHZIC",
      "execution_count": null,
      "outputs": []
    },
    {
      "cell_type": "code",
      "source": [
        "def download(url):\n",
        "    filename = os.path.join(data_folder, os.path.basename(url))\n",
        "    if not os.path.exists(filename):\n",
        "      with requests.get(url, stream=True, allow_redirects=True) as r:\n",
        "          with open(filename, 'wb') as f:\n",
        "              for chunk in r.iter_content(chunk_size=8192):\n",
        "                  f.write(chunk)\n",
        "      print('Downloaded', filename)"
      ],
      "metadata": {
        "id": "PuH1yQv2eWwN"
      },
      "execution_count": null,
      "outputs": [],
      "id": "PuH1yQv2eWwN"
    },
    {
      "cell_type": "code",
      "source": [
        "filename = 'karnataka.gpkg'\n",
        "data_url = 'https://github.com/spatialthoughts/python-dataviz-web/releases/' \\\n",
        "  'download/osm/'\n",
        "download(data_url + filename)\n"
      ],
      "metadata": {
        "id": "1PVxJlqkHb0q"
      },
      "id": "1PVxJlqkHb0q",
      "execution_count": null,
      "outputs": []
    },
    {
      "cell_type": "markdown",
      "source": [
        "### Visualize GeoDataFrame"
      ],
      "metadata": {
        "id": "1-QBEfUI0cRt"
      },
      "id": "1-QBEfUI0cRt"
    },
    {
      "cell_type": "markdown",
      "source": [
        "We load a large vector layer `karnataka_major_roads` containing over 4000 line features."
      ],
      "metadata": {
        "id": "NTtedNFj3VoF"
      },
      "id": "NTtedNFj3VoF"
    },
    {
      "cell_type": "code",
      "source": [
        "data_pkg_path = 'data'\n",
        "filename = 'karnataka.gpkg'\n",
        "path = os.path.join(data_pkg_path, filename)\n",
        "\n",
        "roads_gdf = gpd.read_file(path, layer='karnataka_major_roads')\n",
        "roads_gdf"
      ],
      "metadata": {
        "id": "HnM7In9n0XM9"
      },
      "id": "HnM7In9n0XM9",
      "execution_count": null,
      "outputs": []
    },
    {
      "cell_type": "markdown",
      "source": [
        "Lonboard renders line layers using the [`PathLayer`](https://developmentseed.org/lonboard/latest/api/layers/path-layer/) object. We supply the lonboard parameters as keyword arguents to leafmap."
      ],
      "metadata": {
        "id": "QSvQkbcw3h2O"
      },
      "id": "QSvQkbcw3h2O"
    },
    {
      "cell_type": "code",
      "source": [
        "m = leafmap.Map(height=600)\n",
        "m.add_gdf(roads_gdf,\n",
        "          zoom_to_layer=True,\n",
        "          pickable=True,\n",
        "          get_color=[255, 0, 0],\n",
        "          width_min_pixels=2,\n",
        ")\n",
        "m"
      ],
      "metadata": {
        "id": "Jzl9SWKY0iDl"
      },
      "id": "Jzl9SWKY0iDl",
      "execution_count": null,
      "outputs": []
    }
  ],
  "metadata": {
    "kernelspec": {
      "display_name": "Python 3 (ipykernel)",
      "language": "python",
      "name": "python3"
    },
    "language_info": {
      "codemirror_mode": {
        "name": "ipython",
        "version": 3
      },
      "file_extension": ".py",
      "mimetype": "text/x-python",
      "name": "python",
      "nbconvert_exporter": "python",
      "pygments_lexer": "ipython3",
      "version": "3.10.5"
    },
    "colab": {
      "provenance": []
    }
  },
  "nbformat": 4,
  "nbformat_minor": 5
}