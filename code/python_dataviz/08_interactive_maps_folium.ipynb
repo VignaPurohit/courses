{
 "cells": [
  {
   "cell_type": "markdown",
   "metadata": {},
   "source": [
    "# Creating Interactive Maps with Folium\n",
    "\n",
    "[Folium](https://python-visualization.github.io/folium/) is a Python library that allows you to create interactive maps based on the popular [Leaflet](https://leafletjs.com/) javascript library.\n",
    "\n",
    "In this section, we will learn how to create an interactive map showing driving directions between two locations."
   ]
  },
  {
   "cell_type": "code",
   "execution_count": null,
   "metadata": {},
   "outputs": [],
   "source": [
    "import os\n",
    "import folium"
   ]
  },
  {
   "cell_type": "code",
   "execution_count": null,
   "metadata": {},
   "outputs": [],
   "source": [
    "san_francisco = (37.7749, -122.4194)\n",
    "new_york = (40.661, -73.944)"
   ]
  },
  {
   "cell_type": "code",
   "execution_count": null,
   "metadata": {},
   "outputs": [],
   "source": [
    "m = folium.Map()\n",
    "m"
   ]
  },
  {
   "cell_type": "code",
   "execution_count": null,
   "metadata": {},
   "outputs": [],
   "source": [
    "m = folium.Map(location=[39.83, -98.58], zoom_start=4)\n",
    "m"
   ]
  },
  {
   "cell_type": "code",
   "execution_count": null,
   "metadata": {},
   "outputs": [],
   "source": [
    "folium.Marker(san_francisco, popup='San Francisco').add_to(m)\n",
    "folium.Marker(new_york, popup='New York').add_to(m)\n",
    "\n",
    "m"
   ]
  },
  {
   "cell_type": "markdown",
   "metadata": {},
   "source": [
    "* [folium.map.Marker](https://python-visualization.github.io/folium/modules.html#folium.map.Marker)\n",
    "* [folium.map.Icon](https://python-visualization.github.io/folium/modules.html#folium.map.Icon)\n",
    "* [fontawesome icons](https://fontawesome.com/search?m=free&c=maps)\n",
    "* [bootstrap icons](https://getbootstrap.com/docs/3.3/components/)"
   ]
  },
  {
   "cell_type": "code",
   "execution_count": null,
   "metadata": {},
   "outputs": [],
   "source": [
    "m = folium.Map(location=[39.83, -98.58], zoom_start=4)\n",
    "folium.Marker(san_francisco, popup='San Francisco',\n",
    "              icon=folium.Icon(\n",
    "                  color='green', icon='crosshairs', prefix='fa')\n",
    "             ).add_to(m)\n",
    "folium.Marker(new_york, popup='New York', \n",
    "              icon=folium.Icon(color='red', icon='crosshairs', prefix='fa')\n",
    "             ).add_to(m)\n",
    "m"
   ]
  },
  {
   "cell_type": "markdown",
   "metadata": {},
   "source": [
    "Enter your API key in the followig variable. The API key is obtained from the [OpenRouteService Dashboard](https://openrouteservice.org/dev/#/home)"
   ]
  },
  {
   "cell_type": "code",
   "execution_count": null,
   "metadata": {},
   "outputs": [],
   "source": [
    "ORS_API_KEY = ''"
   ]
  },
  {
   "cell_type": "markdown",
   "metadata": {},
   "source": [
    "While running this notebook in production, we load the `ORS_API_KEY` from a `.env` file in the local environment. \n",
    "> Users of this notebook can skip running this cell."
   ]
  },
  {
   "cell_type": "code",
   "execution_count": null,
   "metadata": {},
   "outputs": [],
   "source": [
    "if not ORS_API_KEY:\n",
    "    from dotenv import dotenv_values\n",
    "    config = dotenv_values('.env')\n",
    "    ORS_API_KEY = config['ORS_API_KEY']"
   ]
  },
  {
   "cell_type": "code",
   "execution_count": null,
   "metadata": {},
   "outputs": [],
   "source": [
    "import requests\n",
    "\n",
    "san_francisco = (37.7749, -122.4194)\n",
    "new_york = (40.661, -73.944)\n",
    "\n",
    "parameters = {\n",
    "    'api_key': ORS_API_KEY,\n",
    "    'start' : '{},{}'.format(san_francisco[1], san_francisco[0]),\n",
    "    'end' : '{},{}'.format(new_york[1], new_york[0])\n",
    "}\n",
    "\n",
    "response = requests.get(\n",
    "    'https://api.openrouteservice.org/v2/directions/driving-car', params=parameters)\n",
    "\n",
    "if response.status_code == 200:\n",
    "    print('Request successful.')\n",
    "    data = response.json()\n",
    "else:\n",
    "    print('Request failed.')\n"
   ]
  },
  {
   "cell_type": "markdown",
   "metadata": {},
   "source": [
    "Extract the coordinates for the driving directions."
   ]
  },
  {
   "cell_type": "code",
   "execution_count": null,
   "metadata": {},
   "outputs": [],
   "source": [
    "route= data['features'][0]['geometry']['coordinates']"
   ]
  },
  {
   "cell_type": "code",
   "execution_count": null,
   "metadata": {},
   "outputs": [],
   "source": [
    "route[:5]"
   ]
  },
  {
   "cell_type": "markdown",
   "metadata": {},
   "source": [
    "The coordinates returned by OpenRouteService API is in the order [X,Y] (i.e. [Longitude, Latitude]) whereas Folium requires the coordinates in [Y,X] (i.e. [Latitude, Longitude]) order. We can swap them before plotting."
   ]
  },
  {
   "cell_type": "code",
   "execution_count": null,
   "metadata": {},
   "outputs": [],
   "source": [
    "route_xy = []\n",
    "for x, y in route:\n",
    "    route_xy.append((y,x))\n",
    "route_xy[:5]"
   ]
  },
  {
   "cell_type": "markdown",
   "metadata": {},
   "source": [
    "An easier way to accomplish the same is by using a Python [List Comprehension](https://www.w3schools.com/python/python_lists_comprehension.asp)."
   ]
  },
  {
   "cell_type": "code",
   "execution_count": null,
   "metadata": {},
   "outputs": [],
   "source": [
    "route_xy = [(y, x) for x, y in route]\n",
    "route_xy[:5]"
   ]
  },
  {
   "cell_type": "code",
   "execution_count": null,
   "metadata": {},
   "outputs": [],
   "source": [
    "summary = data['features'][0]['properties']['summary']\n",
    "distance = round(summary['distance']/1000)\n",
    "tooltip = 'Driving Distance: {}km'.format(distance)"
   ]
  },
  {
   "cell_type": "code",
   "execution_count": null,
   "metadata": {},
   "outputs": [],
   "source": [
    "m = folium.Map(location=[39.83, -98.58], zoom_start=4)\n",
    "folium.Marker(san_francisco, popup='San Francisco',\n",
    "              icon=folium.Icon(\n",
    "                  color='green', icon='crosshairs', prefix='fa')\n",
    "             ).add_to(m)\n",
    "folium.Marker(new_york, popup='New York', \n",
    "              icon=folium.Icon(color='red', icon='crosshairs', prefix='fa')\n",
    "             ).add_to(m)\n",
    "folium.PolyLine(route_xy, tooltip=tooltip).add_to(m)\n",
    "m"
   ]
  },
  {
   "cell_type": "code",
   "execution_count": null,
   "metadata": {},
   "outputs": [],
   "source": [
    "output_folder = 'output'\n",
    "\n",
    "if not os.path.exists(output_folder):\n",
    "    os.mkdir(output_folder)\n",
    "output_path = os.path.join(output_folder, 'directions.html')\n",
    "m.save(output_path)"
   ]
  },
  {
   "cell_type": "markdown",
   "metadata": {},
   "source": [
    "## Exercise\n",
    "\n",
    "Below is the complete code to create an interactive map with the driving directions between two cities. Replace the origin and destination with your chosen cities and create an interactive map."
   ]
  },
  {
   "cell_type": "code",
   "execution_count": null,
   "metadata": {},
   "outputs": [],
   "source": [
    "import folium\n",
    "import requests\n",
    "\n",
    "origin = (37.7749, -122.4194)\n",
    "origin_name = 'San Francisco'\n",
    "destination = (40.661, -73.944)\n",
    "destination_name = 'New York'\n",
    "\n",
    "ORS_API_KEY = '5b3ce3597851110001cf6248ed43ece522584866b5deb4ac3732a19f'\n",
    "\n",
    "parameters = {\n",
    "    'api_key': ORS_API_KEY,\n",
    "    'start' : '{},{}'.format(origin[1], origin[0]),\n",
    "    'end' : '{},{}'.format(destination[1], destination[0])\n",
    "}\n",
    "\n",
    "response = requests.get(\n",
    "    'https://api.openrouteservice.org/v2/directions/driving-car', params=parameters)\n",
    "\n",
    "if response.status_code == 200:\n",
    "    print('Request successful.')\n",
    "    data = response.json()\n",
    "else:\n",
    "    print('Request failed.')\n",
    "\n",
    "route= data['features'][0]['geometry']['coordinates']\n",
    "summary = data['features'][0]['properties']['summary']\n",
    "\n",
    "route_xy = [(y, x) for x, y in route]\n",
    "distance = round(summary['distance']/1000)\n",
    "tooltip = 'Driving Distance: {}km'.format(distance)\n",
    "m = folium.Map(location=[39.83, -98.58], zoom_start=4)\n",
    "folium.Marker(origin, popup=origin_name,\n",
    "              icon=folium.Icon(\n",
    "                  color='green', icon='crosshairs', prefix='fa')\n",
    "             ).add_to(m)\n",
    "folium.Marker(destination, popup=destination_name, \n",
    "              icon=folium.Icon(color='red', icon='crosshairs', prefix='fa')\n",
    "             ).add_to(m)\n",
    "folium.PolyLine(route_xy, tooltip=tooltip).add_to(m)\n",
    "m"
   ]
  },
  {
   "cell_type": "markdown",
   "metadata": {},
   "source": [
    "----"
   ]
  }
 ],
 "metadata": {
  "kernelspec": {
   "display_name": "Python 3 (ipykernel)",
   "language": "python",
   "name": "python3"
  },
  "language_info": {
   "codemirror_mode": {
    "name": "ipython",
    "version": 3
   },
   "file_extension": ".py",
   "mimetype": "text/x-python",
   "name": "python",
   "nbconvert_exporter": "python",
   "pygments_lexer": "ipython3",
   "version": "3.10.5"
  }
 },
 "nbformat": 4,
 "nbformat_minor": 4
}
