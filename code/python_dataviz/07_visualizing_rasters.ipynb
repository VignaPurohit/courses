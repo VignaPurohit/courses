{
 "cells": [
  {
   "cell_type": "markdown",
   "id": "06f25fa8-b260-41fc-b9c2-c5e43640e83b",
   "metadata": {},
   "source": [
    "# Visualizing Rasters"
   ]
  },
  {
   "cell_type": "markdown",
   "id": "d1ed4239-6a0e-4796-bbcc-fad8680dbb81",
   "metadata": {},
   "source": [
    "RasterIO supports visualizing raster data using Matplotlib. \n",
    "\n",
    "In this section, we will learn how to visualize a DEM raster and annotate it with some information."
   ]
  },
  {
   "cell_type": "code",
   "execution_count": null,
   "id": "8ab1a0be-9c2a-4ca5-8c16-27ff79ba4a6e",
   "metadata": {},
   "outputs": [],
   "source": [
    "import glob\n",
    "import os\n",
    "import rasterio\n",
    "import numpy as np\n",
    "\n",
    "%matplotlib inline\n",
    "import matplotlib.pyplot as plt"
   ]
  },
  {
   "cell_type": "markdown",
   "id": "9db612b1-4a11-49c8-8be3-c6ba54e614b4",
   "metadata": {},
   "source": [
    "We have 4 different SRTM tiles in the directory. We get a list of them using the `glob` module."
   ]
  },
  {
   "cell_type": "code",
   "execution_count": null,
   "id": "2f232081-1da1-4faa-a349-11be539e2bd2",
   "metadata": {},
   "outputs": [],
   "source": [
    "data_pkg_path = 'data'\n",
    "srtm_path = os.path.join(data_pkg_path, 'srtm', '*.hgt')\n",
    "all_files = glob.glob(srtm_path)\n",
    "all_files"
   ]
  },
  {
   "cell_type": "markdown",
   "id": "025efd2d-0931-417c-97f8-9c7e4dd958d6",
   "metadata": {},
   "source": [
    "Let's open the first tile and read it using rasterio."
   ]
  },
  {
   "cell_type": "code",
   "execution_count": null,
   "id": "4359e062-437a-4d1c-967b-3d0576ded1b7",
   "metadata": {},
   "outputs": [],
   "source": [
    "file1 = all_files[0]\n",
    "dataset = rasterio.open(file1)\n",
    "band = dataset.read(1)\n",
    "transform = dataset.transform\n",
    "dataset.close()"
   ]
  },
  {
   "cell_type": "markdown",
   "id": "780fc4f0-0cd9-4ccb-afd6-9135efe8fe8a",
   "metadata": {},
   "source": [
    "The `band` variable is a Numpy Array. Matplotlib can render this as an image using the `imshow()` method."
   ]
  },
  {
   "cell_type": "code",
   "execution_count": null,
   "id": "2c9e0b3a-833f-4f6b-90b7-e699ec9836c1",
   "metadata": {},
   "outputs": [],
   "source": [
    "fig, ax = plt.subplots(1, 1)\n",
    "fig.set_size_inches(7,7)\n",
    "\n",
    "ax.imshow(band, cmap='Greys_r')\n",
    "plt.show()"
   ]
  },
  {
   "cell_type": "markdown",
   "id": "5000fb35-2e63-4666-8e61-a0afbe8ba070",
   "metadata": {},
   "source": [
    "Notice that the X and Y axis displays the column/row numbers, not coordinates. To display the image with the correct georeference information, rasterio providers a plotting API that correctly transforms the image. Instead of matplotlib's `imshow()`, we use rasterio's `show()` method, which takes an additonal argument for the `transform`."
   ]
  },
  {
   "cell_type": "code",
   "execution_count": null,
   "id": "e87b2e88-7822-406f-b55a-7fd39743c645",
   "metadata": {},
   "outputs": [],
   "source": [
    "from rasterio.plot import show\n",
    "\n",
    "fig, ax = plt.subplots(1, 1)\n",
    "fig.set_size_inches(7,7)\n",
    "\n",
    "show(band, cmap='Greys_r', ax=ax, transform=transform)\n",
    "plt.show()"
   ]
  },
  {
   "cell_type": "markdown",
   "id": "c02ea825-3f73-4d47-84a3-7c1b9a8369c5",
   "metadata": {},
   "source": [
    "So far, we have only created a single *Axes* within a *Figure*. But matplotlib allows you to create layouts that can contain multiple plots in a single figure. Let's now visualize all 4 tiles together in a single figure. We first read all tiles and store the opened rasters in a list."
   ]
  },
  {
   "cell_type": "code",
   "execution_count": null,
   "id": "e54ae4ff-8288-4b05-967d-74d13614d432",
   "metadata": {},
   "outputs": [],
   "source": [
    "datasets = []\n",
    "for file in all_files:\n",
    "    path = os.path.join(srtm_path, file)\n",
    "    dataset = rasterio.open"
   ]
  },
  {
   "cell_type": "markdown",
   "id": "5e79a005-579a-41f0-b560-dfc5c22397a9",
   "metadata": {},
   "source": [
    "Create 1 row of 4 subplots using the `subplots()` method.\n",
    "\n",
    "Reference:\n",
    "- [matplotlib.pyplot.subplots](https://matplotlib.org/stable/api/_as_gen/matplotlib.pyplot.subplots.html)\n",
    "- [Arranging multiple Axes in a Figure\n",
    "](https://matplotlib.org/stable/tutorials/intermediate/arranging_axes.html)"
   ]
  },
  {
   "cell_type": "code",
   "execution_count": null,
   "id": "ca27a00f-e365-4d24-82c9-abd02bd4e2f8",
   "metadata": {},
   "outputs": [],
   "source": [
    "fig, axes = plt.subplots(1, 4)\n",
    "fig.set_size_inches(15,3)\n",
    "plt.tight_layout()"
   ]
  },
  {
   "cell_type": "markdown",
   "id": "b248bdd6-a2c9-47a4-89c7-21412f34f837",
   "metadata": {},
   "source": [
    "The `axes` variable contains a list of 4 axes objects. We show 1 tile in each of the axes."
   ]
  },
  {
   "cell_type": "code",
   "execution_count": null,
   "id": "7e328892-854f-4ac0-8bc4-07abcacfbc1d",
   "metadata": {},
   "outputs": [],
   "source": [
    "fig, axes = plt.subplots(1, 4)\n",
    "fig.set_size_inches(15,3)\n",
    "plt.tight_layout()\n",
    "\n",
    "for index, file in enumerate(all_files):\n",
    "    with rasterio.open(file) as dataset:\n",
    "        band = dataset.read(1)\n",
    "        transform = dataset.transform\n",
    "    ax = axes[index]\n",
    "    show(band, ax=ax, cmap='Greys_r', transform=transform)\n",
    "    filename = all_files[index]\n",
    "    ax.set_title(os.path.basename(filename))\n",
    "\n",
    "plt.show()"
   ]
  },
  {
   "cell_type": "markdown",
   "id": "7fa45fab-79ba-49a2-8f8d-eac63d6ba5b9",
   "metadata": {},
   "source": [
    "Since each tile represents a different region, a better visualization would be to merge all of them into a single raster."
   ]
  },
  {
   "cell_type": "code",
   "execution_count": null,
   "id": "57ccf525-0b7e-45e8-b16d-797785133ea5",
   "metadata": {},
   "outputs": [],
   "source": [
    "from rasterio import merge\n",
    "\n",
    "dataset_list = []\n",
    "for file in all_files:\n",
    "    dataset_list.append(rasterio.open(file))\n",
    "\n",
    "merged_data, merged_transform = merge.merge(dataset_list)"
   ]
  },
  {
   "cell_type": "markdown",
   "id": "ca5b51da-8dca-4b1d-b00d-a164612ade21",
   "metadata": {},
   "source": [
    "Similarly, we can visualize the merged raster."
   ]
  },
  {
   "cell_type": "code",
   "execution_count": null,
   "id": "2ba44ae0-f955-4bb6-a19a-bbbc1111278c",
   "metadata": {},
   "outputs": [],
   "source": [
    "fig, ax = plt.subplots(1, 1)\n",
    "fig.set_size_inches(12, 12)\n",
    "show(merged_data, ax=ax, cmap='viridis', transform=merged_transform)\n",
    "ax.set_title('merged')\n",
    "plt.show()"
   ]
  },
  {
   "cell_type": "markdown",
   "id": "06b67e5c-35fd-442d-a4ef-0b3992c4c789",
   "metadata": {},
   "source": [
    "The DEM is of the region surrounding Mt.Everest. Let's try to find the coordinates of Mt. Everest by queriing this merged raster for the highest value. The `merged_data` variable contains the numpy array. But it has an extra empty dimension. We use the `squeeze()` method to remove the empty extra dimention and get a 2D array."
   ]
  },
  {
   "cell_type": "code",
   "execution_count": null,
   "id": "ccc880c8-046b-494c-be44-3754a5435f4d",
   "metadata": {},
   "outputs": [],
   "source": [
    "merged_array = merged_data.squeeze()"
   ]
  },
  {
   "cell_type": "markdown",
   "id": "78342de2-466d-422e-a4b6-cd5511b11db3",
   "metadata": {},
   "source": [
    "Next we obtain the coordinates of the highest pixel value in the array."
   ]
  },
  {
   "cell_type": "code",
   "execution_count": null,
   "id": "3615966d-8834-434b-994e-9be8579a67d5",
   "metadata": {},
   "outputs": [],
   "source": [
    "rows, cols = np.where(merged_array == np.max(merged_array))\n",
    "row = rows[0]\n",
    "col = cols[0]\n",
    "lon, lat = rasterio.transform.xy(merged_transform, row, col)\n",
    "print(lat, lon)"
   ]
  },
  {
   "cell_type": "markdown",
   "id": "2236dfa3-2339-4538-8baa-32a6ae26fd96",
   "metadata": {},
   "source": [
    "We can use the `annotate()` method to add a label on the plot with a text."
   ]
  },
  {
   "cell_type": "code",
   "execution_count": null,
   "id": "e0f1d9c1-e8d5-4c3c-85a7-daf2add3eb79",
   "metadata": {},
   "outputs": [],
   "source": [
    "fig, ax = plt.subplots(1, 1)\n",
    "fig.set_size_inches(12, 12)\n",
    "show(merged_data, ax=ax, cmap='viridis', transform=merged_transform)\n",
    "ax.plot(lon, lat, '^r', markersize=11)\n",
    "ax.annotate(\"Mt. Everest\",\n",
    "            xy=(lon, lat), xycoords='data',\n",
    "            xytext=(20, 20), textcoords='offset points',\n",
    "            arrowprops=dict(arrowstyle=\"->\", color='black')\n",
    "            )\n",
    "\n",
    "output_folder = 'output'\n",
    "output_path = os.path.join(output_folder, 'mt_everest.png')\n",
    "plt.savefig(output_path, dpi=300)\n",
    "\n",
    "plt.show()"
   ]
  },
  {
   "cell_type": "markdown",
   "id": "3955a9b5-5adf-447a-9823-7d5edc7d032b",
   "metadata": {},
   "source": [
    "## Exercise\n",
    "\n",
    "Create a layout using the `subplots()` method with 2 rows and 2 columns. Plot a different color marker at location (1,1) in each plot.\n",
    "\n",
    "Hint: You can access the axes in a particular row/col using the index notation. `axes[0,0]` will return the axes in the first row and first column."
   ]
  }
 ],
 "metadata": {
  "kernelspec": {
   "display_name": "Python 3 (ipykernel)",
   "language": "python",
   "name": "python3"
  },
  "language_info": {
   "codemirror_mode": {
    "name": "ipython",
    "version": 3
   },
   "file_extension": ".py",
   "mimetype": "text/x-python",
   "name": "python",
   "nbconvert_exporter": "python",
   "pygments_lexer": "ipython3",
   "version": "3.10.2"
  }
 },
 "nbformat": 4,
 "nbformat_minor": 5
}
