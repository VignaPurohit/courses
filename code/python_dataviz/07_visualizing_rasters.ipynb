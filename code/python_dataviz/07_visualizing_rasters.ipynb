{
  "cells": [
    {
      "cell_type": "markdown",
      "id": "06f25fa8-b260-41fc-b9c2-c5e43640e83b",
      "metadata": {
        "id": "06f25fa8-b260-41fc-b9c2-c5e43640e83b"
      },
      "source": [
        "## Overview\n",
        "\n",
        "In the previous notebook, we learnt how to use [Xarray](http://xarray.pydata.org/) to work with gridded datasets. XArray is also well suited to work with georeferenced rasters - such as satellite imagery, population grids, or elevation data.[rioxarray](https://corteva.github.io/rioxarray/stable/index.html) is an extension of xarray that makes it easy to work with geospatial rasters. You can install the `rioxarray` package from the `conda-forge` channel. \n",
        "\n",
        "In this section, we will take 4 individual SRTM tiles around the Mt. Everest region and merge them to a single GeoTiff using RasterIO. We will also use `matplotlib` to visualize the result with some annonations."
      ]
    },
    {
      "cell_type": "markdown",
      "id": "1208284d-2ae5-454a-af9f-d63216e722a9",
      "metadata": {
        "id": "1208284d-2ae5-454a-af9f-d63216e722a9"
      },
      "source": [
        "## Setup and Data Download\n",
        "\n",
        "The following blocks of code will install the required packages and download the datasets to your Colab environment."
      ]
    },
    {
      "cell_type": "code",
      "source": [
        "if 'google.colab' in str(get_ipython()):\n",
        "    !pip install --quiet rioxarray"
      ],
      "metadata": {
        "id": "PQVm6KNEJB66",
        "outputId": "995a8c03-b32f-474d-d69e-5ba0d6a00049",
        "colab": {
          "base_uri": "https://localhost:8080/"
        }
      },
      "id": "PQVm6KNEJB66",
      "execution_count": 1,
      "outputs": [
        {
          "output_type": "stream",
          "name": "stdout",
          "text": [
            "\u001b[?25l\r\u001b[K     |███████                         | 10 kB 22.1 MB/s eta 0:00:01\r\u001b[K     |██████████████                  | 20 kB 29.6 MB/s eta 0:00:01\r\u001b[K     |████████████████████▉           | 30 kB 12.1 MB/s eta 0:00:01\r\u001b[K     |███████████████████████████▉    | 40 kB 4.7 MB/s eta 0:00:01\r\u001b[K     |████████████████████████████████| 47 kB 2.3 MB/s \n",
            "\u001b[?25h  Installing build dependencies ... \u001b[?25l\u001b[?25hdone\n",
            "  Getting requirements to build wheel ... \u001b[?25l\u001b[?25hdone\n",
            "    Preparing wheel metadata ... \u001b[?25l\u001b[?25hdone\n",
            "\u001b[K     |████████████████████████████████| 19.3 MB 6.9 MB/s \n",
            "\u001b[K     |████████████████████████████████| 6.3 MB 35.1 MB/s \n",
            "\u001b[?25h  Building wheel for rioxarray (PEP 517) ... \u001b[?25l\u001b[?25hdone\n"
          ]
        }
      ]
    },
    {
      "cell_type": "markdown",
      "id": "5bd2d07d-9698-42c8-9b93-9bee416d6de0",
      "metadata": {
        "id": "5bd2d07d-9698-42c8-9b93-9bee416d6de0"
      },
      "source": [
        "By convention, `rioxarray` is imported as `rxr`.\n",
        "\n",
        "> Remember to always import `rioxarray` even if you are using sub-modules such as `merge_arrays`. Importing `rioxarray` activates the `rio` accessor which is required for all operations."
      ]
    },
    {
      "cell_type": "code",
      "execution_count": 11,
      "id": "83ac9e24-b066-4f4e-a8b4-005cb62dfcac",
      "metadata": {
        "id": "83ac9e24-b066-4f4e-a8b4-005cb62dfcac"
      },
      "outputs": [],
      "source": [
        "import os\n",
        "import rioxarray as rxr\n",
        "from rioxarray.merge import merge_arrays"
      ]
    },
    {
      "cell_type": "code",
      "source": [
        "data_folder = 'data'\n",
        "output_folder = 'output'\n",
        "\n",
        "if not os.path.exists(data_folder):\n",
        "    os.mkdir(data_folder)\n",
        "if not os.path.exists(output_folder):\n",
        "    os.mkdir(output_folder)"
      ],
      "metadata": {
        "id": "V-t6YxjUJQ9t"
      },
      "id": "V-t6YxjUJQ9t",
      "execution_count": 3,
      "outputs": []
    },
    {
      "cell_type": "code",
      "source": [
        "def download(url):\n",
        "    filename = os.path.join(data_folder, os.path.basename(url))\n",
        "    if not os.path.exists(filename):\n",
        "        from urllib.request import urlretrieve\n",
        "        local, _ = urlretrieve(url, filename)\n",
        "        print('Downloaded ' + local)\n",
        "\n",
        "srtm_tiles = [\n",
        "  'N27E086.hgt',\n",
        "  'N27E087.hgt',\n",
        "  'N28E086.hgt',\n",
        "  'N28E087.hgt'\n",
        "]\n",
        "\n",
        "data_url = 'https://github.com/spatialthoughts/python-dataviz-web/raw/main/data/srtm/'\n",
        "\n",
        "for tile in srtm_tiles:\n",
        "  url = '{}/{}'.format(data_url, tile)\n",
        "  download(url)"
      ],
      "metadata": {
        "id": "IMNDpARHJTer"
      },
      "id": "IMNDpARHJTer",
      "execution_count": 5,
      "outputs": []
    },
    {
      "cell_type": "markdown",
      "source": [
        "## Rioxarray Basics"
      ],
      "metadata": {
        "id": "OSiglKNZJv89"
      },
      "id": "OSiglKNZJv89"
    },
    {
      "cell_type": "markdown",
      "id": "4463503f-b9e5-49a8-878c-cf81df88bf38",
      "metadata": {
        "id": "4463503f-b9e5-49a8-878c-cf81df88bf38"
      },
      "source": [
        "The `open_rasterio()` method from `rioxarray` is able to read any data source supported by. the [`rasterio`](https://rasterio.readthedocs.io/en/latest/) library. Let's open a single SRTM tile using `rioxarray`."
      ]
    },
    {
      "cell_type": "code",
      "execution_count": 6,
      "id": "ea758429-46ae-443d-b406-1d58e0ffd726",
      "metadata": {
        "id": "ea758429-46ae-443d-b406-1d58e0ffd726"
      },
      "outputs": [],
      "source": [
        "filename = 'N28E087.hgt'\n",
        "file_path = os.path.join(data_folder, filename)\n",
        "rds = rxr.open_rasterio(file_path)"
      ]
    },
    {
      "cell_type": "markdown",
      "id": "72233874-2076-4634-84e5-80523aa33d90",
      "metadata": {
        "id": "72233874-2076-4634-84e5-80523aa33d90"
      },
      "source": [
        "The result is a `xarray.DataArray` object."
      ]
    },
    {
      "cell_type": "code",
      "execution_count": 7,
      "id": "a5eaf0a0-502c-430c-929b-a32ebcd4c462",
      "metadata": {
        "id": "a5eaf0a0-502c-430c-929b-a32ebcd4c462",
        "outputId": "2b30c2d2-4134-4898-f8aa-d4bac20735ba",
        "colab": {
          "base_uri": "https://localhost:8080/",
          "height": 285
        }
      },
      "outputs": [
        {
          "output_type": "execute_result",
          "data": {
            "text/plain": [
              "<xarray.DataArray (band: 1, y: 3601, x: 3601)>\n",
              "[12967201 values with dtype=int16]\n",
              "Coordinates:\n",
              "  * band         (band) int64 1\n",
              "  * x            (x) float64 87.0 87.0 87.0 87.0 87.0 ... 88.0 88.0 88.0 88.0\n",
              "  * y            (y) float64 29.0 29.0 29.0 29.0 29.0 ... 28.0 28.0 28.0 28.0\n",
              "    spatial_ref  int64 0\n",
              "Attributes:\n",
              "    _FillValue:    -32768.0\n",
              "    scale_factor:  1.0\n",
              "    add_offset:    0.0\n",
              "    units:         m"
            ],
            "text/html": [
              "<div><svg style=\"position: absolute; width: 0; height: 0; overflow: hidden\">\n",
              "<defs>\n",
              "<symbol id=\"icon-database\" viewBox=\"0 0 32 32\">\n",
              "<path d=\"M16 0c-8.837 0-16 2.239-16 5v4c0 2.761 7.163 5 16 5s16-2.239 16-5v-4c0-2.761-7.163-5-16-5z\"></path>\n",
              "<path d=\"M16 17c-8.837 0-16-2.239-16-5v6c0 2.761 7.163 5 16 5s16-2.239 16-5v-6c0 2.761-7.163 5-16 5z\"></path>\n",
              "<path d=\"M16 26c-8.837 0-16-2.239-16-5v6c0 2.761 7.163 5 16 5s16-2.239 16-5v-6c0 2.761-7.163 5-16 5z\"></path>\n",
              "</symbol>\n",
              "<symbol id=\"icon-file-text2\" viewBox=\"0 0 32 32\">\n",
              "<path d=\"M28.681 7.159c-0.694-0.947-1.662-2.053-2.724-3.116s-2.169-2.030-3.116-2.724c-1.612-1.182-2.393-1.319-2.841-1.319h-15.5c-1.378 0-2.5 1.121-2.5 2.5v27c0 1.378 1.122 2.5 2.5 2.5h23c1.378 0 2.5-1.122 2.5-2.5v-19.5c0-0.448-0.137-1.23-1.319-2.841zM24.543 5.457c0.959 0.959 1.712 1.825 2.268 2.543h-4.811v-4.811c0.718 0.556 1.584 1.309 2.543 2.268zM28 29.5c0 0.271-0.229 0.5-0.5 0.5h-23c-0.271 0-0.5-0.229-0.5-0.5v-27c0-0.271 0.229-0.5 0.5-0.5 0 0 15.499-0 15.5 0v7c0 0.552 0.448 1 1 1h7v19.5z\"></path>\n",
              "<path d=\"M23 26h-14c-0.552 0-1-0.448-1-1s0.448-1 1-1h14c0.552 0 1 0.448 1 1s-0.448 1-1 1z\"></path>\n",
              "<path d=\"M23 22h-14c-0.552 0-1-0.448-1-1s0.448-1 1-1h14c0.552 0 1 0.448 1 1s-0.448 1-1 1z\"></path>\n",
              "<path d=\"M23 18h-14c-0.552 0-1-0.448-1-1s0.448-1 1-1h14c0.552 0 1 0.448 1 1s-0.448 1-1 1z\"></path>\n",
              "</symbol>\n",
              "</defs>\n",
              "</svg>\n",
              "<style>/* CSS stylesheet for displaying xarray objects in jupyterlab.\n",
              " *\n",
              " */\n",
              "\n",
              ":root {\n",
              "  --xr-font-color0: var(--jp-content-font-color0, rgba(0, 0, 0, 1));\n",
              "  --xr-font-color2: var(--jp-content-font-color2, rgba(0, 0, 0, 0.54));\n",
              "  --xr-font-color3: var(--jp-content-font-color3, rgba(0, 0, 0, 0.38));\n",
              "  --xr-border-color: var(--jp-border-color2, #e0e0e0);\n",
              "  --xr-disabled-color: var(--jp-layout-color3, #bdbdbd);\n",
              "  --xr-background-color: var(--jp-layout-color0, white);\n",
              "  --xr-background-color-row-even: var(--jp-layout-color1, white);\n",
              "  --xr-background-color-row-odd: var(--jp-layout-color2, #eeeeee);\n",
              "}\n",
              "\n",
              "html[theme=dark],\n",
              "body.vscode-dark {\n",
              "  --xr-font-color0: rgba(255, 255, 255, 1);\n",
              "  --xr-font-color2: rgba(255, 255, 255, 0.54);\n",
              "  --xr-font-color3: rgba(255, 255, 255, 0.38);\n",
              "  --xr-border-color: #1F1F1F;\n",
              "  --xr-disabled-color: #515151;\n",
              "  --xr-background-color: #111111;\n",
              "  --xr-background-color-row-even: #111111;\n",
              "  --xr-background-color-row-odd: #313131;\n",
              "}\n",
              "\n",
              ".xr-wrap {\n",
              "  display: block !important;\n",
              "  min-width: 300px;\n",
              "  max-width: 700px;\n",
              "}\n",
              "\n",
              ".xr-text-repr-fallback {\n",
              "  /* fallback to plain text repr when CSS is not injected (untrusted notebook) */\n",
              "  display: none;\n",
              "}\n",
              "\n",
              ".xr-header {\n",
              "  padding-top: 6px;\n",
              "  padding-bottom: 6px;\n",
              "  margin-bottom: 4px;\n",
              "  border-bottom: solid 1px var(--xr-border-color);\n",
              "}\n",
              "\n",
              ".xr-header > div,\n",
              ".xr-header > ul {\n",
              "  display: inline;\n",
              "  margin-top: 0;\n",
              "  margin-bottom: 0;\n",
              "}\n",
              "\n",
              ".xr-obj-type,\n",
              ".xr-array-name {\n",
              "  margin-left: 2px;\n",
              "  margin-right: 10px;\n",
              "}\n",
              "\n",
              ".xr-obj-type {\n",
              "  color: var(--xr-font-color2);\n",
              "}\n",
              "\n",
              ".xr-sections {\n",
              "  padding-left: 0 !important;\n",
              "  display: grid;\n",
              "  grid-template-columns: 150px auto auto 1fr 20px 20px;\n",
              "}\n",
              "\n",
              ".xr-section-item {\n",
              "  display: contents;\n",
              "}\n",
              "\n",
              ".xr-section-item input {\n",
              "  display: none;\n",
              "}\n",
              "\n",
              ".xr-section-item input + label {\n",
              "  color: var(--xr-disabled-color);\n",
              "}\n",
              "\n",
              ".xr-section-item input:enabled + label {\n",
              "  cursor: pointer;\n",
              "  color: var(--xr-font-color2);\n",
              "}\n",
              "\n",
              ".xr-section-item input:enabled + label:hover {\n",
              "  color: var(--xr-font-color0);\n",
              "}\n",
              "\n",
              ".xr-section-summary {\n",
              "  grid-column: 1;\n",
              "  color: var(--xr-font-color2);\n",
              "  font-weight: 500;\n",
              "}\n",
              "\n",
              ".xr-section-summary > span {\n",
              "  display: inline-block;\n",
              "  padding-left: 0.5em;\n",
              "}\n",
              "\n",
              ".xr-section-summary-in:disabled + label {\n",
              "  color: var(--xr-font-color2);\n",
              "}\n",
              "\n",
              ".xr-section-summary-in + label:before {\n",
              "  display: inline-block;\n",
              "  content: '►';\n",
              "  font-size: 11px;\n",
              "  width: 15px;\n",
              "  text-align: center;\n",
              "}\n",
              "\n",
              ".xr-section-summary-in:disabled + label:before {\n",
              "  color: var(--xr-disabled-color);\n",
              "}\n",
              "\n",
              ".xr-section-summary-in:checked + label:before {\n",
              "  content: '▼';\n",
              "}\n",
              "\n",
              ".xr-section-summary-in:checked + label > span {\n",
              "  display: none;\n",
              "}\n",
              "\n",
              ".xr-section-summary,\n",
              ".xr-section-inline-details {\n",
              "  padding-top: 4px;\n",
              "  padding-bottom: 4px;\n",
              "}\n",
              "\n",
              ".xr-section-inline-details {\n",
              "  grid-column: 2 / -1;\n",
              "}\n",
              "\n",
              ".xr-section-details {\n",
              "  display: none;\n",
              "  grid-column: 1 / -1;\n",
              "  margin-bottom: 5px;\n",
              "}\n",
              "\n",
              ".xr-section-summary-in:checked ~ .xr-section-details {\n",
              "  display: contents;\n",
              "}\n",
              "\n",
              ".xr-array-wrap {\n",
              "  grid-column: 1 / -1;\n",
              "  display: grid;\n",
              "  grid-template-columns: 20px auto;\n",
              "}\n",
              "\n",
              ".xr-array-wrap > label {\n",
              "  grid-column: 1;\n",
              "  vertical-align: top;\n",
              "}\n",
              "\n",
              ".xr-preview {\n",
              "  color: var(--xr-font-color3);\n",
              "}\n",
              "\n",
              ".xr-array-preview,\n",
              ".xr-array-data {\n",
              "  padding: 0 5px !important;\n",
              "  grid-column: 2;\n",
              "}\n",
              "\n",
              ".xr-array-data,\n",
              ".xr-array-in:checked ~ .xr-array-preview {\n",
              "  display: none;\n",
              "}\n",
              "\n",
              ".xr-array-in:checked ~ .xr-array-data,\n",
              ".xr-array-preview {\n",
              "  display: inline-block;\n",
              "}\n",
              "\n",
              ".xr-dim-list {\n",
              "  display: inline-block !important;\n",
              "  list-style: none;\n",
              "  padding: 0 !important;\n",
              "  margin: 0;\n",
              "}\n",
              "\n",
              ".xr-dim-list li {\n",
              "  display: inline-block;\n",
              "  padding: 0;\n",
              "  margin: 0;\n",
              "}\n",
              "\n",
              ".xr-dim-list:before {\n",
              "  content: '(';\n",
              "}\n",
              "\n",
              ".xr-dim-list:after {\n",
              "  content: ')';\n",
              "}\n",
              "\n",
              ".xr-dim-list li:not(:last-child):after {\n",
              "  content: ',';\n",
              "  padding-right: 5px;\n",
              "}\n",
              "\n",
              ".xr-has-index {\n",
              "  font-weight: bold;\n",
              "}\n",
              "\n",
              ".xr-var-list,\n",
              ".xr-var-item {\n",
              "  display: contents;\n",
              "}\n",
              "\n",
              ".xr-var-item > div,\n",
              ".xr-var-item label,\n",
              ".xr-var-item > .xr-var-name span {\n",
              "  background-color: var(--xr-background-color-row-even);\n",
              "  margin-bottom: 0;\n",
              "}\n",
              "\n",
              ".xr-var-item > .xr-var-name:hover span {\n",
              "  padding-right: 5px;\n",
              "}\n",
              "\n",
              ".xr-var-list > li:nth-child(odd) > div,\n",
              ".xr-var-list > li:nth-child(odd) > label,\n",
              ".xr-var-list > li:nth-child(odd) > .xr-var-name span {\n",
              "  background-color: var(--xr-background-color-row-odd);\n",
              "}\n",
              "\n",
              ".xr-var-name {\n",
              "  grid-column: 1;\n",
              "}\n",
              "\n",
              ".xr-var-dims {\n",
              "  grid-column: 2;\n",
              "}\n",
              "\n",
              ".xr-var-dtype {\n",
              "  grid-column: 3;\n",
              "  text-align: right;\n",
              "  color: var(--xr-font-color2);\n",
              "}\n",
              "\n",
              ".xr-var-preview {\n",
              "  grid-column: 4;\n",
              "}\n",
              "\n",
              ".xr-var-name,\n",
              ".xr-var-dims,\n",
              ".xr-var-dtype,\n",
              ".xr-preview,\n",
              ".xr-attrs dt {\n",
              "  white-space: nowrap;\n",
              "  overflow: hidden;\n",
              "  text-overflow: ellipsis;\n",
              "  padding-right: 10px;\n",
              "}\n",
              "\n",
              ".xr-var-name:hover,\n",
              ".xr-var-dims:hover,\n",
              ".xr-var-dtype:hover,\n",
              ".xr-attrs dt:hover {\n",
              "  overflow: visible;\n",
              "  width: auto;\n",
              "  z-index: 1;\n",
              "}\n",
              "\n",
              ".xr-var-attrs,\n",
              ".xr-var-data {\n",
              "  display: none;\n",
              "  background-color: var(--xr-background-color) !important;\n",
              "  padding-bottom: 5px !important;\n",
              "}\n",
              "\n",
              ".xr-var-attrs-in:checked ~ .xr-var-attrs,\n",
              ".xr-var-data-in:checked ~ .xr-var-data {\n",
              "  display: block;\n",
              "}\n",
              "\n",
              ".xr-var-data > table {\n",
              "  float: right;\n",
              "}\n",
              "\n",
              ".xr-var-name span,\n",
              ".xr-var-data,\n",
              ".xr-attrs {\n",
              "  padding-left: 25px !important;\n",
              "}\n",
              "\n",
              ".xr-attrs,\n",
              ".xr-var-attrs,\n",
              ".xr-var-data {\n",
              "  grid-column: 1 / -1;\n",
              "}\n",
              "\n",
              "dl.xr-attrs {\n",
              "  padding: 0;\n",
              "  margin: 0;\n",
              "  display: grid;\n",
              "  grid-template-columns: 125px auto;\n",
              "}\n",
              "\n",
              ".xr-attrs dt,\n",
              ".xr-attrs dd {\n",
              "  padding: 0;\n",
              "  margin: 0;\n",
              "  float: left;\n",
              "  padding-right: 10px;\n",
              "  width: auto;\n",
              "}\n",
              "\n",
              ".xr-attrs dt {\n",
              "  font-weight: normal;\n",
              "  grid-column: 1;\n",
              "}\n",
              "\n",
              ".xr-attrs dt:hover span {\n",
              "  display: inline-block;\n",
              "  background: var(--xr-background-color);\n",
              "  padding-right: 10px;\n",
              "}\n",
              "\n",
              ".xr-attrs dd {\n",
              "  grid-column: 2;\n",
              "  white-space: pre-wrap;\n",
              "  word-break: break-all;\n",
              "}\n",
              "\n",
              ".xr-icon-database,\n",
              ".xr-icon-file-text2 {\n",
              "  display: inline-block;\n",
              "  vertical-align: middle;\n",
              "  width: 1em;\n",
              "  height: 1.5em !important;\n",
              "  stroke-width: 0;\n",
              "  stroke: currentColor;\n",
              "  fill: currentColor;\n",
              "}\n",
              "</style><pre class='xr-text-repr-fallback'>&lt;xarray.DataArray (band: 1, y: 3601, x: 3601)&gt;\n",
              "[12967201 values with dtype=int16]\n",
              "Coordinates:\n",
              "  * band         (band) int64 1\n",
              "  * x            (x) float64 87.0 87.0 87.0 87.0 87.0 ... 88.0 88.0 88.0 88.0\n",
              "  * y            (y) float64 29.0 29.0 29.0 29.0 29.0 ... 28.0 28.0 28.0 28.0\n",
              "    spatial_ref  int64 0\n",
              "Attributes:\n",
              "    _FillValue:    -32768.0\n",
              "    scale_factor:  1.0\n",
              "    add_offset:    0.0\n",
              "    units:         m</pre><div class='xr-wrap' style='display:none'><div class='xr-header'><div class='xr-obj-type'>xarray.DataArray</div><div class='xr-array-name'></div><ul class='xr-dim-list'><li><span class='xr-has-index'>band</span>: 1</li><li><span class='xr-has-index'>y</span>: 3601</li><li><span class='xr-has-index'>x</span>: 3601</li></ul></div><ul class='xr-sections'><li class='xr-section-item'><div class='xr-array-wrap'><input id='section-cd12bca5-21df-4e2c-b283-e4cb0a31d60b' class='xr-array-in' type='checkbox' checked><label for='section-cd12bca5-21df-4e2c-b283-e4cb0a31d60b' title='Show/hide data repr'><svg class='icon xr-icon-database'><use xlink:href='#icon-database'></use></svg></label><div class='xr-array-preview xr-preview'><span>...</span></div><div class='xr-array-data'><pre>[12967201 values with dtype=int16]</pre></div></div></li><li class='xr-section-item'><input id='section-b3c34dc2-3713-44c3-b250-97cc8efd5abd' class='xr-section-summary-in' type='checkbox'  checked><label for='section-b3c34dc2-3713-44c3-b250-97cc8efd5abd' class='xr-section-summary' >Coordinates: <span>(4)</span></label><div class='xr-section-inline-details'></div><div class='xr-section-details'><ul class='xr-var-list'><li class='xr-var-item'><div class='xr-var-name'><span class='xr-has-index'>band</span></div><div class='xr-var-dims'>(band)</div><div class='xr-var-dtype'>int64</div><div class='xr-var-preview xr-preview'>1</div><input id='attrs-da6630ac-0e10-4720-9471-b31c57bebd00' class='xr-var-attrs-in' type='checkbox' disabled><label for='attrs-da6630ac-0e10-4720-9471-b31c57bebd00' title='Show/Hide attributes'><svg class='icon xr-icon-file-text2'><use xlink:href='#icon-file-text2'></use></svg></label><input id='data-a0c017f9-5a64-489a-b72d-cfb12f9212f9' class='xr-var-data-in' type='checkbox'><label for='data-a0c017f9-5a64-489a-b72d-cfb12f9212f9' title='Show/Hide data repr'><svg class='icon xr-icon-database'><use xlink:href='#icon-database'></use></svg></label><div class='xr-var-attrs'><dl class='xr-attrs'></dl></div><div class='xr-var-data'><pre>array([1])</pre></div></li><li class='xr-var-item'><div class='xr-var-name'><span class='xr-has-index'>x</span></div><div class='xr-var-dims'>(x)</div><div class='xr-var-dtype'>float64</div><div class='xr-var-preview xr-preview'>87.0 87.0 87.0 ... 88.0 88.0 88.0</div><input id='attrs-bbd1d66d-261c-4a3c-997a-ff35ef8f37de' class='xr-var-attrs-in' type='checkbox' disabled><label for='attrs-bbd1d66d-261c-4a3c-997a-ff35ef8f37de' title='Show/Hide attributes'><svg class='icon xr-icon-file-text2'><use xlink:href='#icon-file-text2'></use></svg></label><input id='data-38b02674-8ec9-4a9f-9a19-a9abf34e5769' class='xr-var-data-in' type='checkbox'><label for='data-38b02674-8ec9-4a9f-9a19-a9abf34e5769' title='Show/Hide data repr'><svg class='icon xr-icon-database'><use xlink:href='#icon-database'></use></svg></label><div class='xr-var-attrs'><dl class='xr-attrs'></dl></div><div class='xr-var-data'><pre>array([87.      , 87.000278, 87.000556, ..., 87.999444, 87.999722, 88.      ])</pre></div></li><li class='xr-var-item'><div class='xr-var-name'><span class='xr-has-index'>y</span></div><div class='xr-var-dims'>(y)</div><div class='xr-var-dtype'>float64</div><div class='xr-var-preview xr-preview'>29.0 29.0 29.0 ... 28.0 28.0 28.0</div><input id='attrs-a393ad7c-8f14-47eb-a9dc-7bffd4f800fb' class='xr-var-attrs-in' type='checkbox' disabled><label for='attrs-a393ad7c-8f14-47eb-a9dc-7bffd4f800fb' title='Show/Hide attributes'><svg class='icon xr-icon-file-text2'><use xlink:href='#icon-file-text2'></use></svg></label><input id='data-e4e55118-5f62-477a-8ac0-96d4a46f7020' class='xr-var-data-in' type='checkbox'><label for='data-e4e55118-5f62-477a-8ac0-96d4a46f7020' title='Show/Hide data repr'><svg class='icon xr-icon-database'><use xlink:href='#icon-database'></use></svg></label><div class='xr-var-attrs'><dl class='xr-attrs'></dl></div><div class='xr-var-data'><pre>array([29.      , 28.999722, 28.999444, ..., 28.000556, 28.000278, 28.      ])</pre></div></li><li class='xr-var-item'><div class='xr-var-name'><span>spatial_ref</span></div><div class='xr-var-dims'>()</div><div class='xr-var-dtype'>int64</div><div class='xr-var-preview xr-preview'>0</div><input id='attrs-33f48508-2db4-4e58-842f-6e7833d16442' class='xr-var-attrs-in' type='checkbox' ><label for='attrs-33f48508-2db4-4e58-842f-6e7833d16442' title='Show/Hide attributes'><svg class='icon xr-icon-file-text2'><use xlink:href='#icon-file-text2'></use></svg></label><input id='data-9705df6e-a391-44c2-95e5-184657da59f9' class='xr-var-data-in' type='checkbox'><label for='data-9705df6e-a391-44c2-95e5-184657da59f9' title='Show/Hide data repr'><svg class='icon xr-icon-database'><use xlink:href='#icon-database'></use></svg></label><div class='xr-var-attrs'><dl class='xr-attrs'><dt><span>crs_wkt :</span></dt><dd>GEOGCS[&quot;WGS 84&quot;,DATUM[&quot;WGS_1984&quot;,SPHEROID[&quot;WGS 84&quot;,6378137,298.257223563,AUTHORITY[&quot;EPSG&quot;,&quot;7030&quot;]],AUTHORITY[&quot;EPSG&quot;,&quot;6326&quot;]],PRIMEM[&quot;Greenwich&quot;,0,AUTHORITY[&quot;EPSG&quot;,&quot;8901&quot;]],UNIT[&quot;degree&quot;,0.0174532925199433,AUTHORITY[&quot;EPSG&quot;,&quot;9122&quot;]],AXIS[&quot;Latitude&quot;,NORTH],AXIS[&quot;Longitude&quot;,EAST],AUTHORITY[&quot;EPSG&quot;,&quot;4326&quot;]]</dd><dt><span>semi_major_axis :</span></dt><dd>6378137.0</dd><dt><span>semi_minor_axis :</span></dt><dd>6356752.314245179</dd><dt><span>inverse_flattening :</span></dt><dd>298.257223563</dd><dt><span>reference_ellipsoid_name :</span></dt><dd>WGS 84</dd><dt><span>longitude_of_prime_meridian :</span></dt><dd>0.0</dd><dt><span>prime_meridian_name :</span></dt><dd>Greenwich</dd><dt><span>geographic_crs_name :</span></dt><dd>WGS 84</dd><dt><span>grid_mapping_name :</span></dt><dd>latitude_longitude</dd><dt><span>spatial_ref :</span></dt><dd>GEOGCS[&quot;WGS 84&quot;,DATUM[&quot;WGS_1984&quot;,SPHEROID[&quot;WGS 84&quot;,6378137,298.257223563,AUTHORITY[&quot;EPSG&quot;,&quot;7030&quot;]],AUTHORITY[&quot;EPSG&quot;,&quot;6326&quot;]],PRIMEM[&quot;Greenwich&quot;,0,AUTHORITY[&quot;EPSG&quot;,&quot;8901&quot;]],UNIT[&quot;degree&quot;,0.0174532925199433,AUTHORITY[&quot;EPSG&quot;,&quot;9122&quot;]],AXIS[&quot;Latitude&quot;,NORTH],AXIS[&quot;Longitude&quot;,EAST],AUTHORITY[&quot;EPSG&quot;,&quot;4326&quot;]]</dd><dt><span>GeoTransform :</span></dt><dd>86.99986111111112 0.0002777777777777778 0.0 29.000138888888888 0.0 -0.0002777777777777778</dd></dl></div><div class='xr-var-data'><pre>array(0)</pre></div></li></ul></div></li><li class='xr-section-item'><input id='section-0f6004a9-e663-4314-8f70-86ecb783bae6' class='xr-section-summary-in' type='checkbox'  checked><label for='section-0f6004a9-e663-4314-8f70-86ecb783bae6' class='xr-section-summary' >Attributes: <span>(4)</span></label><div class='xr-section-inline-details'></div><div class='xr-section-details'><dl class='xr-attrs'><dt><span>_FillValue :</span></dt><dd>-32768.0</dd><dt><span>scale_factor :</span></dt><dd>1.0</dd><dt><span>add_offset :</span></dt><dd>0.0</dd><dt><span>units :</span></dt><dd>m</dd></dl></div></li></ul></div></div>"
            ]
          },
          "metadata": {},
          "execution_count": 7
        }
      ],
      "source": [
        "rds"
      ]
    },
    {
      "cell_type": "markdown",
      "id": "2f7f4ea5-0d87-4d44-a8b0-657fc1e6be84",
      "metadata": {
        "id": "2f7f4ea5-0d87-4d44-a8b0-657fc1e6be84"
      },
      "source": [
        "You can access the pixel values using the `values` property which returns the array’s data as a numpy array."
      ]
    },
    {
      "cell_type": "code",
      "execution_count": 8,
      "id": "67bf163b-89ec-43e1-8694-e8b039c9e0f0",
      "metadata": {
        "id": "67bf163b-89ec-43e1-8694-e8b039c9e0f0",
        "outputId": "24537a35-6c04-4056-ff01-4499412ab2b1",
        "colab": {
          "base_uri": "https://localhost:8080/"
        }
      },
      "outputs": [
        {
          "output_type": "execute_result",
          "data": {
            "text/plain": [
              "array([[[5217, 5211, 5208, ..., 5097, 5098, 5089],\n",
              "        [5206, 5201, 5200, ..., 5080, 5075, 5069],\n",
              "        [5199, 5194, 5191, ..., 5063, 5055, 5048],\n",
              "        ...,\n",
              "        [5347, 5345, 5343, ..., 5747, 5750, 5757],\n",
              "        [5338, 5338, 5336, ..., 5737, 5740, 5747],\n",
              "        [5332, 5331, 5332, ..., 5734, 5736, 5744]]], dtype=int16)"
            ]
          },
          "metadata": {},
          "execution_count": 8
        }
      ],
      "source": [
        "rds.values"
      ]
    },
    {
      "cell_type": "markdown",
      "id": "9e7a7dfe-fe0c-4e73-91bb-a48e97a428b1",
      "metadata": {
        "id": "9e7a7dfe-fe0c-4e73-91bb-a48e97a428b1"
      },
      "source": [
        "A `xarray.DataArray` object also contains 1 or more `coordinates`. Each coordinate is a 1-dimensional array representing values along one of the data axes. In case of the 1-band SRTM elevation data, we have 3 coordinates - `x`, `y` and `band`."
      ]
    },
    {
      "cell_type": "code",
      "execution_count": 9,
      "id": "5ffabf14-9f17-423f-a0c2-6e55de41888e",
      "metadata": {
        "id": "5ffabf14-9f17-423f-a0c2-6e55de41888e",
        "outputId": "176c7d06-c8eb-4090-fa7f-38c22ede79c4",
        "colab": {
          "base_uri": "https://localhost:8080/"
        }
      },
      "outputs": [
        {
          "output_type": "execute_result",
          "data": {
            "text/plain": [
              "Coordinates:\n",
              "  * band         (band) int64 1\n",
              "  * x            (x) float64 87.0 87.0 87.0 87.0 87.0 ... 88.0 88.0 88.0 88.0\n",
              "  * y            (y) float64 29.0 29.0 29.0 29.0 29.0 ... 28.0 28.0 28.0 28.0\n",
              "    spatial_ref  int64 0"
            ]
          },
          "metadata": {},
          "execution_count": 9
        }
      ],
      "source": [
        "rds.coords"
      ]
    },
    {
      "cell_type": "markdown",
      "id": "5ac4b851-3a4a-4dec-ab88-0280c460f55d",
      "metadata": {
        "id": "5ac4b851-3a4a-4dec-ab88-0280c460f55d"
      },
      "source": [
        "A key feature of `xarray` is the ability to access slices of the dataset using [index lookup](http://xarray.pydata.org/en/stable/user-guide/indexing.html) methods. For example, we can slice the main dataset and get the data for Band1 using the `sel()` method."
      ]
    },
    {
      "cell_type": "markdown",
      "id": "831d4d6c-46ed-4462-9ba0-64977e78e866",
      "metadata": {
        "id": "831d4d6c-46ed-4462-9ba0-64977e78e866"
      },
      "source": [
        "The raster metadata is stored in the [`rio`](https://corteva.github.io/rioxarray/stable/rioxarray.html#rioxarray-rio-accessors) accessor. This is enabled by the `rioxarray` library which provides geospatial functions on top of `xarray`. "
      ]
    },
    {
      "cell_type": "code",
      "execution_count": null,
      "id": "6d6edaa8-0c12-45ff-904b-dac19d329605",
      "metadata": {
        "id": "6d6edaa8-0c12-45ff-904b-dac19d329605"
      },
      "outputs": [],
      "source": [
        "print('CRS:', rds.rio.crs)\n",
        "print('Resolution:', rds.rio.resolution())\n",
        "print('Bounds:', rds.rio.bounds())\n",
        "print('Width:', rds.rio.width)\n",
        "print('Height:', rds.rio.height)"
      ]
    },
    {
      "cell_type": "code",
      "execution_count": 10,
      "id": "2ad1dce1-a5de-4faf-9c6e-7ea1e16c2e77",
      "metadata": {
        "id": "2ad1dce1-a5de-4faf-9c6e-7ea1e16c2e77",
        "outputId": "c2f531d7-8eaf-4dd1-f20d-c711f236ecce",
        "colab": {
          "base_uri": "https://localhost:8080/",
          "height": 385
        }
      },
      "outputs": [
        {
          "output_type": "execute_result",
          "data": {
            "text/plain": [
              "<xarray.DataArray (y: 3601, x: 3601)>\n",
              "array([[5217, 5211, 5208, ..., 5097, 5098, 5089],\n",
              "       [5206, 5201, 5200, ..., 5080, 5075, 5069],\n",
              "       [5199, 5194, 5191, ..., 5063, 5055, 5048],\n",
              "       ...,\n",
              "       [5347, 5345, 5343, ..., 5747, 5750, 5757],\n",
              "       [5338, 5338, 5336, ..., 5737, 5740, 5747],\n",
              "       [5332, 5331, 5332, ..., 5734, 5736, 5744]], dtype=int16)\n",
              "Coordinates:\n",
              "    band         int64 1\n",
              "  * x            (x) float64 87.0 87.0 87.0 87.0 87.0 ... 88.0 88.0 88.0 88.0\n",
              "  * y            (y) float64 29.0 29.0 29.0 29.0 29.0 ... 28.0 28.0 28.0 28.0\n",
              "    spatial_ref  int64 0\n",
              "Attributes:\n",
              "    _FillValue:    -32768.0\n",
              "    scale_factor:  1.0\n",
              "    add_offset:    0.0\n",
              "    units:         m"
            ],
            "text/html": [
              "<div><svg style=\"position: absolute; width: 0; height: 0; overflow: hidden\">\n",
              "<defs>\n",
              "<symbol id=\"icon-database\" viewBox=\"0 0 32 32\">\n",
              "<path d=\"M16 0c-8.837 0-16 2.239-16 5v4c0 2.761 7.163 5 16 5s16-2.239 16-5v-4c0-2.761-7.163-5-16-5z\"></path>\n",
              "<path d=\"M16 17c-8.837 0-16-2.239-16-5v6c0 2.761 7.163 5 16 5s16-2.239 16-5v-6c0 2.761-7.163 5-16 5z\"></path>\n",
              "<path d=\"M16 26c-8.837 0-16-2.239-16-5v6c0 2.761 7.163 5 16 5s16-2.239 16-5v-6c0 2.761-7.163 5-16 5z\"></path>\n",
              "</symbol>\n",
              "<symbol id=\"icon-file-text2\" viewBox=\"0 0 32 32\">\n",
              "<path d=\"M28.681 7.159c-0.694-0.947-1.662-2.053-2.724-3.116s-2.169-2.030-3.116-2.724c-1.612-1.182-2.393-1.319-2.841-1.319h-15.5c-1.378 0-2.5 1.121-2.5 2.5v27c0 1.378 1.122 2.5 2.5 2.5h23c1.378 0 2.5-1.122 2.5-2.5v-19.5c0-0.448-0.137-1.23-1.319-2.841zM24.543 5.457c0.959 0.959 1.712 1.825 2.268 2.543h-4.811v-4.811c0.718 0.556 1.584 1.309 2.543 2.268zM28 29.5c0 0.271-0.229 0.5-0.5 0.5h-23c-0.271 0-0.5-0.229-0.5-0.5v-27c0-0.271 0.229-0.5 0.5-0.5 0 0 15.499-0 15.5 0v7c0 0.552 0.448 1 1 1h7v19.5z\"></path>\n",
              "<path d=\"M23 26h-14c-0.552 0-1-0.448-1-1s0.448-1 1-1h14c0.552 0 1 0.448 1 1s-0.448 1-1 1z\"></path>\n",
              "<path d=\"M23 22h-14c-0.552 0-1-0.448-1-1s0.448-1 1-1h14c0.552 0 1 0.448 1 1s-0.448 1-1 1z\"></path>\n",
              "<path d=\"M23 18h-14c-0.552 0-1-0.448-1-1s0.448-1 1-1h14c0.552 0 1 0.448 1 1s-0.448 1-1 1z\"></path>\n",
              "</symbol>\n",
              "</defs>\n",
              "</svg>\n",
              "<style>/* CSS stylesheet for displaying xarray objects in jupyterlab.\n",
              " *\n",
              " */\n",
              "\n",
              ":root {\n",
              "  --xr-font-color0: var(--jp-content-font-color0, rgba(0, 0, 0, 1));\n",
              "  --xr-font-color2: var(--jp-content-font-color2, rgba(0, 0, 0, 0.54));\n",
              "  --xr-font-color3: var(--jp-content-font-color3, rgba(0, 0, 0, 0.38));\n",
              "  --xr-border-color: var(--jp-border-color2, #e0e0e0);\n",
              "  --xr-disabled-color: var(--jp-layout-color3, #bdbdbd);\n",
              "  --xr-background-color: var(--jp-layout-color0, white);\n",
              "  --xr-background-color-row-even: var(--jp-layout-color1, white);\n",
              "  --xr-background-color-row-odd: var(--jp-layout-color2, #eeeeee);\n",
              "}\n",
              "\n",
              "html[theme=dark],\n",
              "body.vscode-dark {\n",
              "  --xr-font-color0: rgba(255, 255, 255, 1);\n",
              "  --xr-font-color2: rgba(255, 255, 255, 0.54);\n",
              "  --xr-font-color3: rgba(255, 255, 255, 0.38);\n",
              "  --xr-border-color: #1F1F1F;\n",
              "  --xr-disabled-color: #515151;\n",
              "  --xr-background-color: #111111;\n",
              "  --xr-background-color-row-even: #111111;\n",
              "  --xr-background-color-row-odd: #313131;\n",
              "}\n",
              "\n",
              ".xr-wrap {\n",
              "  display: block !important;\n",
              "  min-width: 300px;\n",
              "  max-width: 700px;\n",
              "}\n",
              "\n",
              ".xr-text-repr-fallback {\n",
              "  /* fallback to plain text repr when CSS is not injected (untrusted notebook) */\n",
              "  display: none;\n",
              "}\n",
              "\n",
              ".xr-header {\n",
              "  padding-top: 6px;\n",
              "  padding-bottom: 6px;\n",
              "  margin-bottom: 4px;\n",
              "  border-bottom: solid 1px var(--xr-border-color);\n",
              "}\n",
              "\n",
              ".xr-header > div,\n",
              ".xr-header > ul {\n",
              "  display: inline;\n",
              "  margin-top: 0;\n",
              "  margin-bottom: 0;\n",
              "}\n",
              "\n",
              ".xr-obj-type,\n",
              ".xr-array-name {\n",
              "  margin-left: 2px;\n",
              "  margin-right: 10px;\n",
              "}\n",
              "\n",
              ".xr-obj-type {\n",
              "  color: var(--xr-font-color2);\n",
              "}\n",
              "\n",
              ".xr-sections {\n",
              "  padding-left: 0 !important;\n",
              "  display: grid;\n",
              "  grid-template-columns: 150px auto auto 1fr 20px 20px;\n",
              "}\n",
              "\n",
              ".xr-section-item {\n",
              "  display: contents;\n",
              "}\n",
              "\n",
              ".xr-section-item input {\n",
              "  display: none;\n",
              "}\n",
              "\n",
              ".xr-section-item input + label {\n",
              "  color: var(--xr-disabled-color);\n",
              "}\n",
              "\n",
              ".xr-section-item input:enabled + label {\n",
              "  cursor: pointer;\n",
              "  color: var(--xr-font-color2);\n",
              "}\n",
              "\n",
              ".xr-section-item input:enabled + label:hover {\n",
              "  color: var(--xr-font-color0);\n",
              "}\n",
              "\n",
              ".xr-section-summary {\n",
              "  grid-column: 1;\n",
              "  color: var(--xr-font-color2);\n",
              "  font-weight: 500;\n",
              "}\n",
              "\n",
              ".xr-section-summary > span {\n",
              "  display: inline-block;\n",
              "  padding-left: 0.5em;\n",
              "}\n",
              "\n",
              ".xr-section-summary-in:disabled + label {\n",
              "  color: var(--xr-font-color2);\n",
              "}\n",
              "\n",
              ".xr-section-summary-in + label:before {\n",
              "  display: inline-block;\n",
              "  content: '►';\n",
              "  font-size: 11px;\n",
              "  width: 15px;\n",
              "  text-align: center;\n",
              "}\n",
              "\n",
              ".xr-section-summary-in:disabled + label:before {\n",
              "  color: var(--xr-disabled-color);\n",
              "}\n",
              "\n",
              ".xr-section-summary-in:checked + label:before {\n",
              "  content: '▼';\n",
              "}\n",
              "\n",
              ".xr-section-summary-in:checked + label > span {\n",
              "  display: none;\n",
              "}\n",
              "\n",
              ".xr-section-summary,\n",
              ".xr-section-inline-details {\n",
              "  padding-top: 4px;\n",
              "  padding-bottom: 4px;\n",
              "}\n",
              "\n",
              ".xr-section-inline-details {\n",
              "  grid-column: 2 / -1;\n",
              "}\n",
              "\n",
              ".xr-section-details {\n",
              "  display: none;\n",
              "  grid-column: 1 / -1;\n",
              "  margin-bottom: 5px;\n",
              "}\n",
              "\n",
              ".xr-section-summary-in:checked ~ .xr-section-details {\n",
              "  display: contents;\n",
              "}\n",
              "\n",
              ".xr-array-wrap {\n",
              "  grid-column: 1 / -1;\n",
              "  display: grid;\n",
              "  grid-template-columns: 20px auto;\n",
              "}\n",
              "\n",
              ".xr-array-wrap > label {\n",
              "  grid-column: 1;\n",
              "  vertical-align: top;\n",
              "}\n",
              "\n",
              ".xr-preview {\n",
              "  color: var(--xr-font-color3);\n",
              "}\n",
              "\n",
              ".xr-array-preview,\n",
              ".xr-array-data {\n",
              "  padding: 0 5px !important;\n",
              "  grid-column: 2;\n",
              "}\n",
              "\n",
              ".xr-array-data,\n",
              ".xr-array-in:checked ~ .xr-array-preview {\n",
              "  display: none;\n",
              "}\n",
              "\n",
              ".xr-array-in:checked ~ .xr-array-data,\n",
              ".xr-array-preview {\n",
              "  display: inline-block;\n",
              "}\n",
              "\n",
              ".xr-dim-list {\n",
              "  display: inline-block !important;\n",
              "  list-style: none;\n",
              "  padding: 0 !important;\n",
              "  margin: 0;\n",
              "}\n",
              "\n",
              ".xr-dim-list li {\n",
              "  display: inline-block;\n",
              "  padding: 0;\n",
              "  margin: 0;\n",
              "}\n",
              "\n",
              ".xr-dim-list:before {\n",
              "  content: '(';\n",
              "}\n",
              "\n",
              ".xr-dim-list:after {\n",
              "  content: ')';\n",
              "}\n",
              "\n",
              ".xr-dim-list li:not(:last-child):after {\n",
              "  content: ',';\n",
              "  padding-right: 5px;\n",
              "}\n",
              "\n",
              ".xr-has-index {\n",
              "  font-weight: bold;\n",
              "}\n",
              "\n",
              ".xr-var-list,\n",
              ".xr-var-item {\n",
              "  display: contents;\n",
              "}\n",
              "\n",
              ".xr-var-item > div,\n",
              ".xr-var-item label,\n",
              ".xr-var-item > .xr-var-name span {\n",
              "  background-color: var(--xr-background-color-row-even);\n",
              "  margin-bottom: 0;\n",
              "}\n",
              "\n",
              ".xr-var-item > .xr-var-name:hover span {\n",
              "  padding-right: 5px;\n",
              "}\n",
              "\n",
              ".xr-var-list > li:nth-child(odd) > div,\n",
              ".xr-var-list > li:nth-child(odd) > label,\n",
              ".xr-var-list > li:nth-child(odd) > .xr-var-name span {\n",
              "  background-color: var(--xr-background-color-row-odd);\n",
              "}\n",
              "\n",
              ".xr-var-name {\n",
              "  grid-column: 1;\n",
              "}\n",
              "\n",
              ".xr-var-dims {\n",
              "  grid-column: 2;\n",
              "}\n",
              "\n",
              ".xr-var-dtype {\n",
              "  grid-column: 3;\n",
              "  text-align: right;\n",
              "  color: var(--xr-font-color2);\n",
              "}\n",
              "\n",
              ".xr-var-preview {\n",
              "  grid-column: 4;\n",
              "}\n",
              "\n",
              ".xr-var-name,\n",
              ".xr-var-dims,\n",
              ".xr-var-dtype,\n",
              ".xr-preview,\n",
              ".xr-attrs dt {\n",
              "  white-space: nowrap;\n",
              "  overflow: hidden;\n",
              "  text-overflow: ellipsis;\n",
              "  padding-right: 10px;\n",
              "}\n",
              "\n",
              ".xr-var-name:hover,\n",
              ".xr-var-dims:hover,\n",
              ".xr-var-dtype:hover,\n",
              ".xr-attrs dt:hover {\n",
              "  overflow: visible;\n",
              "  width: auto;\n",
              "  z-index: 1;\n",
              "}\n",
              "\n",
              ".xr-var-attrs,\n",
              ".xr-var-data {\n",
              "  display: none;\n",
              "  background-color: var(--xr-background-color) !important;\n",
              "  padding-bottom: 5px !important;\n",
              "}\n",
              "\n",
              ".xr-var-attrs-in:checked ~ .xr-var-attrs,\n",
              ".xr-var-data-in:checked ~ .xr-var-data {\n",
              "  display: block;\n",
              "}\n",
              "\n",
              ".xr-var-data > table {\n",
              "  float: right;\n",
              "}\n",
              "\n",
              ".xr-var-name span,\n",
              ".xr-var-data,\n",
              ".xr-attrs {\n",
              "  padding-left: 25px !important;\n",
              "}\n",
              "\n",
              ".xr-attrs,\n",
              ".xr-var-attrs,\n",
              ".xr-var-data {\n",
              "  grid-column: 1 / -1;\n",
              "}\n",
              "\n",
              "dl.xr-attrs {\n",
              "  padding: 0;\n",
              "  margin: 0;\n",
              "  display: grid;\n",
              "  grid-template-columns: 125px auto;\n",
              "}\n",
              "\n",
              ".xr-attrs dt,\n",
              ".xr-attrs dd {\n",
              "  padding: 0;\n",
              "  margin: 0;\n",
              "  float: left;\n",
              "  padding-right: 10px;\n",
              "  width: auto;\n",
              "}\n",
              "\n",
              ".xr-attrs dt {\n",
              "  font-weight: normal;\n",
              "  grid-column: 1;\n",
              "}\n",
              "\n",
              ".xr-attrs dt:hover span {\n",
              "  display: inline-block;\n",
              "  background: var(--xr-background-color);\n",
              "  padding-right: 10px;\n",
              "}\n",
              "\n",
              ".xr-attrs dd {\n",
              "  grid-column: 2;\n",
              "  white-space: pre-wrap;\n",
              "  word-break: break-all;\n",
              "}\n",
              "\n",
              ".xr-icon-database,\n",
              ".xr-icon-file-text2 {\n",
              "  display: inline-block;\n",
              "  vertical-align: middle;\n",
              "  width: 1em;\n",
              "  height: 1.5em !important;\n",
              "  stroke-width: 0;\n",
              "  stroke: currentColor;\n",
              "  fill: currentColor;\n",
              "}\n",
              "</style><pre class='xr-text-repr-fallback'>&lt;xarray.DataArray (y: 3601, x: 3601)&gt;\n",
              "array([[5217, 5211, 5208, ..., 5097, 5098, 5089],\n",
              "       [5206, 5201, 5200, ..., 5080, 5075, 5069],\n",
              "       [5199, 5194, 5191, ..., 5063, 5055, 5048],\n",
              "       ...,\n",
              "       [5347, 5345, 5343, ..., 5747, 5750, 5757],\n",
              "       [5338, 5338, 5336, ..., 5737, 5740, 5747],\n",
              "       [5332, 5331, 5332, ..., 5734, 5736, 5744]], dtype=int16)\n",
              "Coordinates:\n",
              "    band         int64 1\n",
              "  * x            (x) float64 87.0 87.0 87.0 87.0 87.0 ... 88.0 88.0 88.0 88.0\n",
              "  * y            (y) float64 29.0 29.0 29.0 29.0 29.0 ... 28.0 28.0 28.0 28.0\n",
              "    spatial_ref  int64 0\n",
              "Attributes:\n",
              "    _FillValue:    -32768.0\n",
              "    scale_factor:  1.0\n",
              "    add_offset:    0.0\n",
              "    units:         m</pre><div class='xr-wrap' style='display:none'><div class='xr-header'><div class='xr-obj-type'>xarray.DataArray</div><div class='xr-array-name'></div><ul class='xr-dim-list'><li><span class='xr-has-index'>y</span>: 3601</li><li><span class='xr-has-index'>x</span>: 3601</li></ul></div><ul class='xr-sections'><li class='xr-section-item'><div class='xr-array-wrap'><input id='section-2cd2a29b-0b07-4c0f-9d37-2e91ace811e8' class='xr-array-in' type='checkbox' checked><label for='section-2cd2a29b-0b07-4c0f-9d37-2e91ace811e8' title='Show/hide data repr'><svg class='icon xr-icon-database'><use xlink:href='#icon-database'></use></svg></label><div class='xr-array-preview xr-preview'><span>5217 5211 5208 5204 5201 5198 5193 ... 5742 5735 5733 5734 5736 5744</span></div><div class='xr-array-data'><pre>array([[5217, 5211, 5208, ..., 5097, 5098, 5089],\n",
              "       [5206, 5201, 5200, ..., 5080, 5075, 5069],\n",
              "       [5199, 5194, 5191, ..., 5063, 5055, 5048],\n",
              "       ...,\n",
              "       [5347, 5345, 5343, ..., 5747, 5750, 5757],\n",
              "       [5338, 5338, 5336, ..., 5737, 5740, 5747],\n",
              "       [5332, 5331, 5332, ..., 5734, 5736, 5744]], dtype=int16)</pre></div></div></li><li class='xr-section-item'><input id='section-e0babece-aa54-4329-905a-07b63f437dbf' class='xr-section-summary-in' type='checkbox'  checked><label for='section-e0babece-aa54-4329-905a-07b63f437dbf' class='xr-section-summary' >Coordinates: <span>(4)</span></label><div class='xr-section-inline-details'></div><div class='xr-section-details'><ul class='xr-var-list'><li class='xr-var-item'><div class='xr-var-name'><span>band</span></div><div class='xr-var-dims'>()</div><div class='xr-var-dtype'>int64</div><div class='xr-var-preview xr-preview'>1</div><input id='attrs-2fee5711-4f9d-4bb9-a33a-35cf19e15a1b' class='xr-var-attrs-in' type='checkbox' disabled><label for='attrs-2fee5711-4f9d-4bb9-a33a-35cf19e15a1b' title='Show/Hide attributes'><svg class='icon xr-icon-file-text2'><use xlink:href='#icon-file-text2'></use></svg></label><input id='data-c83749c1-a313-482c-8e7b-057e47119ffc' class='xr-var-data-in' type='checkbox'><label for='data-c83749c1-a313-482c-8e7b-057e47119ffc' title='Show/Hide data repr'><svg class='icon xr-icon-database'><use xlink:href='#icon-database'></use></svg></label><div class='xr-var-attrs'><dl class='xr-attrs'></dl></div><div class='xr-var-data'><pre>array(1)</pre></div></li><li class='xr-var-item'><div class='xr-var-name'><span class='xr-has-index'>x</span></div><div class='xr-var-dims'>(x)</div><div class='xr-var-dtype'>float64</div><div class='xr-var-preview xr-preview'>87.0 87.0 87.0 ... 88.0 88.0 88.0</div><input id='attrs-f495ff2d-c3c5-449b-b5b9-264b983d7c85' class='xr-var-attrs-in' type='checkbox' disabled><label for='attrs-f495ff2d-c3c5-449b-b5b9-264b983d7c85' title='Show/Hide attributes'><svg class='icon xr-icon-file-text2'><use xlink:href='#icon-file-text2'></use></svg></label><input id='data-e796aca6-0442-4015-81cd-ed3af097875c' class='xr-var-data-in' type='checkbox'><label for='data-e796aca6-0442-4015-81cd-ed3af097875c' title='Show/Hide data repr'><svg class='icon xr-icon-database'><use xlink:href='#icon-database'></use></svg></label><div class='xr-var-attrs'><dl class='xr-attrs'></dl></div><div class='xr-var-data'><pre>array([87.      , 87.000278, 87.000556, ..., 87.999444, 87.999722, 88.      ])</pre></div></li><li class='xr-var-item'><div class='xr-var-name'><span class='xr-has-index'>y</span></div><div class='xr-var-dims'>(y)</div><div class='xr-var-dtype'>float64</div><div class='xr-var-preview xr-preview'>29.0 29.0 29.0 ... 28.0 28.0 28.0</div><input id='attrs-83d01bdc-c366-4376-8361-615aa775fada' class='xr-var-attrs-in' type='checkbox' disabled><label for='attrs-83d01bdc-c366-4376-8361-615aa775fada' title='Show/Hide attributes'><svg class='icon xr-icon-file-text2'><use xlink:href='#icon-file-text2'></use></svg></label><input id='data-16783c07-b2a8-4f81-8639-eae2dc58cba3' class='xr-var-data-in' type='checkbox'><label for='data-16783c07-b2a8-4f81-8639-eae2dc58cba3' title='Show/Hide data repr'><svg class='icon xr-icon-database'><use xlink:href='#icon-database'></use></svg></label><div class='xr-var-attrs'><dl class='xr-attrs'></dl></div><div class='xr-var-data'><pre>array([29.      , 28.999722, 28.999444, ..., 28.000556, 28.000278, 28.      ])</pre></div></li><li class='xr-var-item'><div class='xr-var-name'><span>spatial_ref</span></div><div class='xr-var-dims'>()</div><div class='xr-var-dtype'>int64</div><div class='xr-var-preview xr-preview'>0</div><input id='attrs-0657036a-e22d-4b7d-9510-29d951d5e212' class='xr-var-attrs-in' type='checkbox' ><label for='attrs-0657036a-e22d-4b7d-9510-29d951d5e212' title='Show/Hide attributes'><svg class='icon xr-icon-file-text2'><use xlink:href='#icon-file-text2'></use></svg></label><input id='data-119bccd6-ec5b-4e5d-9089-53fa78da64b4' class='xr-var-data-in' type='checkbox'><label for='data-119bccd6-ec5b-4e5d-9089-53fa78da64b4' title='Show/Hide data repr'><svg class='icon xr-icon-database'><use xlink:href='#icon-database'></use></svg></label><div class='xr-var-attrs'><dl class='xr-attrs'><dt><span>crs_wkt :</span></dt><dd>GEOGCS[&quot;WGS 84&quot;,DATUM[&quot;WGS_1984&quot;,SPHEROID[&quot;WGS 84&quot;,6378137,298.257223563,AUTHORITY[&quot;EPSG&quot;,&quot;7030&quot;]],AUTHORITY[&quot;EPSG&quot;,&quot;6326&quot;]],PRIMEM[&quot;Greenwich&quot;,0,AUTHORITY[&quot;EPSG&quot;,&quot;8901&quot;]],UNIT[&quot;degree&quot;,0.0174532925199433,AUTHORITY[&quot;EPSG&quot;,&quot;9122&quot;]],AXIS[&quot;Latitude&quot;,NORTH],AXIS[&quot;Longitude&quot;,EAST],AUTHORITY[&quot;EPSG&quot;,&quot;4326&quot;]]</dd><dt><span>semi_major_axis :</span></dt><dd>6378137.0</dd><dt><span>semi_minor_axis :</span></dt><dd>6356752.314245179</dd><dt><span>inverse_flattening :</span></dt><dd>298.257223563</dd><dt><span>reference_ellipsoid_name :</span></dt><dd>WGS 84</dd><dt><span>longitude_of_prime_meridian :</span></dt><dd>0.0</dd><dt><span>prime_meridian_name :</span></dt><dd>Greenwich</dd><dt><span>geographic_crs_name :</span></dt><dd>WGS 84</dd><dt><span>grid_mapping_name :</span></dt><dd>latitude_longitude</dd><dt><span>spatial_ref :</span></dt><dd>GEOGCS[&quot;WGS 84&quot;,DATUM[&quot;WGS_1984&quot;,SPHEROID[&quot;WGS 84&quot;,6378137,298.257223563,AUTHORITY[&quot;EPSG&quot;,&quot;7030&quot;]],AUTHORITY[&quot;EPSG&quot;,&quot;6326&quot;]],PRIMEM[&quot;Greenwich&quot;,0,AUTHORITY[&quot;EPSG&quot;,&quot;8901&quot;]],UNIT[&quot;degree&quot;,0.0174532925199433,AUTHORITY[&quot;EPSG&quot;,&quot;9122&quot;]],AXIS[&quot;Latitude&quot;,NORTH],AXIS[&quot;Longitude&quot;,EAST],AUTHORITY[&quot;EPSG&quot;,&quot;4326&quot;]]</dd><dt><span>GeoTransform :</span></dt><dd>86.99986111111112 0.0002777777777777778 0.0 29.000138888888888 0.0 -0.0002777777777777778</dd></dl></div><div class='xr-var-data'><pre>array(0)</pre></div></li></ul></div></li><li class='xr-section-item'><input id='section-9416d5a4-312d-4aa8-8feb-5dd1cb854cb6' class='xr-section-summary-in' type='checkbox'  checked><label for='section-9416d5a4-312d-4aa8-8feb-5dd1cb854cb6' class='xr-section-summary' >Attributes: <span>(4)</span></label><div class='xr-section-inline-details'></div><div class='xr-section-details'><dl class='xr-attrs'><dt><span>_FillValue :</span></dt><dd>-32768.0</dd><dt><span>scale_factor :</span></dt><dd>1.0</dd><dt><span>add_offset :</span></dt><dd>0.0</dd><dt><span>units :</span></dt><dd>m</dd></dl></div></li></ul></div></div>"
            ]
          },
          "metadata": {},
          "execution_count": 10
        }
      ],
      "source": [
        "band1 = rds.sel(band=1)\n",
        "band1"
      ]
    },
    {
      "cell_type": "markdown",
      "id": "ea0c46d1-d42b-4560-89d8-242ebe52ca2c",
      "metadata": {
        "id": "ea0c46d1-d42b-4560-89d8-242ebe52ca2c"
      },
      "source": [
        "### Merging Rasters"
      ]
    },
    {
      "cell_type": "markdown",
      "id": "df404c66-338e-453f-8d9f-ca174cd408cc",
      "metadata": {
        "id": "df404c66-338e-453f-8d9f-ca174cd408cc"
      },
      "source": [
        "Now that you understand the basic data structure of *xarray* and the &rio* extension, let's use it to process some data. We will take 4 individual SRTM tiles and merge them to a single GeoTiff. You will note that `rioxarray` handles the CRS and transform much better - taking care of internal details and providing a simple API."
      ]
    },
    {
      "cell_type": "markdown",
      "id": "9db612b1-4a11-49c8-8be3-c6ba54e614b4",
      "metadata": {
        "id": "9db612b1-4a11-49c8-8be3-c6ba54e614b4"
      },
      "source": [
        "Define input and output paths."
      ]
    },
    {
      "cell_type": "markdown",
      "id": "a98c22a8-44ff-4f7a-b40c-f093e830a373",
      "metadata": {
        "id": "a98c22a8-44ff-4f7a-b40c-f093e830a373"
      },
      "source": [
        "Open each source file using `open_rasterio()` method and store the resulting datasets in a list."
      ]
    },
    {
      "cell_type": "code",
      "execution_count": 13,
      "id": "e54ae4ff-8288-4b05-967d-74d13614d432",
      "metadata": {
        "id": "e54ae4ff-8288-4b05-967d-74d13614d432"
      },
      "outputs": [],
      "source": [
        "datasets = []\n",
        "for tile in srtm_tiles:\n",
        "    path = os.path.join(data_folder, tile)\n",
        "    datasets.append(rxr.open_rasterio(path))"
      ]
    },
    {
      "cell_type": "markdown",
      "id": "eeb28678-acfb-4657-99d9-ab5e14b5a385",
      "metadata": {
        "id": "eeb28678-acfb-4657-99d9-ab5e14b5a385"
      },
      "source": [
        "Use the `merge_arrays()` method from the `rioxarray.merge` module to merge the rasters."
      ]
    },
    {
      "cell_type": "code",
      "execution_count": 14,
      "id": "f03b3c6e-8ada-4c24-847f-3720c5f5b88c",
      "metadata": {
        "id": "f03b3c6e-8ada-4c24-847f-3720c5f5b88c"
      },
      "outputs": [],
      "source": [
        "merged = merge_arrays(datasets)"
      ]
    },
    {
      "cell_type": "markdown",
      "id": "3f716f73-ef0e-48d4-853a-4c8257bdc3d7",
      "metadata": {
        "id": "3f716f73-ef0e-48d4-853a-4c8257bdc3d7"
      },
      "source": [
        "### Visualizing Rasters using Matplotlib\n",
        "\n",
        "`xarray` plotting functionality is built on top of the the popular `matplotlib` library. "
      ]
    },
    {
      "cell_type": "code",
      "execution_count": null,
      "id": "f70cf71f-4e0f-4d5b-83f6-8f983c3149f6",
      "metadata": {
        "id": "f70cf71f-4e0f-4d5b-83f6-8f983c3149f6"
      },
      "outputs": [],
      "source": [
        "%matplotlib inline\n",
        "import matplotlib.pyplot as plt"
      ]
    },
    {
      "cell_type": "markdown",
      "id": "c36c76ce-a796-4d32-9398-6c039c76908c",
      "metadata": {
        "id": "c36c76ce-a796-4d32-9398-6c039c76908c"
      },
      "source": [
        "You cna visualize any `DataArray` object by calling `plot()` method. Here we create a row of 4 plots and render each of the source SRTM rasters. We can use the `cmap` option to specify a color ramp. Here we are using the built-in *Greys* ramp. Appending **_r** gives us the inverted ramp with blacks representing lower elevation values."
      ]
    },
    {
      "cell_type": "code",
      "execution_count": null,
      "id": "ca27a00f-e365-4d24-82c9-abd02bd4e2f8",
      "metadata": {
        "id": "ca27a00f-e365-4d24-82c9-abd02bd4e2f8"
      },
      "outputs": [],
      "source": [
        "fig, axes = plt.subplots(1, 4)\n",
        "fig.set_size_inches(15,3)\n",
        "plt.tight_layout()\n",
        "for index, dataset in enumerate(datasets):\n",
        "    ax = axes[index]\n",
        "    dataset.plot(ax=ax, cmap='Greys_r')\n",
        "    ax.axis('off')\n",
        "    filename = all_files[index]\n",
        "    ax.set_title(filename)"
      ]
    },
    {
      "cell_type": "markdown",
      "id": "ca5b51da-8dca-4b1d-b00d-a164612ade21",
      "metadata": {
        "id": "ca5b51da-8dca-4b1d-b00d-a164612ade21"
      },
      "source": [
        "Similarly, we can visualize the merged raster."
      ]
    },
    {
      "cell_type": "code",
      "execution_count": null,
      "id": "2ba44ae0-f955-4bb6-a19a-bbbc1111278c",
      "metadata": {
        "id": "2ba44ae0-f955-4bb6-a19a-bbbc1111278c"
      },
      "outputs": [],
      "source": [
        "fig, ax = plt.subplots()\n",
        "fig.set_size_inches(12, 10)\n",
        "merged.plot(ax=ax, cmap='Greys_r')\n",
        "ax.set_title('merged')\n",
        "plt.show()"
      ]
    },
    {
      "cell_type": "code",
      "execution_count": null,
      "id": "4bd05c7c-c6fd-4450-abfc-c6170018cbd4",
      "metadata": {
        "id": "4bd05c7c-c6fd-4450-abfc-c6170018cbd4"
      },
      "outputs": [],
      "source": [
        "merged"
      ]
    },
    {
      "cell_type": "code",
      "execution_count": null,
      "id": "5648ecc7-30fa-46e0-8e96-fdfc9d2c1445",
      "metadata": {
        "id": "5648ecc7-30fa-46e0-8e96-fdfc9d2c1445"
      },
      "outputs": [],
      "source": [
        "bands, rows, cols = np.where(merged == np.max(merged))\n",
        "band = bands[0]\n",
        "row = rows[0]\n",
        "col = cols[0]\n",
        "print(band, row, col)"
      ]
    },
    {
      "cell_type": "code",
      "execution_count": null,
      "id": "01359b57-f8b3-4365-8594-701a442994e5",
      "metadata": {
        "id": "01359b57-f8b3-4365-8594-701a442994e5"
      },
      "outputs": [],
      "source": [
        "result = merged.isel(band=band, x=col, y=row)\n",
        "lat = result.y.values\n",
        "lon = result.x.values\n",
        "elevation = int(result)\n",
        "print(lat, lon, elevation)"
      ]
    },
    {
      "cell_type": "code",
      "execution_count": null,
      "id": "b9826d89-b6fc-4f0e-8e04-1e6555d3d715",
      "metadata": {
        "id": "b9826d89-b6fc-4f0e-8e04-1e6555d3d715"
      },
      "outputs": [],
      "source": [
        "fig, ax = plt.subplots(1, 1)\n",
        "fig.set_size_inches(12, 12)\n",
        "merged.plot(ax=ax, cmap='viridis')\n",
        "ax.plot(lon, lat, '^r', markersize=11)\n",
        "ax.annotate('Mt. Everest (elevation:{}m)'.format(elevation),\n",
        "            xy=(lon, lat), xycoords='data',\n",
        "            xytext=(20, 20), textcoords='offset points',\n",
        "            arrowprops=dict(arrowstyle='->', color='black')\n",
        "            )\n",
        "\n",
        "output_folder = 'output'\n",
        "output_path = os.path.join(output_folder, 'mt_everest.png')\n",
        "plt.savefig(output_path, dpi=300)\n",
        "\n",
        "plt.show()"
      ]
    },
    {
      "cell_type": "markdown",
      "id": "58d25418-7d9a-4539-92aa-e357622045b9",
      "metadata": {
        "id": "58d25418-7d9a-4539-92aa-e357622045b9"
      },
      "source": [
        "Finally, save the merged array to disk as a GeoTiff file."
      ]
    },
    {
      "cell_type": "code",
      "execution_count": 16,
      "id": "8f3b2551-c09a-44a3-8fe8-157bee38cb18",
      "metadata": {
        "id": "8f3b2551-c09a-44a3-8fe8-157bee38cb18"
      },
      "outputs": [],
      "source": [
        "output_filename = 'merged.tif'\n",
        "output_path = os.path.join(data_folder, output_filename)\n",
        "merged.rio.to_raster(output_path)"
      ]
    }
  ],
  "metadata": {
    "kernelspec": {
      "display_name": "Python 3 (ipykernel)",
      "language": "python",
      "name": "python3"
    },
    "language_info": {
      "codemirror_mode": {
        "name": "ipython",
        "version": 3
      },
      "file_extension": ".py",
      "mimetype": "text/x-python",
      "name": "python",
      "nbconvert_exporter": "python",
      "pygments_lexer": "ipython3",
      "version": "3.10.5"
    },
    "colab": {
      "provenance": []
    }
  },
  "nbformat": 4,
  "nbformat_minor": 5
}