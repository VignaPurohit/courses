{
 "cells": [
  {
   "cell_type": "markdown",
   "id": "06f25fa8-b260-41fc-b9c2-c5e43640e83b",
   "metadata": {},
   "source": [
    "# Visualizing Rasters"
   ]
  },
  {
   "cell_type": "code",
   "execution_count": null,
   "id": "8ab1a0be-9c2a-4ca5-8c16-27ff79ba4a6e",
   "metadata": {},
   "outputs": [],
   "source": [
    "import glob\n",
    "import os\n",
    "import rasterio\n",
    "import numpy as np\n",
    "\n",
    "%matplotlib inline\n",
    "import matplotlib.pyplot as plt"
   ]
  },
  {
   "cell_type": "markdown",
   "id": "9db612b1-4a11-49c8-8be3-c6ba54e614b4",
   "metadata": {},
   "source": [
    "Define input and output paths."
   ]
  },
  {
   "cell_type": "code",
   "execution_count": null,
   "id": "2f232081-1da1-4faa-a349-11be539e2bd2",
   "metadata": {},
   "outputs": [],
   "source": [
    "data_pkg_path = 'data'\n",
    "srtm_path = os.path.join(data_pkg_path, 'srtm', '*.hgt')\n",
    "all_files = glob.glob(srtm_path)\n",
    "all_files"
   ]
  },
  {
   "cell_type": "code",
   "execution_count": null,
   "id": "4359e062-437a-4d1c-967b-3d0576ded1b7",
   "metadata": {},
   "outputs": [],
   "source": [
    "file1 = all_files[0]\n",
    "dataset = rasterio.open(file1)\n",
    "band = dataset.read(1)\n",
    "transform = dataset.transform\n",
    "dataset.close()"
   ]
  },
  {
   "cell_type": "code",
   "execution_count": null,
   "id": "2c9e0b3a-833f-4f6b-90b7-e699ec9836c1",
   "metadata": {},
   "outputs": [],
   "source": [
    "fig, ax = plt.subplots(1, 1)\n",
    "fig.set_size_inches(7,7)\n",
    "\n",
    "ax.imshow(band, cmap='Greys_r')\n",
    "plt.show()"
   ]
  },
  {
   "cell_type": "code",
   "execution_count": null,
   "id": "e87b2e88-7822-406f-b55a-7fd39743c645",
   "metadata": {},
   "outputs": [],
   "source": [
    "from rasterio.plot import show\n",
    "\n",
    "fig, ax = plt.subplots(1, 1)\n",
    "fig.set_size_inches(7,7)\n",
    "\n",
    "show(band, cmap='Greys_r', ax=ax, transform=transform)\n",
    "plt.show()"
   ]
  },
  {
   "cell_type": "code",
   "execution_count": null,
   "id": "e54ae4ff-8288-4b05-967d-74d13614d432",
   "metadata": {},
   "outputs": [],
   "source": [
    "datasets = []\n",
    "for file in all_files:\n",
    "    path = os.path.join(srtm_path, file)\n",
    "    dataset = rasterio.open"
   ]
  },
  {
   "cell_type": "code",
   "execution_count": null,
   "id": "ca27a00f-e365-4d24-82c9-abd02bd4e2f8",
   "metadata": {},
   "outputs": [],
   "source": [
    "fig, axes = plt.subplots(1, 4)\n",
    "fig.set_size_inches(15,3)\n",
    "plt.tight_layout()"
   ]
  },
  {
   "cell_type": "code",
   "execution_count": null,
   "id": "7e328892-854f-4ac0-8bc4-07abcacfbc1d",
   "metadata": {},
   "outputs": [],
   "source": [
    "fig, axes = plt.subplots(1, 4)\n",
    "fig.set_size_inches(15,3)\n",
    "plt.tight_layout()\n",
    "\n",
    "for index, file in enumerate(all_files):\n",
    "    with rasterio.open(file) as dataset:\n",
    "        band = dataset.read(1)\n",
    "        transform = dataset.transform\n",
    "    ax = axes[index]\n",
    "    show(band, ax=ax, cmap='Greys_r', transform=transform)\n",
    "    filename = all_files[index]\n",
    "    ax.set_title(os.path.basename(filename))\n",
    "\n",
    "plt.show()"
   ]
  },
  {
   "cell_type": "code",
   "execution_count": null,
   "id": "57ccf525-0b7e-45e8-b16d-797785133ea5",
   "metadata": {},
   "outputs": [],
   "source": [
    "from rasterio import merge\n",
    "\n",
    "dataset_list = []\n",
    "for file in all_files:\n",
    "    dataset_list.append(rasterio.open(file))\n",
    "\n",
    "merged_data, merged_transform = merge.merge(dataset_list)"
   ]
  },
  {
   "cell_type": "markdown",
   "id": "ca5b51da-8dca-4b1d-b00d-a164612ade21",
   "metadata": {},
   "source": [
    "Similarly, we can visualize the merged raster."
   ]
  },
  {
   "cell_type": "code",
   "execution_count": null,
   "id": "2ba44ae0-f955-4bb6-a19a-bbbc1111278c",
   "metadata": {},
   "outputs": [],
   "source": [
    "fig, ax = plt.subplots(1, 1)\n",
    "fig.set_size_inches(12, 12)\n",
    "show(merged_data, ax=ax, cmap='viridis', transform=merged_transform)\n",
    "ax.set_title('merged')\n",
    "plt.show()"
   ]
  },
  {
   "cell_type": "code",
   "execution_count": null,
   "id": "ccc880c8-046b-494c-be44-3754a5435f4d",
   "metadata": {},
   "outputs": [],
   "source": [
    "merged_array = merged_data.squeeze()"
   ]
  },
  {
   "cell_type": "code",
   "execution_count": null,
   "id": "3615966d-8834-434b-994e-9be8579a67d5",
   "metadata": {},
   "outputs": [],
   "source": [
    "rows, cols = np.where(merged_array == np.max(merged_array))\n",
    "row = rows[0]\n",
    "col = cols[0]\n",
    "lon, lat = rasterio.transform.xy(merged_transform, row, col)\n",
    "print(lat, lon)"
   ]
  },
  {
   "cell_type": "code",
   "execution_count": null,
   "id": "e0f1d9c1-e8d5-4c3c-85a7-daf2add3eb79",
   "metadata": {},
   "outputs": [],
   "source": [
    "fig, ax = plt.subplots(1, 1)\n",
    "fig.set_size_inches(12, 12)\n",
    "show(merged_data, ax=ax, cmap='viridis', transform=merged_transform)\n",
    "ax.plot(lon, lat, '^r', markersize=11)\n",
    "ax.annotate(\"Mt. Everest\",\n",
    "            xy=(lon, lat), xycoords='data',\n",
    "            xytext=(20, 20), textcoords='offset points',\n",
    "            arrowprops=dict(arrowstyle=\"->\", color='black')\n",
    "            )\n",
    "\n",
    "output_folder = 'output'\n",
    "output_path = os.path.join(output_folder, 'mt_everest.png')\n",
    "plt.savefig(output_path, dpi=300)\n",
    "\n",
    "plt.show()"
   ]
  },
  {
   "cell_type": "code",
   "execution_count": null,
   "id": "e030d90a-4630-40ba-90df-ab5f28f244db",
   "metadata": {},
   "outputs": [],
   "source": []
  }
 ],
 "metadata": {
  "kernelspec": {
   "display_name": "Python 3 (ipykernel)",
   "language": "python",
   "name": "python3"
  },
  "language_info": {
   "codemirror_mode": {
    "name": "ipython",
    "version": 3
   },
   "file_extension": ".py",
   "mimetype": "text/x-python",
   "name": "python",
   "nbconvert_exporter": "python",
   "pygments_lexer": "ipython3",
   "version": "3.10.2"
  }
 },
 "nbformat": 4,
 "nbformat_minor": 5
}
