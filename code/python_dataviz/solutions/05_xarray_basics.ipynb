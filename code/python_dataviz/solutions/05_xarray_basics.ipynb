{
  "cells": [
    {
      "cell_type": "markdown",
      "id": "9a244534-c0a1-41b4-9f73-2087eb72b030",
      "metadata": {
        "id": "9a244534-c0a1-41b4-9f73-2087eb72b030"
      },
      "source": [
        "## Overview\n",
        "\n",
        "Many climate and meteorological datasets come as gridded rasters in data formats such as NetCDF and GRIB. We will use [XArray](http://xarray.pydata.org/) to read, process and visualize the gridded raster dataset.\n",
        "\n",
        "Xarray is an evolution of rasterio and is inspired by libraries like pandas to work with raster datasets. It is particularly suited for working with multi-dimensional time-series raster datasets. It also integrates tightly with dask that allows one to scale raster data processing using parallel computing. XArray provides [Plotting Functions](https://xarray.pydata.org/en/stable/user-guide/plotting.html) based on Matplotlib.\n",
        "\n",
        "In this section, we will learn about XArray basics and learn how to work with a datacube of satellite imagery."
      ]
    },
    {
      "cell_type": "markdown",
      "id": "2c4204d0-acda-418f-b38a-7d5f2be15eca",
      "metadata": {
        "id": "2c4204d0-acda-418f-b38a-7d5f2be15eca"
      },
      "source": [
        "## Setup and Data Download\n",
        "\n",
        "The following blocks of code will install the required packages and download the datasets to your Colab environment."
      ]
    },
    {
      "cell_type": "code",
      "source": [
        "%%capture\n",
        "if 'google.colab' in str(get_ipython()):\n",
        "    !pip install pystac-client odc-stac rioxarray"
      ],
      "metadata": {
        "id": "jf7cnFbts_ES"
      },
      "id": "jf7cnFbts_ES",
      "execution_count": null,
      "outputs": []
    },
    {
      "cell_type": "code",
      "execution_count": null,
      "id": "fe6c71dd-37df-47af-9019-d012cc9b5e59",
      "metadata": {
        "id": "fe6c71dd-37df-47af-9019-d012cc9b5e59"
      },
      "outputs": [],
      "source": [
        "import os\n",
        "import matplotlib.pyplot as plt\n",
        "import pystac_client\n",
        "from odc.stac import stac_load\n",
        "import xarray as xr\n",
        "import rioxarray as rxr"
      ]
    },
    {
      "cell_type": "code",
      "source": [
        "data_folder = 'data'\n",
        "output_folder = 'output'\n",
        "\n",
        "if not os.path.exists(data_folder):\n",
        "    os.mkdir(data_folder)\n",
        "if not os.path.exists(output_folder):\n",
        "    os.mkdir(output_folder)"
      ],
      "metadata": {
        "id": "5zB54v7PT1kT"
      },
      "id": "5zB54v7PT1kT",
      "execution_count": null,
      "outputs": []
    },
    {
      "cell_type": "markdown",
      "source": [
        "## Get Satellite Imagery using STAC API"
      ],
      "metadata": {
        "id": "qYm2b2t7ut8N"
      },
      "id": "qYm2b2t7ut8N"
    },
    {
      "cell_type": "markdown",
      "source": [
        "We define a location and time of interest to get some satellite imagery."
      ],
      "metadata": {
        "id": "DfeU1L0HCPN3"
      },
      "id": "DfeU1L0HCPN3"
    },
    {
      "cell_type": "code",
      "source": [
        "latitude = 27.163\n",
        "longitude = 82.608\n",
        "\n",
        "year = 2023"
      ],
      "metadata": {
        "id": "yFB6fP_Cu0Rw"
      },
      "id": "yFB6fP_Cu0Rw",
      "execution_count": null,
      "outputs": []
    },
    {
      "cell_type": "markdown",
      "source": [
        "Let's use Element84 search endpoint to look for items from the sentinel-2-l2a collection on AWS."
      ],
      "metadata": {
        "id": "nL8kqCYovK1S"
      },
      "id": "nL8kqCYovK1S"
    },
    {
      "cell_type": "code",
      "source": [
        "catalog = pystac_client.Client.open(\n",
        "    'https://earth-search.aws.element84.com/v1')\n",
        "\n",
        "# Define a small bounding box around the chosen point\n",
        "km2deg = 1.0 / 111\n",
        "x, y = (longitude, latitude)\n",
        "r = 1 * km2deg  # radius in degrees\n",
        "bbox = (x - r, y - r, x + r, y + r)\n",
        "\n",
        "search = catalog.search(\n",
        "    collections=['sentinel-2-c1-l2a'],\n",
        "    bbox=bbox,\n",
        "    datetime=f'{year}',\n",
        "    query={'eo:cloud_cover': {'lt': 30}},\n",
        ")\n",
        "items = search.item_collection()"
      ],
      "metadata": {
        "id": "Eyw63wuevOp-"
      },
      "id": "Eyw63wuevOp-",
      "execution_count": null,
      "outputs": []
    },
    {
      "cell_type": "markdown",
      "source": [
        "Load the matching images as a XArray Dataset."
      ],
      "metadata": {
        "id": "15iTJmV5CwnP"
      },
      "id": "15iTJmV5CwnP"
    },
    {
      "cell_type": "code",
      "source": [
        "ds = stac_load(\n",
        "    items,\n",
        "    bands=['red', 'green', 'blue', 'nir'],\n",
        "    resolution=10,\n",
        "    bbox=bbox,\n",
        "    chunks={},  # <-- use Dask\n",
        "    groupby='solar_day',\n",
        ")\n",
        "ds"
      ],
      "metadata": {
        "id": "Y7a0SNP30yTd"
      },
      "id": "Y7a0SNP30yTd",
      "execution_count": null,
      "outputs": []
    },
    {
      "cell_type": "code",
      "source": [
        "%%time\n",
        "ds = ds.compute()"
      ],
      "metadata": {
        "id": "-6oV0LxqFh9B"
      },
      "id": "-6oV0LxqFh9B",
      "execution_count": null,
      "outputs": []
    },
    {
      "cell_type": "markdown",
      "source": [
        "## XArray Terminology"
      ],
      "metadata": {
        "id": "fI0aLfKGUMrA"
      },
      "id": "fI0aLfKGUMrA"
    },
    {
      "cell_type": "markdown",
      "id": "0fd6be48-a145-4267-aba6-4b0f4c5985a8",
      "metadata": {
        "id": "0fd6be48-a145-4267-aba6-4b0f4c5985a8"
      },
      "source": [
        "We now have a `xarray.Dataset` object. Let's understand what is contained in a Dataset.\n",
        "\n",
        "* *Variables*: This is similar to a band in a raster dataset. Each variable contains an array of values.\n",
        "* *Dimensions*: This is similar to number of array axes.\n",
        "* *Coordinates*: These are the labels for values in each dimension.\n",
        "* *Attributes*: This is the metadata associated with the dataset.\n",
        "\n",
        "<img src='https://courses.spatialthoughts.com/images/python_dataviz/xarray_terminology.png' width=800/>"
      ]
    },
    {
      "cell_type": "markdown",
      "source": [
        "A Dataset consists of one or more `xarray.DataArray` object. This is the main object that consists of a single variable with dimension names, coordinates and attributes. You can access each variable using `dataset.variable_name` syntax."
      ],
      "metadata": {
        "id": "bWljr_MFd3V_"
      },
      "id": "bWljr_MFd3V_"
    },
    {
      "cell_type": "code",
      "source": [
        "da = ds.red\n",
        "da"
      ],
      "metadata": {
        "id": "X_HeukeMbLRM"
      },
      "id": "X_HeukeMbLRM",
      "execution_count": null,
      "outputs": []
    },
    {
      "cell_type": "markdown",
      "source": [
        "## Selecting Data"
      ],
      "metadata": {
        "id": "uQpUHRcLjcsc"
      },
      "id": "uQpUHRcLjcsc"
    },
    {
      "cell_type": "markdown",
      "source": [
        "XArray provides a very powerful way to select subsets of data, using similar framework as Pandas. Similar to Panda's `loc` and `iloc` methods, XArray provides `sel` and `isel` methods. Since DataArray dimensions have names, these methods allow you to specify which dimension to query.\n",
        "\n",
        "Let's select the temperature anomany values for the last time step. Since we know the index (-1) of the datam we can use `isel` method."
      ],
      "metadata": {
        "id": "KygplDrZji-b"
      },
      "id": "KygplDrZji-b"
    },
    {
      "cell_type": "code",
      "source": [
        "da.isel(time=-1)"
      ],
      "metadata": {
        "id": "5b-VtoY3j4YK"
      },
      "id": "5b-VtoY3j4YK",
      "execution_count": null,
      "outputs": []
    },
    {
      "cell_type": "markdown",
      "source": [
        "You can call `.values` on a DataArray to get an array of the values."
      ],
      "metadata": {
        "id": "kYMppQ2UGByh"
      },
      "id": "kYMppQ2UGByh"
    },
    {
      "cell_type": "code",
      "source": [
        "da.isel(time=-1).values"
      ],
      "metadata": {
        "id": "yB8mzpE_FZmo"
      },
      "id": "yB8mzpE_FZmo",
      "execution_count": null,
      "outputs": []
    },
    {
      "cell_type": "markdown",
      "source": [
        "You can query for a values at using multiple dimensions."
      ],
      "metadata": {
        "id": "5ENqhRR6GWsi"
      },
      "id": "5ENqhRR6GWsi"
    },
    {
      "cell_type": "code",
      "source": [
        "da.isel(time=-1, x=-1, y=-1).values"
      ],
      "metadata": {
        "id": "NSIWgBbsGNax"
      },
      "id": "NSIWgBbsGNax",
      "execution_count": null,
      "outputs": []
    },
    {
      "cell_type": "markdown",
      "source": [
        "We can also specify a value to query using the `sel()` method."
      ],
      "metadata": {
        "id": "Om3Ly63LlTSL"
      },
      "id": "Om3Ly63LlTSL"
    },
    {
      "cell_type": "markdown",
      "source": [
        "Let's see what are the values of `time` variable."
      ],
      "metadata": {
        "id": "O-uE_Er-mzVS"
      },
      "id": "O-uE_Er-mzVS"
    },
    {
      "cell_type": "code",
      "source": [
        "dates = da.time.values\n",
        "dates"
      ],
      "metadata": {
        "id": "g9NPcxApGoKi"
      },
      "id": "g9NPcxApGoKi",
      "execution_count": null,
      "outputs": []
    },
    {
      "cell_type": "markdown",
      "source": [
        "We can query using the value of a coordinate using the `sel()` method."
      ],
      "metadata": {
        "id": "rCPAzhDPGuKl"
      },
      "id": "rCPAzhDPGuKl"
    },
    {
      "cell_type": "code",
      "source": [
        "da.sel(time=dates[0])"
      ],
      "metadata": {
        "id": "L_N8KcBAGs_l"
      },
      "id": "L_N8KcBAGs_l",
      "execution_count": null,
      "outputs": []
    },
    {
      "cell_type": "markdown",
      "source": [
        "The `sel()` method also support nearest neighbor lookups. This is useful when you do not know the exact label of the dimension, but want to find the closest one.\n",
        "\n",
        "> Tip: You can use `interp()` instead of `sel()` to interpolate the value instead of closest lookup."
      ],
      "metadata": {
        "id": "rhdaOW7OohWs"
      },
      "id": "rhdaOW7OohWs"
    },
    {
      "cell_type": "code",
      "execution_count": null,
      "id": "8a1a87fa-4986-4373-aae7-94d5ad77455d",
      "metadata": {
        "id": "8a1a87fa-4986-4373-aae7-94d5ad77455d"
      },
      "outputs": [],
      "source": [
        "da.sel(time='2023-01-01', method='nearest')"
      ]
    },
    {
      "cell_type": "markdown",
      "source": [
        "The `sel()` method also allows specifying range of values using Python's built-in `slice()` function. The code below will select all observations during January 2023."
      ],
      "metadata": {
        "id": "ztTj27_4C4lm"
      },
      "id": "ztTj27_4C4lm"
    },
    {
      "cell_type": "code",
      "source": [
        "da.sel(time=slice('2023-01-01', '2023-01-31'))"
      ],
      "metadata": {
        "id": "UpXiTCVzDFIA"
      },
      "id": "UpXiTCVzDFIA",
      "execution_count": null,
      "outputs": []
    },
    {
      "cell_type": "markdown",
      "source": [
        "## Aggregating Data"
      ],
      "metadata": {
        "id": "Jne8eqYYpLo7"
      },
      "id": "Jne8eqYYpLo7"
    },
    {
      "cell_type": "markdown",
      "id": "2bc933c5-d6c8-4029-b1c4-4db90ec0015f",
      "metadata": {
        "id": "2bc933c5-d6c8-4029-b1c4-4db90ec0015f"
      },
      "source": [
        "A very-powerful feature of XArray is the ability to easily aggregate data across dimensions - making it ideal for many remote sensing analysis. Let's create a median composite from all the individual images.\n",
        "\n",
        "We apply the `.median()` aggregation across the `time` dimension."
      ]
    },
    {
      "cell_type": "code",
      "source": [
        "median = ds.median(dim='time')\n",
        "median"
      ],
      "metadata": {
        "id": "HbmF5iEHB2J6"
      },
      "id": "HbmF5iEHB2J6",
      "execution_count": null,
      "outputs": []
    },
    {
      "cell_type": "markdown",
      "source": [
        "## Visualizing Data"
      ],
      "metadata": {
        "id": "gKkSODkLItFv"
      },
      "id": "gKkSODkLItFv"
    },
    {
      "cell_type": "markdown",
      "source": [
        "XArray provides a `plot.imshow()` method based on Matplotlib."
      ],
      "metadata": {
        "id": "pt-5uuA8IZpO"
      },
      "id": "pt-5uuA8IZpO"
    },
    {
      "cell_type": "code",
      "source": [
        "median_da = median.to_array('band')\n",
        "median_da"
      ],
      "metadata": {
        "id": "2RP5fwx8IoG9"
      },
      "id": "2RP5fwx8IoG9",
      "execution_count": null,
      "outputs": []
    },
    {
      "cell_type": "markdown",
      "source": [
        "The easy way to visualize the data without the outliers is to pass the parameter `robust=True`. This will use the 2nd and 98th percentiles of the data to compute the color limits."
      ],
      "metadata": {
        "id": "e9RBHIQIJl10"
      },
      "id": "e9RBHIQIJl10"
    },
    {
      "cell_type": "code",
      "source": [
        "fig, ax = plt.subplots(1, 1)\n",
        "fig.set_size_inches(5,5)\n",
        "monthly.sel(band=['red', 'green', 'blue']).plot.imshow(\n",
        "    ax=ax,\n",
        "    robust=True)\n",
        "ax.set_title('RGB Visualization')\n",
        "ax.set_axis_off()\n",
        "plt.show()"
      ],
      "metadata": {
        "id": "eCRzNdHLJFYN"
      },
      "id": "eCRzNdHLJFYN",
      "execution_count": null,
      "outputs": []
    },
    {
      "cell_type": "markdown",
      "source": [
        "## Exercise"
      ],
      "metadata": {
        "id": "odj6H6QOB8Hz"
      },
      "id": "odj6H6QOB8Hz"
    },
    {
      "cell_type": "markdown",
      "source": [
        "XArray has many features easily work with time-series aggregation methods. Here we take our time-series and aggregate it to a monthly median composites `groupby()` method."
      ],
      "metadata": {
        "id": "nDneOxIW_DH_"
      },
      "id": "nDneOxIW_DH_"
    },
    {
      "cell_type": "code",
      "execution_count": null,
      "id": "4b54645d-7e54-4415-911f-61ed6da2a33f",
      "metadata": {
        "id": "4b54645d-7e54-4415-911f-61ed6da2a33f"
      },
      "outputs": [],
      "source": [
        "monthly = ds.groupby('time.month').median(dim='time')\n",
        "monthly"
      ]
    },
    {
      "cell_type": "markdown",
      "source": [
        "Display the median composite for the month of May.\n",
        "\n",
        "*Tip: After aggregation, we have a new dimension `month`. Use `.sel()` method to extract the DataArray for the chosen month.*"
      ],
      "metadata": {
        "id": "L7A3ahKHKYRS"
      },
      "id": "L7A3ahKHKYRS"
    },
    {
      "cell_type": "code",
      "source": [
        "selected = monthly.sel(month=5).to_array('band')"
      ],
      "metadata": {
        "id": "0nzrWvCtKW6h"
      },
      "id": "0nzrWvCtKW6h",
      "execution_count": null,
      "outputs": []
    },
    {
      "cell_type": "code",
      "source": [
        "fig, ax = plt.subplots(1, 1)\n",
        "fig.set_size_inches(5,5)\n",
        "selected.sel(band=['red', 'green', 'blue']).plot.imshow(\n",
        "    ax=ax,\n",
        "    robust=True)\n",
        "ax.set_title('RGB Visualization')\n",
        "ax.set_axis_off()\n",
        "plt.show()"
      ],
      "metadata": {
        "id": "f3jAF70YK09_"
      },
      "id": "f3jAF70YK09_",
      "execution_count": null,
      "outputs": []
    },
    {
      "cell_type": "code",
      "source": [
        "monthly_da = monthly.to_array('band')\n",
        "\n",
        "fig, axes = plt.subplots(4, 3)\n",
        "fig.set_size_inches(9, 12)\n",
        "\n",
        "for index, ax in enumerate(axes.flat):\n",
        "    month_da = monthly_da.isel(month=index)\n",
        "    month_da.sel(band=['red', 'green', 'blue']).plot.imshow(\n",
        "      ax=ax,\n",
        "      vmin=0,\n",
        "      vmax=3000)\n",
        "    ax.set_title(f'{month_da.month.values}')\n",
        "    ax.set_axis_off()\n",
        "\n",
        "plt.tight_layout()\n",
        "plt.show()\n"
      ],
      "metadata": {
        "id": "j9EiKfbuLa3O"
      },
      "id": "j9EiKfbuLa3O",
      "execution_count": null,
      "outputs": []
    }
  ],
  "metadata": {
    "kernelspec": {
      "display_name": "Python 3 (ipykernel)",
      "language": "python",
      "name": "python3"
    },
    "language_info": {
      "codemirror_mode": {
        "name": "ipython",
        "version": 3
      },
      "file_extension": ".py",
      "mimetype": "text/x-python",
      "name": "python",
      "nbconvert_exporter": "python",
      "pygments_lexer": "ipython3",
      "version": "3.10.5"
    },
    "colab": {
      "provenance": []
    }
  },
  "nbformat": 4,
  "nbformat_minor": 5
}