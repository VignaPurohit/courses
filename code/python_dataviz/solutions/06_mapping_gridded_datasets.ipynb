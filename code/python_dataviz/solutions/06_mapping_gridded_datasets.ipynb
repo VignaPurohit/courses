{
  "cells": [
    {
      "cell_type": "markdown",
      "id": "9a244534-c0a1-41b4-9f73-2087eb72b030",
      "metadata": {
        "id": "9a244534-c0a1-41b4-9f73-2087eb72b030"
      },
      "source": [
        "## Overview\n",
        "\n",
        "In this section, we will take the [Gridded Monthly Temperature Anomaly Data](https://data.giss.nasa.gov/gistemp/) from 1880-present from GISTEMP and visualize the temperature anomaly for the year 2021."
      ]
    },
    {
      "cell_type": "markdown",
      "id": "2c4204d0-acda-418f-b38a-7d5f2be15eca",
      "metadata": {
        "id": "2c4204d0-acda-418f-b38a-7d5f2be15eca"
      },
      "source": [
        "## Setup and Data Download\n",
        "\n",
        "The following blocks of code will install the required packages and download the datasets to your Colab environment."
      ]
    },
    {
      "cell_type": "code",
      "source": [
        "%%capture\n",
        "if 'google.colab' in str(get_ipython()):\n",
        "  !pip install cartopy"
      ],
      "metadata": {
        "id": "ZUMFpnKjR5Or"
      },
      "id": "ZUMFpnKjR5Or",
      "execution_count": null,
      "outputs": []
    },
    {
      "cell_type": "code",
      "execution_count": null,
      "id": "fe6c71dd-37df-47af-9019-d012cc9b5e59",
      "metadata": {
        "id": "fe6c71dd-37df-47af-9019-d012cc9b5e59"
      },
      "outputs": [],
      "source": [
        "import cartopy\n",
        "import cartopy.crs as ccrs\n",
        "import os\n",
        "import matplotlib.pyplot as plt\n",
        "import xarray as xr"
      ]
    },
    {
      "cell_type": "code",
      "source": [
        "data_folder = 'data'\n",
        "output_folder = 'output'\n",
        "\n",
        "if not os.path.exists(data_folder):\n",
        "    os.mkdir(data_folder)\n",
        "if not os.path.exists(output_folder):\n",
        "    os.mkdir(output_folder)"
      ],
      "metadata": {
        "id": "5zB54v7PT1kT"
      },
      "id": "5zB54v7PT1kT",
      "execution_count": null,
      "outputs": []
    },
    {
      "cell_type": "code",
      "source": [
        "def download(url):\n",
        "    filename = os.path.join(data_folder, os.path.basename(url))\n",
        "    if not os.path.exists(filename):\n",
        "        from urllib.request import urlretrieve\n",
        "        local, _ = urlretrieve(url, filename)\n",
        "        print('Downloaded ' + local)\n",
        "\n",
        "filename = 'gistemp1200_GHCNv4_ERSSTv5.nc'\n",
        "\n",
        "data_url = 'https://github.com/spatialthoughts/python-dataviz-web/releases/' \\\n",
        "  'download/gistemp/'\n",
        "\n",
        "download(data_url + filename)"
      ],
      "metadata": {
        "id": "0ckP_6VIT4Li"
      },
      "id": "0ckP_6VIT4Li",
      "execution_count": null,
      "outputs": []
    },
    {
      "cell_type": "markdown",
      "source": [
        "## Data Pre-Processing\n",
        "\n",
        "We read the data using `XArray` and select the `tempanomaly` variable."
      ],
      "metadata": {
        "id": "fI0aLfKGUMrA"
      },
      "id": "fI0aLfKGUMrA"
    },
    {
      "cell_type": "code",
      "execution_count": null,
      "id": "8bb938d8-46f1-4206-ac59-badb3d6eb58c",
      "metadata": {
        "id": "8bb938d8-46f1-4206-ac59-badb3d6eb58c"
      },
      "outputs": [],
      "source": [
        "file_path = os.path.join(data_folder, filename)\n",
        "ds = xr.open_dataset(file_path)\n",
        "da = ds.tempanomaly\n",
        "da"
      ]
    },
    {
      "cell_type": "markdown",
      "source": [
        "We have monthly anomalies from 1880-present. Let's aggregate it to mean yealy anomalies."
      ],
      "metadata": {
        "id": "r9Qvf5xErJ2K"
      },
      "id": "r9Qvf5xErJ2K"
    },
    {
      "cell_type": "code",
      "source": [
        "yearly = da.groupby('time.year').mean(dim='time')\n",
        "yearly"
      ],
      "metadata": {
        "id": "1kceiz-SS0po"
      },
      "id": "1kceiz-SS0po",
      "execution_count": null,
      "outputs": []
    },
    {
      "cell_type": "markdown",
      "source": [
        "## Plotting using Matplotlib\n"
      ],
      "metadata": {
        "id": "-Ovk5LkAGXPJ"
      },
      "id": "-Ovk5LkAGXPJ"
    },
    {
      "cell_type": "markdown",
      "source": [
        "Let's extract the data for one of the years."
      ],
      "metadata": {
        "id": "bFVXJI35rU7y"
      },
      "id": "bFVXJI35rU7y"
    },
    {
      "cell_type": "code",
      "source": [
        "year = 2023"
      ],
      "metadata": {
        "id": "j8JgQvohsxos"
      },
      "id": "j8JgQvohsxos",
      "execution_count": null,
      "outputs": []
    },
    {
      "cell_type": "markdown",
      "source": [
        "We can use the `.sel()` method to query using the value of the `year` dimension."
      ],
      "metadata": {
        "id": "jNiGlI3mszcy"
      },
      "id": "jNiGlI3mszcy"
    },
    {
      "cell_type": "code",
      "source": [
        "anomaly = yearly.sel(year=year)\n",
        "anomaly"
      ],
      "metadata": {
        "id": "-1qd2nlbF8e5"
      },
      "id": "-1qd2nlbF8e5",
      "execution_count": null,
      "outputs": []
    },
    {
      "cell_type": "code",
      "source": [
        "fig, ax = plt.subplots(1, 1)\n",
        "fig.set_size_inches(15, 7)\n",
        "anomaly.plot.imshow(ax=ax)\n",
        "plt.show()"
      ],
      "metadata": {
        "id": "AkSAZ-wmVofS"
      },
      "id": "AkSAZ-wmVofS",
      "execution_count": null,
      "outputs": []
    },
    {
      "cell_type": "markdown",
      "source": [
        "We can customize the plot using Matplotlib's options."
      ],
      "metadata": {
        "id": "94dy1wKGJWN1"
      },
      "id": "94dy1wKGJWN1"
    },
    {
      "cell_type": "code",
      "source": [
        "fig, ax = plt.subplots(1, 1)\n",
        "fig.set_size_inches(15, 7)\n",
        "\n",
        "anomaly2021.plot.imshow(ax=ax,\n",
        "    vmin=-3, vmax=3, add_labels=False, cmap='coolwarm')\n",
        "\n",
        "ax.set_title(f'Temperature Anomaly in {year} (°K)', fontsize = 14)\n",
        "\n",
        "plt.show()"
      ],
      "metadata": {
        "id": "D-4F41BIJVkO"
      },
      "id": "D-4F41BIJVkO",
      "execution_count": null,
      "outputs": []
    },
    {
      "cell_type": "markdown",
      "source": [
        "## Plotting using CartoPy"
      ],
      "metadata": {
        "id": "ZZI-oEU5MHPQ"
      },
      "id": "ZZI-oEU5MHPQ"
    },
    {
      "cell_type": "markdown",
      "source": [
        "To create more informative map visualization, we need to reproject this grid to another projection. CartoPy supports a wide range of projections and can plot them using matplotlib. CartoPy creates a GeoAxes object and replaces the default Axes with it. This allows you to plot the data on a specified projection.\n",
        "\n",
        "We start as usual by create a subplot but specify an additional argument to set the CRS from CartoPy.\n",
        "\n",
        "Reference: [CartoPy List of Projections](https://scitools.org.uk/cartopy/docs/latest/reference/crs.html?highlight=list#list-of-projections)"
      ],
      "metadata": {
        "id": "RmDOIYJnTGtF"
      },
      "id": "RmDOIYJnTGtF"
    },
    {
      "cell_type": "code",
      "source": [
        "projection = ccrs.Orthographic(0, 30)\n",
        "\n",
        "fig, ax = plt.subplots(1, 1, subplot_kw={'projection': projection})\n",
        "fig.set_size_inches(5,5)\n",
        "\n",
        "anomaly.plot.imshow(ax=ax,\n",
        "    vmin=-3, vmax=3, cmap='coolwarm',\n",
        "    transform=ccrs.PlateCarree())\n",
        "\n",
        "plt.tight_layout()\n",
        "plt.show()"
      ],
      "metadata": {
        "id": "VSkckuysTNMt"
      },
      "id": "VSkckuysTNMt",
      "execution_count": null,
      "outputs": []
    },
    {
      "cell_type": "markdown",
      "id": "095c6ba2-bbcb-4fc8-bcef-3c17fc64d080",
      "metadata": {
        "id": "095c6ba2-bbcb-4fc8-bcef-3c17fc64d080"
      },
      "source": [
        "We can further customize the map by adjusting the colorbar.\n",
        "\n",
        "Reference: [matplotlib.pyplot.colorbar](https://matplotlib.org/stable/api/_as_gen/matplotlib.pyplot.colorbar.html)"
      ]
    },
    {
      "cell_type": "code",
      "execution_count": null,
      "id": "bda988ee-11b9-420f-b8c2-c61a1128922a",
      "metadata": {
        "id": "bda988ee-11b9-420f-b8c2-c61a1128922a"
      },
      "outputs": [],
      "source": [
        "projection = ccrs.Orthographic(0, 30)\n",
        "\n",
        "cbar_kwargs = {\n",
        "    'orientation':'horizontal',\n",
        "    'fraction': 0.025,\n",
        "    'pad': 0.05,\n",
        "    'extend':'neither'\n",
        "}\n",
        "\n",
        "fig, ax = plt.subplots(1, 1, subplot_kw={'projection': projection})\n",
        "fig.set_size_inches(10, 10)\n",
        "anomaly.plot.imshow(\n",
        "    ax=ax,\n",
        "    vmin=-3, vmax=3, cmap='coolwarm',\n",
        "    transform=ccrs.PlateCarree(),\n",
        "    add_labels=False,\n",
        "    cbar_kwargs=cbar_kwargs)\n",
        "\n",
        "ax.coastlines()\n",
        "plt.title(f'Temperature Anomaly in {year} (°K)', fontsize = 14)\n",
        "\n",
        "output_folder = 'output'\n",
        "output_path = os.path.join(output_folder, 'anomaly.jpg')\n",
        "plt.savefig(output_path, dpi=300)\n",
        "plt.show()"
      ]
    },
    {
      "cell_type": "markdown",
      "id": "b792f80d-df4a-4e4d-a4f2-687bb465a6ea",
      "metadata": {
        "id": "b792f80d-df4a-4e4d-a4f2-687bb465a6ea"
      },
      "source": [
        "## Exercise\n",
        "\n",
        "Display the map in the Equal Earth projection.\n",
        "\n",
        "<img src='https://courses.spatialthoughts.com/images/python_dataviz/anomaly.png' width=800/>"
      ]
    },
    {
      "cell_type": "code",
      "source": [
        "projection = ccrs.EqualEarth()\n",
        "\n",
        "cbar_kwargs = {\n",
        "    'orientation':'horizontal',\n",
        "    'fraction': 0.025,\n",
        "    'pad': 0.05,\n",
        "    'extend':'neither'\n",
        "}\n",
        "\n",
        "fig, ax = plt.subplots(1, 1, subplot_kw={'projection': projection})\n",
        "fig.set_size_inches(7, 7)\n",
        "anomaly.plot.imshow(\n",
        "    ax=ax,\n",
        "    vmin=-3, vmax=3, cmap='coolwarm',\n",
        "    transform=ccrs.PlateCarree(),\n",
        "    add_labels=False,\n",
        "    cbar_kwargs=cbar_kwargs)\n",
        "\n",
        "ax.coastlines(linewidth=0.3)\n",
        "plt.title(f'Temperature Anomaly in {year} (°K)', fontsize = 14)\n",
        "\n",
        "output_folder = 'output'\n",
        "plt.show()"
      ],
      "metadata": {
        "id": "wWQtyR7xtXwT"
      },
      "id": "wWQtyR7xtXwT",
      "execution_count": null,
      "outputs": []
    }
  ],
  "metadata": {
    "kernelspec": {
      "display_name": "Python 3 (ipykernel)",
      "language": "python",
      "name": "python3"
    },
    "language_info": {
      "codemirror_mode": {
        "name": "ipython",
        "version": 3
      },
      "file_extension": ".py",
      "mimetype": "text/x-python",
      "name": "python",
      "nbconvert_exporter": "python",
      "pygments_lexer": "ipython3",
      "version": "3.10.5"
    },
    "colab": {
      "provenance": []
    }
  },
  "nbformat": 4,
  "nbformat_minor": 5
}