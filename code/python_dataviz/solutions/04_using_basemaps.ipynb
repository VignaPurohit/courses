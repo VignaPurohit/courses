{
  "cells": [
    {
      "cell_type": "markdown",
      "id": "639e8f80-352b-420b-87bf-2da51a03d0b5",
      "metadata": {
        "id": "639e8f80-352b-420b-87bf-2da51a03d0b5"
      },
      "source": [
        "## Overview"
      ]
    },
    {
      "cell_type": "markdown",
      "id": "3f3ba9a3-9c53-403b-b0a7-79105814a3a1",
      "metadata": {
        "id": "3f3ba9a3-9c53-403b-b0a7-79105814a3a1"
      },
      "source": [
        "Creating geospatial visualizations oftern require overlaying your data on a basemap. [Contextily](https://contextily.readthedocs.io/en/latest/) is a package that allows you to fetch various basemaps from the internet and ad them to your plot as static images.\n",
        "\n",
        "We will learn how to take a shapefile showing the path of the [2017 Solar Eclipse](https://svs.gsfc.nasa.gov/4518) and create a map with a topographic basemap."
      ]
    },
    {
      "cell_type": "markdown",
      "source": [
        "## Setup and Data Download\n",
        "\n",
        "The following blocks of code will install the required packages and download the datasets to your Colab environment."
      ],
      "metadata": {
        "id": "tOzdEMTKdEK3"
      },
      "id": "tOzdEMTKdEK3"
    },
    {
      "cell_type": "code",
      "source": [
        "%%capture\n",
        "if 'google.colab' in str(get_ipython()):\n",
        "  !pip install contextily"
      ],
      "metadata": {
        "id": "H3xtRd2DdH5Q"
      },
      "id": "H3xtRd2DdH5Q",
      "execution_count": null,
      "outputs": []
    },
    {
      "cell_type": "code",
      "execution_count": null,
      "id": "7979d13d-39ac-4d72-9904-4534461d44e2",
      "metadata": {
        "id": "7979d13d-39ac-4d72-9904-4534461d44e2"
      },
      "outputs": [],
      "source": [
        "import contextily as cx\n",
        "import geopandas as gpd\n",
        "import matplotlib.pyplot as plt\n",
        "import os\n",
        "import requests\n",
        "import shapely"
      ]
    },
    {
      "cell_type": "code",
      "source": [
        "data_folder = 'data'\n",
        "output_folder = 'output'\n",
        "\n",
        "if not os.path.exists(data_folder):\n",
        "    os.mkdir(data_folder)\n",
        "if not os.path.exists(output_folder):\n",
        "    os.mkdir(output_folder)"
      ],
      "metadata": {
        "id": "x7g96whjdjZ1"
      },
      "id": "x7g96whjdjZ1",
      "execution_count": null,
      "outputs": []
    },
    {
      "cell_type": "code",
      "source": [
        "def download(url):\n",
        "    filename = os.path.join(data_folder, os.path.basename(url))\n",
        "    if not os.path.exists(filename):\n",
        "      with requests.get(url, stream=True, allow_redirects=True) as r:\n",
        "          with open(filename, 'wb') as f:\n",
        "              for chunk in r.iter_content(chunk_size=8192):\n",
        "                  f.write(chunk)\n",
        "      print('Downloaded', filename)"
      ],
      "metadata": {
        "id": "7k3JiDmrgJE9"
      },
      "id": "7k3JiDmrgJE9",
      "execution_count": null,
      "outputs": []
    },
    {
      "cell_type": "code",
      "source": [
        "path_shapefile = 'upath17'\n",
        "umbra_shapefile = 'umbra17'\n",
        "penumbra_shapefile = 'penum17'\n",
        "\n",
        "shapefile_exts = ['.shp', '.shx', '.dbf', '.prj']\n",
        "data_url = 'https://github.com/spatialthoughts/python-dataviz-web/releases/' \\\n",
        "  'download/eclipse/'\n",
        "\n",
        "for shapefile in [path_shapefile, umbra_shapefile, penumbra_shapefile]:\n",
        "  for ext in shapefile_exts:\n",
        "    url = data_url + shapefile + ext\n",
        "    download(url)"
      ],
      "metadata": {
        "id": "kXOsjbAcdlf7"
      },
      "id": "kXOsjbAcdlf7",
      "execution_count": null,
      "outputs": []
    },
    {
      "cell_type": "markdown",
      "source": [
        "## Data Pre-Processing"
      ],
      "metadata": {
        "id": "bCLVZLHHeFOS"
      },
      "id": "bCLVZLHHeFOS"
    },
    {
      "cell_type": "code",
      "execution_count": null,
      "id": "b6c4c5ac-4794-45af-9ff2-e472da77aac8",
      "metadata": {
        "id": "b6c4c5ac-4794-45af-9ff2-e472da77aac8"
      },
      "outputs": [],
      "source": [
        "path_shapefile_path = os.path.join(data_folder, path_shapefile + '.shp')\n",
        "path_gdf = gpd.read_file(path_shapefile_path)\n",
        "path_gdf"
      ]
    },
    {
      "cell_type": "code",
      "source": [
        "umbra_shapefile_path = os.path.join(data_folder, umbra_shapefile + '.shp')\n",
        "umbra_gdf = gpd.read_file(umbra_shapefile_path)\n",
        "umbra_gdf[:5]"
      ],
      "metadata": {
        "id": "FGNd4SrVqYlt"
      },
      "id": "FGNd4SrVqYlt",
      "execution_count": null,
      "outputs": []
    },
    {
      "cell_type": "markdown",
      "source": [
        "## Create a Multi-Layer Map"
      ],
      "metadata": {
        "id": "_x5s1yVMqzi5"
      },
      "id": "_x5s1yVMqzi5"
    },
    {
      "cell_type": "markdown",
      "id": "55afc0a6-0057-4875-bd18-da16b30a2103",
      "metadata": {
        "id": "55afc0a6-0057-4875-bd18-da16b30a2103"
      },
      "source": [
        "We can show a GeoDataFrame using the `plot()` method."
      ]
    },
    {
      "cell_type": "code",
      "execution_count": null,
      "id": "37fbf61e-fcd2-414a-961f-f555206b2b49",
      "metadata": {
        "id": "37fbf61e-fcd2-414a-961f-f555206b2b49"
      },
      "outputs": [],
      "source": [
        "fig, ax = plt.subplots(1, 1)\n",
        "fig.set_size_inches(15,7)\n",
        "path_gdf.plot(\n",
        "    ax=ax,\n",
        "    facecolor='#969696',\n",
        "    edgecolor='none',\n",
        "    alpha=0.5)\n",
        "plt.show()"
      ]
    },
    {
      "cell_type": "markdown",
      "source": [
        "To add another layer to our plot, we can simply render another GeoDataFrame on the same Axes."
      ],
      "metadata": {
        "id": "hQTPy7ofxZHG"
      },
      "id": "hQTPy7ofxZHG"
    },
    {
      "cell_type": "code",
      "source": [
        "fig, ax = plt.subplots(1, 1)\n",
        "fig.set_size_inches(15,7)\n",
        "path_gdf.plot(\n",
        "    ax=ax,\n",
        "    facecolor='#969696',\n",
        "    edgecolor='none',\n",
        "    alpha=0.5)\n",
        "\n",
        "umbra_gdf.plot(\n",
        "    ax=ax,\n",
        "    facecolor='#252525',\n",
        "    edgecolor='none')\n",
        "\n",
        "plt.show()"
      ],
      "metadata": {
        "id": "jJ8keAAurB7W"
      },
      "id": "jJ8keAAurB7W",
      "execution_count": null,
      "outputs": []
    },
    {
      "cell_type": "markdown",
      "source": [
        "## Add A BaseMap"
      ],
      "metadata": {
        "id": "VjfpjHl7fCvd"
      },
      "id": "VjfpjHl7fCvd"
    },
    {
      "cell_type": "markdown",
      "id": "488d8713-163e-40de-8c9c-08c7e9fe1e5e",
      "metadata": {
        "id": "488d8713-163e-40de-8c9c-08c7e9fe1e5e"
      },
      "source": [
        "The visualization is not useful as it is missing context. We want to overlay this on a basemap to understand where the eclipse was visible from. We can choose from a variety of basemap tiles. There are over 200 basemap styles included in the library. Let's see them using the `providers` property."
      ]
    },
    {
      "cell_type": "code",
      "execution_count": null,
      "id": "431ec3d8-1ebb-413b-892d-eac3c62b7002",
      "metadata": {
        "id": "431ec3d8-1ebb-413b-892d-eac3c62b7002"
      },
      "outputs": [],
      "source": [
        "providers = cx.providers\n",
        "providers"
      ]
    },
    {
      "cell_type": "markdown",
      "id": "cbff74bd-b1d3-45d1-b771-0bfbca9a4fdc",
      "metadata": {
        "id": "cbff74bd-b1d3-45d1-b771-0bfbca9a4fdc"
      },
      "source": [
        "For overlaying the eclipse path, let's use the *OpenTopoMap* basemap. We need to specify a CRS for the map. For now, let's use the CRS of the original shapefile."
      ]
    },
    {
      "cell_type": "code",
      "execution_count": null,
      "id": "ddf9a1c0-3ad7-4701-9b23-7df93ad9d4b6",
      "metadata": {
        "id": "ddf9a1c0-3ad7-4701-9b23-7df93ad9d4b6"
      },
      "outputs": [],
      "source": [
        "fig, ax = plt.subplots(1, 1)\n",
        "fig.set_size_inches(15,7)\n",
        "\n",
        "path_gdf.plot(\n",
        "    ax=ax,\n",
        "    facecolor='#969696',\n",
        "    edgecolor='none',\n",
        "    alpha=0.5)\n",
        "\n",
        "umbra_gdf.plot(\n",
        "    ax=ax,\n",
        "    facecolor='#252525',\n",
        "    edgecolor='none')\n",
        "\n",
        "cx.add_basemap(\n",
        "    ax,\n",
        "    crs=path_gdf.crs,\n",
        "    source=cx.providers.OpenTopoMap)\n",
        "\n",
        "plt.show()"
      ]
    },
    {
      "cell_type": "markdown",
      "source": [
        "We can request higher resolution tiles by specifying the `zoom` parameter. But increasing zoom level means many more tiles need to be downloaded. Contextily has some utility functions to find out the zoom level and corresponding tiles that needs to be downloaded."
      ],
      "metadata": {
        "id": "3BKQyZ49wgHt"
      },
      "id": "3BKQyZ49wgHt"
    },
    {
      "cell_type": "code",
      "source": [
        "zoom_level = cx.tile._calculate_zoom(*path_gdf.total_bounds)\n",
        "zoom_level"
      ],
      "metadata": {
        "id": "7yddry1zxSjU"
      },
      "id": "7yddry1zxSjU",
      "execution_count": null,
      "outputs": []
    },
    {
      "cell_type": "code",
      "source": [
        "cx.howmany(*path_gdf.total_bounds, 4, ll=True)\n"
      ],
      "metadata": {
        "id": "45yy8Awjx_Bk"
      },
      "id": "45yy8Awjx_Bk",
      "execution_count": null,
      "outputs": []
    },
    {
      "cell_type": "code",
      "source": [
        "fig, ax = plt.subplots(1, 1)\n",
        "fig.set_size_inches(15,7)\n",
        "\n",
        "path_gdf.plot(\n",
        "    ax=ax,\n",
        "    facecolor='#969696',\n",
        "    edgecolor='none',\n",
        "    alpha=0.5)\n",
        "\n",
        "umbra_gdf.plot(\n",
        "    ax=ax,\n",
        "    facecolor='#252525',\n",
        "    edgecolor='none')\n",
        "\n",
        "cx.add_basemap(\n",
        "    ax,\n",
        "    crs=path_gdf.crs,\n",
        "    source=cx.providers.OpenTopoMap,\n",
        "    zoom=4)\n",
        "\n",
        "plt.show()"
      ],
      "metadata": {
        "id": "SjtMOnyfwXWP"
      },
      "id": "SjtMOnyfwXWP",
      "execution_count": null,
      "outputs": []
    },
    {
      "cell_type": "markdown",
      "id": "385cda36-1b00-4288-82ec-5b0eb7106c74",
      "metadata": {
        "id": "385cda36-1b00-4288-82ec-5b0eb7106c74"
      },
      "source": [
        "As this eclipse primarily covers the United States, we can create a visualization in a CRS suited for the region. We reproject the layers to the US National Atlas Equal Area projection and set the map extent to the bounds of the continental united states."
      ]
    },
    {
      "cell_type": "code",
      "source": [
        "crs = 'EPSG:9311'\n",
        "\n",
        "path_reprojected = path_gdf.to_crs(crs)\n",
        "umbra_reprojected = umbra_gdf.to_crs(crs)\n",
        "\n",
        "# Use the bounding box coordinates for continental us\n",
        "usa = shapely.geometry.box(-125, 24, -66, 49)\n",
        "usa_gdf = gpd.GeoDataFrame(geometry=[usa], crs='EPSG:4326')\n",
        "usa_gdf_reprojected = usa_gdf.to_crs(crs)\n",
        "bounds = usa_gdf_reprojected.total_bounds"
      ],
      "metadata": {
        "id": "gkRibyD-jG0i"
      },
      "id": "gkRibyD-jG0i",
      "execution_count": null,
      "outputs": []
    },
    {
      "cell_type": "code",
      "execution_count": null,
      "id": "326cb219-64a7-4d75-b473-655d7828ac91",
      "metadata": {
        "id": "326cb219-64a7-4d75-b473-655d7828ac91"
      },
      "outputs": [],
      "source": [
        "fig, ax = plt.subplots(1, 1)\n",
        "fig.set_size_inches(15,7)\n",
        "\n",
        "# Set the bounds\n",
        "ax.set_xlim(bounds[0], bounds[2])\n",
        "ax.set_ylim(bounds[1], bounds[3])\n",
        "\n",
        "path_reprojected.plot(\n",
        "    ax=ax,\n",
        "    facecolor='#969696',\n",
        "    edgecolor='none',\n",
        "    alpha=0.5)\n",
        "\n",
        "umbra_reprojected.plot(\n",
        "    ax=ax,\n",
        "    facecolor='#252525',\n",
        "    edgecolor='none')\n",
        "\n",
        "cx.add_basemap(\n",
        "    ax,\n",
        "    crs=path_reprojected.crs,\n",
        "    source=cx.providers.OpenTopoMap,\n",
        "    zoom=5)\n",
        "\n",
        "ax.set_axis_off()\n",
        "ax.set_title('2017 Total Solar Eclipse Path', size = 18)\n",
        "\n",
        "plt.show()"
      ]
    },
    {
      "cell_type": "markdown",
      "id": "61a3c1cb-fb06-461c-9291-12598feffa6e",
      "metadata": {
        "id": "61a3c1cb-fb06-461c-9291-12598feffa6e"
      },
      "source": [
        "## Exercise\n",
        "\n",
        "1. Our eclipse dataset also contains polygons for penumbra contours. Add them to the visualization. This layer has a column `Obscur` that contains the obscuration value (the fraction of the Sun's area covered by the Moon). Style the contours by the obscuration value and add it to the map.\n",
        "2. Instead of the OpenTopoMap, create a visualization using another basemap. Some options to try are  `Esri.WorldTerrain`, `CartoDB.Positron` and `TopPlusOpen.Grey`.\n",
        "3. Save the resulting visualization as a PNG file `eclipse_path.png`."
      ]
    },
    {
      "cell_type": "code",
      "source": [
        "penumbra_shapefile_path = os.path.join(data_folder, penumbra_shapefile + '.shp')\n",
        "penumbra_gdf = gpd.read_file(penumbra_shapefile_path)\n",
        "penumbra_reprojected = penumbra_gdf.to_crs(crs)\n",
        "penumbra_reprojected"
      ],
      "metadata": {
        "id": "1ebA1fqnE1Yq"
      },
      "id": "1ebA1fqnE1Yq",
      "execution_count": null,
      "outputs": []
    },
    {
      "cell_type": "code",
      "source": [
        "fig, ax = plt.subplots(1, 1)\n",
        "fig.set_size_inches(15,7)\n",
        "\n",
        "penumbra_reprojected.plot(\n",
        "    ax=ax,\n",
        "    column='Obscur',\n",
        "    cmap='Greys',\n",
        "    linewidth=1,\n",
        "    alpha=0.2\n",
        ")\n",
        "\n",
        "path_reprojected.plot(\n",
        "    ax=ax,\n",
        "    facecolor='#969696',\n",
        "    edgecolor='none',\n",
        "    alpha=0.5)\n",
        "\n",
        "umbra_reprojected.plot(\n",
        "    ax=ax,\n",
        "    facecolor='#252525',\n",
        "    edgecolor='none')\n",
        "\n",
        "ax.set_xlim(bounds[0], bounds[2])\n",
        "ax.set_ylim(bounds[1], bounds[3])\n",
        "\n",
        "cx.add_basemap(\n",
        "    ax,\n",
        "    crs=path_reprojected.crs,\n",
        "    source=cx.providers.CartoDB.Positron,\n",
        "    zoom=5)\n",
        "\n",
        "ax.set_axis_off()\n",
        "ax.set_title('2017 Total Solar Eclipse Path', size = 18)\n",
        "\n",
        "\n",
        "output_path = os.path.join(output_folder, 'eclipse_path.png')\n",
        "plt.savefig(output_path, dpi=300)\n",
        "\n",
        "\n",
        "plt.show()"
      ],
      "metadata": {
        "id": "kSJQh0zn_w8z"
      },
      "id": "kSJQh0zn_w8z",
      "execution_count": null,
      "outputs": []
    }
  ],
  "metadata": {
    "kernelspec": {
      "display_name": "Python 3 (ipykernel)",
      "language": "python",
      "name": "python3"
    },
    "language_info": {
      "codemirror_mode": {
        "name": "ipython",
        "version": 3
      },
      "file_extension": ".py",
      "mimetype": "text/x-python",
      "name": "python",
      "nbconvert_exporter": "python",
      "pygments_lexer": "ipython3",
      "version": "3.10.5"
    },
    "colab": {
      "provenance": []
    }
  },
  "nbformat": 4,
  "nbformat_minor": 5
}