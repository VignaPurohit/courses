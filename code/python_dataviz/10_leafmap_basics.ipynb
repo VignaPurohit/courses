{
  "cells": [
    {
      "cell_type": "markdown",
      "id": "fd708770-59b8-4fb9-acce-2b2d837d88e6",
      "metadata": {
        "id": "fd708770-59b8-4fb9-acce-2b2d837d88e6"
      },
      "source": [
        "## Overview\n",
        "\n",
        "[Leafmap](https://leafmap.org/) is a Python package for interactive mapping that supports a wide-variety of plotting backends. \n",
        "\n",
        "We will explore the capabilities of Leafmap and create a map that includes vector and raster layers."
      ]
    },
    {
      "cell_type": "markdown",
      "source": [
        "## Setup and Data Download"
      ],
      "metadata": {
        "id": "3LKOmTSadQCJ"
      },
      "id": "3LKOmTSadQCJ"
    },
    {
      "cell_type": "code",
      "source": [
        "%%capture\n",
        "if 'google.colab' in str(get_ipython()):\n",
        "  !apt install libspatialindex-dev\n",
        "  !pip install fiona shapely pyproj rtree mapclassify\n",
        "  !pip install geopandas\n",
        "  !pip install leafmap"
      ],
      "metadata": {
        "id": "QYAcw2IjHVzi"
      },
      "id": "QYAcw2IjHVzi",
      "execution_count": null,
      "outputs": []
    },
    {
      "cell_type": "code",
      "execution_count": null,
      "id": "df487246-fb38-451f-a76d-ffbb7ad95a0f",
      "metadata": {
        "id": "df487246-fb38-451f-a76d-ffbb7ad95a0f"
      },
      "outputs": [],
      "source": [
        "import os\n",
        "import geopandas as gpd\n",
        "import leafmap.foliumap as leafmap"
      ]
    },
    {
      "cell_type": "code",
      "source": [
        "data_folder = 'data'\n",
        "output_folder = 'output'\n",
        "\n",
        "if not os.path.exists(data_folder):\n",
        "    os.mkdir(data_folder)\n",
        "if not os.path.exists(output_folder):\n",
        "    os.mkdir(output_folder)"
      ],
      "metadata": {
        "id": "lOLD5d1yHZIC"
      },
      "id": "lOLD5d1yHZIC",
      "execution_count": null,
      "outputs": []
    },
    {
      "cell_type": "code",
      "source": [
        "def download(url):\n",
        "    filename = os.path.join(data_folder, os.path.basename(url))\n",
        "    if not os.path.exists(filename):\n",
        "        from urllib.request import urlretrieve\n",
        "        local, _ = urlretrieve(url, filename)\n",
        "        print('Downloaded ' + local)\n",
        "\n",
        "json_file = 'bangalore_wards.json'\n",
        "gpkg_file = 'bangalore_roads.gpkg'\n",
        "\n",
        "data_url = 'https://github.com/spatialthoughts/python-dataviz-web/raw/main/data/bangalore/'\n",
        "\n",
        "for f in json_file, gpkg_file:\n",
        "  download(data_url + f)\n"
      ],
      "metadata": {
        "id": "1PVxJlqkHb0q"
      },
      "id": "1PVxJlqkHb0q",
      "execution_count": null,
      "outputs": []
    },
    {
      "cell_type": "markdown",
      "source": [
        "## Leafmap Basics\n",
        "\n",
        "Reference: [Leafmap Key Features](https://leafmap.org/notebooks/00_key_features/)"
      ],
      "metadata": {
        "id": "z_PRvY7aiq6Z"
      },
      "id": "z_PRvY7aiq6Z"
    },
    {
      "cell_type": "code",
      "source": [
        "m = leafmap.Map(width=800, height=500)\n",
        "m"
      ],
      "metadata": {
        "id": "9fEqEt0_iuYR"
      },
      "id": "9fEqEt0_iuYR",
      "execution_count": null,
      "outputs": []
    },
    {
      "cell_type": "markdown",
      "source": [
        "Leafmap's `foliummap` module supports adding a variety of data types along with helper functions.\n",
        "\n",
        "Reference: [leafmap.foliumap.Map.add_geojson](https://leafmap.org/foliumap/#leafmap.foliumap.Map.add_geojson)"
      ],
      "metadata": {
        "id": "8NyMffsKkN3L"
      },
      "id": "8NyMffsKkN3L"
    },
    {
      "cell_type": "code",
      "source": [
        "m = leafmap.Map(width=800, height=500)\n",
        "\n",
        "json_filepath = os.path.join(data_folder, json_file)\n",
        "\n",
        "m.add_geojson(json_filepath, layer_name='City')\n",
        "m.set_center(77.59, 12.97, 10)\n",
        "m"
      ],
      "metadata": {
        "id": "fjBPneGOjTWB"
      },
      "id": "fjBPneGOjTWB",
      "execution_count": null,
      "outputs": []
    },
    {
      "cell_type": "code",
      "source": [
        "m = leafmap.Map(width=800, height=500)\n",
        "\n",
        "gpkg_filepath = os.path.join(data_folder, gpkg_file)\n",
        "\n",
        "roads_gdf = gpd.read_file(gpkg_filepath)\n",
        "\n",
        "m.add_gdf(roads_gdf, layer_name='Roads', style={'color':'blue', 'weight':0.5})\n",
        "m.zoom_to_gdf(roads_gdf)\n",
        "m"
      ],
      "metadata": {
        "id": "gaJ5zMffkeHP"
      },
      "id": "gaJ5zMffkeHP",
      "execution_count": null,
      "outputs": []
    },
    {
      "cell_type": "code",
      "source": [
        "m = leafmap.Map(width=800, height=500)\n",
        "\n",
        "cog_url = os.path.join(data_url, 'bangalore_lulc.tif')\n",
        "bounds = leafmap.cog_bounds(cog_url)\n",
        "\n",
        "m.add_cog_layer(cog_url, layer_name='Land Use Land Cover')\n",
        "m.zoom_to_bounds(bounds)\n",
        "m"
      ],
      "metadata": {
        "id": "maq-ro4rl_Pj"
      },
      "id": "maq-ro4rl_Pj",
      "execution_count": null,
      "outputs": []
    },
    {
      "cell_type": "markdown",
      "source": [
        "## Exercise\n",
        "\n",
        "Leafmap also supports adding custom legends. Below cell contains the color codes and labels for the land cover classes contained in the `bangalore_lulc.tif` image. Add a legend to the map using the `add_legend()` function.\n",
        "\n",
        "Reference: [leafmap.foliumap.Map.add_legend](https://leafmap.org/foliumap/#leafmap.foliumap.Map.add_legend)"
      ],
      "metadata": {
        "id": "Z6ajwt53tfzY"
      },
      "id": "Z6ajwt53tfzY"
    },
    {
      "cell_type": "code",
      "source": [
        "m = leafmap.Map(width=800, height=500)\n",
        "\n",
        "cog_url = os.path.join(data_url, 'bangalore_lulc.tif')\n",
        "bounds = leafmap.cog_bounds(cog_url)\n",
        "\n",
        "m.add_cog_layer(cog_url, layer_name='Land Use Land Cover')\n",
        "m.zoom_to_bounds(bounds)\n",
        "\n",
        "# Add a Legend\n",
        "colors = ['#006400', '#ffbb22','#ffff4c','#f096ff','#fa0000',\n",
        "          '#b4b4b4','#f0f0f0','#0064c8','#0096a0','#00cf75','#fae6a0']\n",
        "labels = [\"Trees\",\"Shrubland\",\"Grassland\",\"Cropland\",\"Built-up\",\n",
        "          \"Barren / sparse vegetation\",\"Snow and ice\",\"Open water\",\n",
        "          \"Herbaceous wetland\",\"Mangroves\",\"Moss and lichen\"]\n",
        "m\n"
      ],
      "metadata": {
        "id": "F02jMssOq2tC"
      },
      "id": "F02jMssOq2tC",
      "execution_count": null,
      "outputs": []
    }
  ],
  "metadata": {
    "kernelspec": {
      "display_name": "Python 3 (ipykernel)",
      "language": "python",
      "name": "python3"
    },
    "language_info": {
      "codemirror_mode": {
        "name": "ipython",
        "version": 3
      },
      "file_extension": ".py",
      "mimetype": "text/x-python",
      "name": "python",
      "nbconvert_exporter": "python",
      "pygments_lexer": "ipython3",
      "version": "3.10.5"
    },
    "colab": {
      "provenance": []
    }
  },
  "nbformat": 4,
  "nbformat_minor": 5
}