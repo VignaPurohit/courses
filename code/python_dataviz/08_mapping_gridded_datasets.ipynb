{
 "cells": [
  {
   "cell_type": "markdown",
   "id": "9a244534-c0a1-41b4-9f73-2087eb72b030",
   "metadata": {},
   "source": [
    "# Mapping Gridded Datasets"
   ]
  },
  {
   "cell_type": "markdown",
   "id": "119aa816-a7c6-4f70-b714-63d2951102c1",
   "metadata": {},
   "source": [
    "https://cds.climate.copernicus.eu/cdsapp#!/dataset/ecv-for-climate-change?tab=overview"
   ]
  },
  {
   "cell_type": "code",
   "execution_count": null,
   "id": "fe6c71dd-37df-47af-9019-d012cc9b5e59",
   "metadata": {},
   "outputs": [],
   "source": [
    "import os\n",
    "from matplotlib import pyplot as plt\n",
    "import cartopy\n",
    "import cartopy.crs as ccrs\n",
    "import xarray as xr"
   ]
  },
  {
   "cell_type": "code",
   "execution_count": null,
   "id": "8bb938d8-46f1-4206-ac59-badb3d6eb58c",
   "metadata": {},
   "outputs": [],
   "source": [
    "data_pkg_path = 'data'\n",
    "file_path = os.path.join(data_pkg_path, 'gistemp','gistemp1200_GHCNv4_ERSSTv5.nc')\n",
    "\n",
    "ds = xr.open_dataset(file_path)"
   ]
  },
  {
   "cell_type": "code",
   "execution_count": null,
   "id": "8a1a87fa-4986-4373-aae7-94d5ad77455d",
   "metadata": {},
   "outputs": [],
   "source": [
    "ds"
   ]
  },
  {
   "cell_type": "code",
   "execution_count": null,
   "id": "4b54645d-7e54-4415-911f-61ed6da2a33f",
   "metadata": {},
   "outputs": [],
   "source": [
    "yearly = ds.resample(time='Y').mean()\n",
    "yearly"
   ]
  },
  {
   "cell_type": "code",
   "execution_count": null,
   "id": "beaf0c87-d0f6-4c3b-b9ee-7c869664d067",
   "metadata": {},
   "outputs": [],
   "source": [
    "anomaly = yearly['tempanomaly']\n",
    "anomaly2021 = anomaly.isel(time=-1)"
   ]
  },
  {
   "cell_type": "code",
   "execution_count": null,
   "id": "e2ebeb83-5dcf-44f0-aece-93ae808b677f",
   "metadata": {},
   "outputs": [],
   "source": [
    "from xarray.plot import imshow\n",
    "imshow(anomaly2021)"
   ]
  },
  {
   "cell_type": "code",
   "execution_count": null,
   "id": "141f015a-bf5a-4ea7-9e0c-128bc1b800aa",
   "metadata": {},
   "outputs": [],
   "source": [
    "ax = plt.axes(projection=ccrs.Orthographic(0, 40))\n",
    "ax.coastlines()\n",
    "fig = plt.gcf()\n",
    "fig.set_size_inches(5,5)\n",
    "plt.show()"
   ]
  },
  {
   "cell_type": "code",
   "execution_count": null,
   "id": "905a289e-ab3e-484d-8b73-5a755f241d5f",
   "metadata": {},
   "outputs": [],
   "source": [
    "ax = plt.axes(projection=ccrs.Orthographic(0, 30))\n",
    "ax.coastlines()\n",
    "anomaly2021.plot.imshow(ax=ax,\n",
    "    vmin=-4, vmax=4, cmap='coolwarm',\n",
    "    transform=ccrs.PlateCarree())\n",
    "\n",
    "fig = plt.gcf()\n",
    "fig.set_size_inches(5,5)\n",
    "plt.tight_layout()\n",
    "plt.show()"
   ]
  },
  {
   "cell_type": "markdown",
   "id": "55f4c6df-7ed5-4648-8cab-5a7f9cf1b39f",
   "metadata": {},
   "source": [
    "https://matplotlib.org/stable/api/_as_gen/matplotlib.pyplot.colorbar.html"
   ]
  },
  {
   "cell_type": "code",
   "execution_count": null,
   "id": "bda988ee-11b9-420f-b8c2-c61a1128922a",
   "metadata": {},
   "outputs": [],
   "source": [
    "cbar_kwargs = {\n",
    "    'orientation':'horizontal',\n",
    "    'location': 'bottom',\n",
    "    'fraction': 0.025,\n",
    "    'pad': 0.05,\n",
    "    'extend':'neither'\n",
    "}\n",
    "\n",
    "ax = plt.axes(projection=ccrs.Orthographic(0, 30))\n",
    "ax.coastlines()\n",
    "anomaly2021.plot.imshow(\n",
    "    ax=ax,\n",
    "    vmin=-4, vmax=4, cmap='coolwarm',\n",
    "    transform=ccrs.PlateCarree(),\n",
    "    add_labels=False,\n",
    "    cbar_kwargs=cbar_kwargs)\n",
    "\n",
    "fig = plt.gcf()\n",
    "fig.set_size_inches(10,10)\n",
    "plt.title('Temprature Anomaly in 2021 (°C)', fontsize = 14)\n",
    "\n",
    "output_folder = 'output'\n",
    "output_path = os.path.join(output_folder, 'anomaly.jpg')\n",
    "plt.savefig(output_path, dpi=300)\n",
    "plt.show()"
   ]
  }
 ],
 "metadata": {
  "kernelspec": {
   "display_name": "Python 3 (ipykernel)",
   "language": "python",
   "name": "python3"
  },
  "language_info": {
   "codemirror_mode": {
    "name": "ipython",
    "version": 3
   },
   "file_extension": ".py",
   "mimetype": "text/x-python",
   "name": "python",
   "nbconvert_exporter": "python",
   "pygments_lexer": "ipython3",
   "version": "3.10.2"
  }
 },
 "nbformat": 4,
 "nbformat_minor": 5
}
