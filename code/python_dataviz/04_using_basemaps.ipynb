{
 "cells": [
  {
   "cell_type": "markdown",
   "id": "639e8f80-352b-420b-87bf-2da51a03d0b5",
   "metadata": {},
   "source": [
    "# Using BaseMaps in Plots"
   ]
  },
  {
   "cell_type": "code",
   "execution_count": null,
   "id": "7979d13d-39ac-4d72-9904-4534461d44e2",
   "metadata": {},
   "outputs": [],
   "source": [
    "import contextily as cx\n",
    "import geopandas as gpd\n",
    "import os\n",
    "\n",
    "%matplotlib inline\n",
    "import matplotlib.pyplot as plt"
   ]
  },
  {
   "cell_type": "code",
   "execution_count": null,
   "id": "b6c4c5ac-4794-45af-9ff2-e472da77aac8",
   "metadata": {},
   "outputs": [],
   "source": [
    "data_pkg_path = 'data'\n",
    "folder = 'eclipse'\n",
    "upath_file = os.path.join(data_pkg_path, folder, 'upath17.shp')\n",
    "path_gdf = gpd.read_file(upath_file)"
   ]
  },
  {
   "cell_type": "code",
   "execution_count": null,
   "id": "37fbf61e-fcd2-414a-961f-f555206b2b49",
   "metadata": {},
   "outputs": [],
   "source": [
    "fig, ax = plt.subplots(1, 1)\n",
    "fig.set_size_inches(15,7)\n",
    "path_gdf.plot(ax=ax)\n",
    "plt.show()"
   ]
  },
  {
   "cell_type": "markdown",
   "id": "f7251bc1-14b8-4f4d-86d6-e911f79e3201",
   "metadata": {},
   "source": [
    "https://svs.gsfc.nasa.gov/4518"
   ]
  },
  {
   "cell_type": "code",
   "execution_count": null,
   "id": "ddf9a1c0-3ad7-4701-9b23-7df93ad9d4b6",
   "metadata": {},
   "outputs": [],
   "source": [
    "fig, ax = plt.subplots(1, 1)\n",
    "fig.set_size_inches(15,7)\n",
    "path_gdf.plot(ax=ax, facecolor='#cccccc', edgecolor='#969696', alpha=0.5)\n",
    "\n",
    "cx.add_basemap(ax, crs=path_gdf.crs, source=cx.providers.OpenTopoMap, zoom=6)\n",
    "plt.show()"
   ]
  },
  {
   "cell_type": "code",
   "execution_count": null,
   "id": "326cb219-64a7-4d75-b473-655d7828ac91",
   "metadata": {},
   "outputs": [],
   "source": [
    "path_reprojected = path_gdf.to_crs('epsg:3857')\n",
    "fig, ax = plt.subplots(1, 1)\n",
    "fig.set_size_inches(15,7)\n",
    "path_reprojected.plot(ax=ax, facecolor='#cccccc', edgecolor='#969696', alpha=0.5)\n",
    "\n",
    "cx.add_basemap(ax, crs=path_reprojected.crs, source=cx.providers.OpenTopoMap)\n",
    "ax.set_axis_off()\n",
    "plt.title('2017 Total Solar Eclipse Path', size = 18)\n",
    "\n",
    "output_folder = 'output'\n",
    "output_path = os.path.join(output_folder, 'eclipse_path.png')\n",
    "plt.savefig(output_path, dpi=300)\n",
    "plt.show()"
   ]
  }
 ],
 "metadata": {
  "kernelspec": {
   "display_name": "Python 3 (ipykernel)",
   "language": "python",
   "name": "python3"
  },
  "language_info": {
   "codemirror_mode": {
    "name": "ipython",
    "version": 3
   },
   "file_extension": ".py",
   "mimetype": "text/x-python",
   "name": "python",
   "nbconvert_exporter": "python",
   "pygments_lexer": "ipython3",
   "version": "3.10.2"
  }
 },
 "nbformat": 4,
 "nbformat_minor": 5
}
