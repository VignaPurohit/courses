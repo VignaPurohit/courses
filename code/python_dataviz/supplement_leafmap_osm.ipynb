{
  "cells": [
    {
      "cell_type": "markdown",
      "id": "fd708770-59b8-4fb9-acce-2b2d837d88e6",
      "metadata": {
        "id": "fd708770-59b8-4fb9-acce-2b2d837d88e6"
      },
      "source": [
        "### Downloading and Visualizing OSM Data with LeafMap\n",
        "\n",
        "[Leafmap](https://leafmap.org/) comes with handy utilities to work with OpenStreetMap data. Using the popular package OSMNx in the background, it provides utility functions to download and visualize data from the OSM database.\n",
        "\n",
        "* [OpenStreetMap Features](https://leafmap.org/notebooks/15_openstreetmap/)\n",
        "* [`leafmap.osm` module](https://leafmap.org/osm/)"
      ]
    },
    {
      "cell_type": "markdown",
      "source": [
        "#### Setup and Data Download"
      ],
      "metadata": {
        "id": "3LKOmTSadQCJ"
      },
      "id": "3LKOmTSadQCJ"
    },
    {
      "cell_type": "code",
      "source": [
        "%%capture\n",
        "if 'google.colab' in str(get_ipython()):\n",
        "  !apt install libspatialindex-dev\n",
        "  !pip install fiona shapely pyproj rtree mapclassify\n",
        "  !pip install geopandas\n",
        "  !pip install leafmap\n",
        "  !pip install osmnx"
      ],
      "metadata": {
        "id": "QYAcw2IjHVzi"
      },
      "id": "QYAcw2IjHVzi",
      "execution_count": null,
      "outputs": []
    },
    {
      "cell_type": "code",
      "execution_count": null,
      "id": "df487246-fb38-451f-a76d-ffbb7ad95a0f",
      "metadata": {
        "id": "df487246-fb38-451f-a76d-ffbb7ad95a0f"
      },
      "outputs": [],
      "source": [
        "import os\n",
        "import geopandas as gpd\n",
        "import leafmap.foliumap as leafmap"
      ]
    },
    {
      "cell_type": "code",
      "source": [
        "data_folder = 'data'\n",
        "output_folder = 'output'\n",
        "\n",
        "if not os.path.exists(data_folder):\n",
        "    os.mkdir(data_folder)\n",
        "if not os.path.exists(output_folder):\n",
        "    os.mkdir(output_folder)"
      ],
      "metadata": {
        "id": "lOLD5d1yHZIC"
      },
      "id": "lOLD5d1yHZIC",
      "execution_count": null,
      "outputs": []
    },
    {
      "cell_type": "markdown",
      "source": [
        "#### Downloading OSM Data\n",
        "\n",
        "We can easily download data for a city or a region by its name using the `leafmap.osm_gdf_from_place()` function. We can specify the list of required tags using a dictionary. See [OSM Wiki](https://wiki.openstreetmap.org/wiki/Map_features) for a complete list of tags and values.\n",
        "\n",
        "You can also download data using a bounding box using `leafmap.osm.osm_gdf_from_bbox()` function.\n",
        "\n",
        "Reference: [`leafmap.osm_gdf_from_place`](https://leafmap.org/osm/#leafmap.osm.osm_gdf_from_place)"
      ],
      "metadata": {
        "id": "s2ctVyYCL1My"
      },
      "id": "s2ctVyYCL1My"
    },
    {
      "cell_type": "code",
      "source": [
        "parking_gdf = leafmap.osm_gdf_from_place('Bangalore', tags={'amenity': ['parking', 'parking_space', 'parking_entrance']})"
      ],
      "metadata": {
        "id": "pgtYUNiVFX4g"
      },
      "id": "pgtYUNiVFX4g",
      "execution_count": null,
      "outputs": []
    },
    {
      "cell_type": "markdown",
      "source": [
        "The results contains points, lines and polygon features. Let's filter to only features with Polygon geometry."
      ],
      "metadata": {
        "id": "DlbfrQCLOYwC"
      },
      "id": "DlbfrQCLOYwC"
    },
    {
      "cell_type": "code",
      "source": [
        "parking_zones = parking_gdf[parking_gdf['geometry'].apply(lambda x : x.type == 'Polygon' )]"
      ],
      "metadata": {
        "id": "YRHJE44uIR1c"
      },
      "id": "YRHJE44uIR1c",
      "execution_count": null,
      "outputs": []
    },
    {
      "cell_type": "markdown",
      "source": [
        "The GeoDataFrame has a hierarchical MultiIndex. Let's flatten it using `reset_index()`"
      ],
      "metadata": {
        "id": "barXYHWRQBFz"
      },
      "id": "barXYHWRQBFz"
    },
    {
      "cell_type": "code",
      "source": [
        "parking_zones = parking_zones.reset_index(level=[0,1])"
      ],
      "metadata": {
        "id": "RhuVE398QAN2"
      },
      "id": "RhuVE398QAN2",
      "execution_count": null,
      "outputs": []
    },
    {
      "cell_type": "markdown",
      "source": [
        "The result has many columns. Let's filter to required columns."
      ],
      "metadata": {
        "id": "6DnG3atVPREl"
      },
      "id": "6DnG3atVPREl"
    },
    {
      "cell_type": "code",
      "source": [
        "parking_zones = parking_zones[['amenity','parking', 'access', 'geometry']]"
      ],
      "metadata": {
        "id": "6ofMoieSPhEc"
      },
      "id": "6ofMoieSPhEc",
      "execution_count": null,
      "outputs": []
    },
    {
      "cell_type": "markdown",
      "source": [
        "We can save the resulting GeoDataFrame to a GeoPackage."
      ],
      "metadata": {
        "id": "xQmFVcWyOTrb"
      },
      "id": "xQmFVcWyOTrb"
    },
    {
      "cell_type": "code",
      "source": [
        "output_file = 'parking_zones.gpkg'\n",
        "output_path = os.path.join(output_folder, output_file)\n",
        "parking_zones.to_file(driver='GPKG', filename=output_path)"
      ],
      "metadata": {
        "id": "wZD4DMqVOSim"
      },
      "id": "wZD4DMqVOSim",
      "execution_count": null,
      "outputs": []
    },
    {
      "cell_type": "markdown",
      "source": [
        "### Visualizing OSM Data\n",
        "\n",
        "The `leafmap.osm` module has many functions that can add OSM data directy to the map. Here we use `add_osm_from_geocode()` function to add the boundary of a region from OSM. In addition, we can select a basemap from `leafmap.basemaps.keys()` for the map."
      ],
      "metadata": {
        "id": "J6z0xlR3RrIZ"
      },
      "id": "J6z0xlR3RrIZ"
    },
    {
      "cell_type": "code",
      "source": [
        "m = leafmap.Map(width=800, height=500)\n",
        "m.add_basemap('CartoDB.DarkMatter')\n",
        "m.add_osm_from_geocode('Bangalore', layer_name='Bangalore', info_mode=None)\n",
        "m"
      ],
      "metadata": {
        "id": "Is8x1-6uH-f1"
      },
      "id": "Is8x1-6uH-f1",
      "execution_count": null,
      "outputs": []
    },
    {
      "cell_type": "markdown",
      "source": [
        "We can add the `parking_zones` GeoDataFrame to the map as well."
      ],
      "metadata": {
        "id": "W7CrLGyPNAXg"
      },
      "id": "W7CrLGyPNAXg"
    },
    {
      "cell_type": "code",
      "source": [
        "m = leafmap.Map(width=800, height=500)\n",
        "m.add_basemap('CartoDB.DarkMatter')\n",
        "m.add_osm_from_geocode('Bangalore', layer_name='Bangalore', info_mode=None)\n",
        "m.add_gdf(parking_zones, layer_name='parking', info_mode='on_click',style={'color':'yellow', 'weight':0.5})\n",
        "m"
      ],
      "metadata": {
        "id": "X-_2NU76NQPq"
      },
      "id": "X-_2NU76NQPq",
      "execution_count": null,
      "outputs": []
    }
  ],
  "metadata": {
    "kernelspec": {
      "display_name": "Python 3 (ipykernel)",
      "language": "python",
      "name": "python3"
    },
    "language_info": {
      "codemirror_mode": {
        "name": "ipython",
        "version": 3
      },
      "file_extension": ".py",
      "mimetype": "text/x-python",
      "name": "python",
      "nbconvert_exporter": "python",
      "pygments_lexer": "ipython3",
      "version": "3.10.5"
    },
    "colab": {
      "provenance": []
    }
  },
  "nbformat": 4,
  "nbformat_minor": 5
}