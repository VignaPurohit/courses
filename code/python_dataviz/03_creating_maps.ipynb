{
 "cells": [
  {
   "cell_type": "markdown",
   "id": "cb4212eb-dd6a-4464-9aa5-bdcfc86f64e1",
   "metadata": {},
   "source": [
    "# Creating Maps"
   ]
  },
  {
   "cell_type": "code",
   "execution_count": null,
   "id": "e59f2b5d-e9d5-4a62-91ef-d583118e6b36",
   "metadata": {},
   "outputs": [],
   "source": [
    "import geopandas as gpd\n",
    "import os\n",
    "import pandas as pd\n",
    "\n",
    "%matplotlib inline\n",
    "import matplotlib.pyplot as plt"
   ]
  },
  {
   "cell_type": "code",
   "execution_count": null,
   "id": "653dbc2c-fee2-48a6-8d92-ca029a7f6d6b",
   "metadata": {},
   "outputs": [],
   "source": [
    "data_pkg_path = 'data'\n",
    "folder = 'census'\n",
    "filename = 'tl_2019_06_tract.shp'\n",
    "file_path = os.path.join(data_pkg_path, folder, filename)\n",
    "tracts = gpd.read_file(file_path)"
   ]
  },
  {
   "cell_type": "code",
   "execution_count": null,
   "id": "c5c9fdc0-bc4a-4ff9-b3eb-9da73bd10c6e",
   "metadata": {},
   "outputs": [],
   "source": [
    "fig, ax = plt.subplots(1, 1)\n",
    "fig.set_size_inches(10,10)\n",
    "tracts.plot(ax=ax)\n",
    "plt.show()"
   ]
  },
  {
   "cell_type": "code",
   "execution_count": null,
   "id": "22f66a3a-bae2-4d9a-931b-7080fc153058",
   "metadata": {},
   "outputs": [],
   "source": [
    "data_pkg_path = 'data'\n",
    "folder = 'census'\n",
    "filename = 'ACSST5Y2019.S0101_data.csv'\n",
    "file_path = os.path.join(data_pkg_path, folder, filename)\n",
    "table = pd.read_csv(file_path, skiprows=[1])"
   ]
  },
  {
   "cell_type": "code",
   "execution_count": null,
   "id": "7b5f17f3-44f5-4aab-a381-109263038eb0",
   "metadata": {},
   "outputs": [],
   "source": [
    "filtered = table[['GEO_ID','NAME', 'S0101_C01_001E']]\n",
    "filtered = filtered.rename(columns = {'S0101_C01_001E': 'Population', 'GEO_ID': 'GEOID'})\n",
    "\n",
    "filtered['GEOID'] = filtered.GEOID.str[-11:]"
   ]
  },
  {
   "cell_type": "code",
   "execution_count": null,
   "id": "1b4013aa-4539-4da9-86a6-bf30063891f2",
   "metadata": {},
   "outputs": [],
   "source": [
    "gdf = tracts.merge(filtered, on='GEOID')"
   ]
  },
  {
   "cell_type": "markdown",
   "id": "166b9c37-e863-47cd-a48a-cd90935d4e1c",
   "metadata": {},
   "source": [
    "Land Area and Persons Per Square Mile https://www.census.gov/quickfacts/fact/note/US/LND110210"
   ]
  },
  {
   "cell_type": "code",
   "execution_count": null,
   "id": "70dc2cfa-269b-446b-955e-e889f721a2f2",
   "metadata": {},
   "outputs": [],
   "source": [
    "gdf['density'] = 1e6*gdf['Population']/gdf['ALAND']"
   ]
  },
  {
   "cell_type": "code",
   "execution_count": null,
   "id": "66ef0dc5-07c5-434e-a0d3-51209abac830",
   "metadata": {},
   "outputs": [],
   "source": [
    "fig, ax = plt.subplots(1, 1)\n",
    "fig.set_size_inches(10,10)\n",
    "gdf.plot(ax=ax, column='density', cmap='RdYlGn_r', scheme='quantiles', k=10, legend=True)\n",
    "ax.set_axis_off()\n",
    "plt.show()\n"
   ]
  },
  {
   "cell_type": "code",
   "execution_count": null,
   "id": "4a304f44-fe08-44d8-98d6-af7cff69daf3",
   "metadata": {},
   "outputs": [],
   "source": [
    "fig, ax = plt.subplots(1, 1)\n",
    "fig.set_size_inches(10,10)\n",
    "gdf.plot(ax=ax, column='density', cmap='RdYlGn_r', scheme='User_Defined', \n",
    "         legend=True, classification_kwds=dict(bins=[1,10,25,50,100, 250, 500, 1000, 5000]))\n",
    "ax.set_axis_off()\n",
    "plt.title('California Population Density (2019)', size = 18)\n",
    "\n",
    "output_folder = 'output'\n",
    "output_path = os.path.join(output_folder, 'california_pop.png')\n",
    "plt.savefig(output_path, dpi=300)\n",
    "plt.show()"
   ]
  }
 ],
 "metadata": {
  "kernelspec": {
   "display_name": "Python 3 (ipykernel)",
   "language": "python",
   "name": "python3"
  },
  "language_info": {
   "codemirror_mode": {
    "name": "ipython",
    "version": 3
   },
   "file_extension": ".py",
   "mimetype": "text/x-python",
   "name": "python",
   "nbconvert_exporter": "python",
   "pygments_lexer": "ipython3",
   "version": "3.10.2"
  }
 },
 "nbformat": 4,
 "nbformat_minor": 5
}
