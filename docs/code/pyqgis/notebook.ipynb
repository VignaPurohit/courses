{
 "cells": [
  {
   "cell_type": "markdown",
   "id": "9735f31d-8534-495a-b038-672bda3c94e4",
   "metadata": {},
   "source": [
    "This notebook shows how to use the PyQGIS API from a Jupyter Notebook.\n",
    "\n",
    "For the best experience, this notebook should be run from a Conda environment with QGIS installed. See our guide to [Install QGIS via Conda](https://courses.spatialthoughts.com/install-qgis-ltr.html#install-qgis-via-conda). Once installed, you can launch Jupyter Lab from the environment and can use the PyQGIS API after the following initialization steps.\n",
    "\n",
    "If you want to run this in another Python environment, you need to ensure the environment variables are correctly configured before starting the Jupyter Notebook. See the [Windows](https://courses.spatialthoughts.com/pyqgis-masterclass.html#windows-configuration) and [MacOS](https://courses.spatialthoughts.com/pyqgis-masterclass.html#macos-configuration) and [Linux](https://courses.spatialthoughts.com/pyqgis-masterclass.html#linuxconda-configuration) configuration instructions. "
   ]
  },
  {
   "cell_type": "markdown",
   "id": "3b52f926-1983-4e69-a7e2-5bd476213417",
   "metadata": {},
   "source": [
    "### Initialize QGIS"
   ]
  },
  {
   "cell_type": "code",
   "execution_count": 2,
   "id": "4e2e87b9-b05b-460e-bca0-6274f4d31172",
   "metadata": {},
   "outputs": [],
   "source": [
    "from qgis.core import QgsApplication\n",
    "\n",
    "qgs = QgsApplication([], False)\n",
    "qgs.initQgis()\n",
    "\n",
    "import processing\n",
    "from processing.core.Processing import Processing\n",
    "Processing.initialize()"
   ]
  },
  {
   "cell_type": "markdown",
   "id": "a36916b9-d1da-497c-b0f4-08af06cdb36f",
   "metadata": {},
   "source": [
    "### Use PyQGIS API \n",
    "\n",
    "Once the initialization is done, you can use all PyQGIS classes and methods."
   ]
  },
  {
   "cell_type": "code",
   "execution_count": 4,
   "id": "24719671-3427-47d8-8500-7ec9009b951f",
   "metadata": {},
   "outputs": [
    {
     "name": "stdout",
     "output_type": "stream",
     "text": [
      "Ellipsoid Distance 4145.446977549562\n"
     ]
    }
   ],
   "source": [
    "from qgis.core import QgsDistanceArea, QgsPointXY\n",
    "\n",
    "san_francisco = (37.7749, -122.4194)\n",
    "new_york = (40.661, -73.944)\n",
    "\n",
    "d = QgsDistanceArea()\n",
    "d.setEllipsoid('WGS84')\n",
    "\n",
    "lat1, lon1 = san_francisco\n",
    "lat2, lon2 = new_york\n",
    "point1 = QgsPointXY(lon1, lat1)\n",
    "point2 = QgsPointXY(lon2, lat2)\n",
    "\n",
    "distance = d.measureLine([point1, point2])\n",
    "print('Ellipsoid Distance', distance/1000)"
   ]
  },
  {
   "cell_type": "markdown",
   "id": "b5eabba9-03ef-4b40-b598-7360f5ad1af5",
   "metadata": {},
   "source": [
    "### Exit QGIS"
   ]
  },
  {
   "cell_type": "code",
   "execution_count": 5,
   "id": "d4c9351f-9e77-4563-aaa5-d0321135c610",
   "metadata": {},
   "outputs": [],
   "source": [
    "qgs.exitQgis()"
   ]
  }
 ],
 "metadata": {
  "kernelspec": {
   "display_name": "Python 3 (ipykernel)",
   "language": "python",
   "name": "python3"
  },
  "language_info": {
   "codemirror_mode": {
    "name": "ipython",
    "version": 3
   },
   "file_extension": ".py",
   "mimetype": "text/x-python",
   "name": "python",
   "nbconvert_exporter": "python",
   "pygments_lexer": "ipython3",
   "version": "3.12.10"
  }
 },
 "nbformat": 4,
 "nbformat_minor": 5
}
