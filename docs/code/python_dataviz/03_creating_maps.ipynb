{
 "cells": [
  {
   "cell_type": "markdown",
   "id": "cb4212eb-dd6a-4464-9aa5-bdcfc86f64e1",
   "metadata": {},
   "source": [
    "# Creating Maps"
   ]
  },
  {
   "cell_type": "markdown",
   "id": "a8cbbaae-c12d-4ed9-9716-81e5c05640e5",
   "metadata": {},
   "source": [
    "Similar to Pandas, GeoPandas has a `plot()` method that can plot geospatial data using Matplotlib.\n",
    "\n",
    "We will work with census data to create a choropleth map of population density. We will start with a shapefile of census tracts, and join it with tabular data to get a GeoDataframe with census tract geometry and correponding populations. "
   ]
  },
  {
   "cell_type": "code",
   "execution_count": null,
   "id": "e59f2b5d-e9d5-4a62-91ef-d583118e6b36",
   "metadata": {},
   "outputs": [],
   "source": [
    "import geopandas as gpd\n",
    "import os\n",
    "import pandas as pd\n",
    "\n",
    "%matplotlib inline\n",
    "import matplotlib.pyplot as plt"
   ]
  },
  {
   "cell_type": "markdown",
   "id": "44c3087b-3a61-4388-a17d-4cde59726b5d",
   "metadata": {},
   "source": [
    "Read the census tracts shapefile as a GeoDataframe"
   ]
  },
  {
   "cell_type": "code",
   "execution_count": null,
   "id": "653dbc2c-fee2-48a6-8d92-ca029a7f6d6b",
   "metadata": {},
   "outputs": [],
   "source": [
    "data_pkg_path = 'data'\n",
    "folder = 'census'\n",
    "filename = 'tl_2019_06_tract.shp'\n",
    "file_path = os.path.join(data_pkg_path, folder, filename)\n",
    "tracts = gpd.read_file(file_path)"
   ]
  },
  {
   "cell_type": "markdown",
   "id": "2cb36867-9303-4b07-88d9-496fd5a3c361",
   "metadata": {},
   "source": [
    "The `plot()` method will render the data to a plot.\n",
    "\n",
    "Reference: [geopandas.GeoDataFrame.plot](https://geopandas.org/en/stable/docs/reference/api/geopandas.GeoDataFrame.plot.html)"
   ]
  },
  {
   "cell_type": "code",
   "execution_count": null,
   "id": "c5c9fdc0-bc4a-4ff9-b3eb-9da73bd10c6e",
   "metadata": {},
   "outputs": [],
   "source": [
    "fig, ax = plt.subplots(1, 1)\n",
    "fig.set_size_inches(10,10)\n",
    "tracts.plot(ax=ax)\n",
    "plt.show()"
   ]
  },
  {
   "cell_type": "markdown",
   "id": "c125690b-a5cd-4c97-8a65-d952de028556",
   "metadata": {},
   "source": [
    "The shapefile does not have any demographic data columns. But we have a CSV file containing a variety of population statistics for each tract. We read this file as a Pandas DataFrame."
   ]
  },
  {
   "cell_type": "code",
   "execution_count": null,
   "id": "22f66a3a-bae2-4d9a-931b-7080fc153058",
   "metadata": {},
   "outputs": [],
   "source": [
    "data_pkg_path = 'data'\n",
    "folder = 'census'\n",
    "filename = 'ACSST5Y2019.S0101_data.csv'\n",
    "file_path = os.path.join(data_pkg_path, folder, filename)\n",
    "table = pd.read_csv(file_path, skiprows=[1])"
   ]
  },
  {
   "cell_type": "markdown",
   "id": "79e9c553-b8e7-4241-b81f-500156d0db86",
   "metadata": {},
   "source": [
    "To join this DataFrame with the GeoDataFrame, we need a column with unique identifiers. We use the `GEOID` column and process the id so they match exactly in both datasets."
   ]
  },
  {
   "cell_type": "code",
   "execution_count": null,
   "id": "7b5f17f3-44f5-4aab-a381-109263038eb0",
   "metadata": {},
   "outputs": [],
   "source": [
    "filtered = table[['GEO_ID','NAME', 'S0101_C01_001E']]\n",
    "filtered = filtered.rename(columns = {'S0101_C01_001E': 'Population', 'GEO_ID': 'GEOID'})\n",
    "\n",
    "filtered['GEOID'] = filtered.GEOID.str[-11:]"
   ]
  },
  {
   "cell_type": "markdown",
   "id": "32a37dfd-d903-4036-aebc-bb12cb52f648",
   "metadata": {},
   "source": [
    "Finally, we do a table join using the `merge` method."
   ]
  },
  {
   "cell_type": "code",
   "execution_count": null,
   "id": "1b4013aa-4539-4da9-86a6-bf30063891f2",
   "metadata": {},
   "outputs": [],
   "source": [
    "gdf = tracts.merge(filtered, on='GEOID')"
   ]
  },
  {
   "cell_type": "markdown",
   "id": "57b28444-b907-4ba2-a6e4-33e9a0c7a408",
   "metadata": {},
   "source": [
    "For creating a choropleth map, we must normalize the population counts. US Census Bureau [recommends](https://www.census.gov/quickfacts/fact/note/US/LND110210) calculating the population density by dividing the total population by the land area. The original shapefile contains a column `ALAND` with the land area in square kilometers. Using it, we compute a new column `density` containing the persons per square kilometer."
   ]
  },
  {
   "cell_type": "code",
   "execution_count": null,
   "id": "70dc2cfa-269b-446b-955e-e889f721a2f2",
   "metadata": {},
   "outputs": [],
   "source": [
    "gdf['density'] = 1e6*gdf['Population']/gdf['ALAND']"
   ]
  },
  {
   "cell_type": "markdown",
   "id": "caf45d36-bd06-4be3-980b-8f6d61caf69a",
   "metadata": {},
   "source": [
    "For a choropleth map, we can specify a color ramp and classification scheme. \n",
    "\n",
    "References: \n",
    "- [Matplotlib Colormaps](https://matplotlib.org/stable/tutorials/colors/colormaps.html)\n",
    "- [Mapclassify Classification Schemes](https://pysal.org/mapclassify/generated/mapclassify.classify.html#mapclassify.classify)"
   ]
  },
  {
   "cell_type": "code",
   "execution_count": null,
   "id": "66ef0dc5-07c5-434e-a0d3-51209abac830",
   "metadata": {},
   "outputs": [],
   "source": [
    "fig, ax = plt.subplots(1, 1)\n",
    "fig.set_size_inches(10,10)\n",
    "gdf.plot(ax=ax, column='density', cmap='RdYlGn_r', scheme='quantiles', k=10, legend=True)\n",
    "ax.set_axis_off()\n",
    "plt.show()"
   ]
  },
  {
   "cell_type": "markdown",
   "id": "ee1fa54f-389d-4ea0-8e9a-3af9552f3371",
   "metadata": {},
   "source": [
    "Instead of the class breaks being determined by the classification scheme, we can manually specify the ranges. "
   ]
  },
  {
   "cell_type": "code",
   "execution_count": null,
   "id": "4a304f44-fe08-44d8-98d6-af7cff69daf3",
   "metadata": {},
   "outputs": [],
   "source": [
    "fig, ax = plt.subplots(1, 1)\n",
    "fig.set_size_inches(10,10)\n",
    "gdf.plot(ax=ax, column='density', cmap='RdYlGn_r', scheme='User_Defined', \n",
    "         legend=True, classification_kwds=dict(bins=[1,10,25,50,100, 250, 500, 1000, 5000]))\n",
    "ax.set_axis_off()\n",
    "plt.title('California Population Density (2019)', size = 18)\n",
    "\n",
    "output_folder = 'output'\n",
    "output_path = os.path.join(output_folder, 'california_pop.png')\n",
    "plt.savefig(output_path, dpi=300)\n",
    "plt.show()"
   ]
  },
  {
   "cell_type": "markdown",
   "id": "2d71f2fb-0ad7-4e0e-af45-d2da31096169",
   "metadata": {},
   "source": [
    "## Exercise\n",
    "\n",
    "Plot the census tracts geodataframe `tracts` with just outlines and no fill color.\n",
    "\n",
    "Hint: The styling options as specified as keyword arguments to the `plot()` function. Set the `facecolor` option to `'none'` for no fills. Check the [*style_kwds* parameter]((https://geopandas.org/en/stable/docs/reference/api/geopandas.GeoDataFrame.plot.html) of the `plot()` method for more details."
   ]
  },
  {
   "cell_type": "code",
   "execution_count": null,
   "id": "c255e741-85ef-4a78-a513-f739662e7321",
   "metadata": {},
   "outputs": [],
   "source": [
    "fig, ax = plt.subplots(1, 1)\n",
    "fig.set_size_inches(10,10)\n",
    "tracts.plot(ax=ax)\n",
    "plt.show()"
   ]
  }
 ],
 "metadata": {
  "kernelspec": {
   "display_name": "Python 3 (ipykernel)",
   "language": "python",
   "name": "python3"
  },
  "language_info": {
   "codemirror_mode": {
    "name": "ipython",
    "version": 3
   },
   "file_extension": ".py",
   "mimetype": "text/x-python",
   "name": "python",
   "nbconvert_exporter": "python",
   "pygments_lexer": "ipython3",
   "version": "3.10.2"
  }
 },
 "nbformat": 4,
 "nbformat_minor": 5
}
