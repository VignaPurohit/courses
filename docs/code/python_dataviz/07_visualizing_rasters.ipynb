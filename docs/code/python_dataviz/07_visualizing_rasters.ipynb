{
  "cells": [
    {
      "cell_type": "markdown",
      "id": "06f25fa8-b260-41fc-b9c2-c5e43640e83b",
      "metadata": {
        "id": "06f25fa8-b260-41fc-b9c2-c5e43640e83b"
      },
      "source": [
        "# Visualizing Rasters\n",
        "\n",
        "[Xarray](http://xarray.pydata.org/) is an evolution of rasterio and is inspired by libraries like pandas to work with raster datasets. It is particularly suited for working with multi-dimensional time-series raster datasets. It also integrates tightly with [dask](https://dask.org/) that allows one to scale raster data processing using parallel computing.\n",
        "\n",
        "[rioxarray](https://corteva.github.io/rioxarray/stable/index.html) is an extension of xarray that makes it easy to work with geospatial rasters. You can install the `rioxarray` package from the `conda-forge` channel. \n",
        "\n",
        "This notebook shows how we can replicate the analysis from the [Working with RasterIO](#working-with-rasterio) exercise and also covers raster data visualization using `matplotlib`. "
      ]
    },
    {
      "cell_type": "markdown",
      "id": "1208284d-2ae5-454a-af9f-d63216e722a9",
      "metadata": {
        "id": "1208284d-2ae5-454a-af9f-d63216e722a9"
      },
      "source": [
        "### XArray and rioxarray Basics\n",
        "\n",
        "We start by reading a single SRTM tile containing elevation values."
      ]
    },
    {
      "cell_type": "code",
      "execution_count": null,
      "id": "83ac9e24-b066-4f4e-a8b4-005cb62dfcac",
      "metadata": {
        "id": "83ac9e24-b066-4f4e-a8b4-005cb62dfcac"
      },
      "outputs": [],
      "source": [
        "import os\n",
        "import numpy as np\n",
        "data_pkg_path = 'data'\n",
        "srtm_dir = 'srtm'\n",
        "filename = 'N28E087.hgt'\n",
        "path = os.path.join(data_pkg_path, srtm_dir, filename)"
      ]
    },
    {
      "cell_type": "markdown",
      "id": "5bd2d07d-9698-42c8-9b93-9bee416d6de0",
      "metadata": {
        "id": "5bd2d07d-9698-42c8-9b93-9bee416d6de0"
      },
      "source": [
        "By convention, `rioxarray` is imported as `rxr`"
      ]
    },
    {
      "cell_type": "code",
      "execution_count": null,
      "id": "cd1f5af2-67cf-48de-aebe-675c4ef0736e",
      "metadata": {
        "id": "cd1f5af2-67cf-48de-aebe-675c4ef0736e"
      },
      "outputs": [],
      "source": [
        "import rioxarray as rxr"
      ]
    },
    {
      "cell_type": "markdown",
      "id": "4463503f-b9e5-49a8-878c-cf81df88bf38",
      "metadata": {
        "id": "4463503f-b9e5-49a8-878c-cf81df88bf38"
      },
      "source": [
        "The `open_rasterio()` method is able to read any data source supported by `rasterio` library."
      ]
    },
    {
      "cell_type": "code",
      "execution_count": null,
      "id": "ea758429-46ae-443d-b406-1d58e0ffd726",
      "metadata": {
        "id": "ea758429-46ae-443d-b406-1d58e0ffd726"
      },
      "outputs": [],
      "source": [
        "rds = rxr.open_rasterio(path)"
      ]
    },
    {
      "cell_type": "markdown",
      "id": "72233874-2076-4634-84e5-80523aa33d90",
      "metadata": {
        "id": "72233874-2076-4634-84e5-80523aa33d90"
      },
      "source": [
        "The result is a `xarray.DataArray` object."
      ]
    },
    {
      "cell_type": "code",
      "execution_count": null,
      "id": "a5eaf0a0-502c-430c-929b-a32ebcd4c462",
      "metadata": {
        "id": "a5eaf0a0-502c-430c-929b-a32ebcd4c462"
      },
      "outputs": [],
      "source": [
        "type(rds)"
      ]
    },
    {
      "cell_type": "markdown",
      "id": "2f7f4ea5-0d87-4d44-a8b0-657fc1e6be84",
      "metadata": {
        "id": "2f7f4ea5-0d87-4d44-a8b0-657fc1e6be84"
      },
      "source": [
        "You can access the pixel values using the `values` property which returns the array’s data as a numpy array."
      ]
    },
    {
      "cell_type": "code",
      "execution_count": null,
      "id": "67bf163b-89ec-43e1-8694-e8b039c9e0f0",
      "metadata": {
        "id": "67bf163b-89ec-43e1-8694-e8b039c9e0f0"
      },
      "outputs": [],
      "source": [
        "rds.values"
      ]
    },
    {
      "cell_type": "markdown",
      "id": "9e7a7dfe-fe0c-4e73-91bb-a48e97a428b1",
      "metadata": {
        "id": "9e7a7dfe-fe0c-4e73-91bb-a48e97a428b1"
      },
      "source": [
        "A `xarray.DataArray` object also contains 1 or more `coordinates`. Each coordinate is a 1-dimensional array representing values along one of the data axes. In case of the 1-band SRTM elevation data, we have 3 coordinates - `x`, `y` and `band`."
      ]
    },
    {
      "cell_type": "code",
      "execution_count": null,
      "id": "5ffabf14-9f17-423f-a0c2-6e55de41888e",
      "metadata": {
        "id": "5ffabf14-9f17-423f-a0c2-6e55de41888e"
      },
      "outputs": [],
      "source": [
        "rds.coords"
      ]
    },
    {
      "cell_type": "markdown",
      "id": "5ac4b851-3a4a-4dec-ab88-0280c460f55d",
      "metadata": {
        "id": "5ac4b851-3a4a-4dec-ab88-0280c460f55d"
      },
      "source": [
        "A key feature of `xarray` is the ability to access slices of the dataset using [index lookup](http://xarray.pydata.org/en/stable/user-guide/indexing.html) methods. For example, we can slice the main dataset and get the data for Band1 using the `sel()` method."
      ]
    },
    {
      "cell_type": "code",
      "execution_count": null,
      "id": "2ad1dce1-a5de-4faf-9c6e-7ea1e16c2e77",
      "metadata": {
        "id": "2ad1dce1-a5de-4faf-9c6e-7ea1e16c2e77"
      },
      "outputs": [],
      "source": [
        "band1 = rds.sel(band=1)"
      ]
    },
    {
      "cell_type": "markdown",
      "id": "831d4d6c-46ed-4462-9ba0-64977e78e866",
      "metadata": {
        "id": "831d4d6c-46ed-4462-9ba0-64977e78e866"
      },
      "source": [
        "The raster metadata is stored in the [`rio`](https://corteva.github.io/rioxarray/stable/rioxarray.html#rioxarray-rio-accessors) accessor. This is enabled by the `rioxarray` library which provides geospatial functions on top of `xarray`. "
      ]
    },
    {
      "cell_type": "code",
      "execution_count": null,
      "id": "6d6edaa8-0c12-45ff-904b-dac19d329605",
      "metadata": {
        "id": "6d6edaa8-0c12-45ff-904b-dac19d329605"
      },
      "outputs": [],
      "source": [
        "print('CRS:', rds.rio.crs)\n",
        "print('Resolution:', rds.rio.resolution())\n",
        "print('Bounds:', rds.rio.bounds())\n",
        "print('Width:', rds.rio.width)\n",
        "print('Height:', rds.rio.height)"
      ]
    },
    {
      "cell_type": "markdown",
      "id": "ea0c46d1-d42b-4560-89d8-242ebe52ca2c",
      "metadata": {
        "id": "ea0c46d1-d42b-4560-89d8-242ebe52ca2c"
      },
      "source": [
        "### Merging Rasters"
      ]
    },
    {
      "cell_type": "markdown",
      "id": "df404c66-338e-453f-8d9f-ca174cd408cc",
      "metadata": {
        "id": "df404c66-338e-453f-8d9f-ca174cd408cc"
      },
      "source": [
        "Now that you understand the basic data structure of *xarray* and the &rio* extension, let's use it to process some data. We will take 4 individual SRTM tiles and merge them to a single GeoTiff. You will note that `rioxarray` handles the CRS and transform much better - taking care of internal details and providing a simple API."
      ]
    },
    {
      "cell_type": "markdown",
      "id": "d24bf4d4-c575-4fe4-b1f6-1fefb5949130",
      "metadata": {
        "id": "d24bf4d4-c575-4fe4-b1f6-1fefb5949130"
      },
      "source": [
        "> Remember to always import `rioxarray` even if you are using sub-modules. Importing `rioxarray` activates the `rio` accessor which is required for all operations."
      ]
    },
    {
      "cell_type": "code",
      "execution_count": null,
      "id": "8ab1a0be-9c2a-4ca5-8c16-27ff79ba4a6e",
      "metadata": {
        "id": "8ab1a0be-9c2a-4ca5-8c16-27ff79ba4a6e"
      },
      "outputs": [],
      "source": [
        "import rioxarray as rxr\n",
        "from rioxarray.merge import merge_arrays"
      ]
    },
    {
      "cell_type": "markdown",
      "id": "9db612b1-4a11-49c8-8be3-c6ba54e614b4",
      "metadata": {
        "id": "9db612b1-4a11-49c8-8be3-c6ba54e614b4"
      },
      "source": [
        "Define input and output paths."
      ]
    },
    {
      "cell_type": "code",
      "execution_count": null,
      "id": "2f232081-1da1-4faa-a349-11be539e2bd2",
      "metadata": {
        "id": "2f232081-1da1-4faa-a349-11be539e2bd2"
      },
      "outputs": [],
      "source": [
        "srtm_path = os.path.join(data_pkg_path, 'srtm')\n",
        "all_files = os.listdir(srtm_path)\n",
        "output_filename = 'merged.tif'\n",
        "output_dir = 'output'\n",
        "output_path = os.path.join(output_dir, output_filename)"
      ]
    },
    {
      "cell_type": "markdown",
      "id": "a98c22a8-44ff-4f7a-b40c-f093e830a373",
      "metadata": {
        "id": "a98c22a8-44ff-4f7a-b40c-f093e830a373"
      },
      "source": [
        "Open each source file using `open_rasterio()` method and store the resulting datasets in a list."
      ]
    },
    {
      "cell_type": "code",
      "execution_count": null,
      "id": "e54ae4ff-8288-4b05-967d-74d13614d432",
      "metadata": {
        "id": "e54ae4ff-8288-4b05-967d-74d13614d432"
      },
      "outputs": [],
      "source": [
        "datasets = []\n",
        "for file in all_files:\n",
        "    path = os.path.join(srtm_path, file)\n",
        "    datasets.append(rxr.open_rasterio(path))"
      ]
    },
    {
      "cell_type": "markdown",
      "id": "eeb28678-acfb-4657-99d9-ab5e14b5a385",
      "metadata": {
        "id": "eeb28678-acfb-4657-99d9-ab5e14b5a385"
      },
      "source": [
        "Use the `merge_arrays()` method from the `rioxarray.merge` module to merge the rasters."
      ]
    },
    {
      "cell_type": "code",
      "execution_count": null,
      "id": "f03b3c6e-8ada-4c24-847f-3720c5f5b88c",
      "metadata": {
        "id": "f03b3c6e-8ada-4c24-847f-3720c5f5b88c"
      },
      "outputs": [],
      "source": [
        "merged = merge_arrays(datasets)"
      ]
    },
    {
      "cell_type": "markdown",
      "id": "58d25418-7d9a-4539-92aa-e357622045b9",
      "metadata": {
        "id": "58d25418-7d9a-4539-92aa-e357622045b9"
      },
      "source": [
        "Finally, save the merged array to disk as a GeoTiff file."
      ]
    },
    {
      "cell_type": "code",
      "execution_count": null,
      "id": "8f3b2551-c09a-44a3-8fe8-157bee38cb18",
      "metadata": {
        "id": "8f3b2551-c09a-44a3-8fe8-157bee38cb18"
      },
      "outputs": [],
      "source": [
        "merged.rio.to_raster(output_path)"
      ]
    },
    {
      "cell_type": "markdown",
      "id": "3f716f73-ef0e-48d4-853a-4c8257bdc3d7",
      "metadata": {
        "id": "3f716f73-ef0e-48d4-853a-4c8257bdc3d7"
      },
      "source": [
        "### Visualizing Rasters using Matplotlib\n",
        "\n",
        "`xarray` plotting functionality is built on top of the the popular `matplotlib` library. "
      ]
    },
    {
      "cell_type": "code",
      "execution_count": null,
      "id": "f70cf71f-4e0f-4d5b-83f6-8f983c3149f6",
      "metadata": {
        "id": "f70cf71f-4e0f-4d5b-83f6-8f983c3149f6"
      },
      "outputs": [],
      "source": [
        "%matplotlib inline\n",
        "import matplotlib.pyplot as plt"
      ]
    },
    {
      "cell_type": "markdown",
      "id": "c36c76ce-a796-4d32-9398-6c039c76908c",
      "metadata": {
        "id": "c36c76ce-a796-4d32-9398-6c039c76908c"
      },
      "source": [
        "You cna visualize any `DataArray` object by calling `plot()` method. Here we create a row of 4 plots and render each of the source SRTM rasters. We can use the `cmap` option to specify a color ramp. Here we are using the built-in *Greys* ramp. Appending **_r** gives us the inverted ramp with blacks representing lower elevation values."
      ]
    },
    {
      "cell_type": "code",
      "execution_count": null,
      "id": "ca27a00f-e365-4d24-82c9-abd02bd4e2f8",
      "metadata": {
        "id": "ca27a00f-e365-4d24-82c9-abd02bd4e2f8"
      },
      "outputs": [],
      "source": [
        "fig, axes = plt.subplots(1, 4)\n",
        "fig.set_size_inches(15,3)\n",
        "plt.tight_layout()\n",
        "for index, dataset in enumerate(datasets):\n",
        "    ax = axes[index]\n",
        "    dataset.plot(ax=ax, cmap='Greys_r')\n",
        "    ax.axis('off')\n",
        "    filename = all_files[index]\n",
        "    ax.set_title(filename)"
      ]
    },
    {
      "cell_type": "markdown",
      "id": "ca5b51da-8dca-4b1d-b00d-a164612ade21",
      "metadata": {
        "id": "ca5b51da-8dca-4b1d-b00d-a164612ade21"
      },
      "source": [
        "Similarly, we can visualize the merged raster."
      ]
    },
    {
      "cell_type": "code",
      "execution_count": null,
      "id": "2ba44ae0-f955-4bb6-a19a-bbbc1111278c",
      "metadata": {
        "id": "2ba44ae0-f955-4bb6-a19a-bbbc1111278c"
      },
      "outputs": [],
      "source": [
        "fig, ax = plt.subplots()\n",
        "fig.set_size_inches(12, 10)\n",
        "merged.plot(ax=ax, cmap='Greys_r')\n",
        "ax.set_title('merged')\n",
        "plt.show()"
      ]
    },
    {
      "cell_type": "code",
      "execution_count": null,
      "id": "4bd05c7c-c6fd-4450-abfc-c6170018cbd4",
      "metadata": {
        "id": "4bd05c7c-c6fd-4450-abfc-c6170018cbd4"
      },
      "outputs": [],
      "source": [
        "merged"
      ]
    },
    {
      "cell_type": "code",
      "execution_count": null,
      "id": "5648ecc7-30fa-46e0-8e96-fdfc9d2c1445",
      "metadata": {
        "id": "5648ecc7-30fa-46e0-8e96-fdfc9d2c1445"
      },
      "outputs": [],
      "source": [
        "bands, rows, cols = np.where(merged == np.max(merged))\n",
        "band = bands[0]\n",
        "row = rows[0]\n",
        "col = cols[0]\n",
        "print(band, row, col)"
      ]
    },
    {
      "cell_type": "code",
      "execution_count": null,
      "id": "01359b57-f8b3-4365-8594-701a442994e5",
      "metadata": {
        "id": "01359b57-f8b3-4365-8594-701a442994e5"
      },
      "outputs": [],
      "source": [
        "result = merged.isel(band=band, x=col, y=row)\n",
        "lat = result.y.values\n",
        "lon = result.x.values\n",
        "elevation = int(result)\n",
        "print(lat, lon, elevation)"
      ]
    },
    {
      "cell_type": "code",
      "execution_count": null,
      "id": "b9826d89-b6fc-4f0e-8e04-1e6555d3d715",
      "metadata": {
        "id": "b9826d89-b6fc-4f0e-8e04-1e6555d3d715"
      },
      "outputs": [],
      "source": [
        "fig, ax = plt.subplots(1, 1)\n",
        "fig.set_size_inches(12, 12)\n",
        "merged.plot(ax=ax, cmap='viridis')\n",
        "ax.plot(lon, lat, '^r', markersize=11)\n",
        "ax.annotate('Mt. Everest (elevation:{}m)'.format(elevation),\n",
        "            xy=(lon, lat), xycoords='data',\n",
        "            xytext=(20, 20), textcoords='offset points',\n",
        "            arrowprops=dict(arrowstyle='->', color='black')\n",
        "            )\n",
        "\n",
        "output_folder = 'output'\n",
        "output_path = os.path.join(output_folder, 'mt_everest.png')\n",
        "plt.savefig(output_path, dpi=300)\n",
        "\n",
        "plt.show()"
      ]
    }
  ],
  "metadata": {
    "kernelspec": {
      "display_name": "Python 3 (ipykernel)",
      "language": "python",
      "name": "python3"
    },
    "language_info": {
      "codemirror_mode": {
        "name": "ipython",
        "version": 3
      },
      "file_extension": ".py",
      "mimetype": "text/x-python",
      "name": "python",
      "nbconvert_exporter": "python",
      "pygments_lexer": "ipython3",
      "version": "3.10.5"
    },
    "colab": {
      "provenance": []
    }
  },
  "nbformat": 4,
  "nbformat_minor": 5
}