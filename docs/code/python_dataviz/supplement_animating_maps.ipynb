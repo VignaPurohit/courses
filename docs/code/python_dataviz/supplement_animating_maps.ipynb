{
 "cells": [
  {
   "cell_type": "markdown",
   "id": "63a4a6b3-3860-4ec1-b8a1-f781d536e400",
   "metadata": {},
   "source": [
    "# Creating Animated Maps"
   ]
  },
  {
   "cell_type": "markdown",
   "id": "31062a14-f21f-4ff6-9b96-a5bc5f5efec7",
   "metadata": {},
   "source": [
    "We can now apply the same technique to animate the path of the solar eclipse."
   ]
  },
  {
   "cell_type": "code",
   "execution_count": null,
   "id": "7979d13d-39ac-4d72-9904-4534461d44e2",
   "metadata": {},
   "outputs": [],
   "source": [
    "import contextily as cx\n",
    "import geopandas as gpd\n",
    "import os\n",
    "\n",
    "%matplotlib inline\n",
    "import matplotlib.pyplot as plt\n",
    "from matplotlib.animation import FuncAnimation, PillowWriter"
   ]
  },
  {
   "cell_type": "code",
   "execution_count": null,
   "id": "b6c4c5ac-4794-45af-9ff2-e472da77aac8",
   "metadata": {},
   "outputs": [],
   "source": [
    "data_pkg_path = 'data'\n",
    "folder = 'eclipse'\n",
    "upath_file = os.path.join(data_pkg_path, folder, 'upath17.shp')\n",
    "path_gdf = gpd.read_file(upath_file)\n",
    "umbra_file = os.path.join(data_pkg_path, folder, 'w_umbra17_1m.shp')\n",
    "umbra_gdf = gpd.read_file(umbra_file)"
   ]
  },
  {
   "cell_type": "code",
   "execution_count": null,
   "id": "92dc4eca-0e06-49f7-ba36-20325dca9808",
   "metadata": {},
   "outputs": [],
   "source": [
    "path_reprojected = path_gdf.to_crs('epsg:3857')\n",
    "umbra_reprojected = umbra_gdf.to_crs('epsg:3857')"
   ]
  },
  {
   "cell_type": "code",
   "execution_count": null,
   "id": "326cb219-64a7-4d75-b473-655d7828ac91",
   "metadata": {},
   "outputs": [],
   "source": [
    "fig, ax = plt.subplots(1, 1)\n",
    "fig.set_size_inches(15,7)\n",
    "path_reprojected.plot(ax=ax, facecolor='#cccccc', edgecolor='#969696', alpha=0.5)\n",
    "umbra_reprojected.plot(ax=ax, facecolor='none', edgecolor='#636363', alpha=0.5)\n",
    "\n",
    "cx.add_basemap(ax, crs=path_reprojected.crs, source=cx.providers.OpenTopoMap)\n",
    "ax.set_axis_off()\n",
    "plt.title('2017 Total Solar Eclipse Path', size = 18)\n",
    "\n",
    "plt.show()"
   ]
  },
  {
   "cell_type": "code",
   "execution_count": null,
   "id": "8d2a33a7-9766-4aa2-8c0f-b80b01db7a1b",
   "metadata": {},
   "outputs": [],
   "source": [
    "path_boundary = path_reprojected.geometry.unary_union\n",
    "umbra_subset = umbra_reprojected[umbra_reprojected.geometry.intersects(path_boundary)]"
   ]
  },
  {
   "cell_type": "code",
   "execution_count": null,
   "id": "98934080-3fa3-4700-ac59-ea25715b9c97",
   "metadata": {},
   "outputs": [],
   "source": [
    "fig, ax = plt.subplots(1, 1)\n",
    "fig.set_size_inches(15,7)\n",
    "path_reprojected.plot(ax=ax, facecolor='#cccccc', edgecolor='#969696', alpha=0.5)\n",
    "umbra_subset.plot(ax=ax, facecolor='none', edgecolor='#636363', alpha=0.5)\n",
    "\n",
    "cx.add_basemap(ax, crs=path_reprojected.crs, source=cx.providers.OpenTopoMap)\n",
    "ax.set_axis_off()\n",
    "plt.title('2017 Total Solar Eclipse Path', size = 18)\n",
    "\n",
    "plt.show()"
   ]
  },
  {
   "cell_type": "code",
   "execution_count": null,
   "id": "98eefa76-421e-4fab-a547-097e2427ea6a",
   "metadata": {},
   "outputs": [],
   "source": [
    "fig, ax = plt.subplots(1, 1)\n",
    "fig.set_size_inches(15,7)\n",
    "plt.tight_layout()\n",
    "\n",
    "def animate(i):\n",
    "    ax.clear()\n",
    "    # Get the point from the points list at index i\n",
    "    umbra_filtered = umbra_subset.iloc[i:i+1]\n",
    "    path_reprojected.plot(ax=ax, facecolor='#cccccc', edgecolor='#969696', alpha=0.5)\n",
    "    cx.add_basemap(ax, crs=path_reprojected.crs, source=cx.providers.OpenTopoMap)\n",
    "    umbra_filtered.plot(ax=ax, facecolor='#252525', edgecolor='#636363', alpha=0.5)\n",
    "    ax.set_axis_off()\n",
    "    props = dict(boxstyle='round', facecolor='wheat', alpha=0.5)\n",
    "    time = umbra_filtered.iloc[0].UTCTime\n",
    "    text = 'Time: {} UTC'.format(time)\n",
    "    ax.text(0.05, 0.20, text, transform=ax.transAxes, fontsize=16,\n",
    "            verticalalignment='top', bbox=props)\n",
    "    ax.set_title('2017 Total Solar Eclipse Path', size = 18)\n",
    "\n",
    "ani = FuncAnimation(fig, animate, frames=len(umbra_subset),\n",
    "                    interval=500, repeat=True, cache_frame_data=True)\n",
    "plt.close()"
   ]
  },
  {
   "cell_type": "code",
   "execution_count": null,
   "id": "5a0ef625-3c3b-4ade-9e31-4ed8bcecbdfb",
   "metadata": {},
   "outputs": [],
   "source": [
    "import matplotlib as mpl\n",
    "mpl.rcParams['animation.embed_limit'] = 2**128\n",
    "from IPython.display import HTML\n",
    "#HTML(ani.to_jshtml())"
   ]
  },
  {
   "cell_type": "code",
   "execution_count": null,
   "id": "6bed89a9-1ac7-4e24-8a6c-46eff2901201",
   "metadata": {},
   "outputs": [],
   "source": [
    "output_folder = 'output'\n",
    "output_path = os.path.join(output_folder, 'solar_eclipse.gif')\n",
    "\n",
    "#ani.save(output_path, writer=PillowWriter(fps=5))"
   ]
  }
 ],
 "metadata": {
  "kernelspec": {
   "display_name": "Python 3 (ipykernel)",
   "language": "python",
   "name": "python3"
  },
  "language_info": {
   "codemirror_mode": {
    "name": "ipython",
    "version": 3
   },
   "file_extension": ".py",
   "mimetype": "text/x-python",
   "name": "python",
   "nbconvert_exporter": "python",
   "pygments_lexer": "ipython3",
   "version": "3.10.5"
  }
 },
 "nbformat": 4,
 "nbformat_minor": 5
}
