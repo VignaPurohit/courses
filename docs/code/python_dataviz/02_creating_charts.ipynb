{
 "cells": [
  {
   "cell_type": "markdown",
   "id": "791b699d-6d6e-4fe7-a370-013fb5d0f638",
   "metadata": {},
   "source": [
    "# Creating Charts\n",
    "\n",
    "Pandas allows you to read structured datasets and visualize them using the `plot()` method. By default, Pandas uses `matplotlib` to create the plots.\n",
    "\n",
    "In this notebook, we will take work with open dataset of crime in London."
   ]
  },
  {
   "cell_type": "code",
   "execution_count": null,
   "id": "d2563b4b-da78-43e7-8119-98d508e298a1",
   "metadata": {},
   "outputs": [],
   "source": [
    "import pandas as pd\n",
    "import os\n",
    "import glob\n",
    "\n",
    "%matplotlib inline\n",
    "import matplotlib.pyplot as plt"
   ]
  },
  {
   "cell_type": "markdown",
   "id": "dca64db9-dd45-412c-af0a-63d30f686348",
   "metadata": {},
   "source": [
    "We have 12 different CSV files containing crime data for each month of 2020. We can use the `glob` module to find all files matching a pattern."
   ]
  },
  {
   "cell_type": "code",
   "execution_count": null,
   "id": "ea4e4989-c62f-4cea-ad12-c68667d4a5c9",
   "metadata": {},
   "outputs": [],
   "source": [
    "data_pkg_path = 'data'\n",
    "folder = 'crime'\n",
    "file_pattern = '2020-*.csv'\n",
    "file_path_pattern = os.path.join(data_pkg_path, folder, file_pattern)\n",
    "\n",
    "file_list = []\n",
    "for file in glob.glob(file_path_pattern):\n",
    "    file_list.append(file)\n",
    "file_list"
   ]
  },
  {
   "cell_type": "markdown",
   "id": "45d09fdc-508d-4ead-9e06-d00c721b9c62",
   "metadata": {},
   "source": [
    "It will be helpful to merge all these files into a single dataframe. We can use `pd.concat()` to merge a list of dataframes."
   ]
  },
  {
   "cell_type": "code",
   "execution_count": null,
   "id": "f301de58-846c-4273-a246-3e78ea548886",
   "metadata": {},
   "outputs": [],
   "source": [
    "dataframe_list = []\n",
    "\n",
    "for file in file_list:\n",
    "    df = pd.read_csv(file)\n",
    "    dataframe_list.append(df)\n",
    "\n",
    "merged_df = pd.concat(dataframe_list)"
   ]
  },
  {
   "cell_type": "markdown",
   "id": "72b03629-2513-4289-bba7-f8335eba2439",
   "metadata": {},
   "source": [
    "Let's create a pie-chart showing the distribution of different types of crime. Pandas `groupby()` function allows us to calculate group statistics."
   ]
  },
  {
   "cell_type": "code",
   "execution_count": null,
   "id": "ab4d6676-9f3a-4f02-9006-9a83a5c8110c",
   "metadata": {},
   "outputs": [],
   "source": [
    "type_counts = merged_df.groupby('Crime type').size()\n",
    "type_counts"
   ]
  },
  {
   "cell_type": "markdown",
   "id": "7743ee48-d752-4db5-99c6-ff47bc9bc801",
   "metadata": {},
   "source": [
    "We now uses the `plot()` method to create the chart. This method is a wrapper around `matplotlib` and can accept supported arguments from it. \n",
    "\n",
    "Reference: [pandas.DataFrame.plot](https://pandas.pydata.org/docs/reference/api/pandas.DataFrame.plot.html)"
   ]
  },
  {
   "cell_type": "code",
   "execution_count": null,
   "id": "19f928b2-f4fd-459b-b767-715c68e78817",
   "metadata": {},
   "outputs": [],
   "source": [
    "fig, ax = plt.subplots(1, 1)\n",
    "fig.set_size_inches(15,7)\n",
    "type_counts.plot(kind='pie', ax=ax)\n",
    "plt.show()"
   ]
  },
  {
   "cell_type": "code",
   "execution_count": null,
   "id": "282e947a-54fb-4d45-859b-0abe278e25a4",
   "metadata": {},
   "outputs": [],
   "source": [
    "fig, ax = plt.subplots(1, 1)\n",
    "fig.set_size_inches(15,7)\n",
    "type_counts.plot(kind='pie', ax=ax, wedgeprops={'linewidth': 1.0, 'edgecolor': 'white'}, label='')\n",
    "plt.tight_layout()\n",
    "plt.title('Crime Types', fontsize = 18)\n",
    "\n",
    "plt.show()"
   ]
  },
  {
   "cell_type": "markdown",
   "id": "6dcd5c29-ba28-494c-8d3e-93f191b8c337",
   "metadata": {},
   "source": [
    "We can also chart the trend of crime over the year. For this, let's group the data by month."
   ]
  },
  {
   "cell_type": "code",
   "execution_count": null,
   "id": "adf118df-e809-4c5b-abba-9780eedc2b15",
   "metadata": {},
   "outputs": [],
   "source": [
    "monthly_counts = merged_df.groupby('Month').size()\n",
    "monthly_counts"
   ]
  },
  {
   "cell_type": "code",
   "execution_count": null,
   "id": "7adff3d1-2240-4160-a2fa-af64d6cd4ce0",
   "metadata": {},
   "outputs": [],
   "source": [
    "fig, ax = plt.subplots(1, 1)\n",
    "fig.set_size_inches(15,7)\n",
    "monthly_counts.plot(kind='bar', ax=ax)\n",
    "plt.show()"
   ]
  },
  {
   "cell_type": "code",
   "execution_count": null,
   "id": "dd78b6e8-4eb3-4b25-9c3c-bc5a77cb661e",
   "metadata": {},
   "outputs": [],
   "source": [
    "fig, ax = plt.subplots(1, 1)\n",
    "fig.set_size_inches(15,7)\n",
    "monthly_counts.plot(kind='bar', ax=ax)\n",
    "monthly_counts.plot(kind='line', ax=ax, color='red', marker='o')\n",
    "plt.show()"
   ]
  },
  {
   "cell_type": "markdown",
   "id": "df1e1eb5-de0c-413a-aab4-182e912bd720",
   "metadata": {},
   "source": [
    "## Exercise\n",
    "\n",
    "Plot the trend of Bicycle thefts as a line chart. The cell below filters the `merged_df` dataframe to select incidents of 'Bicycle theft'. Group the results by months and plot the results."
   ]
  },
  {
   "cell_type": "code",
   "execution_count": null,
   "id": "12f29169-47c0-45e4-ad33-6db3fcb57a88",
   "metadata": {},
   "outputs": [],
   "source": [
    "bicycle_thefts = merged_df[merged_df['Crime type'] == 'Bicycle theft']"
   ]
  }
 ],
 "metadata": {
  "kernelspec": {
   "display_name": "Python 3 (ipykernel)",
   "language": "python",
   "name": "python3"
  },
  "language_info": {
   "codemirror_mode": {
    "name": "ipython",
    "version": 3
   },
   "file_extension": ".py",
   "mimetype": "text/x-python",
   "name": "python",
   "nbconvert_exporter": "python",
   "pygments_lexer": "ipython3",
   "version": "3.10.5"
  }
 },
 "nbformat": 4,
 "nbformat_minor": 5
}
