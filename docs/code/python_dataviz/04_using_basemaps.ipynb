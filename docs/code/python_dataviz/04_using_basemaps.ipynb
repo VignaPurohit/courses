{
 "cells": [
  {
   "cell_type": "markdown",
   "id": "639e8f80-352b-420b-87bf-2da51a03d0b5",
   "metadata": {},
   "source": [
    "# Using Basemaps"
   ]
  },
  {
   "cell_type": "markdown",
   "id": "3f3ba9a3-9c53-403b-b0a7-79105814a3a1",
   "metadata": {},
   "source": [
    "Creating geospatial visualizations oftern require overlaying your data on a basemap. [Contextily](https://contextily.readthedocs.io/en/latest/) is a package that allows you to fetch various basemaps from the internet and ad them to your plot as static images.\n",
    "\n",
    "We will learn how to take a shapefile showing the path of the [2017 Solar Eclipse](https://svs.gsfc.nasa.gov/4518) and create a map with a topographic map. "
   ]
  },
  {
   "cell_type": "code",
   "execution_count": null,
   "id": "7979d13d-39ac-4d72-9904-4534461d44e2",
   "metadata": {},
   "outputs": [],
   "source": [
    "import contextily as cx\n",
    "import geopandas as gpd\n",
    "import os\n",
    "\n",
    "%matplotlib inline\n",
    "import matplotlib.pyplot as plt"
   ]
  },
  {
   "cell_type": "code",
   "execution_count": null,
   "id": "b6c4c5ac-4794-45af-9ff2-e472da77aac8",
   "metadata": {},
   "outputs": [],
   "source": [
    "data_pkg_path = 'data'\n",
    "folder = 'eclipse'\n",
    "upath_file = os.path.join(data_pkg_path, folder, 'upath17.shp')\n",
    "path_gdf = gpd.read_file(upath_file)"
   ]
  },
  {
   "cell_type": "markdown",
   "id": "55afc0a6-0057-4875-bd18-da16b30a2103",
   "metadata": {},
   "source": [
    "We can show the GeoDataFrame using the `plot()` method."
   ]
  },
  {
   "cell_type": "code",
   "execution_count": null,
   "id": "37fbf61e-fcd2-414a-961f-f555206b2b49",
   "metadata": {},
   "outputs": [],
   "source": [
    "fig, ax = plt.subplots(1, 1)\n",
    "fig.set_size_inches(15,7)\n",
    "path_gdf.plot(ax=ax)\n",
    "plt.show()"
   ]
  },
  {
   "cell_type": "markdown",
   "id": "488d8713-163e-40de-8c9c-08c7e9fe1e5e",
   "metadata": {},
   "source": [
    "The visualization is not useful as it is missing context. We want to overlay this on a basemap to understand where the eclipse was visible from. We can choose from a variety of basemap tiles. There are over 200 basemap styles included in the library. Let's see them using the `providers` property."
   ]
  },
  {
   "cell_type": "code",
   "execution_count": null,
   "id": "431ec3d8-1ebb-413b-892d-eac3c62b7002",
   "metadata": {},
   "outputs": [],
   "source": [
    "providers = cx.providers"
   ]
  },
  {
   "cell_type": "markdown",
   "id": "cbff74bd-b1d3-45d1-b771-0bfbca9a4fdc",
   "metadata": {},
   "source": [
    "For overlaying the eclipse path, let's use the *OpenTopoMap* basemap. We need to specify a CRS for the map. For now, let's use the CRS of the original shapefile."
   ]
  },
  {
   "cell_type": "code",
   "execution_count": null,
   "id": "ddf9a1c0-3ad7-4701-9b23-7df93ad9d4b6",
   "metadata": {},
   "outputs": [],
   "source": [
    "fig, ax = plt.subplots(1, 1)\n",
    "fig.set_size_inches(15,7)\n",
    "path_gdf.plot(ax=ax, facecolor='#cccccc', edgecolor='#969696', alpha=0.5)\n",
    "\n",
    "cx.add_basemap(ax, crs=path_gdf.crs, source=cx.providers.OpenTopoMap)\n",
    "plt.show()"
   ]
  },
  {
   "cell_type": "markdown",
   "id": "385cda36-1b00-4288-82ec-5b0eb7106c74",
   "metadata": {},
   "source": [
    "The web tiles for the basemap are in the Web Mercator CRS (EPSG:3857). When you request them in a different CRS, they are warped to the requested CRS. This may cause the labels to not be legible in some cases. Instead, we can request the tiles in their original CRS and reproject our data layer to its CRS."
   ]
  },
  {
   "cell_type": "code",
   "execution_count": null,
   "id": "326cb219-64a7-4d75-b473-655d7828ac91",
   "metadata": {},
   "outputs": [],
   "source": [
    "path_reprojected = path_gdf.to_crs('epsg:3857')\n",
    "fig, ax = plt.subplots(1, 1)\n",
    "fig.set_size_inches(15,7)\n",
    "path_reprojected.plot(ax=ax, facecolor='#cccccc', edgecolor='#969696', alpha=0.5)\n",
    "\n",
    "cx.add_basemap(ax, crs=path_reprojected.crs, source=cx.providers.OpenTopoMap)\n",
    "ax.set_axis_off()\n",
    "plt.title('2017 Total Solar Eclipse Path', size = 18)\n",
    "\n",
    "output_folder = 'output'\n",
    "output_path = os.path.join(output_folder, 'eclipse_path.png')\n",
    "plt.savefig(output_path, dpi=300)\n",
    "plt.show()"
   ]
  },
  {
   "cell_type": "markdown",
   "id": "61a3c1cb-fb06-461c-9291-12598feffa6e",
   "metadata": {},
   "source": [
    "## Exercise\n",
    "\n",
    "Instead of the OpenTopoMap, create a visualization using the *Toner* basemap from *Stamen*."
   ]
  },
  {
   "cell_type": "code",
   "execution_count": null,
   "id": "96c7b79c-5832-4b41-b839-aaf289a59a2e",
   "metadata": {},
   "outputs": [],
   "source": [
    "fig, ax = plt.subplots(1, 1)\n",
    "fig.set_size_inches(15,7)\n",
    "path_gdf.plot(ax=ax, facecolor='#cccccc', edgecolor='#969696', alpha=0.5)\n",
    "\n",
    "cx.add_basemap(ax, crs=path_gdf.crs, source=cx.providers.OpenTopoMap)\n",
    "plt.show()"
   ]
  }
 ],
 "metadata": {
  "kernelspec": {
   "display_name": "Python 3 (ipykernel)",
   "language": "python",
   "name": "python3"
  },
  "language_info": {
   "codemirror_mode": {
    "name": "ipython",
    "version": 3
   },
   "file_extension": ".py",
   "mimetype": "text/x-python",
   "name": "python",
   "nbconvert_exporter": "python",
   "pygments_lexer": "ipython3",
   "version": "3.10.2"
  }
 },
 "nbformat": 4,
 "nbformat_minor": 5
}
