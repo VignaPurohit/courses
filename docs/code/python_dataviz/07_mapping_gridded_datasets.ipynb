{
 "cells": [
  {
   "cell_type": "markdown",
   "id": "9a244534-c0a1-41b4-9f73-2087eb72b030",
   "metadata": {},
   "source": [
    "# Mapping Gridded Datasets"
   ]
  },
  {
   "cell_type": "markdown",
   "id": "2c4204d0-acda-418f-b38a-7d5f2be15eca",
   "metadata": {},
   "source": [
    "Many climate and meteorological datasets come as gridded rasters in data formats such as NetCDF and GRIB. XArray provides [Plotting Functions](https://xarray.pydata.org/en/stable/user-guide/plotting.html) based on Matplotlib. \n",
    "\n",
    "In this section, we will take the [Gridded Monthly Temperature Anomaly Data](https://data.giss.nasa.gov/gistemp/) from 1880-2020 from GISTEMP and visualize the temperature anomaly for the year 2021."
   ]
  },
  {
   "cell_type": "code",
   "execution_count": null,
   "id": "fe6c71dd-37df-47af-9019-d012cc9b5e59",
   "metadata": {},
   "outputs": [],
   "source": [
    "import os\n",
    "from matplotlib import pyplot as plt\n",
    "import cartopy\n",
    "import cartopy.crs as ccrs\n",
    "import xarray as xr"
   ]
  },
  {
   "cell_type": "code",
   "execution_count": null,
   "id": "8bb938d8-46f1-4206-ac59-badb3d6eb58c",
   "metadata": {},
   "outputs": [],
   "source": [
    "data_pkg_path = 'data'\n",
    "file_path = os.path.join(data_pkg_path, 'gistemp','gistemp1200_GHCNv4_ERSSTv5.nc')\n",
    "\n",
    "ds = xr.open_dataset(file_path)"
   ]
  },
  {
   "cell_type": "markdown",
   "id": "0fd6be48-a145-4267-aba6-4b0f4c5985a8",
   "metadata": {},
   "source": [
    "The NetCDF file contains a grid of values for each month from 1880-2020. The `time` dimension has a length of 1704."
   ]
  },
  {
   "cell_type": "code",
   "execution_count": null,
   "id": "8a1a87fa-4986-4373-aae7-94d5ad77455d",
   "metadata": {},
   "outputs": [],
   "source": [
    "ds"
   ]
  },
  {
   "cell_type": "markdown",
   "id": "2bc933c5-d6c8-4029-b1c4-4db90ec0015f",
   "metadata": {},
   "source": [
    "We can aggregate the data to yearly time-steps using the `resample()` method, reducing the `time` dimension."
   ]
  },
  {
   "cell_type": "code",
   "execution_count": null,
   "id": "4b54645d-7e54-4415-911f-61ed6da2a33f",
   "metadata": {},
   "outputs": [],
   "source": [
    "yearly = ds.resample(time='Y').mean()\n",
    "yearly"
   ]
  },
  {
   "cell_type": "markdown",
   "id": "1c243d5e-0786-4c74-8f64-c9317b2b087e",
   "metadata": {},
   "source": [
    "We extract the `tempanomaly` variable and use the indexing method `isel()` to extract the latest time slice."
   ]
  },
  {
   "cell_type": "code",
   "execution_count": null,
   "id": "beaf0c87-d0f6-4c3b-b9ee-7c869664d067",
   "metadata": {},
   "outputs": [],
   "source": [
    "anomaly = yearly['tempanomaly']\n",
    "anomaly2021 = anomaly.isel(time=-1)"
   ]
  },
  {
   "cell_type": "markdown",
   "id": "67a6f32e-3286-468c-bef7-309405979b93",
   "metadata": {},
   "source": [
    "We can now plot this data using the `imshow()` method from xarray."
   ]
  },
  {
   "cell_type": "code",
   "execution_count": null,
   "id": "e2ebeb83-5dcf-44f0-aece-93ae808b677f",
   "metadata": {},
   "outputs": [],
   "source": [
    "from xarray.plot import imshow\n",
    "imshow(anomaly2021)"
   ]
  },
  {
   "cell_type": "markdown",
   "id": "7be8b1ac-5c6b-478b-85bb-5dfbe740a23f",
   "metadata": {},
   "source": [
    "To create more informative map visualization, we need to reproject this grid to another projection. CartoPy supports a wide range of projections and can plot them using matplotlib. CartoPy creates a [GeoAxes](https://scitools.org.uk/cartopy/docs/latest/reference/generated/cartopy.mpl.geoaxes.GeoAxes.html) object and replaces the default `Axes` with it. This allows you to plot the data on a specified projection.\n",
    "\n",
    "Reference: [CartoPy List of Projections](https://scitools.org.uk/cartopy/docs/latest/reference/crs.html?highlight=list#list-of-projections)"
   ]
  },
  {
   "cell_type": "code",
   "execution_count": null,
   "id": "141f015a-bf5a-4ea7-9e0c-128bc1b800aa",
   "metadata": {},
   "outputs": [],
   "source": [
    "ax = plt.axes(projection=ccrs.Orthographic(0, 40))\n",
    "ax.coastlines()\n",
    "fig = plt.gcf()\n",
    "fig.set_size_inches(5,5)\n",
    "plt.show()"
   ]
  },
  {
   "cell_type": "markdown",
   "id": "5e640bbe-9423-412f-a0dc-b39da4dcbec5",
   "metadata": {},
   "source": [
    "We can create a GeoAxes with a custom Orthographic projection and plot the temperature anomaly data on it. The `transform` argument specifies the CRS of the original dataset."
   ]
  },
  {
   "cell_type": "code",
   "execution_count": null,
   "id": "905a289e-ab3e-484d-8b73-5a755f241d5f",
   "metadata": {},
   "outputs": [],
   "source": [
    "ax = plt.axes(projection=ccrs.Orthographic(0, 30))\n",
    "ax.coastlines()\n",
    "anomaly2021.plot.imshow(ax=ax,\n",
    "    vmin=-4, vmax=4, cmap='coolwarm',\n",
    "    transform=ccrs.PlateCarree())\n",
    "\n",
    "fig = plt.gcf()\n",
    "fig.set_size_inches(5,5)\n",
    "plt.tight_layout()\n",
    "plt.show()"
   ]
  },
  {
   "cell_type": "markdown",
   "id": "095c6ba2-bbcb-4fc8-bcef-3c17fc64d080",
   "metadata": {},
   "source": [
    "We can further customize the map by adjusting the colorbar. \n",
    "\n",
    "Reference: [matplotlib.pyplot.colorbar](https://matplotlib.org/stable/api/_as_gen/matplotlib.pyplot.colorbar.html)"
   ]
  },
  {
   "cell_type": "code",
   "execution_count": null,
   "id": "bda988ee-11b9-420f-b8c2-c61a1128922a",
   "metadata": {},
   "outputs": [],
   "source": [
    "cbar_kwargs = {\n",
    "    'orientation':'horizontal',\n",
    "    'location': 'bottom',\n",
    "    'fraction': 0.025,\n",
    "    'pad': 0.05,\n",
    "    'extend':'neither'\n",
    "}\n",
    "\n",
    "ax = plt.axes(projection=ccrs.Orthographic(0, 30))\n",
    "ax.coastlines()\n",
    "anomaly2021.plot.imshow(\n",
    "    ax=ax,\n",
    "    vmin=-4, vmax=4, cmap='coolwarm',\n",
    "    transform=ccrs.PlateCarree(),\n",
    "    add_labels=False,\n",
    "    cbar_kwargs=cbar_kwargs)\n",
    "\n",
    "fig = plt.gcf()\n",
    "fig.set_size_inches(10,10)\n",
    "plt.title('Temprature Anomaly in 2021 (°C)', fontsize = 14)\n",
    "\n",
    "output_folder = 'output'\n",
    "output_path = os.path.join(output_folder, 'anomaly.jpg')\n",
    "plt.savefig(output_path, dpi=300)\n",
    "plt.show()"
   ]
  },
  {
   "cell_type": "markdown",
   "id": "b792f80d-df4a-4e4d-a4f2-687bb465a6ea",
   "metadata": {},
   "source": [
    "## Exercise\n",
    "\n",
    "Display the map in an Equal Earth projection."
   ]
  }
 ],
 "metadata": {
  "kernelspec": {
   "display_name": "Python 3 (ipykernel)",
   "language": "python",
   "name": "python3"
  },
  "language_info": {
   "codemirror_mode": {
    "name": "ipython",
    "version": 3
   },
   "file_extension": ".py",
   "mimetype": "text/x-python",
   "name": "python",
   "nbconvert_exporter": "python",
   "pygments_lexer": "ipython3",
   "version": "3.10.5"
  }
 },
 "nbformat": 4,
 "nbformat_minor": 5
}
