{
  "nbformat": 4,
  "nbformat_minor": 0,
  "metadata": {
    "colab": {
      "provenance": [],
      "authorship_tag": "ABX9TyNTZzdl1a58I6VtIrI04zT9"
    },
    "kernelspec": {
      "name": "python3",
      "display_name": "Python 3"
    },
    "language_info": {
      "name": "python"
    }
  },
  "cells": [
    {
      "cell_type": "markdown",
      "source": [
        "[Google Colab](https://colab.research.google.com/) is a hosted Jupyter notebook environment that allows anyone to run Python code via a web-browser. It provides you free computation and data storage that can be utilized by your Python code.\n",
        "\n",
        "You can click the `+Code` button to create a new cell and enter a block of code. To run the code, click the **Run Code** button next to the cell, or press `Shirt+Enter` key."
      ],
      "metadata": {
        "id": "ceEx-y9nSS2w"
      }
    },
    {
      "cell_type": "code",
      "execution_count": null,
      "metadata": {
        "id": "f_43xbJERpr5"
      },
      "outputs": [],
      "source": [
        "print('Hello World')"
      ]
    },
    {
      "cell_type": "markdown",
      "source": [
        "### Package Management"
      ],
      "metadata": {
        "id": "xjhxNMwMWnVO"
      }
    },
    {
      "cell_type": "markdown",
      "source": [
        "Colab comes pre-installed with many Python packages. You can use a package by simply importing it."
      ],
      "metadata": {
        "id": "bWFPnmZiTjnU"
      }
    },
    {
      "cell_type": "code",
      "source": [
        "import pandas as pd\n",
        "import geopandas as gpd"
      ],
      "metadata": {
        "id": "aGpVqvmtTgKe"
      },
      "execution_count": null,
      "outputs": []
    },
    {
      "cell_type": "markdown",
      "source": [
        "Each Colab notebook instance is run on a Ubuntu Linux machine in the cloud. If you want to install any packages, you can run a command by prefixing the command with a `!`. For example, you can install third-party packages via `pip` using the command `!pip`.\n",
        "\n",
        "> Tip: If you want to list all pre-install packages and their versions in your Colab environemnt, you can run `!pip list -v`."
      ],
      "metadata": {
        "id": "Y3VsOFzhT0Do"
      }
    },
    {
      "cell_type": "code",
      "source": [
        "!pip install --quiet rioxarray"
      ],
      "metadata": {
        "id": "MW-ZJkPlTzI2"
      },
      "execution_count": null,
      "outputs": []
    },
    {
      "cell_type": "code",
      "source": [
        "import rioxarray"
      ],
      "metadata": {
        "id": "mCD2S6v2Txsh"
      },
      "execution_count": null,
      "outputs": []
    },
    {
      "cell_type": "markdown",
      "source": [
        "### Data Management"
      ],
      "metadata": {
        "id": "RZdVNzPaWqN-"
      }
    },
    {
      "cell_type": "markdown",
      "source": [
        "Colab provides 100GB of disk space along with your notebook. This can be used to store your data, intermediate outputs and results.\n",
        "\n",
        "The code below will create 2 folders named 'data' and 'output' in your local filesystem."
      ],
      "metadata": {
        "id": "XqhJNBE1WwQP"
      }
    },
    {
      "cell_type": "code",
      "source": [
        "import os\n",
        "\n",
        "data_folder = 'data'\n",
        "output_folder = 'output'\n",
        "\n",
        "if not os.path.exists(data_folder):\n",
        "    os.mkdir(data_folder)\n",
        "if not os.path.exists(output_folder):\n",
        "    os.mkdir(output_folder)"
      ],
      "metadata": {
        "id": "olSHRvf1WvkW"
      },
      "execution_count": null,
      "outputs": []
    },
    {
      "cell_type": "markdown",
      "source": [
        "We can download some data from the internet and store it in the Colab environment. Below is a helper function to download a file from a URL."
      ],
      "metadata": {
        "id": "fLh0NSLgXXdj"
      }
    },
    {
      "cell_type": "code",
      "source": [
        "import requests\n",
        "\n",
        "def download(url):\n",
        "    filename = os.path.join(data_folder, os.path.basename(url))\n",
        "    if not os.path.exists(filename):\n",
        "      with requests.get(url, stream=True, allow_redirects=True) as r:\n",
        "          with open(filename, 'wb') as f:\n",
        "              for chunk in r.iter_content(chunk_size=8192):\n",
        "                  f.write(chunk)\n",
        "      print('Downloaded', filename)"
      ],
      "metadata": {
        "id": "mj-PAdjzWsHv"
      },
      "execution_count": null,
      "outputs": []
    },
    {
      "cell_type": "markdown",
      "source": [
        "Let's download the [Populated Places](https://www.naturalearthdata.com/downloads/10m-cultural-vectors/) dataset from Natural Earth."
      ],
      "metadata": {
        "id": "cwqVMovqXr-k"
      }
    },
    {
      "cell_type": "code",
      "source": [
        "download('https://naciscdn.org/naturalearth/10m/cultural/' +\n",
        "         'ne_10m_populated_places_simple.zip')"
      ],
      "metadata": {
        "id": "m-Zh7-XZXqSr"
      },
      "execution_count": null,
      "outputs": []
    },
    {
      "cell_type": "markdown",
      "source": [
        "The file is now in our local filesystem. We can construct the path to the data folder and read it using `geopandas`"
      ],
      "metadata": {
        "id": "yUdH_Hm5Y45w"
      }
    },
    {
      "cell_type": "code",
      "source": [
        "file = 'ne_10m_populated_places_simple.zip'\n",
        "filepath = os.path.join(data_folder, file)\n",
        "places = gpd.read_file(filepath)"
      ],
      "metadata": {
        "id": "VCYS8SlSYCkk"
      },
      "execution_count": null,
      "outputs": []
    },
    {
      "cell_type": "markdown",
      "source": [
        "Let's do some data processing and write the results to a new file. The code below will filter all places which are also country capitals."
      ],
      "metadata": {
        "id": "3kaEfDKPZKxo"
      }
    },
    {
      "cell_type": "code",
      "source": [
        "capitals = places[places['adm0cap'] == 1]\n",
        "capitals"
      ],
      "metadata": {
        "id": "TN71a2vPYjma"
      },
      "execution_count": null,
      "outputs": []
    },
    {
      "cell_type": "markdown",
      "source": [
        "We can write the results to the disk as a GeoPackage file."
      ],
      "metadata": {
        "id": "aF3glHG_ZY4K"
      }
    },
    {
      "cell_type": "code",
      "source": [
        "output_file = 'capitals.gpkg'\n",
        "output_path = os.path.join(output_folder, output_file)\n",
        "capitals.to_file(driver='GPKG', filename=output_path)"
      ],
      "metadata": {
        "id": "60Wc8XblY1XY"
      },
      "execution_count": null,
      "outputs": []
    },
    {
      "cell_type": "markdown",
      "source": [
        "You can open the **Files** tab from the left-hand panel in Colab and browse to the `output` folder. Locate the `capitals.gpkg` file and click the **⋮** button and select *Download* to download the file locally."
      ],
      "metadata": {
        "id": "jVEALmycZrpM"
      }
    }
  ]
}