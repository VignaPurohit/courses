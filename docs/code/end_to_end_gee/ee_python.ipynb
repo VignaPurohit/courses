{
 "cells": [
  {
   "cell_type": "markdown",
   "metadata": {
    "id": "FG8qKXC42iLk"
   },
   "source": [
    "### Access and Visualize CMIP6 Data in GEE"
   ]
  },
  {
   "cell_type": "code",
   "execution_count": null,
   "metadata": {
    "colab": {
     "base_uri": "https://localhost:8080/",
     "height": 17
    },
    "id": "Nv3V91tF2iLX",
    "outputId": "fdcb70e9-3f62-48b3-f1d6-7308834161b5"
   },
   "outputs": [],
   "source": [
    "import ee\n",
    "import geemap"
   ]
  },
  {
   "cell_type": "code",
   "execution_count": null,
   "metadata": {
    "colab": {
     "base_uri": "https://localhost:8080/",
     "height": 17
    },
    "id": "gjRJhBKF2iLf",
    "outputId": "5822412d-eb9f-4998-fcce-55104649258e"
   },
   "outputs": [],
   "source": [
    "cloud_project = 'spatialthoughts'\n",
    "\n",
    "try:\n",
    "    ee.Initialize(project=cloud_project)\n",
    "except:\n",
    "    ee.Authenticate()\n",
    "    ee.Initialize(project=cloud_project)\n"
   ]
  },
  {
   "cell_type": "code",
   "execution_count": null,
   "metadata": {
    "colab": {
     "base_uri": "https://localhost:8080/",
     "height": 17
    },
    "id": "bHZFox3wcoBY",
    "outputId": "4383679f-6f06-43f2-eed2-6e627ffd1cc7"
   },
   "outputs": [],
   "source": [
    "# Use the CMIP6 Climate Projections Dataset\n",
    "cmip6 = ee.ImageCollection('NASA/GDDP-CMIP6')\n",
    "\n",
    "# Select a model and a scenario\n",
    "\n",
    "model = 'ACCESS-CM2'\n",
    "scenario = 'ssp245'\n",
    "\n",
    "# Select the band\n",
    "# Here we are using maximum air temperature\n",
    "band = 'tasmax'\n",
    "\n",
    "# Select the date range\n",
    "startDate = ee.Date.fromYMD(2030, 3, 1)\n",
    "endDate = startDate.advance(1, 'month')\n",
    "\n",
    "filtered = cmip6 \\\n",
    "  .filter(ee.Filter.date(startDate, endDate)) \\\n",
    "  .filter(ee.Filter.eq('model', model)) \\\n",
    "  .filter(ee.Filter.eq('scenario', scenario)) \\\n",
    "  .select(band)\n",
    "\n",
    "# Temperature values are in Kelvin\n",
    "# convert to Celcius\n",
    "\n",
    "def scaleValues(image):\n",
    "  return image \\\n",
    "    .subtract(273.15) \\\n",
    "    .copyProperties(image,\n",
    "      ['system:time_start', 'model', 'scenario'])\n",
    "\n",
    "scaled = filtered.map(scaleValues)\n",
    "\n",
    "# Calculate average daily maximum temperature\n",
    "mean = scaled.mean()"
   ]
  },
  {
   "cell_type": "code",
   "execution_count": null,
   "metadata": {
    "id": "nvTkE4r1cvl9"
   },
   "outputs": [],
   "source": [
    "tempVis = {\n",
    "  'min': 10,\n",
    "  'max': 40,\n",
    "  'palette': ['blue', 'purple', 'cyan', 'green', 'yellow', 'red'],\n",
    "}\n",
    "\n",
    "Map = geemap.Map(width=800)\n",
    "Map.addLayer(mean, tempVis, 'Average Daily Maximum Air Temperature')\n",
    "Map"
   ]
  }
 ],
 "metadata": {
  "colab": {
   "name": "ee_python.ipynb",
   "provenance": []
  },
  "kernelspec": {
   "display_name": "Python 3 (ipykernel)",
   "language": "python",
   "name": "python3"
  },
  "language_info": {
   "codemirror_mode": {
    "name": "ipython",
    "version": 3
   },
   "file_extension": ".py",
   "mimetype": "text/x-python",
   "name": "python",
   "nbconvert_exporter": "python",
   "pygments_lexer": "ipython3",
   "version": "3.8.13"
  }
 },
 "nbformat": 4,
 "nbformat_minor": 0
}
