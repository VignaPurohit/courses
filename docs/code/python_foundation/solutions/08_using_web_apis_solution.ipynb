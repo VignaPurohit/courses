{
 "cells": [
  {
   "cell_type": "code",
   "execution_count": null,
   "metadata": {},
   "outputs": [],
   "source": [
    "# Exercise 1\n",
    "\n",
    "import requests\n",
    "\n",
    "ORS_API_KEY = 'replace this with your key'\n",
    "\n",
    "san_francisco = (37.7749, -122.4194)\n",
    "new_york = (40.661, -73.944)\n",
    "\n",
    "parameters = {\n",
    "    'api_key': ORS_API_KEY,\n",
    "    'start' : '{},{}'.format(san_francisco[1], san_francisco[0]),\n",
    "    'end' : '{},{}'.format(new_york[1], new_york[0])\n",
    "}\n",
    "\n",
    "response = requests.get(\n",
    "    'https://api.openrouteservice.org/v2/directions/driving-car', params=parameters)\n",
    "\n",
    "if response.status_code == 200:\n",
    "    print('Request successful.')\n",
    "    data = response.json()\n",
    "else:\n",
    "    print('Request failed.')\n",
    "\n",
    "data = response.json()\n",
    "\n",
    "summary = data['features'][0]['properties']['summary']\n",
    "\n",
    "distance_km = summary['distance']/1000\n",
    "duration_min = summary['duration']/60\n",
    "\n",
    "print('Total Distance {} km'.format(distance_km))\n",
    "print('Total Duration {} min'.format(dduration_min))"
   ]
  },
  {
   "cell_type": "code",
   "execution_count": 2,
   "metadata": {},
   "outputs": [
    {
     "name": "stdout",
     "output_type": "stream",
     "text": [
      "Driving distance to Los Angeles is 615.3276 km\n",
      "Driving distance to Boston is 5005.5138 km\n",
      "Driving distance to Atlanta is 3972.045 km\n"
     ]
    }
   ],
   "source": [
    "# Exercise 2\n",
    "\n",
    "import csv\n",
    "import os\n",
    "import requests\n",
    "import time\n",
    "\n",
    "ORS_API_KEY = '<replace this with your key>'\n",
    "\n",
    "def get_driving_distance(source_coordinates, dest_coordinates):\n",
    "    parameters = {\n",
    "    'api_key': ORS_API_KEY,\n",
    "    'start' : '{},{}'.format(source_coordinates[1], source_coordinates[0]),\n",
    "    'end' : '{},{}'.format(dest_coordinates[1], dest_coordinates[0])\n",
    "    }\n",
    "\n",
    "    response = requests.get(\n",
    "        'https://api.openrouteservice.org/v2/directions/driving-car', params=parameters)\n",
    "\n",
    "    if response.status_code == 200:\n",
    "        data = response.json()\n",
    "        summary = data['features'][0]['properties']['summary']\n",
    "        distance = summary['distance']\n",
    "        return distance/1000\n",
    "    else:\n",
    "        print('Request failed.')\n",
    "        return -9999\n",
    "\n",
    "san_francisco = (37.7749, -122.4194)\n",
    "\n",
    "destination_cities = {\n",
    "    'Los Angeles': (34.0522, -118.2437),\n",
    "    'Boston': (42.3601, -71.0589),\n",
    "    'Atlanta': (33.7490, -84.3880)\n",
    "}\n",
    "\n",
    "for city, coordinates in destination_cities.items():\n",
    "    distance = get_driving_distance(san_francisco, coordinates)\n",
    "    print('Driving distance to {} is {} km'.format(city, distance))\n",
    "    time.sleep(2)"
   ]
  },
  {
   "cell_type": "code",
   "execution_count": null,
   "metadata": {},
   "outputs": [],
   "source": []
  }
 ],
 "metadata": {
  "kernelspec": {
   "display_name": "Python 3 (ipykernel)",
   "language": "python",
   "name": "python3"
  },
  "language_info": {
   "codemirror_mode": {
    "name": "ipython",
    "version": 3
   },
   "file_extension": ".py",
   "mimetype": "text/x-python",
   "name": "python",
   "nbconvert_exporter": "python",
   "pygments_lexer": "ipython3",
   "version": "3.11.0"
  }
 },
 "nbformat": 4,
 "nbformat_minor": 4
}
