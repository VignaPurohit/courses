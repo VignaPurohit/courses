{
 "cells": [
  {
   "cell_type": "code",
   "execution_count": 1,
   "metadata": {},
   "outputs": [
    {
     "name": "stdout",
     "output_type": "stream",
     "text": [
      "8748\n"
     ]
    }
   ],
   "source": [
    "import rasterio\n",
    "import os\n",
    "import numpy as np\n",
    "\n",
    "output_filename = 'merged.tif'\n",
    "output_dir = '../output'\n",
    "output_path = os.path.join(output_dir, output_filename)\n",
    "dataset = rasterio.open(output_path)\n",
    "band1 = dataset.read(1)\n",
    "print(np.max(band1))"
   ]
  },
  {
   "cell_type": "markdown",
   "metadata": {},
   "source": [
    "If we wanted to find out the coordinates of Mt. Everest, we can build on this solution.\n",
    "\n",
    "np.where() returns the row(s) and column(s) where a particular value was found"
   ]
  },
  {
   "cell_type": "code",
   "execution_count": 2,
   "metadata": {},
   "outputs": [
    {
     "name": "stdout",
     "output_type": "stream",
     "text": [
      "[3640] [3332]\n"
     ]
    }
   ],
   "source": [
    "rows, cols = np.where(band1 == np.max(band1))\n",
    "print(rows, cols)"
   ]
  },
  {
   "cell_type": "markdown",
   "metadata": {},
   "source": [
    "Since we have only 1 match of the highest value, we can extract the first value from the returned lists."
   ]
  },
  {
   "cell_type": "code",
   "execution_count": 4,
   "metadata": {},
   "outputs": [],
   "source": [
    "row = rows[0]\n",
    "col = cols[0]"
   ]
  },
  {
   "cell_type": "markdown",
   "metadata": {},
   "source": [
    "`rasterio.transform.xy()` function allows us to transform a row/col value to their respective x and y coordinates in the given CRS."
   ]
  },
  {
   "cell_type": "code",
   "execution_count": 5,
   "metadata": {},
   "outputs": [
    {
     "name": "stdout",
     "output_type": "stream",
     "text": [
      "27.988888888888887 86.92555555555556\n"
     ]
    }
   ],
   "source": [
    "lon, lat = rasterio.transform.xy(dataset.transform, row, col)\n",
    "print(lat, lon)"
   ]
  }
 ],
 "metadata": {
  "kernelspec": {
   "display_name": "Python 3 (ipykernel)",
   "language": "python",
   "name": "python3"
  },
  "language_info": {
   "codemirror_mode": {
    "name": "ipython",
    "version": 3
   },
   "file_extension": ".py",
   "mimetype": "text/x-python",
   "name": "python",
   "nbconvert_exporter": "python",
   "pygments_lexer": "ipython3",
   "version": "3.11.0"
  }
 },
 "nbformat": 4,
 "nbformat_minor": 4
}
